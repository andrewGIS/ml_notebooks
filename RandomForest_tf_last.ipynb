{
 "cells": [
  {
   "cell_type": "code",
   "execution_count": 13,
   "metadata": {},
   "outputs": [
    {
     "data": {
      "text/plain": [
       "[14, 15, 16, 17, 18, 19, 20, 21, 22, 23, 24, 25, 26]"
      ]
     },
     "execution_count": 13,
     "metadata": {},
     "output_type": "execute_result"
    }
   ],
   "source": [
    "# channel indexes\n",
    "# mask - 0 \n",
    "# NEW\n",
    "[\"B01\",\"B02\",\"B03\",\"B04\",\"B05\",\"B06\",\"B07\",\"B08\",\"B8A\",\"B09\",\"B10\",\"B11\",\"B12\"]\n",
    "[ 1,     2,    3,    4,    5,    6,    7,    8,    9,    10,   11,   12,   13  ]\n",
    "# OLD\n",
    "[\"B01\",\"B02\",\"B03\",\"B04\",\"B05\",\"B06\",\"B07\",\"B08\",\"B8A\",\"B09\",\"B10\",\"B11\",\"B12\"]\n",
    "[ 14,    15,   16,   17,   18,   19,   20,   21,   22,   23,   24,   25,   26  ]"
   ]
  },
  {
   "cell_type": "markdown",
   "metadata": {},
   "source": [
    "# 1. RF"
   ]
  },
  {
   "cell_type": "code",
   "execution_count": 14,
   "metadata": {},
   "outputs": [],
   "source": [
    "from sklearn.ensemble import RandomForestClassifier\n",
    "from skimage import io\n",
    "import matplotlib.pyplot as plt\n",
    "from sklearn.model_selection import cross_val_score\n",
    "from sklearn.model_selection import train_test_split\n",
    "import glob\n",
    "import numpy as np\n",
    "#from tqdm.notebook import tqdm_notebook as tqdm\n",
    "#import pandas as pd"
   ]
  },
  {
   "cell_type": "markdown",
   "metadata": {},
   "source": [
    "**Read to np.array** "
   ]
  },
  {
   "cell_type": "code",
   "execution_count": 15,
   "metadata": {},
   "outputs": [],
   "source": [
    "X = []\n",
    "Y = []\n",
    "for tile in glob.glob('../../ds/tiles_512_512_27/*/*.tif'):\n",
    "    if 'no_object' in tile:\n",
    "        continue\n",
    "    #print (tile)\n",
    "    img = io.imread(tile)\n",
    "    features = np.array(\n",
    "                np.dstack([\n",
    "                    img[:,:,17],# old red\n",
    "                    img[:,:,4], # new red\n",
    "                    img[:,:,4] - img[:,:,17], # dif\n",
    "                ]))\n",
    "    \n",
    "    X.append(features)\n",
    "    # join to one class\n",
    "    Y.append(np.where(img[:,:,0]>0,1,0))"
   ]
  },
  {
   "cell_type": "code",
   "execution_count": 16,
   "metadata": {},
   "outputs": [
    {
     "name": "stdout",
     "output_type": "stream",
     "text": [
      "Y shape - (1276, 512, 512), \n",
      "X shape - (1276, 512, 512, 3)\n"
     ]
    }
   ],
   "source": [
    "print(f'''Y shape - {np.array(Y).shape}, \n",
    "X shape - {np.array(X).shape}''')"
   ]
  },
  {
   "cell_type": "code",
   "execution_count": 17,
   "metadata": {},
   "outputs": [],
   "source": [
    "t_X = np.array(X)\n",
    "t_X = t_X.reshape(t_X.shape[0]*t_X.shape[1]*t_X.shape[2],t_X.shape[3])\n"
   ]
  },
  {
   "cell_type": "code",
   "execution_count": 18,
   "metadata": {},
   "outputs": [
    {
     "data": {
      "text/plain": [
       "(334495744, 3)"
      ]
     },
     "execution_count": 18,
     "metadata": {},
     "output_type": "execute_result"
    }
   ],
   "source": [
    "t_X.shape"
   ]
  },
  {
   "cell_type": "code",
   "execution_count": 19,
   "metadata": {},
   "outputs": [],
   "source": [
    "t_Y = np.array(Y)\n",
    "t_Y = t_Y.reshape(t_Y.shape[0]*t_Y.shape[1]*t_Y.shape[2])"
   ]
  },
  {
   "cell_type": "code",
   "execution_count": 20,
   "metadata": {},
   "outputs": [
    {
     "data": {
      "text/plain": [
       "(334495744,)"
      ]
     },
     "execution_count": 20,
     "metadata": {},
     "output_type": "execute_result"
    }
   ],
   "source": [
    "t_Y.shape"
   ]
  },
  {
   "cell_type": "code",
   "execution_count": 21,
   "metadata": {},
   "outputs": [],
   "source": [
    "del X,Y"
   ]
  },
  {
   "cell_type": "code",
   "execution_count": 22,
   "metadata": {},
   "outputs": [],
   "source": [
    "X_train, X_test, y_train, y_test = train_test_split(t_X, t_Y, test_size=0.2, random_state=42)"
   ]
  },
  {
   "cell_type": "code",
   "execution_count": 23,
   "metadata": {},
   "outputs": [],
   "source": [
    "del t_X,t_Y"
   ]
  },
  {
   "cell_type": "code",
   "execution_count": 24,
   "metadata": {
    "collapsed": true
   },
   "outputs": [
    {
     "ename": "NameError",
     "evalue": "name 'StandardScaler' is not defined",
     "output_type": "error",
     "traceback": [
      "\u001b[0;31m---------------------------------------------------------------------------\u001b[0m",
      "\u001b[0;31mNameError\u001b[0m                                 Traceback (most recent call last)",
      "\u001b[0;32m<ipython-input-24-b36f9da8349b>\u001b[0m in \u001b[0;36m<module>\u001b[0;34m\u001b[0m\n\u001b[0;32m----> 1\u001b[0;31m \u001b[0mx\u001b[0m \u001b[0;34m=\u001b[0m \u001b[0mStandardScaler\u001b[0m\u001b[0;34m(\u001b[0m\u001b[0;34m)\u001b[0m\u001b[0;34m.\u001b[0m\u001b[0mfit_transform\u001b[0m\u001b[0;34m(\u001b[0m\u001b[0mX_train\u001b[0m\u001b[0;34m)\u001b[0m\u001b[0;34m\u001b[0m\u001b[0;34m\u001b[0m\u001b[0m\n\u001b[0m\u001b[1;32m      2\u001b[0m \u001b[0;34m\u001b[0m\u001b[0m\n\u001b[1;32m      3\u001b[0m clf_rf = RandomForestClassifier(max_samples=10000,\n\u001b[1;32m      4\u001b[0m                                 \u001b[0mverbose\u001b[0m\u001b[0;34m=\u001b[0m\u001b[0;36m1\u001b[0m\u001b[0;34m,\u001b[0m\u001b[0;34m\u001b[0m\u001b[0;34m\u001b[0m\u001b[0m\n\u001b[1;32m      5\u001b[0m                                 \u001b[0mn_jobs\u001b[0m\u001b[0;34m=\u001b[0m\u001b[0;36m3\u001b[0m\u001b[0;34m,\u001b[0m\u001b[0;34m\u001b[0m\u001b[0;34m\u001b[0m\u001b[0m\n",
      "\u001b[0;31mNameError\u001b[0m: name 'StandardScaler' is not defined"
     ]
    }
   ],
   "source": [
    "x = StandardScaler().fit_transform(X_train)\n",
    "\n",
    "clf_rf = RandomForestClassifier(max_samples=10000,\n",
    "                                verbose=1,\n",
    "                                n_jobs=3,\n",
    "                                class_weight=\"balanced\"\n",
    "                               )\n",
    "clf_rf.fit(x, y_train)"
   ]
  },
  {
   "cell_type": "code",
   "execution_count": null,
   "metadata": {},
   "outputs": [],
   "source": [
    "from sklearn.metrics import accuracy_score\n",
    "preds = clf_rf.predict(StandardScaler().fit_transform(X_test))\n",
    "print(\"Accuracy:\", accuracy_score(y_test,preds))"
   ]
  },
  {
   "cell_type": "code",
   "execution_count": null,
   "metadata": {},
   "outputs": [],
   "source": [
    "from sklearn.metrics import f1_score\n",
    "print(\"F1-score:\", f1_score(y_test,preds))"
   ]
  },
  {
   "cell_type": "markdown",
   "metadata": {},
   "source": [
    "**Read to Df**"
   ]
  },
  {
   "cell_type": "code",
   "execution_count": 26,
   "metadata": {},
   "outputs": [],
   "source": [
    "X = []\n",
    "Y = []\n",
    "for tile in glob.glob('../../ds/tiles_512_512_27//*/*.tif'):\n",
    "    if 'no_object' in tile:\n",
    "        continue\n",
    "    #print (tile)\n",
    "    img = io.imread(tile)\n",
    "    features = np.array(\n",
    "                np.dstack([\n",
    "                    img[:,:,17],# old red\n",
    "                    img[:,:,4], # new red\n",
    "                    img[:,:,4] - img[:,:,17], # dif\n",
    "                ]))\n",
    "    \n",
    "    X.append(features)\n",
    "    # join to one class\n",
    "    Y.append(np.where(img[:,:,0]>0,1,0))\n",
    "X = np.array(X)\n",
    "Y = np.array(Y)"
   ]
  },
  {
   "cell_type": "code",
   "execution_count": 28,
   "metadata": {},
   "outputs": [],
   "source": [
    "# X Y from previous operation\n",
    "import pandas as pd\n",
    "nFeatures = 3\n",
    "tileSize = 512\n",
    "stacked = np.hstack([\n",
    "    np.array(X).reshape([X.shape[0]*tileSize*tileSize,nFeatures]),\n",
    "    np.array(Y).reshape([Y.shape[0]*tileSize*tileSize,1])\n",
    "])\n",
    "df = pd.DataFrame(data=stacked,columns=[\"R_old\",\"R_new\",\"R_diff\",\"Y\"])"
   ]
  },
  {
   "cell_type": "code",
   "execution_count": 29,
   "metadata": {
    "collapsed": true
   },
   "outputs": [
    {
     "data": {
      "text/html": [
       "<div>\n",
       "<style scoped>\n",
       "    .dataframe tbody tr th:only-of-type {\n",
       "        vertical-align: middle;\n",
       "    }\n",
       "\n",
       "    .dataframe tbody tr th {\n",
       "        vertical-align: top;\n",
       "    }\n",
       "\n",
       "    .dataframe thead th {\n",
       "        text-align: right;\n",
       "    }\n",
       "</style>\n",
       "<table border=\"1\" class=\"dataframe\">\n",
       "  <thead>\n",
       "    <tr style=\"text-align: right;\">\n",
       "      <th></th>\n",
       "      <th>R_old</th>\n",
       "      <th>R_new</th>\n",
       "      <th>R_diff</th>\n",
       "      <th>Y</th>\n",
       "    </tr>\n",
       "  </thead>\n",
       "  <tbody>\n",
       "    <tr>\n",
       "      <th>0</th>\n",
       "      <td>0.051682</td>\n",
       "      <td>0.063721</td>\n",
       "      <td>0.012039</td>\n",
       "      <td>0.0</td>\n",
       "    </tr>\n",
       "    <tr>\n",
       "      <th>1</th>\n",
       "      <td>0.052536</td>\n",
       "      <td>0.065842</td>\n",
       "      <td>0.013306</td>\n",
       "      <td>0.0</td>\n",
       "    </tr>\n",
       "    <tr>\n",
       "      <th>2</th>\n",
       "      <td>0.058212</td>\n",
       "      <td>0.070160</td>\n",
       "      <td>0.011948</td>\n",
       "      <td>0.0</td>\n",
       "    </tr>\n",
       "    <tr>\n",
       "      <th>3</th>\n",
       "      <td>0.074402</td>\n",
       "      <td>0.094452</td>\n",
       "      <td>0.020050</td>\n",
       "      <td>0.0</td>\n",
       "    </tr>\n",
       "    <tr>\n",
       "      <th>4</th>\n",
       "      <td>0.084274</td>\n",
       "      <td>0.087265</td>\n",
       "      <td>0.002991</td>\n",
       "      <td>0.0</td>\n",
       "    </tr>\n",
       "  </tbody>\n",
       "</table>\n",
       "</div>"
      ],
      "text/plain": [
       "      R_old     R_new    R_diff    Y\n",
       "0  0.051682  0.063721  0.012039  0.0\n",
       "1  0.052536  0.065842  0.013306  0.0\n",
       "2  0.058212  0.070160  0.011948  0.0\n",
       "3  0.074402  0.094452  0.020050  0.0\n",
       "4  0.084274  0.087265  0.002991  0.0"
      ]
     },
     "execution_count": 29,
     "metadata": {},
     "output_type": "execute_result"
    }
   ],
   "source": [
    "df.head()"
   ]
  },
  {
   "cell_type": "code",
   "execution_count": 30,
   "metadata": {},
   "outputs": [],
   "source": [
    "df_all = pd.concat([\n",
    "    df[df['Y']==1],\n",
    "    df[df['Y']==0].head(len(df[df['Y']==1]))\n",
    "])"
   ]
  },
  {
   "cell_type": "code",
   "execution_count": 31,
   "metadata": {},
   "outputs": [
    {
     "data": {
      "text/plain": [
       "6221394"
      ]
     },
     "execution_count": 31,
     "metadata": {},
     "output_type": "execute_result"
    }
   ],
   "source": [
    "len(df_all)"
   ]
  },
  {
   "cell_type": "code",
   "execution_count": 32,
   "metadata": {},
   "outputs": [],
   "source": [
    "del df"
   ]
  },
  {
   "cell_type": "code",
   "execution_count": 33,
   "metadata": {},
   "outputs": [],
   "source": [
    "X = df_all[[\"R_old\",\"R_new\",\"R_diff\"]].to_numpy()\n",
    "Y = df_all[[\"Y\"]].to_numpy()"
   ]
  },
  {
   "cell_type": "code",
   "execution_count": 34,
   "metadata": {},
   "outputs": [
    {
     "data": {
      "text/plain": [
       "((6221394, 3), (6221394, 1))"
      ]
     },
     "execution_count": 34,
     "metadata": {},
     "output_type": "execute_result"
    }
   ],
   "source": [
    "X.shape,Y.shape"
   ]
  },
  {
   "cell_type": "code",
   "execution_count": 35,
   "metadata": {},
   "outputs": [],
   "source": [
    "X_train, X_test, y_train, y_test = train_test_split(X,Y.astype('int'), test_size=0.2, random_state=42)"
   ]
  },
  {
   "cell_type": "code",
   "execution_count": null,
   "metadata": {},
   "outputs": [],
   "source": [
    "X_train.shape"
   ]
  },
  {
   "cell_type": "markdown",
   "metadata": {},
   "source": [
    "# Optimizing params with GridSearch"
   ]
  },
  {
   "cell_type": "code",
   "execution_count": 36,
   "metadata": {
    "collapsed": true
   },
   "outputs": [
    {
     "name": "stdout",
     "output_type": "stream",
     "text": [
      "Fitting 5 folds for each of 54 candidates, totalling 270 fits\n"
     ]
    },
    {
     "name": "stderr",
     "output_type": "stream",
     "text": [
      "[Parallel(n_jobs=1)]: Using backend SequentialBackend with 1 concurrent workers.\n",
      "/home/andrew.tarasov1993.gmail.com/anaconda3/envs/tf_last/lib/python3.8/site-packages/sklearn/model_selection/_validation.py:531: DataConversionWarning: A column-vector y was passed when a 1d array was expected. Please change the shape of y to (n_samples,), for example using ravel().\n",
      "  estimator.fit(X_train, y_train, **fit_params)\n"
     ]
    },
    {
     "name": "stdout",
     "output_type": "stream",
     "text": [
      "[CV] max_depth=2, n_estimators=50 ....................................\n"
     ]
    },
    {
     "name": "stderr",
     "output_type": "stream",
     "text": [
      "[Parallel(n_jobs=3)]: Using backend LokyBackend with 3 concurrent workers.\n",
      "[Parallel(n_jobs=3)]: Done  44 tasks      | elapsed:   23.8s\n",
      "[Parallel(n_jobs=3)]: Done  50 out of  50 | elapsed:   26.7s finished\n",
      "[Parallel(n_jobs=3)]: Using backend ThreadingBackend with 3 concurrent workers.\n",
      "[Parallel(n_jobs=3)]: Done  44 tasks      | elapsed:    0.8s\n",
      "[Parallel(n_jobs=3)]: Done  50 out of  50 | elapsed:    0.9s finished\n",
      "[Parallel(n_jobs=1)]: Done   1 out of   1 | elapsed:   28.5s remaining:    0.0s\n"
     ]
    },
    {
     "name": "stdout",
     "output_type": "stream",
     "text": [
      "[CV] ..................... max_depth=2, n_estimators=50, total=  28.5s\n",
      "[CV] max_depth=2, n_estimators=50 ....................................\n"
     ]
    },
    {
     "name": "stderr",
     "output_type": "stream",
     "text": [
      "/home/andrew.tarasov1993.gmail.com/anaconda3/envs/tf_last/lib/python3.8/site-packages/sklearn/model_selection/_validation.py:531: DataConversionWarning: A column-vector y was passed when a 1d array was expected. Please change the shape of y to (n_samples,), for example using ravel().\n",
      "  estimator.fit(X_train, y_train, **fit_params)\n",
      "[Parallel(n_jobs=3)]: Using backend LokyBackend with 3 concurrent workers.\n",
      "[Parallel(n_jobs=3)]: Done  44 tasks      | elapsed:   19.8s\n",
      "[Parallel(n_jobs=3)]: Done  50 out of  50 | elapsed:   22.6s finished\n",
      "[Parallel(n_jobs=3)]: Using backend ThreadingBackend with 3 concurrent workers.\n",
      "[Parallel(n_jobs=3)]: Done  44 tasks      | elapsed:    0.8s\n",
      "[Parallel(n_jobs=3)]: Done  50 out of  50 | elapsed:    0.9s finished\n"
     ]
    },
    {
     "name": "stdout",
     "output_type": "stream",
     "text": [
      "[CV] ..................... max_depth=2, n_estimators=50, total=  24.1s\n",
      "[CV] max_depth=2, n_estimators=50 ....................................\n"
     ]
    },
    {
     "name": "stderr",
     "output_type": "stream",
     "text": [
      "/home/andrew.tarasov1993.gmail.com/anaconda3/envs/tf_last/lib/python3.8/site-packages/sklearn/model_selection/_validation.py:531: DataConversionWarning: A column-vector y was passed when a 1d array was expected. Please change the shape of y to (n_samples,), for example using ravel().\n",
      "  estimator.fit(X_train, y_train, **fit_params)\n",
      "[Parallel(n_jobs=3)]: Using backend LokyBackend with 3 concurrent workers.\n",
      "[Parallel(n_jobs=3)]: Done  44 tasks      | elapsed:   19.8s\n",
      "[Parallel(n_jobs=3)]: Done  50 out of  50 | elapsed:   22.3s finished\n",
      "[Parallel(n_jobs=3)]: Using backend ThreadingBackend with 3 concurrent workers.\n",
      "[Parallel(n_jobs=3)]: Done  44 tasks      | elapsed:    0.8s\n",
      "[Parallel(n_jobs=3)]: Done  50 out of  50 | elapsed:    0.9s finished\n"
     ]
    },
    {
     "name": "stdout",
     "output_type": "stream",
     "text": [
      "[CV] ..................... max_depth=2, n_estimators=50, total=  23.9s\n",
      "[CV] max_depth=2, n_estimators=50 ....................................\n"
     ]
    },
    {
     "name": "stderr",
     "output_type": "stream",
     "text": [
      "/home/andrew.tarasov1993.gmail.com/anaconda3/envs/tf_last/lib/python3.8/site-packages/sklearn/model_selection/_validation.py:531: DataConversionWarning: A column-vector y was passed when a 1d array was expected. Please change the shape of y to (n_samples,), for example using ravel().\n",
      "  estimator.fit(X_train, y_train, **fit_params)\n",
      "[Parallel(n_jobs=3)]: Using backend LokyBackend with 3 concurrent workers.\n",
      "[Parallel(n_jobs=3)]: Done  44 tasks      | elapsed:   20.1s\n",
      "[Parallel(n_jobs=3)]: Done  50 out of  50 | elapsed:   22.7s finished\n",
      "[Parallel(n_jobs=3)]: Using backend ThreadingBackend with 3 concurrent workers.\n",
      "[Parallel(n_jobs=3)]: Done  44 tasks      | elapsed:    0.8s\n",
      "[Parallel(n_jobs=3)]: Done  50 out of  50 | elapsed:    0.9s finished\n"
     ]
    },
    {
     "name": "stdout",
     "output_type": "stream",
     "text": [
      "[CV] ..................... max_depth=2, n_estimators=50, total=  24.2s\n",
      "[CV] max_depth=2, n_estimators=50 ....................................\n"
     ]
    },
    {
     "name": "stderr",
     "output_type": "stream",
     "text": [
      "/home/andrew.tarasov1993.gmail.com/anaconda3/envs/tf_last/lib/python3.8/site-packages/sklearn/model_selection/_validation.py:531: DataConversionWarning: A column-vector y was passed when a 1d array was expected. Please change the shape of y to (n_samples,), for example using ravel().\n",
      "  estimator.fit(X_train, y_train, **fit_params)\n",
      "[Parallel(n_jobs=3)]: Using backend LokyBackend with 3 concurrent workers.\n",
      "[Parallel(n_jobs=3)]: Done  44 tasks      | elapsed:   19.7s\n",
      "[Parallel(n_jobs=3)]: Done  50 out of  50 | elapsed:   22.5s finished\n",
      "[Parallel(n_jobs=3)]: Using backend ThreadingBackend with 3 concurrent workers.\n",
      "[Parallel(n_jobs=3)]: Done  44 tasks      | elapsed:    0.8s\n",
      "[Parallel(n_jobs=3)]: Done  50 out of  50 | elapsed:    0.9s finished\n"
     ]
    },
    {
     "name": "stdout",
     "output_type": "stream",
     "text": [
      "[CV] ..................... max_depth=2, n_estimators=50, total=  24.0s\n",
      "[CV] max_depth=2, n_estimators=75 ....................................\n"
     ]
    },
    {
     "name": "stderr",
     "output_type": "stream",
     "text": [
      "/home/andrew.tarasov1993.gmail.com/anaconda3/envs/tf_last/lib/python3.8/site-packages/sklearn/model_selection/_validation.py:531: DataConversionWarning: A column-vector y was passed when a 1d array was expected. Please change the shape of y to (n_samples,), for example using ravel().\n",
      "  estimator.fit(X_train, y_train, **fit_params)\n",
      "[Parallel(n_jobs=3)]: Using backend LokyBackend with 3 concurrent workers.\n",
      "[Parallel(n_jobs=3)]: Done  44 tasks      | elapsed:   19.6s\n",
      "[Parallel(n_jobs=3)]: Done  75 out of  75 | elapsed:   33.6s finished\n",
      "[Parallel(n_jobs=3)]: Using backend ThreadingBackend with 3 concurrent workers.\n",
      "[Parallel(n_jobs=3)]: Done  44 tasks      | elapsed:    0.8s\n",
      "[Parallel(n_jobs=3)]: Done  75 out of  75 | elapsed:    1.3s finished\n"
     ]
    },
    {
     "name": "stdout",
     "output_type": "stream",
     "text": [
      "[CV] ..................... max_depth=2, n_estimators=75, total=  35.5s\n",
      "[CV] max_depth=2, n_estimators=75 ....................................\n"
     ]
    },
    {
     "name": "stderr",
     "output_type": "stream",
     "text": [
      "/home/andrew.tarasov1993.gmail.com/anaconda3/envs/tf_last/lib/python3.8/site-packages/sklearn/model_selection/_validation.py:531: DataConversionWarning: A column-vector y was passed when a 1d array was expected. Please change the shape of y to (n_samples,), for example using ravel().\n",
      "  estimator.fit(X_train, y_train, **fit_params)\n",
      "[Parallel(n_jobs=3)]: Using backend LokyBackend with 3 concurrent workers.\n",
      "[Parallel(n_jobs=3)]: Done  44 tasks      | elapsed:   20.1s\n",
      "[Parallel(n_jobs=3)]: Done  75 out of  75 | elapsed:   33.6s finished\n",
      "[Parallel(n_jobs=3)]: Using backend ThreadingBackend with 3 concurrent workers.\n",
      "[Parallel(n_jobs=3)]: Done  44 tasks      | elapsed:    0.7s\n",
      "[Parallel(n_jobs=3)]: Done  75 out of  75 | elapsed:    1.2s finished\n"
     ]
    },
    {
     "name": "stdout",
     "output_type": "stream",
     "text": [
      "[CV] ..................... max_depth=2, n_estimators=75, total=  35.5s\n",
      "[CV] max_depth=2, n_estimators=75 ....................................\n"
     ]
    },
    {
     "name": "stderr",
     "output_type": "stream",
     "text": [
      "/home/andrew.tarasov1993.gmail.com/anaconda3/envs/tf_last/lib/python3.8/site-packages/sklearn/model_selection/_validation.py:531: DataConversionWarning: A column-vector y was passed when a 1d array was expected. Please change the shape of y to (n_samples,), for example using ravel().\n",
      "  estimator.fit(X_train, y_train, **fit_params)\n",
      "[Parallel(n_jobs=3)]: Using backend LokyBackend with 3 concurrent workers.\n",
      "[Parallel(n_jobs=3)]: Done  44 tasks      | elapsed:   19.8s\n",
      "[Parallel(n_jobs=3)]: Done  75 out of  75 | elapsed:   33.6s finished\n",
      "[Parallel(n_jobs=3)]: Using backend ThreadingBackend with 3 concurrent workers.\n",
      "[Parallel(n_jobs=3)]: Done  44 tasks      | elapsed:    0.8s\n",
      "[Parallel(n_jobs=3)]: Done  75 out of  75 | elapsed:    1.3s finished\n"
     ]
    },
    {
     "name": "stdout",
     "output_type": "stream",
     "text": [
      "[CV] ..................... max_depth=2, n_estimators=75, total=  35.6s\n",
      "[CV] max_depth=2, n_estimators=75 ....................................\n"
     ]
    },
    {
     "name": "stderr",
     "output_type": "stream",
     "text": [
      "/home/andrew.tarasov1993.gmail.com/anaconda3/envs/tf_last/lib/python3.8/site-packages/sklearn/model_selection/_validation.py:531: DataConversionWarning: A column-vector y was passed when a 1d array was expected. Please change the shape of y to (n_samples,), for example using ravel().\n",
      "  estimator.fit(X_train, y_train, **fit_params)\n",
      "[Parallel(n_jobs=3)]: Using backend LokyBackend with 3 concurrent workers.\n",
      "[Parallel(n_jobs=3)]: Done  44 tasks      | elapsed:   20.2s\n",
      "[Parallel(n_jobs=3)]: Done  75 out of  75 | elapsed:   34.3s finished\n",
      "[Parallel(n_jobs=3)]: Using backend ThreadingBackend with 3 concurrent workers.\n",
      "[Parallel(n_jobs=3)]: Done  44 tasks      | elapsed:    0.8s\n",
      "[Parallel(n_jobs=3)]: Done  75 out of  75 | elapsed:    1.3s finished\n"
     ]
    },
    {
     "name": "stdout",
     "output_type": "stream",
     "text": [
      "[CV] ..................... max_depth=2, n_estimators=75, total=  36.2s\n",
      "[CV] max_depth=2, n_estimators=75 ....................................\n"
     ]
    },
    {
     "name": "stderr",
     "output_type": "stream",
     "text": [
      "/home/andrew.tarasov1993.gmail.com/anaconda3/envs/tf_last/lib/python3.8/site-packages/sklearn/model_selection/_validation.py:531: DataConversionWarning: A column-vector y was passed when a 1d array was expected. Please change the shape of y to (n_samples,), for example using ravel().\n",
      "  estimator.fit(X_train, y_train, **fit_params)\n",
      "[Parallel(n_jobs=3)]: Using backend LokyBackend with 3 concurrent workers.\n",
      "[Parallel(n_jobs=3)]: Done  44 tasks      | elapsed:   20.3s\n",
      "[Parallel(n_jobs=3)]: Done  75 out of  75 | elapsed:   34.0s finished\n",
      "[Parallel(n_jobs=3)]: Using backend ThreadingBackend with 3 concurrent workers.\n",
      "[Parallel(n_jobs=3)]: Done  44 tasks      | elapsed:    0.8s\n",
      "[Parallel(n_jobs=3)]: Done  75 out of  75 | elapsed:    1.3s finished\n"
     ]
    },
    {
     "name": "stdout",
     "output_type": "stream",
     "text": [
      "[CV] ..................... max_depth=2, n_estimators=75, total=  35.9s\n",
      "[CV] max_depth=2, n_estimators=100 ...................................\n"
     ]
    },
    {
     "name": "stderr",
     "output_type": "stream",
     "text": [
      "/home/andrew.tarasov1993.gmail.com/anaconda3/envs/tf_last/lib/python3.8/site-packages/sklearn/model_selection/_validation.py:531: DataConversionWarning: A column-vector y was passed when a 1d array was expected. Please change the shape of y to (n_samples,), for example using ravel().\n",
      "  estimator.fit(X_train, y_train, **fit_params)\n",
      "[Parallel(n_jobs=3)]: Using backend LokyBackend with 3 concurrent workers.\n",
      "[Parallel(n_jobs=3)]: Done  44 tasks      | elapsed:   19.9s\n",
      "[Parallel(n_jobs=3)]: Done 100 out of 100 | elapsed:   44.4s finished\n",
      "[Parallel(n_jobs=3)]: Using backend ThreadingBackend with 3 concurrent workers.\n",
      "[Parallel(n_jobs=3)]: Done  44 tasks      | elapsed:    0.8s\n",
      "[Parallel(n_jobs=3)]: Done 100 out of 100 | elapsed:    1.7s finished\n"
     ]
    },
    {
     "name": "stdout",
     "output_type": "stream",
     "text": [
      "[CV] .................... max_depth=2, n_estimators=100, total=  46.9s\n",
      "[CV] max_depth=2, n_estimators=100 ...................................\n"
     ]
    },
    {
     "name": "stderr",
     "output_type": "stream",
     "text": [
      "/home/andrew.tarasov1993.gmail.com/anaconda3/envs/tf_last/lib/python3.8/site-packages/sklearn/model_selection/_validation.py:531: DataConversionWarning: A column-vector y was passed when a 1d array was expected. Please change the shape of y to (n_samples,), for example using ravel().\n",
      "  estimator.fit(X_train, y_train, **fit_params)\n",
      "[Parallel(n_jobs=3)]: Using backend LokyBackend with 3 concurrent workers.\n",
      "[Parallel(n_jobs=3)]: Done  44 tasks      | elapsed:   20.2s\n",
      "[Parallel(n_jobs=3)]: Done 100 out of 100 | elapsed:   45.7s finished\n",
      "[Parallel(n_jobs=3)]: Using backend ThreadingBackend with 3 concurrent workers.\n",
      "[Parallel(n_jobs=3)]: Done  44 tasks      | elapsed:    0.7s\n",
      "[Parallel(n_jobs=3)]: Done 100 out of 100 | elapsed:    1.6s finished\n"
     ]
    },
    {
     "name": "stdout",
     "output_type": "stream",
     "text": [
      "[CV] .................... max_depth=2, n_estimators=100, total=  48.0s\n",
      "[CV] max_depth=2, n_estimators=100 ...................................\n"
     ]
    },
    {
     "name": "stderr",
     "output_type": "stream",
     "text": [
      "/home/andrew.tarasov1993.gmail.com/anaconda3/envs/tf_last/lib/python3.8/site-packages/sklearn/model_selection/_validation.py:531: DataConversionWarning: A column-vector y was passed when a 1d array was expected. Please change the shape of y to (n_samples,), for example using ravel().\n",
      "  estimator.fit(X_train, y_train, **fit_params)\n",
      "[Parallel(n_jobs=3)]: Using backend LokyBackend with 3 concurrent workers.\n",
      "[Parallel(n_jobs=3)]: Done  44 tasks      | elapsed:   19.8s\n",
      "[Parallel(n_jobs=3)]: Done 100 out of 100 | elapsed:   44.5s finished\n",
      "[Parallel(n_jobs=3)]: Using backend ThreadingBackend with 3 concurrent workers.\n",
      "[Parallel(n_jobs=3)]: Done  44 tasks      | elapsed:    0.8s\n",
      "[Parallel(n_jobs=3)]: Done 100 out of 100 | elapsed:    1.7s finished\n"
     ]
    },
    {
     "name": "stdout",
     "output_type": "stream",
     "text": [
      "[CV] .................... max_depth=2, n_estimators=100, total=  46.8s\n",
      "[CV] max_depth=2, n_estimators=100 ...................................\n"
     ]
    },
    {
     "name": "stderr",
     "output_type": "stream",
     "text": [
      "/home/andrew.tarasov1993.gmail.com/anaconda3/envs/tf_last/lib/python3.8/site-packages/sklearn/model_selection/_validation.py:531: DataConversionWarning: A column-vector y was passed when a 1d array was expected. Please change the shape of y to (n_samples,), for example using ravel().\n",
      "  estimator.fit(X_train, y_train, **fit_params)\n",
      "[Parallel(n_jobs=3)]: Using backend LokyBackend with 3 concurrent workers.\n",
      "[Parallel(n_jobs=3)]: Done  44 tasks      | elapsed:   19.7s\n",
      "[Parallel(n_jobs=3)]: Done 100 out of 100 | elapsed:   44.3s finished\n",
      "[Parallel(n_jobs=3)]: Using backend ThreadingBackend with 3 concurrent workers.\n",
      "[Parallel(n_jobs=3)]: Done  44 tasks      | elapsed:    0.7s\n",
      "[Parallel(n_jobs=3)]: Done 100 out of 100 | elapsed:    1.6s finished\n"
     ]
    },
    {
     "name": "stdout",
     "output_type": "stream",
     "text": [
      "[CV] .................... max_depth=2, n_estimators=100, total=  46.6s\n",
      "[CV] max_depth=2, n_estimators=100 ...................................\n"
     ]
    },
    {
     "name": "stderr",
     "output_type": "stream",
     "text": [
      "/home/andrew.tarasov1993.gmail.com/anaconda3/envs/tf_last/lib/python3.8/site-packages/sklearn/model_selection/_validation.py:531: DataConversionWarning: A column-vector y was passed when a 1d array was expected. Please change the shape of y to (n_samples,), for example using ravel().\n",
      "  estimator.fit(X_train, y_train, **fit_params)\n",
      "[Parallel(n_jobs=3)]: Using backend LokyBackend with 3 concurrent workers.\n",
      "[Parallel(n_jobs=3)]: Done  44 tasks      | elapsed:   19.9s\n",
      "[Parallel(n_jobs=3)]: Done 100 out of 100 | elapsed:   44.3s finished\n",
      "[Parallel(n_jobs=3)]: Using backend ThreadingBackend with 3 concurrent workers.\n",
      "[Parallel(n_jobs=3)]: Done  44 tasks      | elapsed:    0.8s\n",
      "[Parallel(n_jobs=3)]: Done 100 out of 100 | elapsed:    1.7s finished\n"
     ]
    },
    {
     "name": "stdout",
     "output_type": "stream",
     "text": [
      "[CV] .................... max_depth=2, n_estimators=100, total=  46.7s\n",
      "[CV] max_depth=2, n_estimators=250 ...................................\n"
     ]
    },
    {
     "name": "stderr",
     "output_type": "stream",
     "text": [
      "/home/andrew.tarasov1993.gmail.com/anaconda3/envs/tf_last/lib/python3.8/site-packages/sklearn/model_selection/_validation.py:531: DataConversionWarning: A column-vector y was passed when a 1d array was expected. Please change the shape of y to (n_samples,), for example using ravel().\n",
      "  estimator.fit(X_train, y_train, **fit_params)\n",
      "[Parallel(n_jobs=3)]: Using backend LokyBackend with 3 concurrent workers.\n",
      "[Parallel(n_jobs=3)]: Done  44 tasks      | elapsed:   20.6s\n",
      "[Parallel(n_jobs=3)]: Done 194 tasks      | elapsed:  1.4min\n",
      "[Parallel(n_jobs=3)]: Done 250 out of 250 | elapsed:  1.8min finished\n",
      "[Parallel(n_jobs=3)]: Using backend ThreadingBackend with 3 concurrent workers.\n",
      "[Parallel(n_jobs=3)]: Done  44 tasks      | elapsed:    0.8s\n",
      "[Parallel(n_jobs=3)]: Done 194 tasks      | elapsed:    3.2s\n",
      "[Parallel(n_jobs=3)]: Done 250 out of 250 | elapsed:    4.1s finished\n"
     ]
    },
    {
     "name": "stdout",
     "output_type": "stream",
     "text": [
      "[CV] .................... max_depth=2, n_estimators=250, total= 1.9min\n",
      "[CV] max_depth=2, n_estimators=250 ...................................\n"
     ]
    },
    {
     "name": "stderr",
     "output_type": "stream",
     "text": [
      "/home/andrew.tarasov1993.gmail.com/anaconda3/envs/tf_last/lib/python3.8/site-packages/sklearn/model_selection/_validation.py:531: DataConversionWarning: A column-vector y was passed when a 1d array was expected. Please change the shape of y to (n_samples,), for example using ravel().\n",
      "  estimator.fit(X_train, y_train, **fit_params)\n",
      "[Parallel(n_jobs=3)]: Using backend LokyBackend with 3 concurrent workers.\n",
      "[Parallel(n_jobs=3)]: Done  44 tasks      | elapsed:   20.1s\n",
      "[Parallel(n_jobs=3)]: Done 194 tasks      | elapsed:  1.4min\n",
      "[Parallel(n_jobs=3)]: Done 250 out of 250 | elapsed:  1.9min finished\n",
      "[Parallel(n_jobs=3)]: Using backend ThreadingBackend with 3 concurrent workers.\n",
      "[Parallel(n_jobs=3)]: Done  44 tasks      | elapsed:    0.7s\n",
      "[Parallel(n_jobs=3)]: Done 194 tasks      | elapsed:    3.1s\n",
      "[Parallel(n_jobs=3)]: Done 250 out of 250 | elapsed:    4.0s finished\n"
     ]
    },
    {
     "name": "stdout",
     "output_type": "stream",
     "text": [
      "[CV] .................... max_depth=2, n_estimators=250, total= 1.9min\n",
      "[CV] max_depth=2, n_estimators=250 ...................................\n"
     ]
    },
    {
     "name": "stderr",
     "output_type": "stream",
     "text": [
      "/home/andrew.tarasov1993.gmail.com/anaconda3/envs/tf_last/lib/python3.8/site-packages/sklearn/model_selection/_validation.py:531: DataConversionWarning: A column-vector y was passed when a 1d array was expected. Please change the shape of y to (n_samples,), for example using ravel().\n",
      "  estimator.fit(X_train, y_train, **fit_params)\n",
      "[Parallel(n_jobs=3)]: Using backend LokyBackend with 3 concurrent workers.\n",
      "[Parallel(n_jobs=3)]: Done  44 tasks      | elapsed:   19.8s\n",
      "[Parallel(n_jobs=3)]: Done 194 tasks      | elapsed:  1.4min\n",
      "[Parallel(n_jobs=3)]: Done 250 out of 250 | elapsed:  1.8min finished\n",
      "[Parallel(n_jobs=3)]: Using backend ThreadingBackend with 3 concurrent workers.\n",
      "[Parallel(n_jobs=3)]: Done  44 tasks      | elapsed:    0.7s\n",
      "[Parallel(n_jobs=3)]: Done 194 tasks      | elapsed:    3.2s\n",
      "[Parallel(n_jobs=3)]: Done 250 out of 250 | elapsed:    4.0s finished\n"
     ]
    },
    {
     "name": "stdout",
     "output_type": "stream",
     "text": [
      "[CV] .................... max_depth=2, n_estimators=250, total= 1.9min\n",
      "[CV] max_depth=2, n_estimators=250 ...................................\n"
     ]
    },
    {
     "name": "stderr",
     "output_type": "stream",
     "text": [
      "/home/andrew.tarasov1993.gmail.com/anaconda3/envs/tf_last/lib/python3.8/site-packages/sklearn/model_selection/_validation.py:531: DataConversionWarning: A column-vector y was passed when a 1d array was expected. Please change the shape of y to (n_samples,), for example using ravel().\n",
      "  estimator.fit(X_train, y_train, **fit_params)\n",
      "[Parallel(n_jobs=3)]: Using backend LokyBackend with 3 concurrent workers.\n",
      "[Parallel(n_jobs=3)]: Done  44 tasks      | elapsed:   20.2s\n",
      "[Parallel(n_jobs=3)]: Done 194 tasks      | elapsed:  1.4min\n",
      "[Parallel(n_jobs=3)]: Done 250 out of 250 | elapsed:  1.8min finished\n",
      "[Parallel(n_jobs=3)]: Using backend ThreadingBackend with 3 concurrent workers.\n",
      "[Parallel(n_jobs=3)]: Done  44 tasks      | elapsed:    0.7s\n",
      "[Parallel(n_jobs=3)]: Done 194 tasks      | elapsed:    3.1s\n",
      "[Parallel(n_jobs=3)]: Done 250 out of 250 | elapsed:    4.0s finished\n"
     ]
    },
    {
     "name": "stdout",
     "output_type": "stream",
     "text": [
      "[CV] .................... max_depth=2, n_estimators=250, total= 1.9min\n",
      "[CV] max_depth=2, n_estimators=250 ...................................\n"
     ]
    },
    {
     "name": "stderr",
     "output_type": "stream",
     "text": [
      "/home/andrew.tarasov1993.gmail.com/anaconda3/envs/tf_last/lib/python3.8/site-packages/sklearn/model_selection/_validation.py:531: DataConversionWarning: A column-vector y was passed when a 1d array was expected. Please change the shape of y to (n_samples,), for example using ravel().\n",
      "  estimator.fit(X_train, y_train, **fit_params)\n",
      "[Parallel(n_jobs=3)]: Using backend LokyBackend with 3 concurrent workers.\n",
      "[Parallel(n_jobs=3)]: Done  44 tasks      | elapsed:   19.9s\n",
      "[Parallel(n_jobs=3)]: Done 194 tasks      | elapsed:  1.4min\n",
      "[Parallel(n_jobs=3)]: Done 250 out of 250 | elapsed:  1.9min finished\n",
      "[Parallel(n_jobs=3)]: Using backend ThreadingBackend with 3 concurrent workers.\n",
      "[Parallel(n_jobs=3)]: Done  44 tasks      | elapsed:    0.8s\n",
      "[Parallel(n_jobs=3)]: Done 194 tasks      | elapsed:    3.2s\n",
      "[Parallel(n_jobs=3)]: Done 250 out of 250 | elapsed:    4.1s finished\n"
     ]
    },
    {
     "name": "stdout",
     "output_type": "stream",
     "text": [
      "[CV] .................... max_depth=2, n_estimators=250, total= 1.9min\n",
      "[CV] max_depth=2, n_estimators=500 ...................................\n"
     ]
    },
    {
     "name": "stderr",
     "output_type": "stream",
     "text": [
      "/home/andrew.tarasov1993.gmail.com/anaconda3/envs/tf_last/lib/python3.8/site-packages/sklearn/model_selection/_validation.py:531: DataConversionWarning: A column-vector y was passed when a 1d array was expected. Please change the shape of y to (n_samples,), for example using ravel().\n",
      "  estimator.fit(X_train, y_train, **fit_params)\n",
      "[Parallel(n_jobs=3)]: Using backend LokyBackend with 3 concurrent workers.\n",
      "[Parallel(n_jobs=3)]: Done  44 tasks      | elapsed:   20.2s\n",
      "[Parallel(n_jobs=3)]: Done 194 tasks      | elapsed:  1.4min\n",
      "[Parallel(n_jobs=3)]: Done 444 tasks      | elapsed:  3.3min\n",
      "[Parallel(n_jobs=3)]: Done 500 out of 500 | elapsed:  3.7min finished\n",
      "[Parallel(n_jobs=3)]: Using backend ThreadingBackend with 3 concurrent workers.\n",
      "[Parallel(n_jobs=3)]: Done  44 tasks      | elapsed:    0.8s\n",
      "[Parallel(n_jobs=3)]: Done 194 tasks      | elapsed:    3.2s\n",
      "[Parallel(n_jobs=3)]: Done 444 tasks      | elapsed:    7.1s\n",
      "[Parallel(n_jobs=3)]: Done 500 out of 500 | elapsed:    8.0s finished\n"
     ]
    },
    {
     "name": "stdout",
     "output_type": "stream",
     "text": [
      "[CV] .................... max_depth=2, n_estimators=500, total= 3.8min\n",
      "[CV] max_depth=2, n_estimators=500 ...................................\n"
     ]
    },
    {
     "name": "stderr",
     "output_type": "stream",
     "text": [
      "/home/andrew.tarasov1993.gmail.com/anaconda3/envs/tf_last/lib/python3.8/site-packages/sklearn/model_selection/_validation.py:531: DataConversionWarning: A column-vector y was passed when a 1d array was expected. Please change the shape of y to (n_samples,), for example using ravel().\n",
      "  estimator.fit(X_train, y_train, **fit_params)\n",
      "[Parallel(n_jobs=3)]: Using backend LokyBackend with 3 concurrent workers.\n",
      "[Parallel(n_jobs=3)]: Done  44 tasks      | elapsed:   20.5s\n",
      "[Parallel(n_jobs=3)]: Done 194 tasks      | elapsed:  1.4min\n",
      "[Parallel(n_jobs=3)]: Done 444 tasks      | elapsed:  3.3min\n",
      "[Parallel(n_jobs=3)]: Done 500 out of 500 | elapsed:  3.7min finished\n",
      "[Parallel(n_jobs=3)]: Using backend ThreadingBackend with 3 concurrent workers.\n",
      "[Parallel(n_jobs=3)]: Done  44 tasks      | elapsed:    0.8s\n",
      "[Parallel(n_jobs=3)]: Done 194 tasks      | elapsed:    3.2s\n",
      "[Parallel(n_jobs=3)]: Done 444 tasks      | elapsed:    7.2s\n",
      "[Parallel(n_jobs=3)]: Done 500 out of 500 | elapsed:    8.1s finished\n"
     ]
    },
    {
     "name": "stdout",
     "output_type": "stream",
     "text": [
      "[CV] .................... max_depth=2, n_estimators=500, total= 3.8min\n",
      "[CV] max_depth=2, n_estimators=500 ...................................\n"
     ]
    },
    {
     "name": "stderr",
     "output_type": "stream",
     "text": [
      "/home/andrew.tarasov1993.gmail.com/anaconda3/envs/tf_last/lib/python3.8/site-packages/sklearn/model_selection/_validation.py:531: DataConversionWarning: A column-vector y was passed when a 1d array was expected. Please change the shape of y to (n_samples,), for example using ravel().\n",
      "  estimator.fit(X_train, y_train, **fit_params)\n",
      "[Parallel(n_jobs=3)]: Using backend LokyBackend with 3 concurrent workers.\n",
      "[Parallel(n_jobs=3)]: Done  44 tasks      | elapsed:   19.5s\n",
      "[Parallel(n_jobs=3)]: Done 194 tasks      | elapsed:  1.4min\n",
      "[Parallel(n_jobs=3)]: Done 444 tasks      | elapsed:  3.2min\n",
      "[Parallel(n_jobs=3)]: Done 500 out of 500 | elapsed:  3.6min finished\n",
      "[Parallel(n_jobs=3)]: Using backend ThreadingBackend with 3 concurrent workers.\n",
      "[Parallel(n_jobs=3)]: Done  44 tasks      | elapsed:    0.8s\n",
      "[Parallel(n_jobs=3)]: Done 194 tasks      | elapsed:    3.1s\n",
      "[Parallel(n_jobs=3)]: Done 444 tasks      | elapsed:    7.1s\n",
      "[Parallel(n_jobs=3)]: Done 500 out of 500 | elapsed:    8.1s finished\n"
     ]
    },
    {
     "name": "stdout",
     "output_type": "stream",
     "text": [
      "[CV] .................... max_depth=2, n_estimators=500, total= 3.8min\n",
      "[CV] max_depth=2, n_estimators=500 ...................................\n"
     ]
    },
    {
     "name": "stderr",
     "output_type": "stream",
     "text": [
      "/home/andrew.tarasov1993.gmail.com/anaconda3/envs/tf_last/lib/python3.8/site-packages/sklearn/model_selection/_validation.py:531: DataConversionWarning: A column-vector y was passed when a 1d array was expected. Please change the shape of y to (n_samples,), for example using ravel().\n",
      "  estimator.fit(X_train, y_train, **fit_params)\n",
      "[Parallel(n_jobs=3)]: Using backend LokyBackend with 3 concurrent workers.\n",
      "[Parallel(n_jobs=3)]: Done  44 tasks      | elapsed:   20.1s\n",
      "[Parallel(n_jobs=3)]: Done 194 tasks      | elapsed:  1.5min\n",
      "[Parallel(n_jobs=3)]: Done 444 tasks      | elapsed:  3.4min\n",
      "[Parallel(n_jobs=3)]: Done 500 out of 500 | elapsed:  3.8min finished\n",
      "[Parallel(n_jobs=3)]: Using backend ThreadingBackend with 3 concurrent workers.\n",
      "[Parallel(n_jobs=3)]: Done  44 tasks      | elapsed:    0.8s\n",
      "[Parallel(n_jobs=3)]: Done 194 tasks      | elapsed:    3.1s\n",
      "[Parallel(n_jobs=3)]: Done 444 tasks      | elapsed:    7.1s\n",
      "[Parallel(n_jobs=3)]: Done 500 out of 500 | elapsed:    8.0s finished\n"
     ]
    },
    {
     "name": "stdout",
     "output_type": "stream",
     "text": [
      "[CV] .................... max_depth=2, n_estimators=500, total= 4.0min\n",
      "[CV] max_depth=2, n_estimators=500 ...................................\n"
     ]
    },
    {
     "name": "stderr",
     "output_type": "stream",
     "text": [
      "/home/andrew.tarasov1993.gmail.com/anaconda3/envs/tf_last/lib/python3.8/site-packages/sklearn/model_selection/_validation.py:531: DataConversionWarning: A column-vector y was passed when a 1d array was expected. Please change the shape of y to (n_samples,), for example using ravel().\n",
      "  estimator.fit(X_train, y_train, **fit_params)\n",
      "[Parallel(n_jobs=3)]: Using backend LokyBackend with 3 concurrent workers.\n",
      "[Parallel(n_jobs=3)]: Done  44 tasks      | elapsed:   19.9s\n",
      "[Parallel(n_jobs=3)]: Done 194 tasks      | elapsed:  1.4min\n",
      "[Parallel(n_jobs=3)]: Done 444 tasks      | elapsed:  3.2min\n",
      "[Parallel(n_jobs=3)]: Done 500 out of 500 | elapsed:  3.7min finished\n",
      "[Parallel(n_jobs=3)]: Using backend ThreadingBackend with 3 concurrent workers.\n",
      "[Parallel(n_jobs=3)]: Done  44 tasks      | elapsed:    0.7s\n",
      "[Parallel(n_jobs=3)]: Done 194 tasks      | elapsed:    3.1s\n",
      "[Parallel(n_jobs=3)]: Done 444 tasks      | elapsed:    7.1s\n",
      "[Parallel(n_jobs=3)]: Done 500 out of 500 | elapsed:    8.0s finished\n"
     ]
    },
    {
     "name": "stdout",
     "output_type": "stream",
     "text": [
      "[CV] .................... max_depth=2, n_estimators=500, total= 3.8min\n",
      "[CV] max_depth=2, n_estimators=1000 ..................................\n"
     ]
    },
    {
     "name": "stderr",
     "output_type": "stream",
     "text": [
      "/home/andrew.tarasov1993.gmail.com/anaconda3/envs/tf_last/lib/python3.8/site-packages/sklearn/model_selection/_validation.py:531: DataConversionWarning: A column-vector y was passed when a 1d array was expected. Please change the shape of y to (n_samples,), for example using ravel().\n",
      "  estimator.fit(X_train, y_train, **fit_params)\n",
      "[Parallel(n_jobs=3)]: Using backend LokyBackend with 3 concurrent workers.\n",
      "[Parallel(n_jobs=3)]: Done  44 tasks      | elapsed:   19.8s\n",
      "[Parallel(n_jobs=3)]: Done 194 tasks      | elapsed:  1.4min\n",
      "[Parallel(n_jobs=3)]: Done 444 tasks      | elapsed:  3.3min\n",
      "[Parallel(n_jobs=3)]: Done 794 tasks      | elapsed:  5.8min\n",
      "[Parallel(n_jobs=3)]: Done 1000 out of 1000 | elapsed:  7.3min finished\n",
      "[Parallel(n_jobs=3)]: Using backend ThreadingBackend with 3 concurrent workers.\n",
      "[Parallel(n_jobs=3)]: Done  44 tasks      | elapsed:    0.7s\n",
      "[Parallel(n_jobs=3)]: Done 194 tasks      | elapsed:    3.1s\n",
      "[Parallel(n_jobs=3)]: Done 444 tasks      | elapsed:    7.1s\n",
      "[Parallel(n_jobs=3)]: Done 794 tasks      | elapsed:   12.5s\n",
      "[Parallel(n_jobs=3)]: Done 1000 out of 1000 | elapsed:   15.9s finished\n"
     ]
    },
    {
     "name": "stdout",
     "output_type": "stream",
     "text": [
      "[CV] ................... max_depth=2, n_estimators=1000, total= 7.6min\n",
      "[CV] max_depth=2, n_estimators=1000 ..................................\n"
     ]
    },
    {
     "name": "stderr",
     "output_type": "stream",
     "text": [
      "/home/andrew.tarasov1993.gmail.com/anaconda3/envs/tf_last/lib/python3.8/site-packages/sklearn/model_selection/_validation.py:531: DataConversionWarning: A column-vector y was passed when a 1d array was expected. Please change the shape of y to (n_samples,), for example using ravel().\n",
      "  estimator.fit(X_train, y_train, **fit_params)\n",
      "[Parallel(n_jobs=3)]: Using backend LokyBackend with 3 concurrent workers.\n",
      "[Parallel(n_jobs=3)]: Done  44 tasks      | elapsed:   21.2s\n",
      "[Parallel(n_jobs=3)]: Done 194 tasks      | elapsed:  1.5min\n",
      "[Parallel(n_jobs=3)]: Done 444 tasks      | elapsed:  3.4min\n",
      "[Parallel(n_jobs=3)]: Done 794 tasks      | elapsed:  6.1min\n",
      "[Parallel(n_jobs=3)]: Done 1000 out of 1000 | elapsed:  7.7min finished\n",
      "[Parallel(n_jobs=3)]: Using backend ThreadingBackend with 3 concurrent workers.\n",
      "[Parallel(n_jobs=3)]: Done  44 tasks      | elapsed:    0.7s\n",
      "[Parallel(n_jobs=3)]: Done 194 tasks      | elapsed:    3.1s\n",
      "[Parallel(n_jobs=3)]: Done 444 tasks      | elapsed:    7.1s\n",
      "[Parallel(n_jobs=3)]: Done 794 tasks      | elapsed:   12.8s\n",
      "[Parallel(n_jobs=3)]: Done 1000 out of 1000 | elapsed:   16.0s finished\n"
     ]
    },
    {
     "name": "stdout",
     "output_type": "stream",
     "text": [
      "[CV] ................... max_depth=2, n_estimators=1000, total= 8.0min\n",
      "[CV] max_depth=2, n_estimators=1000 ..................................\n"
     ]
    },
    {
     "name": "stderr",
     "output_type": "stream",
     "text": [
      "/home/andrew.tarasov1993.gmail.com/anaconda3/envs/tf_last/lib/python3.8/site-packages/sklearn/model_selection/_validation.py:531: DataConversionWarning: A column-vector y was passed when a 1d array was expected. Please change the shape of y to (n_samples,), for example using ravel().\n",
      "  estimator.fit(X_train, y_train, **fit_params)\n",
      "[Parallel(n_jobs=3)]: Using backend LokyBackend with 3 concurrent workers.\n",
      "[Parallel(n_jobs=3)]: Done  44 tasks      | elapsed:   20.1s\n",
      "[Parallel(n_jobs=3)]: Done 194 tasks      | elapsed:  1.4min\n",
      "[Parallel(n_jobs=3)]: Done 444 tasks      | elapsed:  3.2min\n",
      "[Parallel(n_jobs=3)]: Done 794 tasks      | elapsed:  5.8min\n",
      "[Parallel(n_jobs=3)]: Done 1000 out of 1000 | elapsed:  7.3min finished\n",
      "[Parallel(n_jobs=3)]: Using backend ThreadingBackend with 3 concurrent workers.\n",
      "[Parallel(n_jobs=3)]: Done  44 tasks      | elapsed:    0.8s\n",
      "[Parallel(n_jobs=3)]: Done 194 tasks      | elapsed:    3.2s\n",
      "[Parallel(n_jobs=3)]: Done 444 tasks      | elapsed:    7.1s\n",
      "[Parallel(n_jobs=3)]: Done 794 tasks      | elapsed:   12.7s\n",
      "[Parallel(n_jobs=3)]: Done 1000 out of 1000 | elapsed:   16.0s finished\n"
     ]
    },
    {
     "name": "stdout",
     "output_type": "stream",
     "text": [
      "[CV] ................... max_depth=2, n_estimators=1000, total= 7.6min\n",
      "[CV] max_depth=2, n_estimators=1000 ..................................\n"
     ]
    },
    {
     "name": "stderr",
     "output_type": "stream",
     "text": [
      "/home/andrew.tarasov1993.gmail.com/anaconda3/envs/tf_last/lib/python3.8/site-packages/sklearn/model_selection/_validation.py:531: DataConversionWarning: A column-vector y was passed when a 1d array was expected. Please change the shape of y to (n_samples,), for example using ravel().\n",
      "  estimator.fit(X_train, y_train, **fit_params)\n",
      "[Parallel(n_jobs=3)]: Using backend LokyBackend with 3 concurrent workers.\n",
      "[Parallel(n_jobs=3)]: Done  44 tasks      | elapsed:   21.2s\n",
      "[Parallel(n_jobs=3)]: Done 194 tasks      | elapsed:  1.5min\n",
      "[Parallel(n_jobs=3)]: Done 444 tasks      | elapsed:  3.4min\n",
      "[Parallel(n_jobs=3)]: Done 794 tasks      | elapsed:  6.0min\n",
      "[Parallel(n_jobs=3)]: Done 1000 out of 1000 | elapsed:  7.5min finished\n",
      "[Parallel(n_jobs=3)]: Using backend ThreadingBackend with 3 concurrent workers.\n",
      "[Parallel(n_jobs=3)]: Done  44 tasks      | elapsed:    0.8s\n",
      "[Parallel(n_jobs=3)]: Done 194 tasks      | elapsed:    3.2s\n",
      "[Parallel(n_jobs=3)]: Done 444 tasks      | elapsed:    7.2s\n",
      "[Parallel(n_jobs=3)]: Done 794 tasks      | elapsed:   12.9s\n",
      "[Parallel(n_jobs=3)]: Done 1000 out of 1000 | elapsed:   16.2s finished\n"
     ]
    },
    {
     "name": "stdout",
     "output_type": "stream",
     "text": [
      "[CV] ................... max_depth=2, n_estimators=1000, total= 7.8min\n",
      "[CV] max_depth=2, n_estimators=1000 ..................................\n"
     ]
    },
    {
     "name": "stderr",
     "output_type": "stream",
     "text": [
      "/home/andrew.tarasov1993.gmail.com/anaconda3/envs/tf_last/lib/python3.8/site-packages/sklearn/model_selection/_validation.py:531: DataConversionWarning: A column-vector y was passed when a 1d array was expected. Please change the shape of y to (n_samples,), for example using ravel().\n",
      "  estimator.fit(X_train, y_train, **fit_params)\n",
      "[Parallel(n_jobs=3)]: Using backend LokyBackend with 3 concurrent workers.\n",
      "[Parallel(n_jobs=3)]: Done  44 tasks      | elapsed:   19.9s\n",
      "[Parallel(n_jobs=3)]: Done 194 tasks      | elapsed:  1.4min\n",
      "[Parallel(n_jobs=3)]: Done 444 tasks      | elapsed:  3.3min\n",
      "[Parallel(n_jobs=3)]: Done 794 tasks      | elapsed:  5.8min\n",
      "[Parallel(n_jobs=3)]: Done 1000 out of 1000 | elapsed:  7.3min finished\n",
      "[Parallel(n_jobs=3)]: Using backend ThreadingBackend with 3 concurrent workers.\n",
      "[Parallel(n_jobs=3)]: Done  44 tasks      | elapsed:    0.8s\n",
      "[Parallel(n_jobs=3)]: Done 194 tasks      | elapsed:    3.2s\n",
      "[Parallel(n_jobs=3)]: Done 444 tasks      | elapsed:    7.1s\n",
      "[Parallel(n_jobs=3)]: Done 794 tasks      | elapsed:   12.7s\n",
      "[Parallel(n_jobs=3)]: Done 1000 out of 1000 | elapsed:   16.0s finished\n"
     ]
    },
    {
     "name": "stdout",
     "output_type": "stream",
     "text": [
      "[CV] ................... max_depth=2, n_estimators=1000, total= 7.6min\n",
      "[CV] max_depth=3, n_estimators=50 ....................................\n"
     ]
    },
    {
     "name": "stderr",
     "output_type": "stream",
     "text": [
      "/home/andrew.tarasov1993.gmail.com/anaconda3/envs/tf_last/lib/python3.8/site-packages/sklearn/model_selection/_validation.py:531: DataConversionWarning: A column-vector y was passed when a 1d array was expected. Please change the shape of y to (n_samples,), for example using ravel().\n",
      "  estimator.fit(X_train, y_train, **fit_params)\n",
      "[Parallel(n_jobs=3)]: Using backend LokyBackend with 3 concurrent workers.\n",
      "[Parallel(n_jobs=3)]: Done  44 tasks      | elapsed:   27.5s\n",
      "[Parallel(n_jobs=3)]: Done  50 out of  50 | elapsed:   30.8s finished\n",
      "[Parallel(n_jobs=3)]: Using backend ThreadingBackend with 3 concurrent workers.\n",
      "[Parallel(n_jobs=3)]: Done  44 tasks      | elapsed:    0.8s\n",
      "[Parallel(n_jobs=3)]: Done  50 out of  50 | elapsed:    0.9s finished\n"
     ]
    },
    {
     "name": "stdout",
     "output_type": "stream",
     "text": [
      "[CV] ..................... max_depth=3, n_estimators=50, total=  32.5s\n",
      "[CV] max_depth=3, n_estimators=50 ....................................\n"
     ]
    },
    {
     "name": "stderr",
     "output_type": "stream",
     "text": [
      "/home/andrew.tarasov1993.gmail.com/anaconda3/envs/tf_last/lib/python3.8/site-packages/sklearn/model_selection/_validation.py:531: DataConversionWarning: A column-vector y was passed when a 1d array was expected. Please change the shape of y to (n_samples,), for example using ravel().\n",
      "  estimator.fit(X_train, y_train, **fit_params)\n",
      "[Parallel(n_jobs=3)]: Using backend LokyBackend with 3 concurrent workers.\n",
      "[Parallel(n_jobs=3)]: Done  44 tasks      | elapsed:   26.2s\n",
      "[Parallel(n_jobs=3)]: Done  50 out of  50 | elapsed:   29.7s finished\n",
      "[Parallel(n_jobs=3)]: Using backend ThreadingBackend with 3 concurrent workers.\n",
      "[Parallel(n_jobs=3)]: Done  44 tasks      | elapsed:    0.8s\n",
      "[Parallel(n_jobs=3)]: Done  50 out of  50 | elapsed:    0.9s finished\n"
     ]
    },
    {
     "name": "stdout",
     "output_type": "stream",
     "text": [
      "[CV] ..................... max_depth=3, n_estimators=50, total=  31.3s\n",
      "[CV] max_depth=3, n_estimators=50 ....................................\n"
     ]
    },
    {
     "name": "stderr",
     "output_type": "stream",
     "text": [
      "/home/andrew.tarasov1993.gmail.com/anaconda3/envs/tf_last/lib/python3.8/site-packages/sklearn/model_selection/_validation.py:531: DataConversionWarning: A column-vector y was passed when a 1d array was expected. Please change the shape of y to (n_samples,), for example using ravel().\n",
      "  estimator.fit(X_train, y_train, **fit_params)\n",
      "[Parallel(n_jobs=3)]: Using backend LokyBackend with 3 concurrent workers.\n",
      "[Parallel(n_jobs=3)]: Done  44 tasks      | elapsed:   27.9s\n",
      "[Parallel(n_jobs=3)]: Done  50 out of  50 | elapsed:   31.4s finished\n",
      "[Parallel(n_jobs=3)]: Using backend ThreadingBackend with 3 concurrent workers.\n",
      "[Parallel(n_jobs=3)]: Done  44 tasks      | elapsed:    0.8s\n",
      "[Parallel(n_jobs=3)]: Done  50 out of  50 | elapsed:    0.9s finished\n"
     ]
    },
    {
     "name": "stdout",
     "output_type": "stream",
     "text": [
      "[CV] ..................... max_depth=3, n_estimators=50, total=  32.9s\n",
      "[CV] max_depth=3, n_estimators=50 ....................................\n"
     ]
    },
    {
     "name": "stderr",
     "output_type": "stream",
     "text": [
      "/home/andrew.tarasov1993.gmail.com/anaconda3/envs/tf_last/lib/python3.8/site-packages/sklearn/model_selection/_validation.py:531: DataConversionWarning: A column-vector y was passed when a 1d array was expected. Please change the shape of y to (n_samples,), for example using ravel().\n",
      "  estimator.fit(X_train, y_train, **fit_params)\n",
      "[Parallel(n_jobs=3)]: Using backend LokyBackend with 3 concurrent workers.\n",
      "[Parallel(n_jobs=3)]: Done  44 tasks      | elapsed:   27.7s\n",
      "[Parallel(n_jobs=3)]: Done  50 out of  50 | elapsed:   31.1s finished\n",
      "[Parallel(n_jobs=3)]: Using backend ThreadingBackend with 3 concurrent workers.\n",
      "[Parallel(n_jobs=3)]: Done  44 tasks      | elapsed:    0.8s\n",
      "[Parallel(n_jobs=3)]: Done  50 out of  50 | elapsed:    0.9s finished\n"
     ]
    },
    {
     "name": "stdout",
     "output_type": "stream",
     "text": [
      "[CV] ..................... max_depth=3, n_estimators=50, total=  32.6s\n",
      "[CV] max_depth=3, n_estimators=50 ....................................\n"
     ]
    },
    {
     "name": "stderr",
     "output_type": "stream",
     "text": [
      "/home/andrew.tarasov1993.gmail.com/anaconda3/envs/tf_last/lib/python3.8/site-packages/sklearn/model_selection/_validation.py:531: DataConversionWarning: A column-vector y was passed when a 1d array was expected. Please change the shape of y to (n_samples,), for example using ravel().\n",
      "  estimator.fit(X_train, y_train, **fit_params)\n",
      "[Parallel(n_jobs=3)]: Using backend LokyBackend with 3 concurrent workers.\n",
      "[Parallel(n_jobs=3)]: Done  44 tasks      | elapsed:   26.5s\n",
      "[Parallel(n_jobs=3)]: Done  50 out of  50 | elapsed:   30.0s finished\n",
      "[Parallel(n_jobs=3)]: Using backend ThreadingBackend with 3 concurrent workers.\n",
      "[Parallel(n_jobs=3)]: Done  44 tasks      | elapsed:    0.8s\n",
      "[Parallel(n_jobs=3)]: Done  50 out of  50 | elapsed:    0.9s finished\n"
     ]
    },
    {
     "name": "stdout",
     "output_type": "stream",
     "text": [
      "[CV] ..................... max_depth=3, n_estimators=50, total=  31.6s\n",
      "[CV] max_depth=3, n_estimators=75 ....................................\n"
     ]
    },
    {
     "name": "stderr",
     "output_type": "stream",
     "text": [
      "/home/andrew.tarasov1993.gmail.com/anaconda3/envs/tf_last/lib/python3.8/site-packages/sklearn/model_selection/_validation.py:531: DataConversionWarning: A column-vector y was passed when a 1d array was expected. Please change the shape of y to (n_samples,), for example using ravel().\n",
      "  estimator.fit(X_train, y_train, **fit_params)\n",
      "[Parallel(n_jobs=3)]: Using backend LokyBackend with 3 concurrent workers.\n",
      "[Parallel(n_jobs=3)]: Done  44 tasks      | elapsed:   26.9s\n",
      "[Parallel(n_jobs=3)]: Done  75 out of  75 | elapsed:   44.8s finished\n",
      "[Parallel(n_jobs=3)]: Using backend ThreadingBackend with 3 concurrent workers.\n",
      "[Parallel(n_jobs=3)]: Done  44 tasks      | elapsed:    0.8s\n",
      "[Parallel(n_jobs=3)]: Done  75 out of  75 | elapsed:    1.3s finished\n"
     ]
    },
    {
     "name": "stdout",
     "output_type": "stream",
     "text": [
      "[CV] ..................... max_depth=3, n_estimators=75, total=  46.7s\n",
      "[CV] max_depth=3, n_estimators=75 ....................................\n"
     ]
    },
    {
     "name": "stderr",
     "output_type": "stream",
     "text": [
      "/home/andrew.tarasov1993.gmail.com/anaconda3/envs/tf_last/lib/python3.8/site-packages/sklearn/model_selection/_validation.py:531: DataConversionWarning: A column-vector y was passed when a 1d array was expected. Please change the shape of y to (n_samples,), for example using ravel().\n",
      "  estimator.fit(X_train, y_train, **fit_params)\n",
      "[Parallel(n_jobs=3)]: Using backend LokyBackend with 3 concurrent workers.\n",
      "[Parallel(n_jobs=3)]: Done  44 tasks      | elapsed:   27.5s\n",
      "[Parallel(n_jobs=3)]: Done  75 out of  75 | elapsed:   46.4s finished\n",
      "[Parallel(n_jobs=3)]: Using backend ThreadingBackend with 3 concurrent workers.\n",
      "[Parallel(n_jobs=3)]: Done  44 tasks      | elapsed:    0.8s\n",
      "[Parallel(n_jobs=3)]: Done  75 out of  75 | elapsed:    1.3s finished\n"
     ]
    },
    {
     "name": "stdout",
     "output_type": "stream",
     "text": [
      "[CV] ..................... max_depth=3, n_estimators=75, total=  48.3s\n",
      "[CV] max_depth=3, n_estimators=75 ....................................\n"
     ]
    },
    {
     "name": "stderr",
     "output_type": "stream",
     "text": [
      "/home/andrew.tarasov1993.gmail.com/anaconda3/envs/tf_last/lib/python3.8/site-packages/sklearn/model_selection/_validation.py:531: DataConversionWarning: A column-vector y was passed when a 1d array was expected. Please change the shape of y to (n_samples,), for example using ravel().\n",
      "  estimator.fit(X_train, y_train, **fit_params)\n",
      "[Parallel(n_jobs=3)]: Using backend LokyBackend with 3 concurrent workers.\n",
      "[Parallel(n_jobs=3)]: Done  44 tasks      | elapsed:   27.3s\n",
      "[Parallel(n_jobs=3)]: Done  75 out of  75 | elapsed:   46.7s finished\n",
      "[Parallel(n_jobs=3)]: Using backend ThreadingBackend with 3 concurrent workers.\n",
      "[Parallel(n_jobs=3)]: Done  44 tasks      | elapsed:    0.8s\n",
      "[Parallel(n_jobs=3)]: Done  75 out of  75 | elapsed:    1.3s finished\n"
     ]
    },
    {
     "name": "stdout",
     "output_type": "stream",
     "text": [
      "[CV] ..................... max_depth=3, n_estimators=75, total=  48.8s\n",
      "[CV] max_depth=3, n_estimators=75 ....................................\n"
     ]
    },
    {
     "name": "stderr",
     "output_type": "stream",
     "text": [
      "/home/andrew.tarasov1993.gmail.com/anaconda3/envs/tf_last/lib/python3.8/site-packages/sklearn/model_selection/_validation.py:531: DataConversionWarning: A column-vector y was passed when a 1d array was expected. Please change the shape of y to (n_samples,), for example using ravel().\n",
      "  estimator.fit(X_train, y_train, **fit_params)\n",
      "[Parallel(n_jobs=3)]: Using backend LokyBackend with 3 concurrent workers.\n",
      "[Parallel(n_jobs=3)]: Done  44 tasks      | elapsed:   26.7s\n",
      "[Parallel(n_jobs=3)]: Done  75 out of  75 | elapsed:   44.9s finished\n",
      "[Parallel(n_jobs=3)]: Using backend ThreadingBackend with 3 concurrent workers.\n",
      "[Parallel(n_jobs=3)]: Done  44 tasks      | elapsed:    0.8s\n",
      "[Parallel(n_jobs=3)]: Done  75 out of  75 | elapsed:    1.3s finished\n"
     ]
    },
    {
     "name": "stdout",
     "output_type": "stream",
     "text": [
      "[CV] ..................... max_depth=3, n_estimators=75, total=  47.0s\n",
      "[CV] max_depth=3, n_estimators=75 ....................................\n"
     ]
    },
    {
     "name": "stderr",
     "output_type": "stream",
     "text": [
      "/home/andrew.tarasov1993.gmail.com/anaconda3/envs/tf_last/lib/python3.8/site-packages/sklearn/model_selection/_validation.py:531: DataConversionWarning: A column-vector y was passed when a 1d array was expected. Please change the shape of y to (n_samples,), for example using ravel().\n",
      "  estimator.fit(X_train, y_train, **fit_params)\n",
      "[Parallel(n_jobs=3)]: Using backend LokyBackend with 3 concurrent workers.\n",
      "[Parallel(n_jobs=3)]: Done  44 tasks      | elapsed:   26.7s\n",
      "[Parallel(n_jobs=3)]: Done  75 out of  75 | elapsed:   44.2s finished\n",
      "[Parallel(n_jobs=3)]: Using backend ThreadingBackend with 3 concurrent workers.\n",
      "[Parallel(n_jobs=3)]: Done  44 tasks      | elapsed:    0.8s\n",
      "[Parallel(n_jobs=3)]: Done  75 out of  75 | elapsed:    1.3s finished\n"
     ]
    },
    {
     "name": "stdout",
     "output_type": "stream",
     "text": [
      "[CV] ..................... max_depth=3, n_estimators=75, total=  46.2s\n",
      "[CV] max_depth=3, n_estimators=100 ...................................\n"
     ]
    },
    {
     "name": "stderr",
     "output_type": "stream",
     "text": [
      "/home/andrew.tarasov1993.gmail.com/anaconda3/envs/tf_last/lib/python3.8/site-packages/sklearn/model_selection/_validation.py:531: DataConversionWarning: A column-vector y was passed when a 1d array was expected. Please change the shape of y to (n_samples,), for example using ravel().\n",
      "  estimator.fit(X_train, y_train, **fit_params)\n",
      "[Parallel(n_jobs=3)]: Using backend LokyBackend with 3 concurrent workers.\n",
      "[Parallel(n_jobs=3)]: Done  44 tasks      | elapsed:   25.9s\n",
      "[Parallel(n_jobs=3)]: Done 100 out of 100 | elapsed:   59.5s finished\n",
      "[Parallel(n_jobs=3)]: Using backend ThreadingBackend with 3 concurrent workers.\n",
      "[Parallel(n_jobs=3)]: Done  44 tasks      | elapsed:    0.8s\n",
      "[Parallel(n_jobs=3)]: Done 100 out of 100 | elapsed:    1.8s finished\n"
     ]
    },
    {
     "name": "stdout",
     "output_type": "stream",
     "text": [
      "[CV] .................... max_depth=3, n_estimators=100, total= 1.0min\n",
      "[CV] max_depth=3, n_estimators=100 ...................................\n"
     ]
    },
    {
     "name": "stderr",
     "output_type": "stream",
     "text": [
      "/home/andrew.tarasov1993.gmail.com/anaconda3/envs/tf_last/lib/python3.8/site-packages/sklearn/model_selection/_validation.py:531: DataConversionWarning: A column-vector y was passed when a 1d array was expected. Please change the shape of y to (n_samples,), for example using ravel().\n",
      "  estimator.fit(X_train, y_train, **fit_params)\n",
      "[Parallel(n_jobs=3)]: Using backend LokyBackend with 3 concurrent workers.\n",
      "[Parallel(n_jobs=3)]: Done  44 tasks      | elapsed:   25.9s\n",
      "[Parallel(n_jobs=3)]: Done 100 out of 100 | elapsed:   58.8s finished\n",
      "[Parallel(n_jobs=3)]: Using backend ThreadingBackend with 3 concurrent workers.\n",
      "[Parallel(n_jobs=3)]: Done  44 tasks      | elapsed:    0.9s\n",
      "[Parallel(n_jobs=3)]: Done 100 out of 100 | elapsed:    1.8s finished\n"
     ]
    },
    {
     "name": "stdout",
     "output_type": "stream",
     "text": [
      "[CV] .................... max_depth=3, n_estimators=100, total= 1.0min\n",
      "[CV] max_depth=3, n_estimators=100 ...................................\n"
     ]
    },
    {
     "name": "stderr",
     "output_type": "stream",
     "text": [
      "/home/andrew.tarasov1993.gmail.com/anaconda3/envs/tf_last/lib/python3.8/site-packages/sklearn/model_selection/_validation.py:531: DataConversionWarning: A column-vector y was passed when a 1d array was expected. Please change the shape of y to (n_samples,), for example using ravel().\n",
      "  estimator.fit(X_train, y_train, **fit_params)\n",
      "[Parallel(n_jobs=3)]: Using backend LokyBackend with 3 concurrent workers.\n",
      "[Parallel(n_jobs=3)]: Done  44 tasks      | elapsed:   27.4s\n",
      "[Parallel(n_jobs=3)]: Done 100 out of 100 | elapsed:  1.0min finished\n",
      "[Parallel(n_jobs=3)]: Using backend ThreadingBackend with 3 concurrent workers.\n",
      "[Parallel(n_jobs=3)]: Done  44 tasks      | elapsed:    0.8s\n",
      "[Parallel(n_jobs=3)]: Done 100 out of 100 | elapsed:    1.7s finished\n"
     ]
    },
    {
     "name": "stdout",
     "output_type": "stream",
     "text": [
      "[CV] .................... max_depth=3, n_estimators=100, total= 1.1min\n",
      "[CV] max_depth=3, n_estimators=100 ...................................\n"
     ]
    },
    {
     "name": "stderr",
     "output_type": "stream",
     "text": [
      "/home/andrew.tarasov1993.gmail.com/anaconda3/envs/tf_last/lib/python3.8/site-packages/sklearn/model_selection/_validation.py:531: DataConversionWarning: A column-vector y was passed when a 1d array was expected. Please change the shape of y to (n_samples,), for example using ravel().\n",
      "  estimator.fit(X_train, y_train, **fit_params)\n",
      "[Parallel(n_jobs=3)]: Using backend LokyBackend with 3 concurrent workers.\n",
      "[Parallel(n_jobs=3)]: Done  44 tasks      | elapsed:   28.1s\n",
      "[Parallel(n_jobs=3)]: Done 100 out of 100 | elapsed:  1.0min finished\n",
      "[Parallel(n_jobs=3)]: Using backend ThreadingBackend with 3 concurrent workers.\n",
      "[Parallel(n_jobs=3)]: Done  44 tasks      | elapsed:    0.8s\n",
      "[Parallel(n_jobs=3)]: Done 100 out of 100 | elapsed:    1.8s finished\n"
     ]
    },
    {
     "name": "stdout",
     "output_type": "stream",
     "text": [
      "[CV] .................... max_depth=3, n_estimators=100, total= 1.1min\n",
      "[CV] max_depth=3, n_estimators=100 ...................................\n"
     ]
    },
    {
     "name": "stderr",
     "output_type": "stream",
     "text": [
      "/home/andrew.tarasov1993.gmail.com/anaconda3/envs/tf_last/lib/python3.8/site-packages/sklearn/model_selection/_validation.py:531: DataConversionWarning: A column-vector y was passed when a 1d array was expected. Please change the shape of y to (n_samples,), for example using ravel().\n",
      "  estimator.fit(X_train, y_train, **fit_params)\n",
      "[Parallel(n_jobs=3)]: Using backend LokyBackend with 3 concurrent workers.\n",
      "[Parallel(n_jobs=3)]: Done  44 tasks      | elapsed:   26.6s\n",
      "[Parallel(n_jobs=3)]: Done 100 out of 100 | elapsed:   58.9s finished\n",
      "[Parallel(n_jobs=3)]: Using backend ThreadingBackend with 3 concurrent workers.\n",
      "[Parallel(n_jobs=3)]: Done  44 tasks      | elapsed:    0.8s\n",
      "[Parallel(n_jobs=3)]: Done 100 out of 100 | elapsed:    1.7s finished\n"
     ]
    },
    {
     "name": "stdout",
     "output_type": "stream",
     "text": [
      "[CV] .................... max_depth=3, n_estimators=100, total= 1.0min\n",
      "[CV] max_depth=3, n_estimators=250 ...................................\n"
     ]
    },
    {
     "name": "stderr",
     "output_type": "stream",
     "text": [
      "/home/andrew.tarasov1993.gmail.com/anaconda3/envs/tf_last/lib/python3.8/site-packages/sklearn/model_selection/_validation.py:531: DataConversionWarning: A column-vector y was passed when a 1d array was expected. Please change the shape of y to (n_samples,), for example using ravel().\n",
      "  estimator.fit(X_train, y_train, **fit_params)\n",
      "[Parallel(n_jobs=3)]: Using backend LokyBackend with 3 concurrent workers.\n",
      "[Parallel(n_jobs=3)]: Done  44 tasks      | elapsed:   25.2s\n",
      "[Parallel(n_jobs=3)]: Done 194 tasks      | elapsed:  1.9min\n",
      "[Parallel(n_jobs=3)]: Done 250 out of 250 | elapsed:  2.5min finished\n",
      "[Parallel(n_jobs=3)]: Using backend ThreadingBackend with 3 concurrent workers.\n",
      "[Parallel(n_jobs=3)]: Done  44 tasks      | elapsed:    0.8s\n",
      "[Parallel(n_jobs=3)]: Done 194 tasks      | elapsed:    3.3s\n",
      "[Parallel(n_jobs=3)]: Done 250 out of 250 | elapsed:    4.2s finished\n"
     ]
    },
    {
     "name": "stdout",
     "output_type": "stream",
     "text": [
      "[CV] .................... max_depth=3, n_estimators=250, total= 2.5min\n",
      "[CV] max_depth=3, n_estimators=250 ...................................\n"
     ]
    },
    {
     "name": "stderr",
     "output_type": "stream",
     "text": [
      "/home/andrew.tarasov1993.gmail.com/anaconda3/envs/tf_last/lib/python3.8/site-packages/sklearn/model_selection/_validation.py:531: DataConversionWarning: A column-vector y was passed when a 1d array was expected. Please change the shape of y to (n_samples,), for example using ravel().\n",
      "  estimator.fit(X_train, y_train, **fit_params)\n",
      "[Parallel(n_jobs=3)]: Using backend LokyBackend with 3 concurrent workers.\n",
      "[Parallel(n_jobs=3)]: Done  44 tasks      | elapsed:   26.1s\n",
      "[Parallel(n_jobs=3)]: Done 194 tasks      | elapsed:  1.9min\n",
      "[Parallel(n_jobs=3)]: Done 250 out of 250 | elapsed:  2.4min finished\n",
      "[Parallel(n_jobs=3)]: Using backend ThreadingBackend with 3 concurrent workers.\n",
      "[Parallel(n_jobs=3)]: Done  44 tasks      | elapsed:    0.8s\n",
      "[Parallel(n_jobs=3)]: Done 194 tasks      | elapsed:    3.3s\n",
      "[Parallel(n_jobs=3)]: Done 250 out of 250 | elapsed:    4.3s finished\n"
     ]
    },
    {
     "name": "stdout",
     "output_type": "stream",
     "text": [
      "[CV] .................... max_depth=3, n_estimators=250, total= 2.5min\n",
      "[CV] max_depth=3, n_estimators=250 ...................................\n"
     ]
    },
    {
     "name": "stderr",
     "output_type": "stream",
     "text": [
      "/home/andrew.tarasov1993.gmail.com/anaconda3/envs/tf_last/lib/python3.8/site-packages/sklearn/model_selection/_validation.py:531: DataConversionWarning: A column-vector y was passed when a 1d array was expected. Please change the shape of y to (n_samples,), for example using ravel().\n",
      "  estimator.fit(X_train, y_train, **fit_params)\n",
      "[Parallel(n_jobs=3)]: Using backend LokyBackend with 3 concurrent workers.\n",
      "[Parallel(n_jobs=3)]: Done  44 tasks      | elapsed:   26.6s\n",
      "[Parallel(n_jobs=3)]: Done 194 tasks      | elapsed:  1.9min\n",
      "[Parallel(n_jobs=3)]: Done 250 out of 250 | elapsed:  2.4min finished\n",
      "[Parallel(n_jobs=3)]: Using backend ThreadingBackend with 3 concurrent workers.\n",
      "[Parallel(n_jobs=3)]: Done  44 tasks      | elapsed:    0.8s\n",
      "[Parallel(n_jobs=3)]: Done 194 tasks      | elapsed:    3.4s\n",
      "[Parallel(n_jobs=3)]: Done 250 out of 250 | elapsed:    4.3s finished\n"
     ]
    },
    {
     "name": "stdout",
     "output_type": "stream",
     "text": [
      "[CV] .................... max_depth=3, n_estimators=250, total= 2.5min\n",
      "[CV] max_depth=3, n_estimators=250 ...................................\n"
     ]
    },
    {
     "name": "stderr",
     "output_type": "stream",
     "text": [
      "/home/andrew.tarasov1993.gmail.com/anaconda3/envs/tf_last/lib/python3.8/site-packages/sklearn/model_selection/_validation.py:531: DataConversionWarning: A column-vector y was passed when a 1d array was expected. Please change the shape of y to (n_samples,), for example using ravel().\n",
      "  estimator.fit(X_train, y_train, **fit_params)\n",
      "[Parallel(n_jobs=3)]: Using backend LokyBackend with 3 concurrent workers.\n",
      "[Parallel(n_jobs=3)]: Done  44 tasks      | elapsed:   26.8s\n",
      "[Parallel(n_jobs=3)]: Done 194 tasks      | elapsed:  1.9min\n",
      "[Parallel(n_jobs=3)]: Done 250 out of 250 | elapsed:  2.5min finished\n",
      "[Parallel(n_jobs=3)]: Using backend ThreadingBackend with 3 concurrent workers.\n",
      "[Parallel(n_jobs=3)]: Done  44 tasks      | elapsed:    0.8s\n",
      "[Parallel(n_jobs=3)]: Done 194 tasks      | elapsed:    3.3s\n",
      "[Parallel(n_jobs=3)]: Done 250 out of 250 | elapsed:    4.3s finished\n"
     ]
    },
    {
     "name": "stdout",
     "output_type": "stream",
     "text": [
      "[CV] .................... max_depth=3, n_estimators=250, total= 2.6min\n",
      "[CV] max_depth=3, n_estimators=250 ...................................\n"
     ]
    },
    {
     "name": "stderr",
     "output_type": "stream",
     "text": [
      "/home/andrew.tarasov1993.gmail.com/anaconda3/envs/tf_last/lib/python3.8/site-packages/sklearn/model_selection/_validation.py:531: DataConversionWarning: A column-vector y was passed when a 1d array was expected. Please change the shape of y to (n_samples,), for example using ravel().\n",
      "  estimator.fit(X_train, y_train, **fit_params)\n",
      "[Parallel(n_jobs=3)]: Using backend LokyBackend with 3 concurrent workers.\n",
      "[Parallel(n_jobs=3)]: Done  44 tasks      | elapsed:   27.3s\n",
      "[Parallel(n_jobs=3)]: Done 194 tasks      | elapsed:  2.0min\n",
      "[Parallel(n_jobs=3)]: Done 250 out of 250 | elapsed:  2.6min finished\n",
      "[Parallel(n_jobs=3)]: Using backend ThreadingBackend with 3 concurrent workers.\n",
      "[Parallel(n_jobs=3)]: Done  44 tasks      | elapsed:    0.8s\n",
      "[Parallel(n_jobs=3)]: Done 194 tasks      | elapsed:    3.4s\n",
      "[Parallel(n_jobs=3)]: Done 250 out of 250 | elapsed:    4.3s finished\n"
     ]
    },
    {
     "name": "stdout",
     "output_type": "stream",
     "text": [
      "[CV] .................... max_depth=3, n_estimators=250, total= 2.7min\n",
      "[CV] max_depth=3, n_estimators=500 ...................................\n"
     ]
    },
    {
     "name": "stderr",
     "output_type": "stream",
     "text": [
      "/home/andrew.tarasov1993.gmail.com/anaconda3/envs/tf_last/lib/python3.8/site-packages/sklearn/model_selection/_validation.py:531: DataConversionWarning: A column-vector y was passed when a 1d array was expected. Please change the shape of y to (n_samples,), for example using ravel().\n",
      "  estimator.fit(X_train, y_train, **fit_params)\n",
      "[Parallel(n_jobs=3)]: Using backend LokyBackend with 3 concurrent workers.\n",
      "[Parallel(n_jobs=3)]: Done  44 tasks      | elapsed:   27.0s\n",
      "[Parallel(n_jobs=3)]: Done 194 tasks      | elapsed:  1.9min\n",
      "[Parallel(n_jobs=3)]: Done 444 tasks      | elapsed:  4.4min\n",
      "[Parallel(n_jobs=3)]: Done 500 out of 500 | elapsed:  5.0min finished\n",
      "[Parallel(n_jobs=3)]: Using backend ThreadingBackend with 3 concurrent workers.\n",
      "[Parallel(n_jobs=3)]: Done  44 tasks      | elapsed:    0.8s\n",
      "[Parallel(n_jobs=3)]: Done 194 tasks      | elapsed:    3.4s\n",
      "[Parallel(n_jobs=3)]: Done 444 tasks      | elapsed:    7.6s\n",
      "[Parallel(n_jobs=3)]: Done 500 out of 500 | elapsed:    8.5s finished\n"
     ]
    },
    {
     "name": "stdout",
     "output_type": "stream",
     "text": [
      "[CV] .................... max_depth=3, n_estimators=500, total= 5.1min\n",
      "[CV] max_depth=3, n_estimators=500 ...................................\n"
     ]
    },
    {
     "name": "stderr",
     "output_type": "stream",
     "text": [
      "/home/andrew.tarasov1993.gmail.com/anaconda3/envs/tf_last/lib/python3.8/site-packages/sklearn/model_selection/_validation.py:531: DataConversionWarning: A column-vector y was passed when a 1d array was expected. Please change the shape of y to (n_samples,), for example using ravel().\n",
      "  estimator.fit(X_train, y_train, **fit_params)\n",
      "[Parallel(n_jobs=3)]: Using backend LokyBackend with 3 concurrent workers.\n",
      "[Parallel(n_jobs=3)]: Done  44 tasks      | elapsed:   27.7s\n",
      "[Parallel(n_jobs=3)]: Done 194 tasks      | elapsed:  2.0min\n",
      "[Parallel(n_jobs=3)]: Done 444 tasks      | elapsed:  4.5min\n",
      "[Parallel(n_jobs=3)]: Done 500 out of 500 | elapsed:  5.1min finished\n",
      "[Parallel(n_jobs=3)]: Using backend ThreadingBackend with 3 concurrent workers.\n",
      "[Parallel(n_jobs=3)]: Done  44 tasks      | elapsed:    0.9s\n",
      "[Parallel(n_jobs=3)]: Done 194 tasks      | elapsed:    3.4s\n",
      "[Parallel(n_jobs=3)]: Done 444 tasks      | elapsed:    7.7s\n",
      "[Parallel(n_jobs=3)]: Done 500 out of 500 | elapsed:    8.6s finished\n"
     ]
    },
    {
     "name": "stdout",
     "output_type": "stream",
     "text": [
      "[CV] .................... max_depth=3, n_estimators=500, total= 5.3min\n",
      "[CV] max_depth=3, n_estimators=500 ...................................\n"
     ]
    },
    {
     "name": "stderr",
     "output_type": "stream",
     "text": [
      "/home/andrew.tarasov1993.gmail.com/anaconda3/envs/tf_last/lib/python3.8/site-packages/sklearn/model_selection/_validation.py:531: DataConversionWarning: A column-vector y was passed when a 1d array was expected. Please change the shape of y to (n_samples,), for example using ravel().\n",
      "  estimator.fit(X_train, y_train, **fit_params)\n",
      "[Parallel(n_jobs=3)]: Using backend LokyBackend with 3 concurrent workers.\n",
      "[Parallel(n_jobs=3)]: Done  44 tasks      | elapsed:   26.5s\n",
      "[Parallel(n_jobs=3)]: Done 194 tasks      | elapsed:  1.9min\n",
      "[Parallel(n_jobs=3)]: Done 444 tasks      | elapsed:  4.3min\n",
      "[Parallel(n_jobs=3)]: Done 500 out of 500 | elapsed:  4.8min finished\n",
      "[Parallel(n_jobs=3)]: Using backend ThreadingBackend with 3 concurrent workers.\n",
      "[Parallel(n_jobs=3)]: Done  44 tasks      | elapsed:    0.8s\n",
      "[Parallel(n_jobs=3)]: Done 194 tasks      | elapsed:    3.3s\n",
      "[Parallel(n_jobs=3)]: Done 444 tasks      | elapsed:    7.6s\n",
      "[Parallel(n_jobs=3)]: Done 500 out of 500 | elapsed:    8.5s finished\n"
     ]
    },
    {
     "name": "stdout",
     "output_type": "stream",
     "text": [
      "[CV] .................... max_depth=3, n_estimators=500, total= 5.0min\n",
      "[CV] max_depth=3, n_estimators=500 ...................................\n"
     ]
    },
    {
     "name": "stderr",
     "output_type": "stream",
     "text": [
      "/home/andrew.tarasov1993.gmail.com/anaconda3/envs/tf_last/lib/python3.8/site-packages/sklearn/model_selection/_validation.py:531: DataConversionWarning: A column-vector y was passed when a 1d array was expected. Please change the shape of y to (n_samples,), for example using ravel().\n",
      "  estimator.fit(X_train, y_train, **fit_params)\n",
      "[Parallel(n_jobs=3)]: Using backend LokyBackend with 3 concurrent workers.\n",
      "[Parallel(n_jobs=3)]: Done  44 tasks      | elapsed:   27.7s\n",
      "[Parallel(n_jobs=3)]: Done 194 tasks      | elapsed:  2.0min\n",
      "[Parallel(n_jobs=3)]: Done 444 tasks      | elapsed:  4.5min\n",
      "[Parallel(n_jobs=3)]: Done 500 out of 500 | elapsed:  5.1min finished\n",
      "[Parallel(n_jobs=3)]: Using backend ThreadingBackend with 3 concurrent workers.\n",
      "[Parallel(n_jobs=3)]: Done  44 tasks      | elapsed:    0.8s\n",
      "[Parallel(n_jobs=3)]: Done 194 tasks      | elapsed:    3.4s\n",
      "[Parallel(n_jobs=3)]: Done 444 tasks      | elapsed:    7.6s\n",
      "[Parallel(n_jobs=3)]: Done 500 out of 500 | elapsed:    8.6s finished\n"
     ]
    },
    {
     "name": "stdout",
     "output_type": "stream",
     "text": [
      "[CV] .................... max_depth=3, n_estimators=500, total= 5.3min\n",
      "[CV] max_depth=3, n_estimators=500 ...................................\n"
     ]
    },
    {
     "name": "stderr",
     "output_type": "stream",
     "text": [
      "/home/andrew.tarasov1993.gmail.com/anaconda3/envs/tf_last/lib/python3.8/site-packages/sklearn/model_selection/_validation.py:531: DataConversionWarning: A column-vector y was passed when a 1d array was expected. Please change the shape of y to (n_samples,), for example using ravel().\n",
      "  estimator.fit(X_train, y_train, **fit_params)\n",
      "[Parallel(n_jobs=3)]: Using backend LokyBackend with 3 concurrent workers.\n",
      "[Parallel(n_jobs=3)]: Done  44 tasks      | elapsed:   27.4s\n",
      "[Parallel(n_jobs=3)]: Done 194 tasks      | elapsed:  2.0min\n",
      "[Parallel(n_jobs=3)]: Done 444 tasks      | elapsed:  4.6min\n",
      "[Parallel(n_jobs=3)]: Done 500 out of 500 | elapsed:  5.1min finished\n",
      "[Parallel(n_jobs=3)]: Using backend ThreadingBackend with 3 concurrent workers.\n",
      "[Parallel(n_jobs=3)]: Done  44 tasks      | elapsed:    0.8s\n",
      "[Parallel(n_jobs=3)]: Done 194 tasks      | elapsed:    3.3s\n",
      "[Parallel(n_jobs=3)]: Done 444 tasks      | elapsed:    7.6s\n",
      "[Parallel(n_jobs=3)]: Done 500 out of 500 | elapsed:    8.5s finished\n"
     ]
    },
    {
     "name": "stdout",
     "output_type": "stream",
     "text": [
      "[CV] .................... max_depth=3, n_estimators=500, total= 5.3min\n",
      "[CV] max_depth=3, n_estimators=1000 ..................................\n"
     ]
    },
    {
     "name": "stderr",
     "output_type": "stream",
     "text": [
      "/home/andrew.tarasov1993.gmail.com/anaconda3/envs/tf_last/lib/python3.8/site-packages/sklearn/model_selection/_validation.py:531: DataConversionWarning: A column-vector y was passed when a 1d array was expected. Please change the shape of y to (n_samples,), for example using ravel().\n",
      "  estimator.fit(X_train, y_train, **fit_params)\n",
      "[Parallel(n_jobs=3)]: Using backend LokyBackend with 3 concurrent workers.\n",
      "[Parallel(n_jobs=3)]: Done  44 tasks      | elapsed:   26.7s\n",
      "[Parallel(n_jobs=3)]: Done 194 tasks      | elapsed:  1.9min\n",
      "[Parallel(n_jobs=3)]: Done 444 tasks      | elapsed:  4.3min\n",
      "[Parallel(n_jobs=3)]: Done 794 tasks      | elapsed:  7.7min\n",
      "[Parallel(n_jobs=3)]: Done 1000 out of 1000 | elapsed:  9.8min finished\n",
      "[Parallel(n_jobs=3)]: Using backend ThreadingBackend with 3 concurrent workers.\n",
      "[Parallel(n_jobs=3)]: Done  44 tasks      | elapsed:    0.8s\n",
      "[Parallel(n_jobs=3)]: Done 194 tasks      | elapsed:    3.3s\n",
      "[Parallel(n_jobs=3)]: Done 444 tasks      | elapsed:    7.5s\n",
      "[Parallel(n_jobs=3)]: Done 794 tasks      | elapsed:   13.5s\n",
      "[Parallel(n_jobs=3)]: Done 1000 out of 1000 | elapsed:   16.9s finished\n"
     ]
    },
    {
     "name": "stdout",
     "output_type": "stream",
     "text": [
      "[CV] ................... max_depth=3, n_estimators=1000, total=10.1min\n",
      "[CV] max_depth=3, n_estimators=1000 ..................................\n"
     ]
    },
    {
     "name": "stderr",
     "output_type": "stream",
     "text": [
      "/home/andrew.tarasov1993.gmail.com/anaconda3/envs/tf_last/lib/python3.8/site-packages/sklearn/model_selection/_validation.py:531: DataConversionWarning: A column-vector y was passed when a 1d array was expected. Please change the shape of y to (n_samples,), for example using ravel().\n",
      "  estimator.fit(X_train, y_train, **fit_params)\n",
      "[Parallel(n_jobs=3)]: Using backend LokyBackend with 3 concurrent workers.\n",
      "[Parallel(n_jobs=3)]: Done  44 tasks      | elapsed:   25.9s\n",
      "[Parallel(n_jobs=3)]: Done 194 tasks      | elapsed:  1.9min\n",
      "[Parallel(n_jobs=3)]: Done 444 tasks      | elapsed:  4.3min\n",
      "[Parallel(n_jobs=3)]: Done 794 tasks      | elapsed:  7.7min\n",
      "[Parallel(n_jobs=3)]: Done 1000 out of 1000 | elapsed:  9.7min finished\n",
      "[Parallel(n_jobs=3)]: Using backend ThreadingBackend with 3 concurrent workers.\n",
      "[Parallel(n_jobs=3)]: Done  44 tasks      | elapsed:    0.8s\n",
      "[Parallel(n_jobs=3)]: Done 194 tasks      | elapsed:    3.4s\n",
      "[Parallel(n_jobs=3)]: Done 444 tasks      | elapsed:    7.6s\n",
      "[Parallel(n_jobs=3)]: Done 794 tasks      | elapsed:   13.6s\n",
      "[Parallel(n_jobs=3)]: Done 1000 out of 1000 | elapsed:   17.1s finished\n"
     ]
    },
    {
     "name": "stdout",
     "output_type": "stream",
     "text": [
      "[CV] ................... max_depth=3, n_estimators=1000, total=10.0min\n",
      "[CV] max_depth=3, n_estimators=1000 ..................................\n"
     ]
    },
    {
     "name": "stderr",
     "output_type": "stream",
     "text": [
      "/home/andrew.tarasov1993.gmail.com/anaconda3/envs/tf_last/lib/python3.8/site-packages/sklearn/model_selection/_validation.py:531: DataConversionWarning: A column-vector y was passed when a 1d array was expected. Please change the shape of y to (n_samples,), for example using ravel().\n",
      "  estimator.fit(X_train, y_train, **fit_params)\n",
      "[Parallel(n_jobs=3)]: Using backend LokyBackend with 3 concurrent workers.\n",
      "[Parallel(n_jobs=3)]: Done  44 tasks      | elapsed:   26.3s\n",
      "[Parallel(n_jobs=3)]: Done 194 tasks      | elapsed:  1.9min\n",
      "[Parallel(n_jobs=3)]: Done 444 tasks      | elapsed:  4.3min\n",
      "[Parallel(n_jobs=3)]: Done 794 tasks      | elapsed:  7.7min\n",
      "[Parallel(n_jobs=3)]: Done 1000 out of 1000 | elapsed:  9.7min finished\n",
      "[Parallel(n_jobs=3)]: Using backend ThreadingBackend with 3 concurrent workers.\n",
      "[Parallel(n_jobs=3)]: Done  44 tasks      | elapsed:    0.8s\n",
      "[Parallel(n_jobs=3)]: Done 194 tasks      | elapsed:    3.4s\n",
      "[Parallel(n_jobs=3)]: Done 444 tasks      | elapsed:    7.6s\n",
      "[Parallel(n_jobs=3)]: Done 794 tasks      | elapsed:   13.5s\n",
      "[Parallel(n_jobs=3)]: Done 1000 out of 1000 | elapsed:   17.0s finished\n"
     ]
    },
    {
     "name": "stdout",
     "output_type": "stream",
     "text": [
      "[CV] ................... max_depth=3, n_estimators=1000, total=10.0min\n",
      "[CV] max_depth=3, n_estimators=1000 ..................................\n"
     ]
    },
    {
     "name": "stderr",
     "output_type": "stream",
     "text": [
      "/home/andrew.tarasov1993.gmail.com/anaconda3/envs/tf_last/lib/python3.8/site-packages/sklearn/model_selection/_validation.py:531: DataConversionWarning: A column-vector y was passed when a 1d array was expected. Please change the shape of y to (n_samples,), for example using ravel().\n",
      "  estimator.fit(X_train, y_train, **fit_params)\n",
      "[Parallel(n_jobs=3)]: Using backend LokyBackend with 3 concurrent workers.\n",
      "[Parallel(n_jobs=3)]: Done  44 tasks      | elapsed:   26.2s\n",
      "[Parallel(n_jobs=3)]: Done 194 tasks      | elapsed:  1.9min\n",
      "[Parallel(n_jobs=3)]: Done 444 tasks      | elapsed:  4.4min\n",
      "[Parallel(n_jobs=3)]: Done 794 tasks      | elapsed:  7.8min\n",
      "[Parallel(n_jobs=3)]: Done 1000 out of 1000 | elapsed:  9.8min finished\n",
      "[Parallel(n_jobs=3)]: Using backend ThreadingBackend with 3 concurrent workers.\n",
      "[Parallel(n_jobs=3)]: Done  44 tasks      | elapsed:    0.8s\n",
      "[Parallel(n_jobs=3)]: Done 194 tasks      | elapsed:    3.3s\n",
      "[Parallel(n_jobs=3)]: Done 444 tasks      | elapsed:    7.5s\n",
      "[Parallel(n_jobs=3)]: Done 794 tasks      | elapsed:   13.5s\n",
      "[Parallel(n_jobs=3)]: Done 1000 out of 1000 | elapsed:   17.0s finished\n"
     ]
    },
    {
     "name": "stdout",
     "output_type": "stream",
     "text": [
      "[CV] ................... max_depth=3, n_estimators=1000, total=10.1min\n",
      "[CV] max_depth=3, n_estimators=1000 ..................................\n"
     ]
    },
    {
     "name": "stderr",
     "output_type": "stream",
     "text": [
      "/home/andrew.tarasov1993.gmail.com/anaconda3/envs/tf_last/lib/python3.8/site-packages/sklearn/model_selection/_validation.py:531: DataConversionWarning: A column-vector y was passed when a 1d array was expected. Please change the shape of y to (n_samples,), for example using ravel().\n",
      "  estimator.fit(X_train, y_train, **fit_params)\n",
      "[Parallel(n_jobs=3)]: Using backend LokyBackend with 3 concurrent workers.\n",
      "[Parallel(n_jobs=3)]: Done  44 tasks      | elapsed:   26.2s\n",
      "[Parallel(n_jobs=3)]: Done 194 tasks      | elapsed:  1.9min\n",
      "[Parallel(n_jobs=3)]: Done 444 tasks      | elapsed:  4.3min\n",
      "[Parallel(n_jobs=3)]: Done 794 tasks      | elapsed:  7.7min\n",
      "[Parallel(n_jobs=3)]: Done 1000 out of 1000 | elapsed:  9.7min finished\n",
      "[Parallel(n_jobs=3)]: Using backend ThreadingBackend with 3 concurrent workers.\n",
      "[Parallel(n_jobs=3)]: Done  44 tasks      | elapsed:    0.8s\n",
      "[Parallel(n_jobs=3)]: Done 194 tasks      | elapsed:    3.4s\n",
      "[Parallel(n_jobs=3)]: Done 444 tasks      | elapsed:    7.6s\n",
      "[Parallel(n_jobs=3)]: Done 794 tasks      | elapsed:   13.5s\n",
      "[Parallel(n_jobs=3)]: Done 1000 out of 1000 | elapsed:   17.0s finished\n"
     ]
    },
    {
     "name": "stdout",
     "output_type": "stream",
     "text": [
      "[CV] ................... max_depth=3, n_estimators=1000, total=10.0min\n",
      "[CV] max_depth=4, n_estimators=50 ....................................\n"
     ]
    },
    {
     "name": "stderr",
     "output_type": "stream",
     "text": [
      "/home/andrew.tarasov1993.gmail.com/anaconda3/envs/tf_last/lib/python3.8/site-packages/sklearn/model_selection/_validation.py:531: DataConversionWarning: A column-vector y was passed when a 1d array was expected. Please change the shape of y to (n_samples,), for example using ravel().\n",
      "  estimator.fit(X_train, y_train, **fit_params)\n",
      "[Parallel(n_jobs=3)]: Using backend LokyBackend with 3 concurrent workers.\n",
      "[Parallel(n_jobs=3)]: Done  44 tasks      | elapsed:   33.7s\n",
      "[Parallel(n_jobs=3)]: Done  50 out of  50 | elapsed:   37.6s finished\n",
      "[Parallel(n_jobs=3)]: Using backend ThreadingBackend with 3 concurrent workers.\n",
      "[Parallel(n_jobs=3)]: Done  44 tasks      | elapsed:    0.9s\n",
      "[Parallel(n_jobs=3)]: Done  50 out of  50 | elapsed:    1.0s finished\n"
     ]
    },
    {
     "name": "stdout",
     "output_type": "stream",
     "text": [
      "[CV] ..................... max_depth=4, n_estimators=50, total=  39.2s\n",
      "[CV] max_depth=4, n_estimators=50 ....................................\n"
     ]
    },
    {
     "name": "stderr",
     "output_type": "stream",
     "text": [
      "/home/andrew.tarasov1993.gmail.com/anaconda3/envs/tf_last/lib/python3.8/site-packages/sklearn/model_selection/_validation.py:531: DataConversionWarning: A column-vector y was passed when a 1d array was expected. Please change the shape of y to (n_samples,), for example using ravel().\n",
      "  estimator.fit(X_train, y_train, **fit_params)\n",
      "[Parallel(n_jobs=3)]: Using backend LokyBackend with 3 concurrent workers.\n",
      "[Parallel(n_jobs=3)]: Done  44 tasks      | elapsed:   32.8s\n",
      "[Parallel(n_jobs=3)]: Done  50 out of  50 | elapsed:   36.7s finished\n",
      "[Parallel(n_jobs=3)]: Using backend ThreadingBackend with 3 concurrent workers.\n",
      "[Parallel(n_jobs=3)]: Done  44 tasks      | elapsed:    0.9s\n",
      "[Parallel(n_jobs=3)]: Done  50 out of  50 | elapsed:    1.0s finished\n"
     ]
    },
    {
     "name": "stdout",
     "output_type": "stream",
     "text": [
      "[CV] ..................... max_depth=4, n_estimators=50, total=  38.3s\n",
      "[CV] max_depth=4, n_estimators=50 ....................................\n"
     ]
    },
    {
     "name": "stderr",
     "output_type": "stream",
     "text": [
      "/home/andrew.tarasov1993.gmail.com/anaconda3/envs/tf_last/lib/python3.8/site-packages/sklearn/model_selection/_validation.py:531: DataConversionWarning: A column-vector y was passed when a 1d array was expected. Please change the shape of y to (n_samples,), for example using ravel().\n",
      "  estimator.fit(X_train, y_train, **fit_params)\n",
      "[Parallel(n_jobs=3)]: Using backend LokyBackend with 3 concurrent workers.\n",
      "[Parallel(n_jobs=3)]: Done  44 tasks      | elapsed:   33.6s\n",
      "[Parallel(n_jobs=3)]: Done  50 out of  50 | elapsed:   37.9s finished\n",
      "[Parallel(n_jobs=3)]: Using backend ThreadingBackend with 3 concurrent workers.\n",
      "[Parallel(n_jobs=3)]: Done  44 tasks      | elapsed:    0.9s\n",
      "[Parallel(n_jobs=3)]: Done  50 out of  50 | elapsed:    1.0s finished\n"
     ]
    },
    {
     "name": "stdout",
     "output_type": "stream",
     "text": [
      "[CV] ..................... max_depth=4, n_estimators=50, total=  39.4s\n",
      "[CV] max_depth=4, n_estimators=50 ....................................\n"
     ]
    },
    {
     "name": "stderr",
     "output_type": "stream",
     "text": [
      "/home/andrew.tarasov1993.gmail.com/anaconda3/envs/tf_last/lib/python3.8/site-packages/sklearn/model_selection/_validation.py:531: DataConversionWarning: A column-vector y was passed when a 1d array was expected. Please change the shape of y to (n_samples,), for example using ravel().\n",
      "  estimator.fit(X_train, y_train, **fit_params)\n",
      "[Parallel(n_jobs=3)]: Using backend LokyBackend with 3 concurrent workers.\n",
      "[Parallel(n_jobs=3)]: Done  44 tasks      | elapsed:   32.7s\n",
      "[Parallel(n_jobs=3)]: Done  50 out of  50 | elapsed:   37.1s finished\n",
      "[Parallel(n_jobs=3)]: Using backend ThreadingBackend with 3 concurrent workers.\n",
      "[Parallel(n_jobs=3)]: Done  44 tasks      | elapsed:    0.8s\n",
      "[Parallel(n_jobs=3)]: Done  50 out of  50 | elapsed:    0.9s finished\n"
     ]
    },
    {
     "name": "stdout",
     "output_type": "stream",
     "text": [
      "[CV] ..................... max_depth=4, n_estimators=50, total=  38.7s\n",
      "[CV] max_depth=4, n_estimators=50 ....................................\n"
     ]
    },
    {
     "name": "stderr",
     "output_type": "stream",
     "text": [
      "/home/andrew.tarasov1993.gmail.com/anaconda3/envs/tf_last/lib/python3.8/site-packages/sklearn/model_selection/_validation.py:531: DataConversionWarning: A column-vector y was passed when a 1d array was expected. Please change the shape of y to (n_samples,), for example using ravel().\n",
      "  estimator.fit(X_train, y_train, **fit_params)\n",
      "[Parallel(n_jobs=3)]: Using backend LokyBackend with 3 concurrent workers.\n",
      "[Parallel(n_jobs=3)]: Done  44 tasks      | elapsed:   32.5s\n",
      "[Parallel(n_jobs=3)]: Done  50 out of  50 | elapsed:   36.6s finished\n",
      "[Parallel(n_jobs=3)]: Using backend ThreadingBackend with 3 concurrent workers.\n",
      "[Parallel(n_jobs=3)]: Done  44 tasks      | elapsed:    0.8s\n",
      "[Parallel(n_jobs=3)]: Done  50 out of  50 | elapsed:    0.9s finished\n"
     ]
    },
    {
     "name": "stdout",
     "output_type": "stream",
     "text": [
      "[CV] ..................... max_depth=4, n_estimators=50, total=  38.2s\n",
      "[CV] max_depth=4, n_estimators=75 ....................................\n"
     ]
    },
    {
     "name": "stderr",
     "output_type": "stream",
     "text": [
      "/home/andrew.tarasov1993.gmail.com/anaconda3/envs/tf_last/lib/python3.8/site-packages/sklearn/model_selection/_validation.py:531: DataConversionWarning: A column-vector y was passed when a 1d array was expected. Please change the shape of y to (n_samples,), for example using ravel().\n",
      "  estimator.fit(X_train, y_train, **fit_params)\n",
      "[Parallel(n_jobs=3)]: Using backend LokyBackend with 3 concurrent workers.\n",
      "[Parallel(n_jobs=3)]: Done  44 tasks      | elapsed:   32.1s\n",
      "[Parallel(n_jobs=3)]: Done  75 out of  75 | elapsed:   55.5s finished\n",
      "[Parallel(n_jobs=3)]: Using backend ThreadingBackend with 3 concurrent workers.\n",
      "[Parallel(n_jobs=3)]: Done  44 tasks      | elapsed:    0.9s\n",
      "[Parallel(n_jobs=3)]: Done  75 out of  75 | elapsed:    1.5s finished\n"
     ]
    },
    {
     "name": "stdout",
     "output_type": "stream",
     "text": [
      "[CV] ..................... max_depth=4, n_estimators=75, total=  57.7s\n",
      "[CV] max_depth=4, n_estimators=75 ....................................\n"
     ]
    },
    {
     "name": "stderr",
     "output_type": "stream",
     "text": [
      "/home/andrew.tarasov1993.gmail.com/anaconda3/envs/tf_last/lib/python3.8/site-packages/sklearn/model_selection/_validation.py:531: DataConversionWarning: A column-vector y was passed when a 1d array was expected. Please change the shape of y to (n_samples,), for example using ravel().\n",
      "  estimator.fit(X_train, y_train, **fit_params)\n",
      "[Parallel(n_jobs=3)]: Using backend LokyBackend with 3 concurrent workers.\n",
      "[Parallel(n_jobs=3)]: Done  44 tasks      | elapsed:   32.4s\n",
      "[Parallel(n_jobs=3)]: Done  75 out of  75 | elapsed:   54.7s finished\n",
      "[Parallel(n_jobs=3)]: Using backend ThreadingBackend with 3 concurrent workers.\n",
      "[Parallel(n_jobs=3)]: Done  44 tasks      | elapsed:    0.9s\n",
      "[Parallel(n_jobs=3)]: Done  75 out of  75 | elapsed:    1.5s finished\n"
     ]
    },
    {
     "name": "stdout",
     "output_type": "stream",
     "text": [
      "[CV] ..................... max_depth=4, n_estimators=75, total=  56.9s\n",
      "[CV] max_depth=4, n_estimators=75 ....................................\n"
     ]
    },
    {
     "name": "stderr",
     "output_type": "stream",
     "text": [
      "/home/andrew.tarasov1993.gmail.com/anaconda3/envs/tf_last/lib/python3.8/site-packages/sklearn/model_selection/_validation.py:531: DataConversionWarning: A column-vector y was passed when a 1d array was expected. Please change the shape of y to (n_samples,), for example using ravel().\n",
      "  estimator.fit(X_train, y_train, **fit_params)\n",
      "[Parallel(n_jobs=3)]: Using backend LokyBackend with 3 concurrent workers.\n",
      "[Parallel(n_jobs=3)]: Done  44 tasks      | elapsed:   32.8s\n",
      "[Parallel(n_jobs=3)]: Done  75 out of  75 | elapsed:   54.5s finished\n",
      "[Parallel(n_jobs=3)]: Using backend ThreadingBackend with 3 concurrent workers.\n",
      "[Parallel(n_jobs=3)]: Done  44 tasks      | elapsed:    0.9s\n",
      "[Parallel(n_jobs=3)]: Done  75 out of  75 | elapsed:    1.4s finished\n"
     ]
    },
    {
     "name": "stdout",
     "output_type": "stream",
     "text": [
      "[CV] ..................... max_depth=4, n_estimators=75, total=  56.6s\n",
      "[CV] max_depth=4, n_estimators=75 ....................................\n"
     ]
    },
    {
     "name": "stderr",
     "output_type": "stream",
     "text": [
      "/home/andrew.tarasov1993.gmail.com/anaconda3/envs/tf_last/lib/python3.8/site-packages/sklearn/model_selection/_validation.py:531: DataConversionWarning: A column-vector y was passed when a 1d array was expected. Please change the shape of y to (n_samples,), for example using ravel().\n",
      "  estimator.fit(X_train, y_train, **fit_params)\n",
      "[Parallel(n_jobs=3)]: Using backend LokyBackend with 3 concurrent workers.\n",
      "[Parallel(n_jobs=3)]: Done  44 tasks      | elapsed:   32.3s\n",
      "[Parallel(n_jobs=3)]: Done  75 out of  75 | elapsed:   54.1s finished\n",
      "[Parallel(n_jobs=3)]: Using backend ThreadingBackend with 3 concurrent workers.\n",
      "[Parallel(n_jobs=3)]: Done  44 tasks      | elapsed:    0.8s\n",
      "[Parallel(n_jobs=3)]: Done  75 out of  75 | elapsed:    1.4s finished\n"
     ]
    },
    {
     "name": "stdout",
     "output_type": "stream",
     "text": [
      "[CV] ..................... max_depth=4, n_estimators=75, total=  56.2s\n",
      "[CV] max_depth=4, n_estimators=75 ....................................\n"
     ]
    },
    {
     "name": "stderr",
     "output_type": "stream",
     "text": [
      "/home/andrew.tarasov1993.gmail.com/anaconda3/envs/tf_last/lib/python3.8/site-packages/sklearn/model_selection/_validation.py:531: DataConversionWarning: A column-vector y was passed when a 1d array was expected. Please change the shape of y to (n_samples,), for example using ravel().\n",
      "  estimator.fit(X_train, y_train, **fit_params)\n",
      "[Parallel(n_jobs=3)]: Using backend LokyBackend with 3 concurrent workers.\n",
      "[Parallel(n_jobs=3)]: Done  44 tasks      | elapsed:   32.3s\n",
      "[Parallel(n_jobs=3)]: Done  75 out of  75 | elapsed:   54.4s finished\n",
      "[Parallel(n_jobs=3)]: Using backend ThreadingBackend with 3 concurrent workers.\n",
      "[Parallel(n_jobs=3)]: Done  44 tasks      | elapsed:    0.8s\n",
      "[Parallel(n_jobs=3)]: Done  75 out of  75 | elapsed:    1.4s finished\n"
     ]
    },
    {
     "name": "stdout",
     "output_type": "stream",
     "text": [
      "[CV] ..................... max_depth=4, n_estimators=75, total=  56.5s\n",
      "[CV] max_depth=4, n_estimators=100 ...................................\n"
     ]
    },
    {
     "name": "stderr",
     "output_type": "stream",
     "text": [
      "/home/andrew.tarasov1993.gmail.com/anaconda3/envs/tf_last/lib/python3.8/site-packages/sklearn/model_selection/_validation.py:531: DataConversionWarning: A column-vector y was passed when a 1d array was expected. Please change the shape of y to (n_samples,), for example using ravel().\n",
      "  estimator.fit(X_train, y_train, **fit_params)\n",
      "[Parallel(n_jobs=3)]: Using backend LokyBackend with 3 concurrent workers.\n",
      "[Parallel(n_jobs=3)]: Done  44 tasks      | elapsed:   33.3s\n",
      "[Parallel(n_jobs=3)]: Done 100 out of 100 | elapsed:  1.2min finished\n",
      "[Parallel(n_jobs=3)]: Using backend ThreadingBackend with 3 concurrent workers.\n",
      "[Parallel(n_jobs=3)]: Done  44 tasks      | elapsed:    0.8s\n",
      "[Parallel(n_jobs=3)]: Done 100 out of 100 | elapsed:    1.8s finished\n"
     ]
    },
    {
     "name": "stdout",
     "output_type": "stream",
     "text": [
      "[CV] .................... max_depth=4, n_estimators=100, total= 1.3min\n",
      "[CV] max_depth=4, n_estimators=100 ...................................\n"
     ]
    },
    {
     "name": "stderr",
     "output_type": "stream",
     "text": [
      "/home/andrew.tarasov1993.gmail.com/anaconda3/envs/tf_last/lib/python3.8/site-packages/sklearn/model_selection/_validation.py:531: DataConversionWarning: A column-vector y was passed when a 1d array was expected. Please change the shape of y to (n_samples,), for example using ravel().\n",
      "  estimator.fit(X_train, y_train, **fit_params)\n",
      "[Parallel(n_jobs=3)]: Using backend LokyBackend with 3 concurrent workers.\n",
      "[Parallel(n_jobs=3)]: Done  44 tasks      | elapsed:   32.3s\n",
      "[Parallel(n_jobs=3)]: Done 100 out of 100 | elapsed:  1.2min finished\n",
      "[Parallel(n_jobs=3)]: Using backend ThreadingBackend with 3 concurrent workers.\n",
      "[Parallel(n_jobs=3)]: Done  44 tasks      | elapsed:    0.8s\n",
      "[Parallel(n_jobs=3)]: Done 100 out of 100 | elapsed:    1.9s finished\n"
     ]
    },
    {
     "name": "stdout",
     "output_type": "stream",
     "text": [
      "[CV] .................... max_depth=4, n_estimators=100, total= 1.2min\n",
      "[CV] max_depth=4, n_estimators=100 ...................................\n"
     ]
    },
    {
     "name": "stderr",
     "output_type": "stream",
     "text": [
      "/home/andrew.tarasov1993.gmail.com/anaconda3/envs/tf_last/lib/python3.8/site-packages/sklearn/model_selection/_validation.py:531: DataConversionWarning: A column-vector y was passed when a 1d array was expected. Please change the shape of y to (n_samples,), for example using ravel().\n",
      "  estimator.fit(X_train, y_train, **fit_params)\n",
      "[Parallel(n_jobs=3)]: Using backend LokyBackend with 3 concurrent workers.\n",
      "[Parallel(n_jobs=3)]: Done  44 tasks      | elapsed:   33.9s\n",
      "[Parallel(n_jobs=3)]: Done 100 out of 100 | elapsed:  1.3min finished\n",
      "[Parallel(n_jobs=3)]: Using backend ThreadingBackend with 3 concurrent workers.\n",
      "[Parallel(n_jobs=3)]: Done  44 tasks      | elapsed:    0.8s\n",
      "[Parallel(n_jobs=3)]: Done 100 out of 100 | elapsed:    1.8s finished\n"
     ]
    },
    {
     "name": "stdout",
     "output_type": "stream",
     "text": [
      "[CV] .................... max_depth=4, n_estimators=100, total= 1.3min\n",
      "[CV] max_depth=4, n_estimators=100 ...................................\n"
     ]
    },
    {
     "name": "stderr",
     "output_type": "stream",
     "text": [
      "/home/andrew.tarasov1993.gmail.com/anaconda3/envs/tf_last/lib/python3.8/site-packages/sklearn/model_selection/_validation.py:531: DataConversionWarning: A column-vector y was passed when a 1d array was expected. Please change the shape of y to (n_samples,), for example using ravel().\n",
      "  estimator.fit(X_train, y_train, **fit_params)\n",
      "[Parallel(n_jobs=3)]: Using backend LokyBackend with 3 concurrent workers.\n",
      "[Parallel(n_jobs=3)]: Done  44 tasks      | elapsed:   34.6s\n",
      "[Parallel(n_jobs=3)]: Done 100 out of 100 | elapsed:  1.3min finished\n",
      "[Parallel(n_jobs=3)]: Using backend ThreadingBackend with 3 concurrent workers.\n",
      "[Parallel(n_jobs=3)]: Done  44 tasks      | elapsed:    0.8s\n",
      "[Parallel(n_jobs=3)]: Done 100 out of 100 | elapsed:    1.8s finished\n"
     ]
    },
    {
     "name": "stdout",
     "output_type": "stream",
     "text": [
      "[CV] .................... max_depth=4, n_estimators=100, total= 1.3min\n",
      "[CV] max_depth=4, n_estimators=100 ...................................\n"
     ]
    },
    {
     "name": "stderr",
     "output_type": "stream",
     "text": [
      "/home/andrew.tarasov1993.gmail.com/anaconda3/envs/tf_last/lib/python3.8/site-packages/sklearn/model_selection/_validation.py:531: DataConversionWarning: A column-vector y was passed when a 1d array was expected. Please change the shape of y to (n_samples,), for example using ravel().\n",
      "  estimator.fit(X_train, y_train, **fit_params)\n",
      "[Parallel(n_jobs=3)]: Using backend LokyBackend with 3 concurrent workers.\n",
      "[Parallel(n_jobs=3)]: Done  44 tasks      | elapsed:   32.0s\n",
      "[Parallel(n_jobs=3)]: Done 100 out of 100 | elapsed:  1.2min finished\n",
      "[Parallel(n_jobs=3)]: Using backend ThreadingBackend with 3 concurrent workers.\n",
      "[Parallel(n_jobs=3)]: Done  44 tasks      | elapsed:    0.8s\n",
      "[Parallel(n_jobs=3)]: Done 100 out of 100 | elapsed:    1.9s finished\n"
     ]
    },
    {
     "name": "stdout",
     "output_type": "stream",
     "text": [
      "[CV] .................... max_depth=4, n_estimators=100, total= 1.2min\n",
      "[CV] max_depth=4, n_estimators=250 ...................................\n"
     ]
    },
    {
     "name": "stderr",
     "output_type": "stream",
     "text": [
      "/home/andrew.tarasov1993.gmail.com/anaconda3/envs/tf_last/lib/python3.8/site-packages/sklearn/model_selection/_validation.py:531: DataConversionWarning: A column-vector y was passed when a 1d array was expected. Please change the shape of y to (n_samples,), for example using ravel().\n",
      "  estimator.fit(X_train, y_train, **fit_params)\n",
      "[Parallel(n_jobs=3)]: Using backend LokyBackend with 3 concurrent workers.\n",
      "[Parallel(n_jobs=3)]: Done  44 tasks      | elapsed:   33.1s\n",
      "[Parallel(n_jobs=3)]: Done 194 tasks      | elapsed:  2.3min\n",
      "[Parallel(n_jobs=3)]: Done 250 out of 250 | elapsed:  3.0min finished\n",
      "[Parallel(n_jobs=3)]: Using backend ThreadingBackend with 3 concurrent workers.\n",
      "[Parallel(n_jobs=3)]: Done  44 tasks      | elapsed:    0.8s\n",
      "[Parallel(n_jobs=3)]: Done 194 tasks      | elapsed:    3.5s\n",
      "[Parallel(n_jobs=3)]: Done 250 out of 250 | elapsed:    4.5s finished\n"
     ]
    },
    {
     "name": "stdout",
     "output_type": "stream",
     "text": [
      "[CV] .................... max_depth=4, n_estimators=250, total= 3.1min\n",
      "[CV] max_depth=4, n_estimators=250 ...................................\n"
     ]
    },
    {
     "name": "stderr",
     "output_type": "stream",
     "text": [
      "/home/andrew.tarasov1993.gmail.com/anaconda3/envs/tf_last/lib/python3.8/site-packages/sklearn/model_selection/_validation.py:531: DataConversionWarning: A column-vector y was passed when a 1d array was expected. Please change the shape of y to (n_samples,), for example using ravel().\n",
      "  estimator.fit(X_train, y_train, **fit_params)\n",
      "[Parallel(n_jobs=3)]: Using backend LokyBackend with 3 concurrent workers.\n",
      "[Parallel(n_jobs=3)]: Done  44 tasks      | elapsed:   34.9s\n",
      "[Parallel(n_jobs=3)]: Done 194 tasks      | elapsed:  2.4min\n",
      "[Parallel(n_jobs=3)]: Done 250 out of 250 | elapsed:  3.2min finished\n",
      "[Parallel(n_jobs=3)]: Using backend ThreadingBackend with 3 concurrent workers.\n",
      "[Parallel(n_jobs=3)]: Done  44 tasks      | elapsed:    0.8s\n",
      "[Parallel(n_jobs=3)]: Done 194 tasks      | elapsed:    3.6s\n",
      "[Parallel(n_jobs=3)]: Done 250 out of 250 | elapsed:    4.6s finished\n"
     ]
    },
    {
     "name": "stdout",
     "output_type": "stream",
     "text": [
      "[CV] .................... max_depth=4, n_estimators=250, total= 3.2min\n",
      "[CV] max_depth=4, n_estimators=250 ...................................\n"
     ]
    },
    {
     "name": "stderr",
     "output_type": "stream",
     "text": [
      "/home/andrew.tarasov1993.gmail.com/anaconda3/envs/tf_last/lib/python3.8/site-packages/sklearn/model_selection/_validation.py:531: DataConversionWarning: A column-vector y was passed when a 1d array was expected. Please change the shape of y to (n_samples,), for example using ravel().\n",
      "  estimator.fit(X_train, y_train, **fit_params)\n",
      "[Parallel(n_jobs=3)]: Using backend LokyBackend with 3 concurrent workers.\n",
      "[Parallel(n_jobs=3)]: Done  44 tasks      | elapsed:   32.8s\n",
      "[Parallel(n_jobs=3)]: Done 194 tasks      | elapsed:  2.3min\n",
      "[Parallel(n_jobs=3)]: Done 250 out of 250 | elapsed:  3.0min finished\n",
      "[Parallel(n_jobs=3)]: Using backend ThreadingBackend with 3 concurrent workers.\n",
      "[Parallel(n_jobs=3)]: Done  44 tasks      | elapsed:    0.9s\n",
      "[Parallel(n_jobs=3)]: Done 194 tasks      | elapsed:    3.6s\n",
      "[Parallel(n_jobs=3)]: Done 250 out of 250 | elapsed:    4.6s finished\n"
     ]
    },
    {
     "name": "stdout",
     "output_type": "stream",
     "text": [
      "[CV] .................... max_depth=4, n_estimators=250, total= 3.1min\n",
      "[CV] max_depth=4, n_estimators=250 ...................................\n"
     ]
    },
    {
     "name": "stderr",
     "output_type": "stream",
     "text": [
      "/home/andrew.tarasov1993.gmail.com/anaconda3/envs/tf_last/lib/python3.8/site-packages/sklearn/model_selection/_validation.py:531: DataConversionWarning: A column-vector y was passed when a 1d array was expected. Please change the shape of y to (n_samples,), for example using ravel().\n",
      "  estimator.fit(X_train, y_train, **fit_params)\n",
      "[Parallel(n_jobs=3)]: Using backend LokyBackend with 3 concurrent workers.\n",
      "[Parallel(n_jobs=3)]: Done  44 tasks      | elapsed:   32.4s\n",
      "[Parallel(n_jobs=3)]: Done 194 tasks      | elapsed:  2.3min\n",
      "[Parallel(n_jobs=3)]: Done 250 out of 250 | elapsed:  3.0min finished\n",
      "[Parallel(n_jobs=3)]: Using backend ThreadingBackend with 3 concurrent workers.\n",
      "[Parallel(n_jobs=3)]: Done  44 tasks      | elapsed:    0.9s\n",
      "[Parallel(n_jobs=3)]: Done 194 tasks      | elapsed:    3.6s\n",
      "[Parallel(n_jobs=3)]: Done 250 out of 250 | elapsed:    4.6s finished\n"
     ]
    },
    {
     "name": "stdout",
     "output_type": "stream",
     "text": [
      "[CV] .................... max_depth=4, n_estimators=250, total= 3.1min\n",
      "[CV] max_depth=4, n_estimators=250 ...................................\n"
     ]
    },
    {
     "name": "stderr",
     "output_type": "stream",
     "text": [
      "/home/andrew.tarasov1993.gmail.com/anaconda3/envs/tf_last/lib/python3.8/site-packages/sklearn/model_selection/_validation.py:531: DataConversionWarning: A column-vector y was passed when a 1d array was expected. Please change the shape of y to (n_samples,), for example using ravel().\n",
      "  estimator.fit(X_train, y_train, **fit_params)\n",
      "[Parallel(n_jobs=3)]: Using backend LokyBackend with 3 concurrent workers.\n",
      "[Parallel(n_jobs=3)]: Done  44 tasks      | elapsed:   32.7s\n",
      "[Parallel(n_jobs=3)]: Done 194 tasks      | elapsed:  2.3min\n",
      "[Parallel(n_jobs=3)]: Done 250 out of 250 | elapsed:  3.0min finished\n",
      "[Parallel(n_jobs=3)]: Using backend ThreadingBackend with 3 concurrent workers.\n",
      "[Parallel(n_jobs=3)]: Done  44 tasks      | elapsed:    0.9s\n",
      "[Parallel(n_jobs=3)]: Done 194 tasks      | elapsed:    3.6s\n",
      "[Parallel(n_jobs=3)]: Done 250 out of 250 | elapsed:    4.6s finished\n"
     ]
    },
    {
     "name": "stdout",
     "output_type": "stream",
     "text": [
      "[CV] .................... max_depth=4, n_estimators=250, total= 3.0min\n",
      "[CV] max_depth=4, n_estimators=500 ...................................\n"
     ]
    },
    {
     "name": "stderr",
     "output_type": "stream",
     "text": [
      "/home/andrew.tarasov1993.gmail.com/anaconda3/envs/tf_last/lib/python3.8/site-packages/sklearn/model_selection/_validation.py:531: DataConversionWarning: A column-vector y was passed when a 1d array was expected. Please change the shape of y to (n_samples,), for example using ravel().\n",
      "  estimator.fit(X_train, y_train, **fit_params)\n",
      "[Parallel(n_jobs=3)]: Using backend LokyBackend with 3 concurrent workers.\n",
      "[Parallel(n_jobs=3)]: Done  44 tasks      | elapsed:   32.5s\n",
      "[Parallel(n_jobs=3)]: Done 194 tasks      | elapsed:  2.3min\n",
      "[Parallel(n_jobs=3)]: Done 444 tasks      | elapsed:  5.3min\n",
      "[Parallel(n_jobs=3)]: Done 500 out of 500 | elapsed:  6.0min finished\n",
      "[Parallel(n_jobs=3)]: Using backend ThreadingBackend with 3 concurrent workers.\n",
      "[Parallel(n_jobs=3)]: Done  44 tasks      | elapsed:    0.9s\n",
      "[Parallel(n_jobs=3)]: Done 194 tasks      | elapsed:    3.7s\n",
      "[Parallel(n_jobs=3)]: Done 444 tasks      | elapsed:    8.1s\n",
      "[Parallel(n_jobs=3)]: Done 500 out of 500 | elapsed:    9.1s finished\n"
     ]
    },
    {
     "name": "stdout",
     "output_type": "stream",
     "text": [
      "[CV] .................... max_depth=4, n_estimators=500, total= 6.1min\n",
      "[CV] max_depth=4, n_estimators=500 ...................................\n"
     ]
    },
    {
     "name": "stderr",
     "output_type": "stream",
     "text": [
      "/home/andrew.tarasov1993.gmail.com/anaconda3/envs/tf_last/lib/python3.8/site-packages/sklearn/model_selection/_validation.py:531: DataConversionWarning: A column-vector y was passed when a 1d array was expected. Please change the shape of y to (n_samples,), for example using ravel().\n",
      "  estimator.fit(X_train, y_train, **fit_params)\n",
      "[Parallel(n_jobs=3)]: Using backend LokyBackend with 3 concurrent workers.\n",
      "[Parallel(n_jobs=3)]: Done  44 tasks      | elapsed:   32.4s\n",
      "[Parallel(n_jobs=3)]: Done 194 tasks      | elapsed:  2.3min\n",
      "[Parallel(n_jobs=3)]: Done 444 tasks      | elapsed:  5.3min\n",
      "[Parallel(n_jobs=3)]: Done 500 out of 500 | elapsed:  6.0min finished\n",
      "[Parallel(n_jobs=3)]: Using backend ThreadingBackend with 3 concurrent workers.\n",
      "[Parallel(n_jobs=3)]: Done  44 tasks      | elapsed:    0.9s\n",
      "[Parallel(n_jobs=3)]: Done 194 tasks      | elapsed:    3.7s\n",
      "[Parallel(n_jobs=3)]: Done 444 tasks      | elapsed:    8.2s\n",
      "[Parallel(n_jobs=3)]: Done 500 out of 500 | elapsed:    9.2s finished\n"
     ]
    },
    {
     "name": "stdout",
     "output_type": "stream",
     "text": [
      "[CV] .................... max_depth=4, n_estimators=500, total= 6.1min\n",
      "[CV] max_depth=4, n_estimators=500 ...................................\n"
     ]
    },
    {
     "name": "stderr",
     "output_type": "stream",
     "text": [
      "/home/andrew.tarasov1993.gmail.com/anaconda3/envs/tf_last/lib/python3.8/site-packages/sklearn/model_selection/_validation.py:531: DataConversionWarning: A column-vector y was passed when a 1d array was expected. Please change the shape of y to (n_samples,), for example using ravel().\n",
      "  estimator.fit(X_train, y_train, **fit_params)\n",
      "[Parallel(n_jobs=3)]: Using backend LokyBackend with 3 concurrent workers.\n",
      "[Parallel(n_jobs=3)]: Done  44 tasks      | elapsed:   32.1s\n",
      "[Parallel(n_jobs=3)]: Done 194 tasks      | elapsed:  2.3min\n",
      "[Parallel(n_jobs=3)]: Done 444 tasks      | elapsed:  5.3min\n",
      "[Parallel(n_jobs=3)]: Done 500 out of 500 | elapsed:  6.0min finished\n",
      "[Parallel(n_jobs=3)]: Using backend ThreadingBackend with 3 concurrent workers.\n",
      "[Parallel(n_jobs=3)]: Done  44 tasks      | elapsed:    0.8s\n",
      "[Parallel(n_jobs=3)]: Done 194 tasks      | elapsed:    3.5s\n",
      "[Parallel(n_jobs=3)]: Done 444 tasks      | elapsed:    8.0s\n",
      "[Parallel(n_jobs=3)]: Done 500 out of 500 | elapsed:    9.0s finished\n"
     ]
    },
    {
     "name": "stdout",
     "output_type": "stream",
     "text": [
      "[CV] .................... max_depth=4, n_estimators=500, total= 6.2min\n",
      "[CV] max_depth=4, n_estimators=500 ...................................\n"
     ]
    },
    {
     "name": "stderr",
     "output_type": "stream",
     "text": [
      "/home/andrew.tarasov1993.gmail.com/anaconda3/envs/tf_last/lib/python3.8/site-packages/sklearn/model_selection/_validation.py:531: DataConversionWarning: A column-vector y was passed when a 1d array was expected. Please change the shape of y to (n_samples,), for example using ravel().\n",
      "  estimator.fit(X_train, y_train, **fit_params)\n",
      "[Parallel(n_jobs=3)]: Using backend LokyBackend with 3 concurrent workers.\n",
      "[Parallel(n_jobs=3)]: Done  44 tasks      | elapsed:   32.7s\n",
      "[Parallel(n_jobs=3)]: Done 194 tasks      | elapsed:  2.4min\n",
      "[Parallel(n_jobs=3)]: Done 444 tasks      | elapsed:  5.6min\n",
      "[Parallel(n_jobs=3)]: Done 500 out of 500 | elapsed:  6.3min finished\n",
      "[Parallel(n_jobs=3)]: Using backend ThreadingBackend with 3 concurrent workers.\n",
      "[Parallel(n_jobs=3)]: Done  44 tasks      | elapsed:    0.8s\n",
      "[Parallel(n_jobs=3)]: Done 194 tasks      | elapsed:    3.5s\n",
      "[Parallel(n_jobs=3)]: Done 444 tasks      | elapsed:    8.0s\n",
      "[Parallel(n_jobs=3)]: Done 500 out of 500 | elapsed:    9.1s finished\n"
     ]
    },
    {
     "name": "stdout",
     "output_type": "stream",
     "text": [
      "[CV] .................... max_depth=4, n_estimators=500, total= 6.5min\n",
      "[CV] max_depth=4, n_estimators=500 ...................................\n"
     ]
    },
    {
     "name": "stderr",
     "output_type": "stream",
     "text": [
      "/home/andrew.tarasov1993.gmail.com/anaconda3/envs/tf_last/lib/python3.8/site-packages/sklearn/model_selection/_validation.py:531: DataConversionWarning: A column-vector y was passed when a 1d array was expected. Please change the shape of y to (n_samples,), for example using ravel().\n",
      "  estimator.fit(X_train, y_train, **fit_params)\n",
      "[Parallel(n_jobs=3)]: Using backend LokyBackend with 3 concurrent workers.\n",
      "[Parallel(n_jobs=3)]: Done  44 tasks      | elapsed:   31.8s\n",
      "[Parallel(n_jobs=3)]: Done 194 tasks      | elapsed:  2.3min\n",
      "[Parallel(n_jobs=3)]: Done 444 tasks      | elapsed:  5.3min\n",
      "[Parallel(n_jobs=3)]: Done 500 out of 500 | elapsed:  6.0min finished\n",
      "[Parallel(n_jobs=3)]: Using backend ThreadingBackend with 3 concurrent workers.\n",
      "[Parallel(n_jobs=3)]: Done  44 tasks      | elapsed:    0.8s\n",
      "[Parallel(n_jobs=3)]: Done 194 tasks      | elapsed:    3.5s\n",
      "[Parallel(n_jobs=3)]: Done 444 tasks      | elapsed:    8.0s\n",
      "[Parallel(n_jobs=3)]: Done 500 out of 500 | elapsed:    9.0s finished\n"
     ]
    },
    {
     "name": "stdout",
     "output_type": "stream",
     "text": [
      "[CV] .................... max_depth=4, n_estimators=500, total= 6.2min\n",
      "[CV] max_depth=4, n_estimators=1000 ..................................\n"
     ]
    },
    {
     "name": "stderr",
     "output_type": "stream",
     "text": [
      "/home/andrew.tarasov1993.gmail.com/anaconda3/envs/tf_last/lib/python3.8/site-packages/sklearn/model_selection/_validation.py:531: DataConversionWarning: A column-vector y was passed when a 1d array was expected. Please change the shape of y to (n_samples,), for example using ravel().\n",
      "  estimator.fit(X_train, y_train, **fit_params)\n",
      "[Parallel(n_jobs=3)]: Using backend LokyBackend with 3 concurrent workers.\n",
      "[Parallel(n_jobs=3)]: Done  44 tasks      | elapsed:   33.9s\n",
      "[Parallel(n_jobs=3)]: Done 194 tasks      | elapsed:  2.4min\n",
      "[Parallel(n_jobs=3)]: Done 444 tasks      | elapsed:  5.4min\n",
      "[Parallel(n_jobs=3)]: Done 794 tasks      | elapsed:  9.5min\n",
      "[Parallel(n_jobs=3)]: Done 1000 out of 1000 | elapsed: 12.0min finished\n",
      "[Parallel(n_jobs=3)]: Using backend ThreadingBackend with 3 concurrent workers.\n",
      "[Parallel(n_jobs=3)]: Done  44 tasks      | elapsed:    0.9s\n",
      "[Parallel(n_jobs=3)]: Done 194 tasks      | elapsed:    3.6s\n",
      "[Parallel(n_jobs=3)]: Done 444 tasks      | elapsed:    8.1s\n",
      "[Parallel(n_jobs=3)]: Done 794 tasks      | elapsed:   14.4s\n",
      "[Parallel(n_jobs=3)]: Done 1000 out of 1000 | elapsed:   18.1s finished\n"
     ]
    },
    {
     "name": "stdout",
     "output_type": "stream",
     "text": [
      "[CV] ................... max_depth=4, n_estimators=1000, total=12.3min\n",
      "[CV] max_depth=4, n_estimators=1000 ..................................\n"
     ]
    },
    {
     "name": "stderr",
     "output_type": "stream",
     "text": [
      "/home/andrew.tarasov1993.gmail.com/anaconda3/envs/tf_last/lib/python3.8/site-packages/sklearn/model_selection/_validation.py:531: DataConversionWarning: A column-vector y was passed when a 1d array was expected. Please change the shape of y to (n_samples,), for example using ravel().\n",
      "  estimator.fit(X_train, y_train, **fit_params)\n",
      "[Parallel(n_jobs=3)]: Using backend LokyBackend with 3 concurrent workers.\n",
      "[Parallel(n_jobs=3)]: Done  44 tasks      | elapsed:   34.5s\n",
      "[Parallel(n_jobs=3)]: Done 194 tasks      | elapsed:  2.5min\n",
      "[Parallel(n_jobs=3)]: Done 444 tasks      | elapsed:  5.6min\n",
      "[Parallel(n_jobs=3)]: Done 794 tasks      | elapsed: 10.0min\n",
      "[Parallel(n_jobs=3)]: Done 1000 out of 1000 | elapsed: 12.6min finished\n",
      "[Parallel(n_jobs=3)]: Using backend ThreadingBackend with 3 concurrent workers.\n",
      "[Parallel(n_jobs=3)]: Done  44 tasks      | elapsed:    0.8s\n",
      "[Parallel(n_jobs=3)]: Done 194 tasks      | elapsed:    3.5s\n",
      "[Parallel(n_jobs=3)]: Done 444 tasks      | elapsed:    8.0s\n",
      "[Parallel(n_jobs=3)]: Done 794 tasks      | elapsed:   14.3s\n",
      "[Parallel(n_jobs=3)]: Done 1000 out of 1000 | elapsed:   18.1s finished\n"
     ]
    },
    {
     "name": "stdout",
     "output_type": "stream",
     "text": [
      "[CV] ................... max_depth=4, n_estimators=1000, total=12.9min\n",
      "[CV] max_depth=4, n_estimators=1000 ..................................\n"
     ]
    },
    {
     "name": "stderr",
     "output_type": "stream",
     "text": [
      "/home/andrew.tarasov1993.gmail.com/anaconda3/envs/tf_last/lib/python3.8/site-packages/sklearn/model_selection/_validation.py:531: DataConversionWarning: A column-vector y was passed when a 1d array was expected. Please change the shape of y to (n_samples,), for example using ravel().\n",
      "  estimator.fit(X_train, y_train, **fit_params)\n",
      "[Parallel(n_jobs=3)]: Using backend LokyBackend with 3 concurrent workers.\n",
      "[Parallel(n_jobs=3)]: Done  44 tasks      | elapsed:   32.8s\n",
      "[Parallel(n_jobs=3)]: Done 194 tasks      | elapsed:  2.3min\n",
      "[Parallel(n_jobs=3)]: Done 444 tasks      | elapsed:  5.3min\n",
      "[Parallel(n_jobs=3)]: Done 794 tasks      | elapsed:  9.5min\n",
      "[Parallel(n_jobs=3)]: Done 1000 out of 1000 | elapsed: 12.0min finished\n",
      "[Parallel(n_jobs=3)]: Using backend ThreadingBackend with 3 concurrent workers.\n",
      "[Parallel(n_jobs=3)]: Done  44 tasks      | elapsed:    0.8s\n",
      "[Parallel(n_jobs=3)]: Done 194 tasks      | elapsed:    3.6s\n",
      "[Parallel(n_jobs=3)]: Done 444 tasks      | elapsed:    8.0s\n",
      "[Parallel(n_jobs=3)]: Done 794 tasks      | elapsed:   14.3s\n",
      "[Parallel(n_jobs=3)]: Done 1000 out of 1000 | elapsed:   18.0s finished\n"
     ]
    },
    {
     "name": "stdout",
     "output_type": "stream",
     "text": [
      "[CV] ................... max_depth=4, n_estimators=1000, total=12.3min\n",
      "[CV] max_depth=4, n_estimators=1000 ..................................\n"
     ]
    },
    {
     "name": "stderr",
     "output_type": "stream",
     "text": [
      "/home/andrew.tarasov1993.gmail.com/anaconda3/envs/tf_last/lib/python3.8/site-packages/sklearn/model_selection/_validation.py:531: DataConversionWarning: A column-vector y was passed when a 1d array was expected. Please change the shape of y to (n_samples,), for example using ravel().\n",
      "  estimator.fit(X_train, y_train, **fit_params)\n",
      "[Parallel(n_jobs=3)]: Using backend LokyBackend with 3 concurrent workers.\n",
      "[Parallel(n_jobs=3)]: Done  44 tasks      | elapsed:   33.0s\n",
      "[Parallel(n_jobs=3)]: Done 194 tasks      | elapsed:  2.3min\n",
      "[Parallel(n_jobs=3)]: Done 444 tasks      | elapsed:  5.3min\n",
      "[Parallel(n_jobs=3)]: Done 794 tasks      | elapsed:  9.5min\n",
      "[Parallel(n_jobs=3)]: Done 1000 out of 1000 | elapsed: 11.9min finished\n",
      "[Parallel(n_jobs=3)]: Using backend ThreadingBackend with 3 concurrent workers.\n",
      "[Parallel(n_jobs=3)]: Done  44 tasks      | elapsed:    0.9s\n",
      "[Parallel(n_jobs=3)]: Done 194 tasks      | elapsed:    3.6s\n",
      "[Parallel(n_jobs=3)]: Done 444 tasks      | elapsed:    8.1s\n",
      "[Parallel(n_jobs=3)]: Done 794 tasks      | elapsed:   14.4s\n",
      "[Parallel(n_jobs=3)]: Done 1000 out of 1000 | elapsed:   18.2s finished\n"
     ]
    },
    {
     "name": "stdout",
     "output_type": "stream",
     "text": [
      "[CV] ................... max_depth=4, n_estimators=1000, total=12.2min\n",
      "[CV] max_depth=4, n_estimators=1000 ..................................\n"
     ]
    },
    {
     "name": "stderr",
     "output_type": "stream",
     "text": [
      "/home/andrew.tarasov1993.gmail.com/anaconda3/envs/tf_last/lib/python3.8/site-packages/sklearn/model_selection/_validation.py:531: DataConversionWarning: A column-vector y was passed when a 1d array was expected. Please change the shape of y to (n_samples,), for example using ravel().\n",
      "  estimator.fit(X_train, y_train, **fit_params)\n",
      "[Parallel(n_jobs=3)]: Using backend LokyBackend with 3 concurrent workers.\n",
      "[Parallel(n_jobs=3)]: Done  44 tasks      | elapsed:   34.3s\n",
      "[Parallel(n_jobs=3)]: Done 194 tasks      | elapsed:  2.5min\n",
      "[Parallel(n_jobs=3)]: Done 444 tasks      | elapsed:  5.6min\n",
      "[Parallel(n_jobs=3)]: Done 794 tasks      | elapsed: 10.0min\n",
      "[Parallel(n_jobs=3)]: Done 1000 out of 1000 | elapsed: 12.6min finished\n",
      "[Parallel(n_jobs=3)]: Using backend ThreadingBackend with 3 concurrent workers.\n",
      "[Parallel(n_jobs=3)]: Done  44 tasks      | elapsed:    1.0s\n",
      "[Parallel(n_jobs=3)]: Done 194 tasks      | elapsed:    3.6s\n",
      "[Parallel(n_jobs=3)]: Done 444 tasks      | elapsed:    8.1s\n",
      "[Parallel(n_jobs=3)]: Done 794 tasks      | elapsed:   14.4s\n",
      "[Parallel(n_jobs=3)]: Done 1000 out of 1000 | elapsed:   18.1s finished\n"
     ]
    },
    {
     "name": "stdout",
     "output_type": "stream",
     "text": [
      "[CV] ................... max_depth=4, n_estimators=1000, total=12.9min\n",
      "[CV] max_depth=5, n_estimators=50 ....................................\n"
     ]
    },
    {
     "name": "stderr",
     "output_type": "stream",
     "text": [
      "/home/andrew.tarasov1993.gmail.com/anaconda3/envs/tf_last/lib/python3.8/site-packages/sklearn/model_selection/_validation.py:531: DataConversionWarning: A column-vector y was passed when a 1d array was expected. Please change the shape of y to (n_samples,), for example using ravel().\n",
      "  estimator.fit(X_train, y_train, **fit_params)\n",
      "[Parallel(n_jobs=3)]: Using backend LokyBackend with 3 concurrent workers.\n",
      "[Parallel(n_jobs=3)]: Done  44 tasks      | elapsed:   41.1s\n",
      "[Parallel(n_jobs=3)]: Done  50 out of  50 | elapsed:   46.3s finished\n",
      "[Parallel(n_jobs=3)]: Using backend ThreadingBackend with 3 concurrent workers.\n",
      "[Parallel(n_jobs=3)]: Done  44 tasks      | elapsed:    0.9s\n",
      "[Parallel(n_jobs=3)]: Done  50 out of  50 | elapsed:    1.0s finished\n"
     ]
    },
    {
     "name": "stdout",
     "output_type": "stream",
     "text": [
      "[CV] ..................... max_depth=5, n_estimators=50, total=  47.9s\n",
      "[CV] max_depth=5, n_estimators=50 ....................................\n"
     ]
    },
    {
     "name": "stderr",
     "output_type": "stream",
     "text": [
      "/home/andrew.tarasov1993.gmail.com/anaconda3/envs/tf_last/lib/python3.8/site-packages/sklearn/model_selection/_validation.py:531: DataConversionWarning: A column-vector y was passed when a 1d array was expected. Please change the shape of y to (n_samples,), for example using ravel().\n",
      "  estimator.fit(X_train, y_train, **fit_params)\n",
      "[Parallel(n_jobs=3)]: Using backend LokyBackend with 3 concurrent workers.\n",
      "[Parallel(n_jobs=3)]: Done  44 tasks      | elapsed:   39.0s\n",
      "[Parallel(n_jobs=3)]: Done  50 out of  50 | elapsed:   43.9s finished\n",
      "[Parallel(n_jobs=3)]: Using backend ThreadingBackend with 3 concurrent workers.\n",
      "[Parallel(n_jobs=3)]: Done  44 tasks      | elapsed:    0.9s\n",
      "[Parallel(n_jobs=3)]: Done  50 out of  50 | elapsed:    1.0s finished\n"
     ]
    },
    {
     "name": "stdout",
     "output_type": "stream",
     "text": [
      "[CV] ..................... max_depth=5, n_estimators=50, total=  45.6s\n",
      "[CV] max_depth=5, n_estimators=50 ....................................\n"
     ]
    },
    {
     "name": "stderr",
     "output_type": "stream",
     "text": [
      "/home/andrew.tarasov1993.gmail.com/anaconda3/envs/tf_last/lib/python3.8/site-packages/sklearn/model_selection/_validation.py:531: DataConversionWarning: A column-vector y was passed when a 1d array was expected. Please change the shape of y to (n_samples,), for example using ravel().\n",
      "  estimator.fit(X_train, y_train, **fit_params)\n",
      "[Parallel(n_jobs=3)]: Using backend LokyBackend with 3 concurrent workers.\n",
      "[Parallel(n_jobs=3)]: Done  44 tasks      | elapsed:   39.5s\n",
      "[Parallel(n_jobs=3)]: Done  50 out of  50 | elapsed:   44.9s finished\n",
      "[Parallel(n_jobs=3)]: Using backend ThreadingBackend with 3 concurrent workers.\n",
      "[Parallel(n_jobs=3)]: Done  44 tasks      | elapsed:    0.9s\n",
      "[Parallel(n_jobs=3)]: Done  50 out of  50 | elapsed:    1.0s finished\n"
     ]
    },
    {
     "name": "stdout",
     "output_type": "stream",
     "text": [
      "[CV] ..................... max_depth=5, n_estimators=50, total=  46.6s\n",
      "[CV] max_depth=5, n_estimators=50 ....................................\n"
     ]
    },
    {
     "name": "stderr",
     "output_type": "stream",
     "text": [
      "/home/andrew.tarasov1993.gmail.com/anaconda3/envs/tf_last/lib/python3.8/site-packages/sklearn/model_selection/_validation.py:531: DataConversionWarning: A column-vector y was passed when a 1d array was expected. Please change the shape of y to (n_samples,), for example using ravel().\n",
      "  estimator.fit(X_train, y_train, **fit_params)\n",
      "[Parallel(n_jobs=3)]: Using backend LokyBackend with 3 concurrent workers.\n",
      "[Parallel(n_jobs=3)]: Done  44 tasks      | elapsed:   38.2s\n",
      "[Parallel(n_jobs=3)]: Done  50 out of  50 | elapsed:   43.7s finished\n",
      "[Parallel(n_jobs=3)]: Using backend ThreadingBackend with 3 concurrent workers.\n",
      "[Parallel(n_jobs=3)]: Done  44 tasks      | elapsed:    0.9s\n",
      "[Parallel(n_jobs=3)]: Done  50 out of  50 | elapsed:    1.0s finished\n"
     ]
    },
    {
     "name": "stdout",
     "output_type": "stream",
     "text": [
      "[CV] ..................... max_depth=5, n_estimators=50, total=  45.4s\n",
      "[CV] max_depth=5, n_estimators=50 ....................................\n"
     ]
    },
    {
     "name": "stderr",
     "output_type": "stream",
     "text": [
      "/home/andrew.tarasov1993.gmail.com/anaconda3/envs/tf_last/lib/python3.8/site-packages/sklearn/model_selection/_validation.py:531: DataConversionWarning: A column-vector y was passed when a 1d array was expected. Please change the shape of y to (n_samples,), for example using ravel().\n",
      "  estimator.fit(X_train, y_train, **fit_params)\n",
      "[Parallel(n_jobs=3)]: Using backend LokyBackend with 3 concurrent workers.\n",
      "[Parallel(n_jobs=3)]: Done  44 tasks      | elapsed:   40.8s\n",
      "[Parallel(n_jobs=3)]: Done  50 out of  50 | elapsed:   46.3s finished\n",
      "[Parallel(n_jobs=3)]: Using backend ThreadingBackend with 3 concurrent workers.\n",
      "[Parallel(n_jobs=3)]: Done  44 tasks      | elapsed:    0.9s\n",
      "[Parallel(n_jobs=3)]: Done  50 out of  50 | elapsed:    1.0s finished\n"
     ]
    },
    {
     "name": "stdout",
     "output_type": "stream",
     "text": [
      "[CV] ..................... max_depth=5, n_estimators=50, total=  48.0s\n",
      "[CV] max_depth=5, n_estimators=75 ....................................\n"
     ]
    },
    {
     "name": "stderr",
     "output_type": "stream",
     "text": [
      "/home/andrew.tarasov1993.gmail.com/anaconda3/envs/tf_last/lib/python3.8/site-packages/sklearn/model_selection/_validation.py:531: DataConversionWarning: A column-vector y was passed when a 1d array was expected. Please change the shape of y to (n_samples,), for example using ravel().\n",
      "  estimator.fit(X_train, y_train, **fit_params)\n",
      "[Parallel(n_jobs=3)]: Using backend LokyBackend with 3 concurrent workers.\n",
      "[Parallel(n_jobs=3)]: Done  44 tasks      | elapsed:   37.8s\n",
      "[Parallel(n_jobs=3)]: Done  75 out of  75 | elapsed:  1.1min finished\n",
      "[Parallel(n_jobs=3)]: Using backend ThreadingBackend with 3 concurrent workers.\n",
      "[Parallel(n_jobs=3)]: Done  44 tasks      | elapsed:    0.9s\n",
      "[Parallel(n_jobs=3)]: Done  75 out of  75 | elapsed:    1.6s finished\n"
     ]
    },
    {
     "name": "stdout",
     "output_type": "stream",
     "text": [
      "[CV] ..................... max_depth=5, n_estimators=75, total= 1.1min\n",
      "[CV] max_depth=5, n_estimators=75 ....................................\n"
     ]
    },
    {
     "name": "stderr",
     "output_type": "stream",
     "text": [
      "/home/andrew.tarasov1993.gmail.com/anaconda3/envs/tf_last/lib/python3.8/site-packages/sklearn/model_selection/_validation.py:531: DataConversionWarning: A column-vector y was passed when a 1d array was expected. Please change the shape of y to (n_samples,), for example using ravel().\n",
      "  estimator.fit(X_train, y_train, **fit_params)\n",
      "[Parallel(n_jobs=3)]: Using backend LokyBackend with 3 concurrent workers.\n",
      "[Parallel(n_jobs=3)]: Done  44 tasks      | elapsed:   37.8s\n",
      "[Parallel(n_jobs=3)]: Done  75 out of  75 | elapsed:  1.1min finished\n",
      "[Parallel(n_jobs=3)]: Using backend ThreadingBackend with 3 concurrent workers.\n",
      "[Parallel(n_jobs=3)]: Done  44 tasks      | elapsed:    1.0s\n",
      "[Parallel(n_jobs=3)]: Done  75 out of  75 | elapsed:    1.5s finished\n"
     ]
    },
    {
     "name": "stdout",
     "output_type": "stream",
     "text": [
      "[CV] ..................... max_depth=5, n_estimators=75, total= 1.1min\n",
      "[CV] max_depth=5, n_estimators=75 ....................................\n"
     ]
    },
    {
     "name": "stderr",
     "output_type": "stream",
     "text": [
      "/home/andrew.tarasov1993.gmail.com/anaconda3/envs/tf_last/lib/python3.8/site-packages/sklearn/model_selection/_validation.py:531: DataConversionWarning: A column-vector y was passed when a 1d array was expected. Please change the shape of y to (n_samples,), for example using ravel().\n",
      "  estimator.fit(X_train, y_train, **fit_params)\n",
      "[Parallel(n_jobs=3)]: Using backend LokyBackend with 3 concurrent workers.\n",
      "[Parallel(n_jobs=3)]: Done  44 tasks      | elapsed:   38.6s\n",
      "[Parallel(n_jobs=3)]: Done  75 out of  75 | elapsed:  1.1min finished\n",
      "[Parallel(n_jobs=3)]: Using backend ThreadingBackend with 3 concurrent workers.\n",
      "[Parallel(n_jobs=3)]: Done  44 tasks      | elapsed:    0.9s\n",
      "[Parallel(n_jobs=3)]: Done  75 out of  75 | elapsed:    1.5s finished\n"
     ]
    },
    {
     "name": "stdout",
     "output_type": "stream",
     "text": [
      "[CV] ..................... max_depth=5, n_estimators=75, total= 1.1min\n",
      "[CV] max_depth=5, n_estimators=75 ....................................\n"
     ]
    },
    {
     "name": "stderr",
     "output_type": "stream",
     "text": [
      "/home/andrew.tarasov1993.gmail.com/anaconda3/envs/tf_last/lib/python3.8/site-packages/sklearn/model_selection/_validation.py:531: DataConversionWarning: A column-vector y was passed when a 1d array was expected. Please change the shape of y to (n_samples,), for example using ravel().\n",
      "  estimator.fit(X_train, y_train, **fit_params)\n",
      "[Parallel(n_jobs=3)]: Using backend LokyBackend with 3 concurrent workers.\n",
      "[Parallel(n_jobs=3)]: Done  44 tasks      | elapsed:   38.8s\n",
      "[Parallel(n_jobs=3)]: Done  75 out of  75 | elapsed:  1.1min finished\n",
      "[Parallel(n_jobs=3)]: Using backend ThreadingBackend with 3 concurrent workers.\n",
      "[Parallel(n_jobs=3)]: Done  44 tasks      | elapsed:    0.9s\n",
      "[Parallel(n_jobs=3)]: Done  75 out of  75 | elapsed:    1.5s finished\n"
     ]
    },
    {
     "name": "stdout",
     "output_type": "stream",
     "text": [
      "[CV] ..................... max_depth=5, n_estimators=75, total= 1.1min\n",
      "[CV] max_depth=5, n_estimators=75 ....................................\n"
     ]
    },
    {
     "name": "stderr",
     "output_type": "stream",
     "text": [
      "/home/andrew.tarasov1993.gmail.com/anaconda3/envs/tf_last/lib/python3.8/site-packages/sklearn/model_selection/_validation.py:531: DataConversionWarning: A column-vector y was passed when a 1d array was expected. Please change the shape of y to (n_samples,), for example using ravel().\n",
      "  estimator.fit(X_train, y_train, **fit_params)\n",
      "[Parallel(n_jobs=3)]: Using backend LokyBackend with 3 concurrent workers.\n",
      "[Parallel(n_jobs=3)]: Done  44 tasks      | elapsed:   38.1s\n",
      "[Parallel(n_jobs=3)]: Done  75 out of  75 | elapsed:  1.1min finished\n",
      "[Parallel(n_jobs=3)]: Using backend ThreadingBackend with 3 concurrent workers.\n",
      "[Parallel(n_jobs=3)]: Done  44 tasks      | elapsed:    0.9s\n",
      "[Parallel(n_jobs=3)]: Done  75 out of  75 | elapsed:    1.5s finished\n"
     ]
    },
    {
     "name": "stdout",
     "output_type": "stream",
     "text": [
      "[CV] ..................... max_depth=5, n_estimators=75, total= 1.1min\n",
      "[CV] max_depth=5, n_estimators=100 ...................................\n"
     ]
    },
    {
     "name": "stderr",
     "output_type": "stream",
     "text": [
      "/home/andrew.tarasov1993.gmail.com/anaconda3/envs/tf_last/lib/python3.8/site-packages/sklearn/model_selection/_validation.py:531: DataConversionWarning: A column-vector y was passed when a 1d array was expected. Please change the shape of y to (n_samples,), for example using ravel().\n",
      "  estimator.fit(X_train, y_train, **fit_params)\n",
      "[Parallel(n_jobs=3)]: Using backend LokyBackend with 3 concurrent workers.\n",
      "[Parallel(n_jobs=3)]: Done  44 tasks      | elapsed:   39.3s\n",
      "[Parallel(n_jobs=3)]: Done 100 out of 100 | elapsed:  1.4min finished\n",
      "[Parallel(n_jobs=3)]: Using backend ThreadingBackend with 3 concurrent workers.\n",
      "[Parallel(n_jobs=3)]: Done  44 tasks      | elapsed:    1.0s\n",
      "[Parallel(n_jobs=3)]: Done 100 out of 100 | elapsed:    2.0s finished\n"
     ]
    },
    {
     "name": "stdout",
     "output_type": "stream",
     "text": [
      "[CV] .................... max_depth=5, n_estimators=100, total= 1.5min\n",
      "[CV] max_depth=5, n_estimators=100 ...................................\n"
     ]
    },
    {
     "name": "stderr",
     "output_type": "stream",
     "text": [
      "/home/andrew.tarasov1993.gmail.com/anaconda3/envs/tf_last/lib/python3.8/site-packages/sklearn/model_selection/_validation.py:531: DataConversionWarning: A column-vector y was passed when a 1d array was expected. Please change the shape of y to (n_samples,), for example using ravel().\n",
      "  estimator.fit(X_train, y_train, **fit_params)\n",
      "[Parallel(n_jobs=3)]: Using backend LokyBackend with 3 concurrent workers.\n",
      "[Parallel(n_jobs=3)]: Done  44 tasks      | elapsed:   40.9s\n",
      "[Parallel(n_jobs=3)]: Done 100 out of 100 | elapsed:  1.5min finished\n",
      "[Parallel(n_jobs=3)]: Using backend ThreadingBackend with 3 concurrent workers.\n",
      "[Parallel(n_jobs=3)]: Done  44 tasks      | elapsed:    0.9s\n",
      "[Parallel(n_jobs=3)]: Done 100 out of 100 | elapsed:    2.1s finished\n"
     ]
    },
    {
     "name": "stdout",
     "output_type": "stream",
     "text": [
      "[CV] .................... max_depth=5, n_estimators=100, total= 1.6min\n",
      "[CV] max_depth=5, n_estimators=100 ...................................\n"
     ]
    },
    {
     "name": "stderr",
     "output_type": "stream",
     "text": [
      "/home/andrew.tarasov1993.gmail.com/anaconda3/envs/tf_last/lib/python3.8/site-packages/sklearn/model_selection/_validation.py:531: DataConversionWarning: A column-vector y was passed when a 1d array was expected. Please change the shape of y to (n_samples,), for example using ravel().\n",
      "  estimator.fit(X_train, y_train, **fit_params)\n",
      "[Parallel(n_jobs=3)]: Using backend LokyBackend with 3 concurrent workers.\n",
      "[Parallel(n_jobs=3)]: Done  44 tasks      | elapsed:   39.3s\n",
      "[Parallel(n_jobs=3)]: Done 100 out of 100 | elapsed:  1.5min finished\n",
      "[Parallel(n_jobs=3)]: Using backend ThreadingBackend with 3 concurrent workers.\n",
      "[Parallel(n_jobs=3)]: Done  44 tasks      | elapsed:    0.9s\n",
      "[Parallel(n_jobs=3)]: Done 100 out of 100 | elapsed:    1.9s finished\n"
     ]
    },
    {
     "name": "stdout",
     "output_type": "stream",
     "text": [
      "[CV] .................... max_depth=5, n_estimators=100, total= 1.5min\n",
      "[CV] max_depth=5, n_estimators=100 ...................................\n"
     ]
    },
    {
     "name": "stderr",
     "output_type": "stream",
     "text": [
      "/home/andrew.tarasov1993.gmail.com/anaconda3/envs/tf_last/lib/python3.8/site-packages/sklearn/model_selection/_validation.py:531: DataConversionWarning: A column-vector y was passed when a 1d array was expected. Please change the shape of y to (n_samples,), for example using ravel().\n",
      "  estimator.fit(X_train, y_train, **fit_params)\n",
      "[Parallel(n_jobs=3)]: Using backend LokyBackend with 3 concurrent workers.\n",
      "[Parallel(n_jobs=3)]: Done  44 tasks      | elapsed:   41.6s\n",
      "[Parallel(n_jobs=3)]: Done 100 out of 100 | elapsed:  1.5min finished\n",
      "[Parallel(n_jobs=3)]: Using backend ThreadingBackend with 3 concurrent workers.\n",
      "[Parallel(n_jobs=3)]: Done  44 tasks      | elapsed:    0.9s\n",
      "[Parallel(n_jobs=3)]: Done 100 out of 100 | elapsed:    2.0s finished\n"
     ]
    },
    {
     "name": "stdout",
     "output_type": "stream",
     "text": [
      "[CV] .................... max_depth=5, n_estimators=100, total= 1.5min\n",
      "[CV] max_depth=5, n_estimators=100 ...................................\n"
     ]
    },
    {
     "name": "stderr",
     "output_type": "stream",
     "text": [
      "/home/andrew.tarasov1993.gmail.com/anaconda3/envs/tf_last/lib/python3.8/site-packages/sklearn/model_selection/_validation.py:531: DataConversionWarning: A column-vector y was passed when a 1d array was expected. Please change the shape of y to (n_samples,), for example using ravel().\n",
      "  estimator.fit(X_train, y_train, **fit_params)\n",
      "[Parallel(n_jobs=3)]: Using backend LokyBackend with 3 concurrent workers.\n",
      "[Parallel(n_jobs=3)]: Done  44 tasks      | elapsed:   39.1s\n",
      "[Parallel(n_jobs=3)]: Done 100 out of 100 | elapsed:  1.5min finished\n",
      "[Parallel(n_jobs=3)]: Using backend ThreadingBackend with 3 concurrent workers.\n",
      "[Parallel(n_jobs=3)]: Done  44 tasks      | elapsed:    0.9s\n",
      "[Parallel(n_jobs=3)]: Done 100 out of 100 | elapsed:    2.0s finished\n"
     ]
    },
    {
     "name": "stdout",
     "output_type": "stream",
     "text": [
      "[CV] .................... max_depth=5, n_estimators=100, total= 1.5min\n",
      "[CV] max_depth=5, n_estimators=250 ...................................\n"
     ]
    },
    {
     "name": "stderr",
     "output_type": "stream",
     "text": [
      "/home/andrew.tarasov1993.gmail.com/anaconda3/envs/tf_last/lib/python3.8/site-packages/sklearn/model_selection/_validation.py:531: DataConversionWarning: A column-vector y was passed when a 1d array was expected. Please change the shape of y to (n_samples,), for example using ravel().\n",
      "  estimator.fit(X_train, y_train, **fit_params)\n",
      "[Parallel(n_jobs=3)]: Using backend LokyBackend with 3 concurrent workers.\n",
      "[Parallel(n_jobs=3)]: Done  44 tasks      | elapsed:   40.3s\n",
      "[Parallel(n_jobs=3)]: Done 194 tasks      | elapsed:  3.0min\n",
      "[Parallel(n_jobs=3)]: Done 250 out of 250 | elapsed:  3.8min finished\n",
      "[Parallel(n_jobs=3)]: Using backend ThreadingBackend with 3 concurrent workers.\n",
      "[Parallel(n_jobs=3)]: Done  44 tasks      | elapsed:    0.9s\n",
      "[Parallel(n_jobs=3)]: Done 194 tasks      | elapsed:    3.8s\n",
      "[Parallel(n_jobs=3)]: Done 250 out of 250 | elapsed:    4.8s finished\n"
     ]
    },
    {
     "name": "stdout",
     "output_type": "stream",
     "text": [
      "[CV] .................... max_depth=5, n_estimators=250, total= 3.9min\n",
      "[CV] max_depth=5, n_estimators=250 ...................................\n"
     ]
    },
    {
     "name": "stderr",
     "output_type": "stream",
     "text": [
      "/home/andrew.tarasov1993.gmail.com/anaconda3/envs/tf_last/lib/python3.8/site-packages/sklearn/model_selection/_validation.py:531: DataConversionWarning: A column-vector y was passed when a 1d array was expected. Please change the shape of y to (n_samples,), for example using ravel().\n",
      "  estimator.fit(X_train, y_train, **fit_params)\n",
      "[Parallel(n_jobs=3)]: Using backend LokyBackend with 3 concurrent workers.\n",
      "[Parallel(n_jobs=3)]: Done  44 tasks      | elapsed:   38.9s\n",
      "[Parallel(n_jobs=3)]: Done 194 tasks      | elapsed:  2.8min\n",
      "[Parallel(n_jobs=3)]: Done 250 out of 250 | elapsed:  3.6min finished\n",
      "[Parallel(n_jobs=3)]: Using backend ThreadingBackend with 3 concurrent workers.\n",
      "[Parallel(n_jobs=3)]: Done  44 tasks      | elapsed:    0.9s\n",
      "[Parallel(n_jobs=3)]: Done 194 tasks      | elapsed:    3.8s\n",
      "[Parallel(n_jobs=3)]: Done 250 out of 250 | elapsed:    4.8s finished\n"
     ]
    },
    {
     "name": "stdout",
     "output_type": "stream",
     "text": [
      "[CV] .................... max_depth=5, n_estimators=250, total= 3.7min\n",
      "[CV] max_depth=5, n_estimators=250 ...................................\n"
     ]
    },
    {
     "name": "stderr",
     "output_type": "stream",
     "text": [
      "/home/andrew.tarasov1993.gmail.com/anaconda3/envs/tf_last/lib/python3.8/site-packages/sklearn/model_selection/_validation.py:531: DataConversionWarning: A column-vector y was passed when a 1d array was expected. Please change the shape of y to (n_samples,), for example using ravel().\n",
      "  estimator.fit(X_train, y_train, **fit_params)\n",
      "[Parallel(n_jobs=3)]: Using backend LokyBackend with 3 concurrent workers.\n",
      "[Parallel(n_jobs=3)]: Done  44 tasks      | elapsed:   38.2s\n",
      "[Parallel(n_jobs=3)]: Done 194 tasks      | elapsed:  2.8min\n",
      "[Parallel(n_jobs=3)]: Done 250 out of 250 | elapsed:  3.6min finished\n",
      "[Parallel(n_jobs=3)]: Using backend ThreadingBackend with 3 concurrent workers.\n",
      "[Parallel(n_jobs=3)]: Done  44 tasks      | elapsed:    0.9s\n",
      "[Parallel(n_jobs=3)]: Done 194 tasks      | elapsed:    3.8s\n",
      "[Parallel(n_jobs=3)]: Done 250 out of 250 | elapsed:    4.8s finished\n"
     ]
    },
    {
     "name": "stdout",
     "output_type": "stream",
     "text": [
      "[CV] .................... max_depth=5, n_estimators=250, total= 3.7min\n",
      "[CV] max_depth=5, n_estimators=250 ...................................\n"
     ]
    },
    {
     "name": "stderr",
     "output_type": "stream",
     "text": [
      "/home/andrew.tarasov1993.gmail.com/anaconda3/envs/tf_last/lib/python3.8/site-packages/sklearn/model_selection/_validation.py:531: DataConversionWarning: A column-vector y was passed when a 1d array was expected. Please change the shape of y to (n_samples,), for example using ravel().\n",
      "  estimator.fit(X_train, y_train, **fit_params)\n",
      "[Parallel(n_jobs=3)]: Using backend LokyBackend with 3 concurrent workers.\n",
      "[Parallel(n_jobs=3)]: Done  44 tasks      | elapsed:   38.7s\n",
      "[Parallel(n_jobs=3)]: Done 194 tasks      | elapsed:  2.8min\n",
      "[Parallel(n_jobs=3)]: Done 250 out of 250 | elapsed:  3.6min finished\n",
      "[Parallel(n_jobs=3)]: Using backend ThreadingBackend with 3 concurrent workers.\n",
      "[Parallel(n_jobs=3)]: Done  44 tasks      | elapsed:    0.9s\n",
      "[Parallel(n_jobs=3)]: Done 194 tasks      | elapsed:    3.8s\n",
      "[Parallel(n_jobs=3)]: Done 250 out of 250 | elapsed:    4.8s finished\n"
     ]
    },
    {
     "name": "stdout",
     "output_type": "stream",
     "text": [
      "[CV] .................... max_depth=5, n_estimators=250, total= 3.7min\n",
      "[CV] max_depth=5, n_estimators=250 ...................................\n"
     ]
    },
    {
     "name": "stderr",
     "output_type": "stream",
     "text": [
      "/home/andrew.tarasov1993.gmail.com/anaconda3/envs/tf_last/lib/python3.8/site-packages/sklearn/model_selection/_validation.py:531: DataConversionWarning: A column-vector y was passed when a 1d array was expected. Please change the shape of y to (n_samples,), for example using ravel().\n",
      "  estimator.fit(X_train, y_train, **fit_params)\n",
      "[Parallel(n_jobs=3)]: Using backend LokyBackend with 3 concurrent workers.\n",
      "[Parallel(n_jobs=3)]: Done  44 tasks      | elapsed:   38.7s\n",
      "[Parallel(n_jobs=3)]: Done 194 tasks      | elapsed:  2.8min\n",
      "[Parallel(n_jobs=3)]: Done 250 out of 250 | elapsed:  3.6min finished\n",
      "[Parallel(n_jobs=3)]: Using backend ThreadingBackend with 3 concurrent workers.\n",
      "[Parallel(n_jobs=3)]: Done  44 tasks      | elapsed:    0.9s\n",
      "[Parallel(n_jobs=3)]: Done 194 tasks      | elapsed:    3.7s\n",
      "[Parallel(n_jobs=3)]: Done 250 out of 250 | elapsed:    4.8s finished\n"
     ]
    },
    {
     "name": "stdout",
     "output_type": "stream",
     "text": [
      "[CV] .................... max_depth=5, n_estimators=250, total= 3.7min\n",
      "[CV] max_depth=5, n_estimators=500 ...................................\n"
     ]
    },
    {
     "name": "stderr",
     "output_type": "stream",
     "text": [
      "/home/andrew.tarasov1993.gmail.com/anaconda3/envs/tf_last/lib/python3.8/site-packages/sklearn/model_selection/_validation.py:531: DataConversionWarning: A column-vector y was passed when a 1d array was expected. Please change the shape of y to (n_samples,), for example using ravel().\n",
      "  estimator.fit(X_train, y_train, **fit_params)\n",
      "[Parallel(n_jobs=3)]: Using backend LokyBackend with 3 concurrent workers.\n",
      "[Parallel(n_jobs=3)]: Done  44 tasks      | elapsed:   39.7s\n",
      "[Parallel(n_jobs=3)]: Done 194 tasks      | elapsed:  2.8min\n",
      "[Parallel(n_jobs=3)]: Done 444 tasks      | elapsed:  6.4min\n",
      "[Parallel(n_jobs=3)]: Done 500 out of 500 | elapsed:  7.1min finished\n",
      "[Parallel(n_jobs=3)]: Using backend ThreadingBackend with 3 concurrent workers.\n",
      "[Parallel(n_jobs=3)]: Done  44 tasks      | elapsed:    0.9s\n",
      "[Parallel(n_jobs=3)]: Done 194 tasks      | elapsed:    3.8s\n",
      "[Parallel(n_jobs=3)]: Done 444 tasks      | elapsed:    8.6s\n",
      "[Parallel(n_jobs=3)]: Done 500 out of 500 | elapsed:    9.6s finished\n"
     ]
    },
    {
     "name": "stdout",
     "output_type": "stream",
     "text": [
      "[CV] .................... max_depth=5, n_estimators=500, total= 7.3min\n",
      "[CV] max_depth=5, n_estimators=500 ...................................\n"
     ]
    },
    {
     "name": "stderr",
     "output_type": "stream",
     "text": [
      "/home/andrew.tarasov1993.gmail.com/anaconda3/envs/tf_last/lib/python3.8/site-packages/sklearn/model_selection/_validation.py:531: DataConversionWarning: A column-vector y was passed when a 1d array was expected. Please change the shape of y to (n_samples,), for example using ravel().\n",
      "  estimator.fit(X_train, y_train, **fit_params)\n",
      "[Parallel(n_jobs=3)]: Using backend LokyBackend with 3 concurrent workers.\n",
      "[Parallel(n_jobs=3)]: Done  44 tasks      | elapsed:   38.1s\n",
      "[Parallel(n_jobs=3)]: Done 194 tasks      | elapsed:  2.8min\n",
      "[Parallel(n_jobs=3)]: Done 444 tasks      | elapsed:  6.3min\n",
      "[Parallel(n_jobs=3)]: Done 500 out of 500 | elapsed:  7.2min finished\n",
      "[Parallel(n_jobs=3)]: Using backend ThreadingBackend with 3 concurrent workers.\n",
      "[Parallel(n_jobs=3)]: Done  44 tasks      | elapsed:    0.9s\n",
      "[Parallel(n_jobs=3)]: Done 194 tasks      | elapsed:    3.8s\n",
      "[Parallel(n_jobs=3)]: Done 444 tasks      | elapsed:    8.6s\n",
      "[Parallel(n_jobs=3)]: Done 500 out of 500 | elapsed:    9.7s finished\n"
     ]
    },
    {
     "name": "stdout",
     "output_type": "stream",
     "text": [
      "[CV] .................... max_depth=5, n_estimators=500, total= 7.3min\n",
      "[CV] max_depth=5, n_estimators=500 ...................................\n"
     ]
    },
    {
     "name": "stderr",
     "output_type": "stream",
     "text": [
      "/home/andrew.tarasov1993.gmail.com/anaconda3/envs/tf_last/lib/python3.8/site-packages/sklearn/model_selection/_validation.py:531: DataConversionWarning: A column-vector y was passed when a 1d array was expected. Please change the shape of y to (n_samples,), for example using ravel().\n",
      "  estimator.fit(X_train, y_train, **fit_params)\n",
      "[Parallel(n_jobs=3)]: Using backend LokyBackend with 3 concurrent workers.\n",
      "[Parallel(n_jobs=3)]: Done  44 tasks      | elapsed:   38.4s\n",
      "[Parallel(n_jobs=3)]: Done 194 tasks      | elapsed:  2.7min\n",
      "[Parallel(n_jobs=3)]: Done 444 tasks      | elapsed:  6.2min\n",
      "[Parallel(n_jobs=3)]: Done 500 out of 500 | elapsed:  7.0min finished\n",
      "[Parallel(n_jobs=3)]: Using backend ThreadingBackend with 3 concurrent workers.\n",
      "[Parallel(n_jobs=3)]: Done  44 tasks      | elapsed:    0.9s\n",
      "[Parallel(n_jobs=3)]: Done 194 tasks      | elapsed:    3.7s\n",
      "[Parallel(n_jobs=3)]: Done 444 tasks      | elapsed:    8.5s\n",
      "[Parallel(n_jobs=3)]: Done 500 out of 500 | elapsed:    9.6s finished\n"
     ]
    },
    {
     "name": "stdout",
     "output_type": "stream",
     "text": [
      "[CV] .................... max_depth=5, n_estimators=500, total= 7.2min\n",
      "[CV] max_depth=5, n_estimators=500 ...................................\n"
     ]
    },
    {
     "name": "stderr",
     "output_type": "stream",
     "text": [
      "/home/andrew.tarasov1993.gmail.com/anaconda3/envs/tf_last/lib/python3.8/site-packages/sklearn/model_selection/_validation.py:531: DataConversionWarning: A column-vector y was passed when a 1d array was expected. Please change the shape of y to (n_samples,), for example using ravel().\n",
      "  estimator.fit(X_train, y_train, **fit_params)\n",
      "[Parallel(n_jobs=3)]: Using backend LokyBackend with 3 concurrent workers.\n",
      "[Parallel(n_jobs=3)]: Done  44 tasks      | elapsed:   39.8s\n",
      "[Parallel(n_jobs=3)]: Done 194 tasks      | elapsed:  2.8min\n",
      "[Parallel(n_jobs=3)]: Done 444 tasks      | elapsed:  6.4min\n",
      "[Parallel(n_jobs=3)]: Done 500 out of 500 | elapsed:  7.2min finished\n",
      "[Parallel(n_jobs=3)]: Using backend ThreadingBackend with 3 concurrent workers.\n",
      "[Parallel(n_jobs=3)]: Done  44 tasks      | elapsed:    1.0s\n",
      "[Parallel(n_jobs=3)]: Done 194 tasks      | elapsed:    3.8s\n",
      "[Parallel(n_jobs=3)]: Done 444 tasks      | elapsed:    8.6s\n",
      "[Parallel(n_jobs=3)]: Done 500 out of 500 | elapsed:    9.7s finished\n"
     ]
    },
    {
     "name": "stdout",
     "output_type": "stream",
     "text": [
      "[CV] .................... max_depth=5, n_estimators=500, total= 7.4min\n",
      "[CV] max_depth=5, n_estimators=500 ...................................\n"
     ]
    },
    {
     "name": "stderr",
     "output_type": "stream",
     "text": [
      "/home/andrew.tarasov1993.gmail.com/anaconda3/envs/tf_last/lib/python3.8/site-packages/sklearn/model_selection/_validation.py:531: DataConversionWarning: A column-vector y was passed when a 1d array was expected. Please change the shape of y to (n_samples,), for example using ravel().\n",
      "  estimator.fit(X_train, y_train, **fit_params)\n",
      "[Parallel(n_jobs=3)]: Using backend LokyBackend with 3 concurrent workers.\n",
      "[Parallel(n_jobs=3)]: Done  44 tasks      | elapsed:   38.7s\n",
      "[Parallel(n_jobs=3)]: Done 194 tasks      | elapsed:  2.8min\n",
      "[Parallel(n_jobs=3)]: Done 444 tasks      | elapsed:  6.3min\n",
      "[Parallel(n_jobs=3)]: Done 500 out of 500 | elapsed:  7.1min finished\n",
      "[Parallel(n_jobs=3)]: Using backend ThreadingBackend with 3 concurrent workers.\n",
      "[Parallel(n_jobs=3)]: Done  44 tasks      | elapsed:    0.9s\n",
      "[Parallel(n_jobs=3)]: Done 194 tasks      | elapsed:    3.8s\n",
      "[Parallel(n_jobs=3)]: Done 444 tasks      | elapsed:    8.6s\n",
      "[Parallel(n_jobs=3)]: Done 500 out of 500 | elapsed:    9.6s finished\n"
     ]
    },
    {
     "name": "stdout",
     "output_type": "stream",
     "text": [
      "[CV] .................... max_depth=5, n_estimators=500, total= 7.3min\n",
      "[CV] max_depth=5, n_estimators=1000 ..................................\n"
     ]
    },
    {
     "name": "stderr",
     "output_type": "stream",
     "text": [
      "/home/andrew.tarasov1993.gmail.com/anaconda3/envs/tf_last/lib/python3.8/site-packages/sklearn/model_selection/_validation.py:531: DataConversionWarning: A column-vector y was passed when a 1d array was expected. Please change the shape of y to (n_samples,), for example using ravel().\n",
      "  estimator.fit(X_train, y_train, **fit_params)\n",
      "[Parallel(n_jobs=3)]: Using backend LokyBackend with 3 concurrent workers.\n",
      "[Parallel(n_jobs=3)]: Done  44 tasks      | elapsed:   38.5s\n",
      "[Parallel(n_jobs=3)]: Done 194 tasks      | elapsed:  2.8min\n",
      "[Parallel(n_jobs=3)]: Done 444 tasks      | elapsed:  6.3min\n",
      "[Parallel(n_jobs=3)]: Done 794 tasks      | elapsed: 11.3min\n",
      "[Parallel(n_jobs=3)]: Done 1000 out of 1000 | elapsed: 14.2min finished\n",
      "[Parallel(n_jobs=3)]: Using backend ThreadingBackend with 3 concurrent workers.\n",
      "[Parallel(n_jobs=3)]: Done  44 tasks      | elapsed:    0.9s\n",
      "[Parallel(n_jobs=3)]: Done 194 tasks      | elapsed:    3.7s\n",
      "[Parallel(n_jobs=3)]: Done 444 tasks      | elapsed:    8.4s\n",
      "[Parallel(n_jobs=3)]: Done 794 tasks      | elapsed:   15.0s\n",
      "[Parallel(n_jobs=3)]: Done 1000 out of 1000 | elapsed:   19.0s finished\n"
     ]
    },
    {
     "name": "stdout",
     "output_type": "stream",
     "text": [
      "[CV] ................... max_depth=5, n_estimators=1000, total=14.5min\n",
      "[CV] max_depth=5, n_estimators=1000 ..................................\n"
     ]
    },
    {
     "name": "stderr",
     "output_type": "stream",
     "text": [
      "/home/andrew.tarasov1993.gmail.com/anaconda3/envs/tf_last/lib/python3.8/site-packages/sklearn/model_selection/_validation.py:531: DataConversionWarning: A column-vector y was passed when a 1d array was expected. Please change the shape of y to (n_samples,), for example using ravel().\n",
      "  estimator.fit(X_train, y_train, **fit_params)\n",
      "[Parallel(n_jobs=3)]: Using backend LokyBackend with 3 concurrent workers.\n",
      "[Parallel(n_jobs=3)]: Done  44 tasks      | elapsed:   38.7s\n",
      "[Parallel(n_jobs=3)]: Done 194 tasks      | elapsed:  2.8min\n",
      "[Parallel(n_jobs=3)]: Done 444 tasks      | elapsed:  6.3min\n",
      "[Parallel(n_jobs=3)]: Done 794 tasks      | elapsed: 11.3min\n",
      "[Parallel(n_jobs=3)]: Done 1000 out of 1000 | elapsed: 14.2min finished\n",
      "[Parallel(n_jobs=3)]: Using backend ThreadingBackend with 3 concurrent workers.\n",
      "[Parallel(n_jobs=3)]: Done  44 tasks      | elapsed:    0.9s\n",
      "[Parallel(n_jobs=3)]: Done 194 tasks      | elapsed:    3.9s\n",
      "[Parallel(n_jobs=3)]: Done 444 tasks      | elapsed:    8.6s\n",
      "[Parallel(n_jobs=3)]: Done 794 tasks      | elapsed:   15.2s\n",
      "[Parallel(n_jobs=3)]: Done 1000 out of 1000 | elapsed:   19.1s finished\n"
     ]
    },
    {
     "name": "stdout",
     "output_type": "stream",
     "text": [
      "[CV] ................... max_depth=5, n_estimators=1000, total=14.6min\n",
      "[CV] max_depth=5, n_estimators=1000 ..................................\n"
     ]
    },
    {
     "name": "stderr",
     "output_type": "stream",
     "text": [
      "/home/andrew.tarasov1993.gmail.com/anaconda3/envs/tf_last/lib/python3.8/site-packages/sklearn/model_selection/_validation.py:531: DataConversionWarning: A column-vector y was passed when a 1d array was expected. Please change the shape of y to (n_samples,), for example using ravel().\n",
      "  estimator.fit(X_train, y_train, **fit_params)\n",
      "[Parallel(n_jobs=3)]: Using backend LokyBackend with 3 concurrent workers.\n",
      "[Parallel(n_jobs=3)]: Done  44 tasks      | elapsed:   38.9s\n",
      "[Parallel(n_jobs=3)]: Done 194 tasks      | elapsed:  2.8min\n",
      "[Parallel(n_jobs=3)]: Done 444 tasks      | elapsed:  6.4min\n",
      "[Parallel(n_jobs=3)]: Done 794 tasks      | elapsed: 11.7min\n",
      "[Parallel(n_jobs=3)]: Done 1000 out of 1000 | elapsed: 14.8min finished\n",
      "[Parallel(n_jobs=3)]: Using backend ThreadingBackend with 3 concurrent workers.\n",
      "[Parallel(n_jobs=3)]: Done  44 tasks      | elapsed:    0.9s\n",
      "[Parallel(n_jobs=3)]: Done 194 tasks      | elapsed:    3.7s\n",
      "[Parallel(n_jobs=3)]: Done 444 tasks      | elapsed:    8.5s\n",
      "[Parallel(n_jobs=3)]: Done 794 tasks      | elapsed:   15.2s\n",
      "[Parallel(n_jobs=3)]: Done 1000 out of 1000 | elapsed:   19.1s finished\n"
     ]
    },
    {
     "name": "stdout",
     "output_type": "stream",
     "text": [
      "[CV] ................... max_depth=5, n_estimators=1000, total=15.1min\n",
      "[CV] max_depth=5, n_estimators=1000 ..................................\n"
     ]
    },
    {
     "name": "stderr",
     "output_type": "stream",
     "text": [
      "/home/andrew.tarasov1993.gmail.com/anaconda3/envs/tf_last/lib/python3.8/site-packages/sklearn/model_selection/_validation.py:531: DataConversionWarning: A column-vector y was passed when a 1d array was expected. Please change the shape of y to (n_samples,), for example using ravel().\n",
      "  estimator.fit(X_train, y_train, **fit_params)\n",
      "[Parallel(n_jobs=3)]: Using backend LokyBackend with 3 concurrent workers.\n",
      "[Parallel(n_jobs=3)]: Done  44 tasks      | elapsed:   41.0s\n",
      "[Parallel(n_jobs=3)]: Done 194 tasks      | elapsed:  2.9min\n",
      "[Parallel(n_jobs=3)]: Done 444 tasks      | elapsed:  6.7min\n",
      "[Parallel(n_jobs=3)]: Done 794 tasks      | elapsed: 11.8min\n",
      "[Parallel(n_jobs=3)]: Done 1000 out of 1000 | elapsed: 14.7min finished\n",
      "[Parallel(n_jobs=3)]: Using backend ThreadingBackend with 3 concurrent workers.\n",
      "[Parallel(n_jobs=3)]: Done  44 tasks      | elapsed:    0.9s\n",
      "[Parallel(n_jobs=3)]: Done 194 tasks      | elapsed:    3.8s\n",
      "[Parallel(n_jobs=3)]: Done 444 tasks      | elapsed:    8.5s\n",
      "[Parallel(n_jobs=3)]: Done 794 tasks      | elapsed:   15.3s\n",
      "[Parallel(n_jobs=3)]: Done 1000 out of 1000 | elapsed:   19.2s finished\n"
     ]
    },
    {
     "name": "stdout",
     "output_type": "stream",
     "text": [
      "[CV] ................... max_depth=5, n_estimators=1000, total=15.0min\n",
      "[CV] max_depth=5, n_estimators=1000 ..................................\n"
     ]
    },
    {
     "name": "stderr",
     "output_type": "stream",
     "text": [
      "/home/andrew.tarasov1993.gmail.com/anaconda3/envs/tf_last/lib/python3.8/site-packages/sklearn/model_selection/_validation.py:531: DataConversionWarning: A column-vector y was passed when a 1d array was expected. Please change the shape of y to (n_samples,), for example using ravel().\n",
      "  estimator.fit(X_train, y_train, **fit_params)\n",
      "[Parallel(n_jobs=3)]: Using backend LokyBackend with 3 concurrent workers.\n",
      "[Parallel(n_jobs=3)]: Done  44 tasks      | elapsed:   39.2s\n",
      "[Parallel(n_jobs=3)]: Done 194 tasks      | elapsed:  2.8min\n",
      "[Parallel(n_jobs=3)]: Done 444 tasks      | elapsed:  6.3min\n",
      "[Parallel(n_jobs=3)]: Done 794 tasks      | elapsed: 11.3min\n",
      "[Parallel(n_jobs=3)]: Done 1000 out of 1000 | elapsed: 14.2min finished\n",
      "[Parallel(n_jobs=3)]: Using backend ThreadingBackend with 3 concurrent workers.\n",
      "[Parallel(n_jobs=3)]: Done  44 tasks      | elapsed:    0.9s\n",
      "[Parallel(n_jobs=3)]: Done 194 tasks      | elapsed:    3.8s\n",
      "[Parallel(n_jobs=3)]: Done 444 tasks      | elapsed:    8.5s\n",
      "[Parallel(n_jobs=3)]: Done 794 tasks      | elapsed:   15.2s\n",
      "[Parallel(n_jobs=3)]: Done 1000 out of 1000 | elapsed:   19.2s finished\n"
     ]
    },
    {
     "name": "stdout",
     "output_type": "stream",
     "text": [
      "[CV] ................... max_depth=5, n_estimators=1000, total=14.6min\n",
      "[CV] max_depth=6, n_estimators=50 ....................................\n"
     ]
    },
    {
     "name": "stderr",
     "output_type": "stream",
     "text": [
      "/home/andrew.tarasov1993.gmail.com/anaconda3/envs/tf_last/lib/python3.8/site-packages/sklearn/model_selection/_validation.py:531: DataConversionWarning: A column-vector y was passed when a 1d array was expected. Please change the shape of y to (n_samples,), for example using ravel().\n",
      "  estimator.fit(X_train, y_train, **fit_params)\n",
      "[Parallel(n_jobs=3)]: Using backend LokyBackend with 3 concurrent workers.\n",
      "[Parallel(n_jobs=3)]: Done  44 tasks      | elapsed:   43.7s\n",
      "[Parallel(n_jobs=3)]: Done  50 out of  50 | elapsed:   49.6s finished\n",
      "[Parallel(n_jobs=3)]: Using backend ThreadingBackend with 3 concurrent workers.\n",
      "[Parallel(n_jobs=3)]: Done  44 tasks      | elapsed:    1.0s\n",
      "[Parallel(n_jobs=3)]: Done  50 out of  50 | elapsed:    1.1s finished\n"
     ]
    },
    {
     "name": "stdout",
     "output_type": "stream",
     "text": [
      "[CV] ..................... max_depth=6, n_estimators=50, total=  51.4s\n",
      "[CV] max_depth=6, n_estimators=50 ....................................\n"
     ]
    },
    {
     "name": "stderr",
     "output_type": "stream",
     "text": [
      "/home/andrew.tarasov1993.gmail.com/anaconda3/envs/tf_last/lib/python3.8/site-packages/sklearn/model_selection/_validation.py:531: DataConversionWarning: A column-vector y was passed when a 1d array was expected. Please change the shape of y to (n_samples,), for example using ravel().\n",
      "  estimator.fit(X_train, y_train, **fit_params)\n",
      "[Parallel(n_jobs=3)]: Using backend LokyBackend with 3 concurrent workers.\n",
      "[Parallel(n_jobs=3)]: Done  44 tasks      | elapsed:   48.2s\n",
      "[Parallel(n_jobs=3)]: Done  50 out of  50 | elapsed:   54.2s finished\n",
      "[Parallel(n_jobs=3)]: Using backend ThreadingBackend with 3 concurrent workers.\n",
      "[Parallel(n_jobs=3)]: Done  44 tasks      | elapsed:    1.0s\n",
      "[Parallel(n_jobs=3)]: Done  50 out of  50 | elapsed:    1.1s finished\n"
     ]
    },
    {
     "name": "stdout",
     "output_type": "stream",
     "text": [
      "[CV] ..................... max_depth=6, n_estimators=50, total=  56.0s\n",
      "[CV] max_depth=6, n_estimators=50 ....................................\n"
     ]
    },
    {
     "name": "stderr",
     "output_type": "stream",
     "text": [
      "/home/andrew.tarasov1993.gmail.com/anaconda3/envs/tf_last/lib/python3.8/site-packages/sklearn/model_selection/_validation.py:531: DataConversionWarning: A column-vector y was passed when a 1d array was expected. Please change the shape of y to (n_samples,), for example using ravel().\n",
      "  estimator.fit(X_train, y_train, **fit_params)\n",
      "[Parallel(n_jobs=3)]: Using backend LokyBackend with 3 concurrent workers.\n",
      "[Parallel(n_jobs=3)]: Done  44 tasks      | elapsed:   47.5s\n",
      "[Parallel(n_jobs=3)]: Done  50 out of  50 | elapsed:   53.9s finished\n",
      "[Parallel(n_jobs=3)]: Using backend ThreadingBackend with 3 concurrent workers.\n",
      "[Parallel(n_jobs=3)]: Done  44 tasks      | elapsed:    1.0s\n",
      "[Parallel(n_jobs=3)]: Done  50 out of  50 | elapsed:    1.1s finished\n"
     ]
    },
    {
     "name": "stdout",
     "output_type": "stream",
     "text": [
      "[CV] ..................... max_depth=6, n_estimators=50, total=  55.7s\n",
      "[CV] max_depth=6, n_estimators=50 ....................................\n"
     ]
    },
    {
     "name": "stderr",
     "output_type": "stream",
     "text": [
      "/home/andrew.tarasov1993.gmail.com/anaconda3/envs/tf_last/lib/python3.8/site-packages/sklearn/model_selection/_validation.py:531: DataConversionWarning: A column-vector y was passed when a 1d array was expected. Please change the shape of y to (n_samples,), for example using ravel().\n",
      "  estimator.fit(X_train, y_train, **fit_params)\n",
      "[Parallel(n_jobs=3)]: Using backend LokyBackend with 3 concurrent workers.\n",
      "[Parallel(n_jobs=3)]: Done  44 tasks      | elapsed:   47.0s\n",
      "[Parallel(n_jobs=3)]: Done  50 out of  50 | elapsed:   53.0s finished\n",
      "[Parallel(n_jobs=3)]: Using backend ThreadingBackend with 3 concurrent workers.\n",
      "[Parallel(n_jobs=3)]: Done  44 tasks      | elapsed:    0.9s\n",
      "[Parallel(n_jobs=3)]: Done  50 out of  50 | elapsed:    1.1s finished\n"
     ]
    },
    {
     "name": "stdout",
     "output_type": "stream",
     "text": [
      "[CV] ..................... max_depth=6, n_estimators=50, total=  54.8s\n",
      "[CV] max_depth=6, n_estimators=50 ....................................\n"
     ]
    },
    {
     "name": "stderr",
     "output_type": "stream",
     "text": [
      "/home/andrew.tarasov1993.gmail.com/anaconda3/envs/tf_last/lib/python3.8/site-packages/sklearn/model_selection/_validation.py:531: DataConversionWarning: A column-vector y was passed when a 1d array was expected. Please change the shape of y to (n_samples,), for example using ravel().\n",
      "  estimator.fit(X_train, y_train, **fit_params)\n",
      "[Parallel(n_jobs=3)]: Using backend LokyBackend with 3 concurrent workers.\n",
      "[Parallel(n_jobs=3)]: Done  44 tasks      | elapsed:   44.2s\n",
      "[Parallel(n_jobs=3)]: Done  50 out of  50 | elapsed:   49.7s finished\n",
      "[Parallel(n_jobs=3)]: Using backend ThreadingBackend with 3 concurrent workers.\n",
      "[Parallel(n_jobs=3)]: Done  44 tasks      | elapsed:    1.0s\n",
      "[Parallel(n_jobs=3)]: Done  50 out of  50 | elapsed:    1.1s finished\n"
     ]
    },
    {
     "name": "stdout",
     "output_type": "stream",
     "text": [
      "[CV] ..................... max_depth=6, n_estimators=50, total=  51.5s\n",
      "[CV] max_depth=6, n_estimators=75 ....................................\n"
     ]
    },
    {
     "name": "stderr",
     "output_type": "stream",
     "text": [
      "/home/andrew.tarasov1993.gmail.com/anaconda3/envs/tf_last/lib/python3.8/site-packages/sklearn/model_selection/_validation.py:531: DataConversionWarning: A column-vector y was passed when a 1d array was expected. Please change the shape of y to (n_samples,), for example using ravel().\n",
      "  estimator.fit(X_train, y_train, **fit_params)\n",
      "[Parallel(n_jobs=3)]: Using backend LokyBackend with 3 concurrent workers.\n",
      "[Parallel(n_jobs=3)]: Done  44 tasks      | elapsed:   43.9s\n",
      "[Parallel(n_jobs=3)]: Done  75 out of  75 | elapsed:  1.3min finished\n",
      "[Parallel(n_jobs=3)]: Using backend ThreadingBackend with 3 concurrent workers.\n",
      "[Parallel(n_jobs=3)]: Done  44 tasks      | elapsed:    0.9s\n",
      "[Parallel(n_jobs=3)]: Done  75 out of  75 | elapsed:    1.6s finished\n"
     ]
    },
    {
     "name": "stdout",
     "output_type": "stream",
     "text": [
      "[CV] ..................... max_depth=6, n_estimators=75, total= 1.3min\n",
      "[CV] max_depth=6, n_estimators=75 ....................................\n"
     ]
    },
    {
     "name": "stderr",
     "output_type": "stream",
     "text": [
      "/home/andrew.tarasov1993.gmail.com/anaconda3/envs/tf_last/lib/python3.8/site-packages/sklearn/model_selection/_validation.py:531: DataConversionWarning: A column-vector y was passed when a 1d array was expected. Please change the shape of y to (n_samples,), for example using ravel().\n",
      "  estimator.fit(X_train, y_train, **fit_params)\n",
      "[Parallel(n_jobs=3)]: Using backend LokyBackend with 3 concurrent workers.\n",
      "[Parallel(n_jobs=3)]: Done  44 tasks      | elapsed:   44.4s\n",
      "[Parallel(n_jobs=3)]: Done  75 out of  75 | elapsed:  1.3min finished\n",
      "[Parallel(n_jobs=3)]: Using backend ThreadingBackend with 3 concurrent workers.\n",
      "[Parallel(n_jobs=3)]: Done  44 tasks      | elapsed:    1.0s\n",
      "[Parallel(n_jobs=3)]: Done  75 out of  75 | elapsed:    1.6s finished\n"
     ]
    },
    {
     "name": "stdout",
     "output_type": "stream",
     "text": [
      "[CV] ..................... max_depth=6, n_estimators=75, total= 1.3min\n",
      "[CV] max_depth=6, n_estimators=75 ....................................\n"
     ]
    },
    {
     "name": "stderr",
     "output_type": "stream",
     "text": [
      "/home/andrew.tarasov1993.gmail.com/anaconda3/envs/tf_last/lib/python3.8/site-packages/sklearn/model_selection/_validation.py:531: DataConversionWarning: A column-vector y was passed when a 1d array was expected. Please change the shape of y to (n_samples,), for example using ravel().\n",
      "  estimator.fit(X_train, y_train, **fit_params)\n",
      "[Parallel(n_jobs=3)]: Using backend LokyBackend with 3 concurrent workers.\n",
      "[Parallel(n_jobs=3)]: Done  44 tasks      | elapsed:   44.7s\n",
      "[Parallel(n_jobs=3)]: Done  75 out of  75 | elapsed:  1.2min finished\n",
      "[Parallel(n_jobs=3)]: Using backend ThreadingBackend with 3 concurrent workers.\n",
      "[Parallel(n_jobs=3)]: Done  44 tasks      | elapsed:    0.9s\n",
      "[Parallel(n_jobs=3)]: Done  75 out of  75 | elapsed:    1.6s finished\n"
     ]
    },
    {
     "name": "stdout",
     "output_type": "stream",
     "text": [
      "[CV] ..................... max_depth=6, n_estimators=75, total= 1.3min\n",
      "[CV] max_depth=6, n_estimators=75 ....................................\n"
     ]
    },
    {
     "name": "stderr",
     "output_type": "stream",
     "text": [
      "/home/andrew.tarasov1993.gmail.com/anaconda3/envs/tf_last/lib/python3.8/site-packages/sklearn/model_selection/_validation.py:531: DataConversionWarning: A column-vector y was passed when a 1d array was expected. Please change the shape of y to (n_samples,), for example using ravel().\n",
      "  estimator.fit(X_train, y_train, **fit_params)\n",
      "[Parallel(n_jobs=3)]: Using backend LokyBackend with 3 concurrent workers.\n",
      "[Parallel(n_jobs=3)]: Done  44 tasks      | elapsed:   46.1s\n",
      "[Parallel(n_jobs=3)]: Done  75 out of  75 | elapsed:  1.3min finished\n",
      "[Parallel(n_jobs=3)]: Using backend ThreadingBackend with 3 concurrent workers.\n",
      "[Parallel(n_jobs=3)]: Done  44 tasks      | elapsed:    1.0s\n",
      "[Parallel(n_jobs=3)]: Done  75 out of  75 | elapsed:    1.6s finished\n"
     ]
    },
    {
     "name": "stdout",
     "output_type": "stream",
     "text": [
      "[CV] ..................... max_depth=6, n_estimators=75, total= 1.3min\n",
      "[CV] max_depth=6, n_estimators=75 ....................................\n"
     ]
    },
    {
     "name": "stderr",
     "output_type": "stream",
     "text": [
      "/home/andrew.tarasov1993.gmail.com/anaconda3/envs/tf_last/lib/python3.8/site-packages/sklearn/model_selection/_validation.py:531: DataConversionWarning: A column-vector y was passed when a 1d array was expected. Please change the shape of y to (n_samples,), for example using ravel().\n",
      "  estimator.fit(X_train, y_train, **fit_params)\n",
      "[Parallel(n_jobs=3)]: Using backend LokyBackend with 3 concurrent workers.\n",
      "[Parallel(n_jobs=3)]: Done  44 tasks      | elapsed:   43.9s\n",
      "[Parallel(n_jobs=3)]: Done  75 out of  75 | elapsed:  1.2min finished\n",
      "[Parallel(n_jobs=3)]: Using backend ThreadingBackend with 3 concurrent workers.\n",
      "[Parallel(n_jobs=3)]: Done  44 tasks      | elapsed:    1.0s\n",
      "[Parallel(n_jobs=3)]: Done  75 out of  75 | elapsed:    1.6s finished\n"
     ]
    },
    {
     "name": "stdout",
     "output_type": "stream",
     "text": [
      "[CV] ..................... max_depth=6, n_estimators=75, total= 1.3min\n",
      "[CV] max_depth=6, n_estimators=100 ...................................\n"
     ]
    },
    {
     "name": "stderr",
     "output_type": "stream",
     "text": [
      "/home/andrew.tarasov1993.gmail.com/anaconda3/envs/tf_last/lib/python3.8/site-packages/sklearn/model_selection/_validation.py:531: DataConversionWarning: A column-vector y was passed when a 1d array was expected. Please change the shape of y to (n_samples,), for example using ravel().\n",
      "  estimator.fit(X_train, y_train, **fit_params)\n",
      "[Parallel(n_jobs=3)]: Using backend LokyBackend with 3 concurrent workers.\n",
      "[Parallel(n_jobs=3)]: Done  44 tasks      | elapsed:   45.2s\n",
      "[Parallel(n_jobs=3)]: Done 100 out of 100 | elapsed:  1.7min finished\n",
      "[Parallel(n_jobs=3)]: Using backend ThreadingBackend with 3 concurrent workers.\n",
      "[Parallel(n_jobs=3)]: Done  44 tasks      | elapsed:    0.9s\n",
      "[Parallel(n_jobs=3)]: Done 100 out of 100 | elapsed:    2.1s finished\n"
     ]
    },
    {
     "name": "stdout",
     "output_type": "stream",
     "text": [
      "[CV] .................... max_depth=6, n_estimators=100, total= 1.7min\n",
      "[CV] max_depth=6, n_estimators=100 ...................................\n"
     ]
    },
    {
     "name": "stderr",
     "output_type": "stream",
     "text": [
      "/home/andrew.tarasov1993.gmail.com/anaconda3/envs/tf_last/lib/python3.8/site-packages/sklearn/model_selection/_validation.py:531: DataConversionWarning: A column-vector y was passed when a 1d array was expected. Please change the shape of y to (n_samples,), for example using ravel().\n",
      "  estimator.fit(X_train, y_train, **fit_params)\n",
      "[Parallel(n_jobs=3)]: Using backend LokyBackend with 3 concurrent workers.\n",
      "[Parallel(n_jobs=3)]: Done  44 tasks      | elapsed:   45.1s\n",
      "[Parallel(n_jobs=3)]: Done 100 out of 100 | elapsed:  1.7min finished\n",
      "[Parallel(n_jobs=3)]: Using backend ThreadingBackend with 3 concurrent workers.\n",
      "[Parallel(n_jobs=3)]: Done  44 tasks      | elapsed:    0.9s\n",
      "[Parallel(n_jobs=3)]: Done 100 out of 100 | elapsed:    2.1s finished\n"
     ]
    },
    {
     "name": "stdout",
     "output_type": "stream",
     "text": [
      "[CV] .................... max_depth=6, n_estimators=100, total= 1.7min\n",
      "[CV] max_depth=6, n_estimators=100 ...................................\n"
     ]
    },
    {
     "name": "stderr",
     "output_type": "stream",
     "text": [
      "/home/andrew.tarasov1993.gmail.com/anaconda3/envs/tf_last/lib/python3.8/site-packages/sklearn/model_selection/_validation.py:531: DataConversionWarning: A column-vector y was passed when a 1d array was expected. Please change the shape of y to (n_samples,), for example using ravel().\n",
      "  estimator.fit(X_train, y_train, **fit_params)\n",
      "[Parallel(n_jobs=3)]: Using backend LokyBackend with 3 concurrent workers.\n",
      "[Parallel(n_jobs=3)]: Done  44 tasks      | elapsed:   45.8s\n",
      "[Parallel(n_jobs=3)]: Done 100 out of 100 | elapsed:  1.7min finished\n",
      "[Parallel(n_jobs=3)]: Using backend ThreadingBackend with 3 concurrent workers.\n",
      "[Parallel(n_jobs=3)]: Done  44 tasks      | elapsed:    0.9s\n",
      "[Parallel(n_jobs=3)]: Done 100 out of 100 | elapsed:    2.1s finished\n"
     ]
    },
    {
     "name": "stdout",
     "output_type": "stream",
     "text": [
      "[CV] .................... max_depth=6, n_estimators=100, total= 1.7min\n",
      "[CV] max_depth=6, n_estimators=100 ...................................\n"
     ]
    },
    {
     "name": "stderr",
     "output_type": "stream",
     "text": [
      "/home/andrew.tarasov1993.gmail.com/anaconda3/envs/tf_last/lib/python3.8/site-packages/sklearn/model_selection/_validation.py:531: DataConversionWarning: A column-vector y was passed when a 1d array was expected. Please change the shape of y to (n_samples,), for example using ravel().\n",
      "  estimator.fit(X_train, y_train, **fit_params)\n",
      "[Parallel(n_jobs=3)]: Using backend LokyBackend with 3 concurrent workers.\n",
      "[Parallel(n_jobs=3)]: Done  44 tasks      | elapsed:   44.3s\n",
      "[Parallel(n_jobs=3)]: Done 100 out of 100 | elapsed:  1.7min finished\n",
      "[Parallel(n_jobs=3)]: Using backend ThreadingBackend with 3 concurrent workers.\n",
      "[Parallel(n_jobs=3)]: Done  44 tasks      | elapsed:    1.0s\n",
      "[Parallel(n_jobs=3)]: Done 100 out of 100 | elapsed:    2.1s finished\n"
     ]
    },
    {
     "name": "stdout",
     "output_type": "stream",
     "text": [
      "[CV] .................... max_depth=6, n_estimators=100, total= 1.7min\n",
      "[CV] max_depth=6, n_estimators=100 ...................................\n"
     ]
    },
    {
     "name": "stderr",
     "output_type": "stream",
     "text": [
      "/home/andrew.tarasov1993.gmail.com/anaconda3/envs/tf_last/lib/python3.8/site-packages/sklearn/model_selection/_validation.py:531: DataConversionWarning: A column-vector y was passed when a 1d array was expected. Please change the shape of y to (n_samples,), for example using ravel().\n",
      "  estimator.fit(X_train, y_train, **fit_params)\n",
      "[Parallel(n_jobs=3)]: Using backend LokyBackend with 3 concurrent workers.\n",
      "[Parallel(n_jobs=3)]: Done  44 tasks      | elapsed:   44.8s\n",
      "[Parallel(n_jobs=3)]: Done 100 out of 100 | elapsed:  1.7min finished\n",
      "[Parallel(n_jobs=3)]: Using backend ThreadingBackend with 3 concurrent workers.\n",
      "[Parallel(n_jobs=3)]: Done  44 tasks      | elapsed:    1.0s\n",
      "[Parallel(n_jobs=3)]: Done 100 out of 100 | elapsed:    2.1s finished\n"
     ]
    },
    {
     "name": "stdout",
     "output_type": "stream",
     "text": [
      "[CV] .................... max_depth=6, n_estimators=100, total= 1.7min\n",
      "[CV] max_depth=6, n_estimators=250 ...................................\n"
     ]
    },
    {
     "name": "stderr",
     "output_type": "stream",
     "text": [
      "/home/andrew.tarasov1993.gmail.com/anaconda3/envs/tf_last/lib/python3.8/site-packages/sklearn/model_selection/_validation.py:531: DataConversionWarning: A column-vector y was passed when a 1d array was expected. Please change the shape of y to (n_samples,), for example using ravel().\n",
      "  estimator.fit(X_train, y_train, **fit_params)\n",
      "[Parallel(n_jobs=3)]: Using backend LokyBackend with 3 concurrent workers.\n",
      "[Parallel(n_jobs=3)]: Done  44 tasks      | elapsed:   46.2s\n",
      "[Parallel(n_jobs=3)]: Done 194 tasks      | elapsed:  3.4min\n",
      "[Parallel(n_jobs=3)]: Done 250 out of 250 | elapsed:  4.4min finished\n",
      "[Parallel(n_jobs=3)]: Using backend ThreadingBackend with 3 concurrent workers.\n",
      "[Parallel(n_jobs=3)]: Done  44 tasks      | elapsed:    1.0s\n",
      "[Parallel(n_jobs=3)]: Done 194 tasks      | elapsed:    4.0s\n",
      "[Parallel(n_jobs=3)]: Done 250 out of 250 | elapsed:    5.2s finished\n"
     ]
    },
    {
     "name": "stdout",
     "output_type": "stream",
     "text": [
      "[CV] .................... max_depth=6, n_estimators=250, total= 4.5min\n",
      "[CV] max_depth=6, n_estimators=250 ...................................\n"
     ]
    },
    {
     "name": "stderr",
     "output_type": "stream",
     "text": [
      "/home/andrew.tarasov1993.gmail.com/anaconda3/envs/tf_last/lib/python3.8/site-packages/sklearn/model_selection/_validation.py:531: DataConversionWarning: A column-vector y was passed when a 1d array was expected. Please change the shape of y to (n_samples,), for example using ravel().\n",
      "  estimator.fit(X_train, y_train, **fit_params)\n",
      "[Parallel(n_jobs=3)]: Using backend LokyBackend with 3 concurrent workers.\n",
      "[Parallel(n_jobs=3)]: Done  44 tasks      | elapsed:   44.2s\n",
      "[Parallel(n_jobs=3)]: Done 194 tasks      | elapsed:  3.2min\n",
      "[Parallel(n_jobs=3)]: Done 250 out of 250 | elapsed:  4.1min finished\n",
      "[Parallel(n_jobs=3)]: Using backend ThreadingBackend with 3 concurrent workers.\n",
      "[Parallel(n_jobs=3)]: Done  44 tasks      | elapsed:    1.0s\n",
      "[Parallel(n_jobs=3)]: Done 194 tasks      | elapsed:    4.0s\n",
      "[Parallel(n_jobs=3)]: Done 250 out of 250 | elapsed:    5.2s finished\n"
     ]
    },
    {
     "name": "stdout",
     "output_type": "stream",
     "text": [
      "[CV] .................... max_depth=6, n_estimators=250, total= 4.2min\n",
      "[CV] max_depth=6, n_estimators=250 ...................................\n"
     ]
    },
    {
     "name": "stderr",
     "output_type": "stream",
     "text": [
      "/home/andrew.tarasov1993.gmail.com/anaconda3/envs/tf_last/lib/python3.8/site-packages/sklearn/model_selection/_validation.py:531: DataConversionWarning: A column-vector y was passed when a 1d array was expected. Please change the shape of y to (n_samples,), for example using ravel().\n",
      "  estimator.fit(X_train, y_train, **fit_params)\n",
      "[Parallel(n_jobs=3)]: Using backend LokyBackend with 3 concurrent workers.\n",
      "[Parallel(n_jobs=3)]: Done  44 tasks      | elapsed:   44.6s\n",
      "[Parallel(n_jobs=3)]: Done 194 tasks      | elapsed:  3.2min\n",
      "[Parallel(n_jobs=3)]: Done 250 out of 250 | elapsed:  4.1min finished\n",
      "[Parallel(n_jobs=3)]: Using backend ThreadingBackend with 3 concurrent workers.\n",
      "[Parallel(n_jobs=3)]: Done  44 tasks      | elapsed:    1.0s\n",
      "[Parallel(n_jobs=3)]: Done 194 tasks      | elapsed:    4.1s\n",
      "[Parallel(n_jobs=3)]: Done 250 out of 250 | elapsed:    5.2s finished\n"
     ]
    },
    {
     "name": "stdout",
     "output_type": "stream",
     "text": [
      "[CV] .................... max_depth=6, n_estimators=250, total= 4.2min\n",
      "[CV] max_depth=6, n_estimators=250 ...................................\n"
     ]
    },
    {
     "name": "stderr",
     "output_type": "stream",
     "text": [
      "/home/andrew.tarasov1993.gmail.com/anaconda3/envs/tf_last/lib/python3.8/site-packages/sklearn/model_selection/_validation.py:531: DataConversionWarning: A column-vector y was passed when a 1d array was expected. Please change the shape of y to (n_samples,), for example using ravel().\n",
      "  estimator.fit(X_train, y_train, **fit_params)\n",
      "[Parallel(n_jobs=3)]: Using backend LokyBackend with 3 concurrent workers.\n",
      "[Parallel(n_jobs=3)]: Done  44 tasks      | elapsed:   44.8s\n",
      "[Parallel(n_jobs=3)]: Done 194 tasks      | elapsed:  3.2min\n",
      "[Parallel(n_jobs=3)]: Done 250 out of 250 | elapsed:  4.1min finished\n",
      "[Parallel(n_jobs=3)]: Using backend ThreadingBackend with 3 concurrent workers.\n",
      "[Parallel(n_jobs=3)]: Done  44 tasks      | elapsed:    1.0s\n",
      "[Parallel(n_jobs=3)]: Done 194 tasks      | elapsed:    4.0s\n",
      "[Parallel(n_jobs=3)]: Done 250 out of 250 | elapsed:    5.2s finished\n"
     ]
    },
    {
     "name": "stdout",
     "output_type": "stream",
     "text": [
      "[CV] .................... max_depth=6, n_estimators=250, total= 4.2min\n",
      "[CV] max_depth=6, n_estimators=250 ...................................\n"
     ]
    },
    {
     "name": "stderr",
     "output_type": "stream",
     "text": [
      "/home/andrew.tarasov1993.gmail.com/anaconda3/envs/tf_last/lib/python3.8/site-packages/sklearn/model_selection/_validation.py:531: DataConversionWarning: A column-vector y was passed when a 1d array was expected. Please change the shape of y to (n_samples,), for example using ravel().\n",
      "  estimator.fit(X_train, y_train, **fit_params)\n",
      "[Parallel(n_jobs=3)]: Using backend LokyBackend with 3 concurrent workers.\n",
      "[Parallel(n_jobs=3)]: Done  44 tasks      | elapsed:   43.6s\n",
      "[Parallel(n_jobs=3)]: Done 194 tasks      | elapsed:  3.2min\n",
      "[Parallel(n_jobs=3)]: Done 250 out of 250 | elapsed:  4.1min finished\n",
      "[Parallel(n_jobs=3)]: Using backend ThreadingBackend with 3 concurrent workers.\n",
      "[Parallel(n_jobs=3)]: Done  44 tasks      | elapsed:    0.9s\n",
      "[Parallel(n_jobs=3)]: Done 194 tasks      | elapsed:    4.0s\n",
      "[Parallel(n_jobs=3)]: Done 250 out of 250 | elapsed:    5.1s finished\n"
     ]
    },
    {
     "name": "stdout",
     "output_type": "stream",
     "text": [
      "[CV] .................... max_depth=6, n_estimators=250, total= 4.2min\n",
      "[CV] max_depth=6, n_estimators=500 ...................................\n"
     ]
    },
    {
     "name": "stderr",
     "output_type": "stream",
     "text": [
      "/home/andrew.tarasov1993.gmail.com/anaconda3/envs/tf_last/lib/python3.8/site-packages/sklearn/model_selection/_validation.py:531: DataConversionWarning: A column-vector y was passed when a 1d array was expected. Please change the shape of y to (n_samples,), for example using ravel().\n",
      "  estimator.fit(X_train, y_train, **fit_params)\n",
      "[Parallel(n_jobs=3)]: Using backend LokyBackend with 3 concurrent workers.\n",
      "[Parallel(n_jobs=3)]: Done  44 tasks      | elapsed:   43.0s\n",
      "[Parallel(n_jobs=3)]: Done 194 tasks      | elapsed:  3.2min\n",
      "[Parallel(n_jobs=3)]: Done 444 tasks      | elapsed:  7.3min\n",
      "[Parallel(n_jobs=3)]: Done 500 out of 500 | elapsed:  8.2min finished\n",
      "[Parallel(n_jobs=3)]: Using backend ThreadingBackend with 3 concurrent workers.\n",
      "[Parallel(n_jobs=3)]: Done  44 tasks      | elapsed:    1.0s\n",
      "[Parallel(n_jobs=3)]: Done 194 tasks      | elapsed:    4.0s\n",
      "[Parallel(n_jobs=3)]: Done 444 tasks      | elapsed:    9.1s\n",
      "[Parallel(n_jobs=3)]: Done 500 out of 500 | elapsed:   10.3s finished\n"
     ]
    },
    {
     "name": "stdout",
     "output_type": "stream",
     "text": [
      "[CV] .................... max_depth=6, n_estimators=500, total= 8.4min\n",
      "[CV] max_depth=6, n_estimators=500 ...................................\n"
     ]
    },
    {
     "name": "stderr",
     "output_type": "stream",
     "text": [
      "/home/andrew.tarasov1993.gmail.com/anaconda3/envs/tf_last/lib/python3.8/site-packages/sklearn/model_selection/_validation.py:531: DataConversionWarning: A column-vector y was passed when a 1d array was expected. Please change the shape of y to (n_samples,), for example using ravel().\n",
      "  estimator.fit(X_train, y_train, **fit_params)\n",
      "[Parallel(n_jobs=3)]: Using backend LokyBackend with 3 concurrent workers.\n",
      "[Parallel(n_jobs=3)]: Done  44 tasks      | elapsed:   44.6s\n",
      "[Parallel(n_jobs=3)]: Done 194 tasks      | elapsed:  3.2min\n",
      "[Parallel(n_jobs=3)]: Done 444 tasks      | elapsed:  7.3min\n",
      "[Parallel(n_jobs=3)]: Done 500 out of 500 | elapsed:  8.3min finished\n",
      "[Parallel(n_jobs=3)]: Using backend ThreadingBackend with 3 concurrent workers.\n",
      "[Parallel(n_jobs=3)]: Done  44 tasks      | elapsed:    1.0s\n",
      "[Parallel(n_jobs=3)]: Done 194 tasks      | elapsed:    4.0s\n",
      "[Parallel(n_jobs=3)]: Done 444 tasks      | elapsed:    9.2s\n",
      "[Parallel(n_jobs=3)]: Done 500 out of 500 | elapsed:   10.3s finished\n"
     ]
    },
    {
     "name": "stdout",
     "output_type": "stream",
     "text": [
      "[CV] .................... max_depth=6, n_estimators=500, total= 8.4min\n",
      "[CV] max_depth=6, n_estimators=500 ...................................\n"
     ]
    },
    {
     "name": "stderr",
     "output_type": "stream",
     "text": [
      "/home/andrew.tarasov1993.gmail.com/anaconda3/envs/tf_last/lib/python3.8/site-packages/sklearn/model_selection/_validation.py:531: DataConversionWarning: A column-vector y was passed when a 1d array was expected. Please change the shape of y to (n_samples,), for example using ravel().\n",
      "  estimator.fit(X_train, y_train, **fit_params)\n",
      "[Parallel(n_jobs=3)]: Using backend LokyBackend with 3 concurrent workers.\n",
      "[Parallel(n_jobs=3)]: Done  44 tasks      | elapsed:   44.2s\n",
      "[Parallel(n_jobs=3)]: Done 194 tasks      | elapsed:  3.2min\n",
      "[Parallel(n_jobs=3)]: Done 444 tasks      | elapsed:  7.4min\n",
      "[Parallel(n_jobs=3)]: Done 500 out of 500 | elapsed:  8.3min finished\n",
      "[Parallel(n_jobs=3)]: Using backend ThreadingBackend with 3 concurrent workers.\n",
      "[Parallel(n_jobs=3)]: Done  44 tasks      | elapsed:    1.0s\n",
      "[Parallel(n_jobs=3)]: Done 194 tasks      | elapsed:    4.0s\n",
      "[Parallel(n_jobs=3)]: Done 444 tasks      | elapsed:    9.2s\n",
      "[Parallel(n_jobs=3)]: Done 500 out of 500 | elapsed:   10.3s finished\n"
     ]
    },
    {
     "name": "stdout",
     "output_type": "stream",
     "text": [
      "[CV] .................... max_depth=6, n_estimators=500, total= 8.5min\n",
      "[CV] max_depth=6, n_estimators=500 ...................................\n"
     ]
    },
    {
     "name": "stderr",
     "output_type": "stream",
     "text": [
      "/home/andrew.tarasov1993.gmail.com/anaconda3/envs/tf_last/lib/python3.8/site-packages/sklearn/model_selection/_validation.py:531: DataConversionWarning: A column-vector y was passed when a 1d array was expected. Please change the shape of y to (n_samples,), for example using ravel().\n",
      "  estimator.fit(X_train, y_train, **fit_params)\n",
      "[Parallel(n_jobs=3)]: Using backend LokyBackend with 3 concurrent workers.\n",
      "[Parallel(n_jobs=3)]: Done  44 tasks      | elapsed:   44.4s\n",
      "[Parallel(n_jobs=3)]: Done 194 tasks      | elapsed:  3.2min\n",
      "[Parallel(n_jobs=3)]: Done 444 tasks      | elapsed:  7.3min\n",
      "[Parallel(n_jobs=3)]: Done 500 out of 500 | elapsed:  8.2min finished\n",
      "[Parallel(n_jobs=3)]: Using backend ThreadingBackend with 3 concurrent workers.\n",
      "[Parallel(n_jobs=3)]: Done  44 tasks      | elapsed:    0.9s\n",
      "[Parallel(n_jobs=3)]: Done 194 tasks      | elapsed:    3.9s\n",
      "[Parallel(n_jobs=3)]: Done 444 tasks      | elapsed:    9.0s\n",
      "[Parallel(n_jobs=3)]: Done 500 out of 500 | elapsed:   10.1s finished\n"
     ]
    },
    {
     "name": "stdout",
     "output_type": "stream",
     "text": [
      "[CV] .................... max_depth=6, n_estimators=500, total= 8.4min\n",
      "[CV] max_depth=6, n_estimators=500 ...................................\n"
     ]
    },
    {
     "name": "stderr",
     "output_type": "stream",
     "text": [
      "/home/andrew.tarasov1993.gmail.com/anaconda3/envs/tf_last/lib/python3.8/site-packages/sklearn/model_selection/_validation.py:531: DataConversionWarning: A column-vector y was passed when a 1d array was expected. Please change the shape of y to (n_samples,), for example using ravel().\n",
      "  estimator.fit(X_train, y_train, **fit_params)\n",
      "[Parallel(n_jobs=3)]: Using backend LokyBackend with 3 concurrent workers.\n",
      "[Parallel(n_jobs=3)]: Done  44 tasks      | elapsed:   44.2s\n",
      "[Parallel(n_jobs=3)]: Done 194 tasks      | elapsed:  3.2min\n",
      "[Parallel(n_jobs=3)]: Done 444 tasks      | elapsed:  7.3min\n",
      "[Parallel(n_jobs=3)]: Done 500 out of 500 | elapsed:  8.2min finished\n",
      "[Parallel(n_jobs=3)]: Using backend ThreadingBackend with 3 concurrent workers.\n",
      "[Parallel(n_jobs=3)]: Done  44 tasks      | elapsed:    0.9s\n",
      "[Parallel(n_jobs=3)]: Done 194 tasks      | elapsed:    4.0s\n",
      "[Parallel(n_jobs=3)]: Done 444 tasks      | elapsed:    9.1s\n",
      "[Parallel(n_jobs=3)]: Done 500 out of 500 | elapsed:   10.2s finished\n"
     ]
    },
    {
     "name": "stdout",
     "output_type": "stream",
     "text": [
      "[CV] .................... max_depth=6, n_estimators=500, total= 8.4min\n",
      "[CV] max_depth=6, n_estimators=1000 ..................................\n"
     ]
    },
    {
     "name": "stderr",
     "output_type": "stream",
     "text": [
      "/home/andrew.tarasov1993.gmail.com/anaconda3/envs/tf_last/lib/python3.8/site-packages/sklearn/model_selection/_validation.py:531: DataConversionWarning: A column-vector y was passed when a 1d array was expected. Please change the shape of y to (n_samples,), for example using ravel().\n",
      "  estimator.fit(X_train, y_train, **fit_params)\n",
      "[Parallel(n_jobs=3)]: Using backend LokyBackend with 3 concurrent workers.\n",
      "[Parallel(n_jobs=3)]: Done  44 tasks      | elapsed:   44.3s\n",
      "[Parallel(n_jobs=3)]: Done 194 tasks      | elapsed:  3.2min\n",
      "[Parallel(n_jobs=3)]: Done 444 tasks      | elapsed:  7.3min\n",
      "[Parallel(n_jobs=3)]: Done 794 tasks      | elapsed: 13.1min\n",
      "[Parallel(n_jobs=3)]: Done 1000 out of 1000 | elapsed: 16.5min finished\n",
      "[Parallel(n_jobs=3)]: Using backend ThreadingBackend with 3 concurrent workers.\n",
      "[Parallel(n_jobs=3)]: Done  44 tasks      | elapsed:    0.9s\n",
      "[Parallel(n_jobs=3)]: Done 194 tasks      | elapsed:    4.0s\n",
      "[Parallel(n_jobs=3)]: Done 444 tasks      | elapsed:    9.0s\n",
      "[Parallel(n_jobs=3)]: Done 794 tasks      | elapsed:   16.1s\n",
      "[Parallel(n_jobs=3)]: Done 1000 out of 1000 | elapsed:   20.3s finished\n"
     ]
    },
    {
     "name": "stdout",
     "output_type": "stream",
     "text": [
      "[CV] ................... max_depth=6, n_estimators=1000, total=16.8min\n",
      "[CV] max_depth=6, n_estimators=1000 ..................................\n"
     ]
    },
    {
     "name": "stderr",
     "output_type": "stream",
     "text": [
      "/home/andrew.tarasov1993.gmail.com/anaconda3/envs/tf_last/lib/python3.8/site-packages/sklearn/model_selection/_validation.py:531: DataConversionWarning: A column-vector y was passed when a 1d array was expected. Please change the shape of y to (n_samples,), for example using ravel().\n",
      "  estimator.fit(X_train, y_train, **fit_params)\n",
      "[Parallel(n_jobs=3)]: Using backend LokyBackend with 3 concurrent workers.\n",
      "[Parallel(n_jobs=3)]: Done  44 tasks      | elapsed:   44.8s\n",
      "[Parallel(n_jobs=3)]: Done 194 tasks      | elapsed:  3.2min\n",
      "[Parallel(n_jobs=3)]: Done 444 tasks      | elapsed:  7.3min\n",
      "[Parallel(n_jobs=3)]: Done 794 tasks      | elapsed: 13.1min\n",
      "[Parallel(n_jobs=3)]: Done 1000 out of 1000 | elapsed: 16.5min finished\n",
      "[Parallel(n_jobs=3)]: Using backend ThreadingBackend with 3 concurrent workers.\n",
      "[Parallel(n_jobs=3)]: Done  44 tasks      | elapsed:    1.0s\n",
      "[Parallel(n_jobs=3)]: Done 194 tasks      | elapsed:    4.1s\n",
      "[Parallel(n_jobs=3)]: Done 444 tasks      | elapsed:    9.1s\n",
      "[Parallel(n_jobs=3)]: Done 794 tasks      | elapsed:   16.3s\n",
      "[Parallel(n_jobs=3)]: Done 1000 out of 1000 | elapsed:   20.4s finished\n"
     ]
    },
    {
     "name": "stdout",
     "output_type": "stream",
     "text": [
      "[CV] ................... max_depth=6, n_estimators=1000, total=16.8min\n",
      "[CV] max_depth=6, n_estimators=1000 ..................................\n"
     ]
    },
    {
     "name": "stderr",
     "output_type": "stream",
     "text": [
      "/home/andrew.tarasov1993.gmail.com/anaconda3/envs/tf_last/lib/python3.8/site-packages/sklearn/model_selection/_validation.py:531: DataConversionWarning: A column-vector y was passed when a 1d array was expected. Please change the shape of y to (n_samples,), for example using ravel().\n",
      "  estimator.fit(X_train, y_train, **fit_params)\n",
      "[Parallel(n_jobs=3)]: Using backend LokyBackend with 3 concurrent workers.\n",
      "[Parallel(n_jobs=3)]: Done  44 tasks      | elapsed:   45.9s\n",
      "[Parallel(n_jobs=3)]: Done 194 tasks      | elapsed:  3.4min\n",
      "[Parallel(n_jobs=3)]: Done 444 tasks      | elapsed:  7.7min\n",
      "[Parallel(n_jobs=3)]: Done 794 tasks      | elapsed: 13.5min\n",
      "[Parallel(n_jobs=3)]: Done 1000 out of 1000 | elapsed: 16.9min finished\n",
      "[Parallel(n_jobs=3)]: Using backend ThreadingBackend with 3 concurrent workers.\n",
      "[Parallel(n_jobs=3)]: Done  44 tasks      | elapsed:    0.9s\n",
      "[Parallel(n_jobs=3)]: Done 194 tasks      | elapsed:    4.0s\n",
      "[Parallel(n_jobs=3)]: Done 444 tasks      | elapsed:    9.0s\n",
      "[Parallel(n_jobs=3)]: Done 794 tasks      | elapsed:   16.1s\n",
      "[Parallel(n_jobs=3)]: Done 1000 out of 1000 | elapsed:   20.3s finished\n"
     ]
    },
    {
     "name": "stdout",
     "output_type": "stream",
     "text": [
      "[CV] ................... max_depth=6, n_estimators=1000, total=17.2min\n",
      "[CV] max_depth=6, n_estimators=1000 ..................................\n"
     ]
    },
    {
     "name": "stderr",
     "output_type": "stream",
     "text": [
      "/home/andrew.tarasov1993.gmail.com/anaconda3/envs/tf_last/lib/python3.8/site-packages/sklearn/model_selection/_validation.py:531: DataConversionWarning: A column-vector y was passed when a 1d array was expected. Please change the shape of y to (n_samples,), for example using ravel().\n",
      "  estimator.fit(X_train, y_train, **fit_params)\n",
      "[Parallel(n_jobs=3)]: Using backend LokyBackend with 3 concurrent workers.\n",
      "[Parallel(n_jobs=3)]: Done  44 tasks      | elapsed:   43.9s\n",
      "[Parallel(n_jobs=3)]: Done 194 tasks      | elapsed:  3.2min\n",
      "[Parallel(n_jobs=3)]: Done 444 tasks      | elapsed:  7.3min\n",
      "[Parallel(n_jobs=3)]: Done 794 tasks      | elapsed: 13.1min\n",
      "[Parallel(n_jobs=3)]: Done 1000 out of 1000 | elapsed: 16.4min finished\n",
      "[Parallel(n_jobs=3)]: Using backend ThreadingBackend with 3 concurrent workers.\n",
      "[Parallel(n_jobs=3)]: Done  44 tasks      | elapsed:    1.0s\n",
      "[Parallel(n_jobs=3)]: Done 194 tasks      | elapsed:    4.0s\n",
      "[Parallel(n_jobs=3)]: Done 444 tasks      | elapsed:    9.1s\n",
      "[Parallel(n_jobs=3)]: Done 794 tasks      | elapsed:   16.2s\n",
      "[Parallel(n_jobs=3)]: Done 1000 out of 1000 | elapsed:   20.3s finished\n"
     ]
    },
    {
     "name": "stdout",
     "output_type": "stream",
     "text": [
      "[CV] ................... max_depth=6, n_estimators=1000, total=16.8min\n",
      "[CV] max_depth=6, n_estimators=1000 ..................................\n"
     ]
    },
    {
     "name": "stderr",
     "output_type": "stream",
     "text": [
      "/home/andrew.tarasov1993.gmail.com/anaconda3/envs/tf_last/lib/python3.8/site-packages/sklearn/model_selection/_validation.py:531: DataConversionWarning: A column-vector y was passed when a 1d array was expected. Please change the shape of y to (n_samples,), for example using ravel().\n",
      "  estimator.fit(X_train, y_train, **fit_params)\n",
      "[Parallel(n_jobs=3)]: Using backend LokyBackend with 3 concurrent workers.\n",
      "[Parallel(n_jobs=3)]: Done  44 tasks      | elapsed:   46.0s\n",
      "[Parallel(n_jobs=3)]: Done 194 tasks      | elapsed:  3.2min\n",
      "[Parallel(n_jobs=3)]: Done 444 tasks      | elapsed:  7.3min\n",
      "[Parallel(n_jobs=3)]: Done 794 tasks      | elapsed: 13.1min\n",
      "[Parallel(n_jobs=3)]: Done 1000 out of 1000 | elapsed: 16.5min finished\n",
      "[Parallel(n_jobs=3)]: Using backend ThreadingBackend with 3 concurrent workers.\n",
      "[Parallel(n_jobs=3)]: Done  44 tasks      | elapsed:    1.0s\n",
      "[Parallel(n_jobs=3)]: Done 194 tasks      | elapsed:    4.0s\n",
      "[Parallel(n_jobs=3)]: Done 444 tasks      | elapsed:    9.1s\n",
      "[Parallel(n_jobs=3)]: Done 794 tasks      | elapsed:   16.2s\n",
      "[Parallel(n_jobs=3)]: Done 1000 out of 1000 | elapsed:   20.4s finished\n"
     ]
    },
    {
     "name": "stdout",
     "output_type": "stream",
     "text": [
      "[CV] ................... max_depth=6, n_estimators=1000, total=16.8min\n",
      "[CV] max_depth=7, n_estimators=50 ....................................\n"
     ]
    },
    {
     "name": "stderr",
     "output_type": "stream",
     "text": [
      "/home/andrew.tarasov1993.gmail.com/anaconda3/envs/tf_last/lib/python3.8/site-packages/sklearn/model_selection/_validation.py:531: DataConversionWarning: A column-vector y was passed when a 1d array was expected. Please change the shape of y to (n_samples,), for example using ravel().\n",
      "  estimator.fit(X_train, y_train, **fit_params)\n",
      "[Parallel(n_jobs=3)]: Using backend LokyBackend with 3 concurrent workers.\n",
      "[Parallel(n_jobs=3)]: Done  44 tasks      | elapsed:   50.5s\n",
      "[Parallel(n_jobs=3)]: Done  50 out of  50 | elapsed:   57.1s finished\n",
      "[Parallel(n_jobs=3)]: Using backend ThreadingBackend with 3 concurrent workers.\n",
      "[Parallel(n_jobs=3)]: Done  44 tasks      | elapsed:    1.0s\n",
      "[Parallel(n_jobs=3)]: Done  50 out of  50 | elapsed:    1.2s finished\n"
     ]
    },
    {
     "name": "stdout",
     "output_type": "stream",
     "text": [
      "[CV] ..................... max_depth=7, n_estimators=50, total=  58.9s\n",
      "[CV] max_depth=7, n_estimators=50 ....................................\n"
     ]
    },
    {
     "name": "stderr",
     "output_type": "stream",
     "text": [
      "/home/andrew.tarasov1993.gmail.com/anaconda3/envs/tf_last/lib/python3.8/site-packages/sklearn/model_selection/_validation.py:531: DataConversionWarning: A column-vector y was passed when a 1d array was expected. Please change the shape of y to (n_samples,), for example using ravel().\n",
      "  estimator.fit(X_train, y_train, **fit_params)\n",
      "[Parallel(n_jobs=3)]: Using backend LokyBackend with 3 concurrent workers.\n",
      "[Parallel(n_jobs=3)]: Done  44 tasks      | elapsed:   49.1s\n",
      "[Parallel(n_jobs=3)]: Done  50 out of  50 | elapsed:   55.4s finished\n",
      "[Parallel(n_jobs=3)]: Using backend ThreadingBackend with 3 concurrent workers.\n",
      "[Parallel(n_jobs=3)]: Done  44 tasks      | elapsed:    1.0s\n",
      "[Parallel(n_jobs=3)]: Done  50 out of  50 | elapsed:    1.2s finished\n"
     ]
    },
    {
     "name": "stdout",
     "output_type": "stream",
     "text": [
      "[CV] ..................... max_depth=7, n_estimators=50, total=  57.2s\n",
      "[CV] max_depth=7, n_estimators=50 ....................................\n"
     ]
    },
    {
     "name": "stderr",
     "output_type": "stream",
     "text": [
      "/home/andrew.tarasov1993.gmail.com/anaconda3/envs/tf_last/lib/python3.8/site-packages/sklearn/model_selection/_validation.py:531: DataConversionWarning: A column-vector y was passed when a 1d array was expected. Please change the shape of y to (n_samples,), for example using ravel().\n",
      "  estimator.fit(X_train, y_train, **fit_params)\n",
      "[Parallel(n_jobs=3)]: Using backend LokyBackend with 3 concurrent workers.\n",
      "[Parallel(n_jobs=3)]: Done  44 tasks      | elapsed:   49.9s\n",
      "[Parallel(n_jobs=3)]: Done  50 out of  50 | elapsed:   57.3s finished\n",
      "[Parallel(n_jobs=3)]: Using backend ThreadingBackend with 3 concurrent workers.\n",
      "[Parallel(n_jobs=3)]: Done  44 tasks      | elapsed:    1.0s\n",
      "[Parallel(n_jobs=3)]: Done  50 out of  50 | elapsed:    1.1s finished\n"
     ]
    },
    {
     "name": "stdout",
     "output_type": "stream",
     "text": [
      "[CV] ..................... max_depth=7, n_estimators=50, total=  59.1s\n",
      "[CV] max_depth=7, n_estimators=50 ....................................\n"
     ]
    },
    {
     "name": "stderr",
     "output_type": "stream",
     "text": [
      "/home/andrew.tarasov1993.gmail.com/anaconda3/envs/tf_last/lib/python3.8/site-packages/sklearn/model_selection/_validation.py:531: DataConversionWarning: A column-vector y was passed when a 1d array was expected. Please change the shape of y to (n_samples,), for example using ravel().\n",
      "  estimator.fit(X_train, y_train, **fit_params)\n",
      "[Parallel(n_jobs=3)]: Using backend LokyBackend with 3 concurrent workers.\n",
      "[Parallel(n_jobs=3)]: Done  44 tasks      | elapsed:   49.2s\n",
      "[Parallel(n_jobs=3)]: Done  50 out of  50 | elapsed:   55.9s finished\n",
      "[Parallel(n_jobs=3)]: Using backend ThreadingBackend with 3 concurrent workers.\n",
      "[Parallel(n_jobs=3)]: Done  44 tasks      | elapsed:    1.0s\n",
      "[Parallel(n_jobs=3)]: Done  50 out of  50 | elapsed:    1.2s finished\n"
     ]
    },
    {
     "name": "stdout",
     "output_type": "stream",
     "text": [
      "[CV] ..................... max_depth=7, n_estimators=50, total=  57.7s\n",
      "[CV] max_depth=7, n_estimators=50 ....................................\n"
     ]
    },
    {
     "name": "stderr",
     "output_type": "stream",
     "text": [
      "/home/andrew.tarasov1993.gmail.com/anaconda3/envs/tf_last/lib/python3.8/site-packages/sklearn/model_selection/_validation.py:531: DataConversionWarning: A column-vector y was passed when a 1d array was expected. Please change the shape of y to (n_samples,), for example using ravel().\n",
      "  estimator.fit(X_train, y_train, **fit_params)\n",
      "[Parallel(n_jobs=3)]: Using backend LokyBackend with 3 concurrent workers.\n",
      "[Parallel(n_jobs=3)]: Done  44 tasks      | elapsed:   50.7s\n",
      "[Parallel(n_jobs=3)]: Done  50 out of  50 | elapsed:   56.5s finished\n",
      "[Parallel(n_jobs=3)]: Using backend ThreadingBackend with 3 concurrent workers.\n",
      "[Parallel(n_jobs=3)]: Done  44 tasks      | elapsed:    1.0s\n",
      "[Parallel(n_jobs=3)]: Done  50 out of  50 | elapsed:    1.1s finished\n"
     ]
    },
    {
     "name": "stdout",
     "output_type": "stream",
     "text": [
      "[CV] ..................... max_depth=7, n_estimators=50, total=  58.3s\n",
      "[CV] max_depth=7, n_estimators=75 ....................................\n"
     ]
    },
    {
     "name": "stderr",
     "output_type": "stream",
     "text": [
      "/home/andrew.tarasov1993.gmail.com/anaconda3/envs/tf_last/lib/python3.8/site-packages/sklearn/model_selection/_validation.py:531: DataConversionWarning: A column-vector y was passed when a 1d array was expected. Please change the shape of y to (n_samples,), for example using ravel().\n",
      "  estimator.fit(X_train, y_train, **fit_params)\n",
      "[Parallel(n_jobs=3)]: Using backend LokyBackend with 3 concurrent workers.\n",
      "[Parallel(n_jobs=3)]: Done  44 tasks      | elapsed:   53.5s\n",
      "[Parallel(n_jobs=3)]: Done  75 out of  75 | elapsed:  1.5min finished\n",
      "[Parallel(n_jobs=3)]: Using backend ThreadingBackend with 3 concurrent workers.\n",
      "[Parallel(n_jobs=3)]: Done  44 tasks      | elapsed:    1.1s\n",
      "[Parallel(n_jobs=3)]: Done  75 out of  75 | elapsed:    1.7s finished\n"
     ]
    },
    {
     "name": "stdout",
     "output_type": "stream",
     "text": [
      "[CV] ..................... max_depth=7, n_estimators=75, total= 1.5min\n",
      "[CV] max_depth=7, n_estimators=75 ....................................\n"
     ]
    },
    {
     "name": "stderr",
     "output_type": "stream",
     "text": [
      "/home/andrew.tarasov1993.gmail.com/anaconda3/envs/tf_last/lib/python3.8/site-packages/sklearn/model_selection/_validation.py:531: DataConversionWarning: A column-vector y was passed when a 1d array was expected. Please change the shape of y to (n_samples,), for example using ravel().\n",
      "  estimator.fit(X_train, y_train, **fit_params)\n",
      "[Parallel(n_jobs=3)]: Using backend LokyBackend with 3 concurrent workers.\n",
      "[Parallel(n_jobs=3)]: Done  44 tasks      | elapsed:   50.1s\n",
      "[Parallel(n_jobs=3)]: Done  75 out of  75 | elapsed:  1.4min finished\n",
      "[Parallel(n_jobs=3)]: Using backend ThreadingBackend with 3 concurrent workers.\n",
      "[Parallel(n_jobs=3)]: Done  44 tasks      | elapsed:    1.0s\n",
      "[Parallel(n_jobs=3)]: Done  75 out of  75 | elapsed:    1.7s finished\n"
     ]
    },
    {
     "name": "stdout",
     "output_type": "stream",
     "text": [
      "[CV] ..................... max_depth=7, n_estimators=75, total= 1.4min\n",
      "[CV] max_depth=7, n_estimators=75 ....................................\n"
     ]
    },
    {
     "name": "stderr",
     "output_type": "stream",
     "text": [
      "/home/andrew.tarasov1993.gmail.com/anaconda3/envs/tf_last/lib/python3.8/site-packages/sklearn/model_selection/_validation.py:531: DataConversionWarning: A column-vector y was passed when a 1d array was expected. Please change the shape of y to (n_samples,), for example using ravel().\n",
      "  estimator.fit(X_train, y_train, **fit_params)\n",
      "[Parallel(n_jobs=3)]: Using backend LokyBackend with 3 concurrent workers.\n",
      "[Parallel(n_jobs=3)]: Done  44 tasks      | elapsed:   51.7s\n",
      "[Parallel(n_jobs=3)]: Done  75 out of  75 | elapsed:  1.5min finished\n",
      "[Parallel(n_jobs=3)]: Using backend ThreadingBackend with 3 concurrent workers.\n",
      "[Parallel(n_jobs=3)]: Done  44 tasks      | elapsed:    1.0s\n",
      "[Parallel(n_jobs=3)]: Done  75 out of  75 | elapsed:    1.7s finished\n"
     ]
    },
    {
     "name": "stdout",
     "output_type": "stream",
     "text": [
      "[CV] ..................... max_depth=7, n_estimators=75, total= 1.5min\n",
      "[CV] max_depth=7, n_estimators=75 ....................................\n"
     ]
    },
    {
     "name": "stderr",
     "output_type": "stream",
     "text": [
      "/home/andrew.tarasov1993.gmail.com/anaconda3/envs/tf_last/lib/python3.8/site-packages/sklearn/model_selection/_validation.py:531: DataConversionWarning: A column-vector y was passed when a 1d array was expected. Please change the shape of y to (n_samples,), for example using ravel().\n",
      "  estimator.fit(X_train, y_train, **fit_params)\n",
      "[Parallel(n_jobs=3)]: Using backend LokyBackend with 3 concurrent workers.\n",
      "[Parallel(n_jobs=3)]: Done  44 tasks      | elapsed:   53.8s\n",
      "[Parallel(n_jobs=3)]: Done  75 out of  75 | elapsed:  1.5min finished\n",
      "[Parallel(n_jobs=3)]: Using backend ThreadingBackend with 3 concurrent workers.\n",
      "[Parallel(n_jobs=3)]: Done  44 tasks      | elapsed:    1.0s\n",
      "[Parallel(n_jobs=3)]: Done  75 out of  75 | elapsed:    1.7s finished\n"
     ]
    },
    {
     "name": "stdout",
     "output_type": "stream",
     "text": [
      "[CV] ..................... max_depth=7, n_estimators=75, total= 1.5min\n",
      "[CV] max_depth=7, n_estimators=75 ....................................\n"
     ]
    },
    {
     "name": "stderr",
     "output_type": "stream",
     "text": [
      "/home/andrew.tarasov1993.gmail.com/anaconda3/envs/tf_last/lib/python3.8/site-packages/sklearn/model_selection/_validation.py:531: DataConversionWarning: A column-vector y was passed when a 1d array was expected. Please change the shape of y to (n_samples,), for example using ravel().\n",
      "  estimator.fit(X_train, y_train, **fit_params)\n",
      "[Parallel(n_jobs=3)]: Using backend LokyBackend with 3 concurrent workers.\n",
      "[Parallel(n_jobs=3)]: Done  44 tasks      | elapsed:   54.3s\n",
      "[Parallel(n_jobs=3)]: Done  75 out of  75 | elapsed:  1.5min finished\n",
      "[Parallel(n_jobs=3)]: Using backend ThreadingBackend with 3 concurrent workers.\n",
      "[Parallel(n_jobs=3)]: Done  44 tasks      | elapsed:    1.0s\n",
      "[Parallel(n_jobs=3)]: Done  75 out of  75 | elapsed:    1.7s finished\n"
     ]
    },
    {
     "name": "stdout",
     "output_type": "stream",
     "text": [
      "[CV] ..................... max_depth=7, n_estimators=75, total= 1.5min\n",
      "[CV] max_depth=7, n_estimators=100 ...................................\n"
     ]
    },
    {
     "name": "stderr",
     "output_type": "stream",
     "text": [
      "/home/andrew.tarasov1993.gmail.com/anaconda3/envs/tf_last/lib/python3.8/site-packages/sklearn/model_selection/_validation.py:531: DataConversionWarning: A column-vector y was passed when a 1d array was expected. Please change the shape of y to (n_samples,), for example using ravel().\n",
      "  estimator.fit(X_train, y_train, **fit_params)\n",
      "[Parallel(n_jobs=3)]: Using backend LokyBackend with 3 concurrent workers.\n",
      "[Parallel(n_jobs=3)]: Done  44 tasks      | elapsed:   52.6s\n",
      "[Parallel(n_jobs=3)]: Done 100 out of 100 | elapsed:  2.0min finished\n",
      "[Parallel(n_jobs=3)]: Using backend ThreadingBackend with 3 concurrent workers.\n",
      "[Parallel(n_jobs=3)]: Done  44 tasks      | elapsed:    1.0s\n",
      "[Parallel(n_jobs=3)]: Done 100 out of 100 | elapsed:    2.3s finished\n"
     ]
    },
    {
     "name": "stdout",
     "output_type": "stream",
     "text": [
      "[CV] .................... max_depth=7, n_estimators=100, total= 2.0min\n",
      "[CV] max_depth=7, n_estimators=100 ...................................\n"
     ]
    },
    {
     "name": "stderr",
     "output_type": "stream",
     "text": [
      "/home/andrew.tarasov1993.gmail.com/anaconda3/envs/tf_last/lib/python3.8/site-packages/sklearn/model_selection/_validation.py:531: DataConversionWarning: A column-vector y was passed when a 1d array was expected. Please change the shape of y to (n_samples,), for example using ravel().\n",
      "  estimator.fit(X_train, y_train, **fit_params)\n",
      "[Parallel(n_jobs=3)]: Using backend LokyBackend with 3 concurrent workers.\n",
      "[Parallel(n_jobs=3)]: Done  44 tasks      | elapsed:   49.9s\n",
      "[Parallel(n_jobs=3)]: Done 100 out of 100 | elapsed:  1.9min finished\n",
      "[Parallel(n_jobs=3)]: Using backend ThreadingBackend with 3 concurrent workers.\n",
      "[Parallel(n_jobs=3)]: Done  44 tasks      | elapsed:    1.0s\n",
      "[Parallel(n_jobs=3)]: Done 100 out of 100 | elapsed:    2.2s finished\n"
     ]
    },
    {
     "name": "stdout",
     "output_type": "stream",
     "text": [
      "[CV] .................... max_depth=7, n_estimators=100, total= 1.9min\n",
      "[CV] max_depth=7, n_estimators=100 ...................................\n"
     ]
    },
    {
     "name": "stderr",
     "output_type": "stream",
     "text": [
      "/home/andrew.tarasov1993.gmail.com/anaconda3/envs/tf_last/lib/python3.8/site-packages/sklearn/model_selection/_validation.py:531: DataConversionWarning: A column-vector y was passed when a 1d array was expected. Please change the shape of y to (n_samples,), for example using ravel().\n",
      "  estimator.fit(X_train, y_train, **fit_params)\n",
      "[Parallel(n_jobs=3)]: Using backend LokyBackend with 3 concurrent workers.\n",
      "[Parallel(n_jobs=3)]: Done  44 tasks      | elapsed:   50.1s\n",
      "[Parallel(n_jobs=3)]: Done 100 out of 100 | elapsed:  1.9min finished\n",
      "[Parallel(n_jobs=3)]: Using backend ThreadingBackend with 3 concurrent workers.\n",
      "[Parallel(n_jobs=3)]: Done  44 tasks      | elapsed:    1.1s\n",
      "[Parallel(n_jobs=3)]: Done 100 out of 100 | elapsed:    2.3s finished\n"
     ]
    },
    {
     "name": "stdout",
     "output_type": "stream",
     "text": [
      "[CV] .................... max_depth=7, n_estimators=100, total= 2.0min\n",
      "[CV] max_depth=7, n_estimators=100 ...................................\n"
     ]
    },
    {
     "name": "stderr",
     "output_type": "stream",
     "text": [
      "/home/andrew.tarasov1993.gmail.com/anaconda3/envs/tf_last/lib/python3.8/site-packages/sklearn/model_selection/_validation.py:531: DataConversionWarning: A column-vector y was passed when a 1d array was expected. Please change the shape of y to (n_samples,), for example using ravel().\n",
      "  estimator.fit(X_train, y_train, **fit_params)\n",
      "[Parallel(n_jobs=3)]: Using backend LokyBackend with 3 concurrent workers.\n",
      "[Parallel(n_jobs=3)]: Done  44 tasks      | elapsed:   49.6s\n",
      "[Parallel(n_jobs=3)]: Done 100 out of 100 | elapsed:  1.9min finished\n",
      "[Parallel(n_jobs=3)]: Using backend ThreadingBackend with 3 concurrent workers.\n",
      "[Parallel(n_jobs=3)]: Done  44 tasks      | elapsed:    1.0s\n",
      "[Parallel(n_jobs=3)]: Done 100 out of 100 | elapsed:    2.2s finished\n"
     ]
    },
    {
     "name": "stdout",
     "output_type": "stream",
     "text": [
      "[CV] .................... max_depth=7, n_estimators=100, total= 1.9min\n",
      "[CV] max_depth=7, n_estimators=100 ...................................\n"
     ]
    },
    {
     "name": "stderr",
     "output_type": "stream",
     "text": [
      "/home/andrew.tarasov1993.gmail.com/anaconda3/envs/tf_last/lib/python3.8/site-packages/sklearn/model_selection/_validation.py:531: DataConversionWarning: A column-vector y was passed when a 1d array was expected. Please change the shape of y to (n_samples,), for example using ravel().\n",
      "  estimator.fit(X_train, y_train, **fit_params)\n",
      "[Parallel(n_jobs=3)]: Using backend LokyBackend with 3 concurrent workers.\n",
      "[Parallel(n_jobs=3)]: Done  44 tasks      | elapsed:   48.6s\n",
      "[Parallel(n_jobs=3)]: Done 100 out of 100 | elapsed:  1.8min finished\n",
      "[Parallel(n_jobs=3)]: Using backend ThreadingBackend with 3 concurrent workers.\n",
      "[Parallel(n_jobs=3)]: Done  44 tasks      | elapsed:    1.1s\n",
      "[Parallel(n_jobs=3)]: Done 100 out of 100 | elapsed:    2.2s finished\n"
     ]
    },
    {
     "name": "stdout",
     "output_type": "stream",
     "text": [
      "[CV] .................... max_depth=7, n_estimators=100, total= 1.9min\n",
      "[CV] max_depth=7, n_estimators=250 ...................................\n"
     ]
    },
    {
     "name": "stderr",
     "output_type": "stream",
     "text": [
      "/home/andrew.tarasov1993.gmail.com/anaconda3/envs/tf_last/lib/python3.8/site-packages/sklearn/model_selection/_validation.py:531: DataConversionWarning: A column-vector y was passed when a 1d array was expected. Please change the shape of y to (n_samples,), for example using ravel().\n",
      "  estimator.fit(X_train, y_train, **fit_params)\n",
      "[Parallel(n_jobs=3)]: Using backend LokyBackend with 3 concurrent workers.\n",
      "[Parallel(n_jobs=3)]: Done  44 tasks      | elapsed:   49.4s\n",
      "[Parallel(n_jobs=3)]: Done 194 tasks      | elapsed:  3.6min\n",
      "[Parallel(n_jobs=3)]: Done 250 out of 250 | elapsed:  4.6min finished\n",
      "[Parallel(n_jobs=3)]: Using backend ThreadingBackend with 3 concurrent workers.\n",
      "[Parallel(n_jobs=3)]: Done  44 tasks      | elapsed:    1.0s\n",
      "[Parallel(n_jobs=3)]: Done 194 tasks      | elapsed:    4.2s\n",
      "[Parallel(n_jobs=3)]: Done 250 out of 250 | elapsed:    5.4s finished\n"
     ]
    },
    {
     "name": "stdout",
     "output_type": "stream",
     "text": [
      "[CV] .................... max_depth=7, n_estimators=250, total= 4.7min\n",
      "[CV] max_depth=7, n_estimators=250 ...................................\n"
     ]
    },
    {
     "name": "stderr",
     "output_type": "stream",
     "text": [
      "/home/andrew.tarasov1993.gmail.com/anaconda3/envs/tf_last/lib/python3.8/site-packages/sklearn/model_selection/_validation.py:531: DataConversionWarning: A column-vector y was passed when a 1d array was expected. Please change the shape of y to (n_samples,), for example using ravel().\n",
      "  estimator.fit(X_train, y_train, **fit_params)\n",
      "[Parallel(n_jobs=3)]: Using backend LokyBackend with 3 concurrent workers.\n",
      "[Parallel(n_jobs=3)]: Done  44 tasks      | elapsed:   48.8s\n",
      "[Parallel(n_jobs=3)]: Done 194 tasks      | elapsed:  3.6min\n",
      "[Parallel(n_jobs=3)]: Done 250 out of 250 | elapsed:  4.6min finished\n",
      "[Parallel(n_jobs=3)]: Using backend ThreadingBackend with 3 concurrent workers.\n",
      "[Parallel(n_jobs=3)]: Done  44 tasks      | elapsed:    1.0s\n",
      "[Parallel(n_jobs=3)]: Done 194 tasks      | elapsed:    4.3s\n",
      "[Parallel(n_jobs=3)]: Done 250 out of 250 | elapsed:    5.4s finished\n"
     ]
    },
    {
     "name": "stdout",
     "output_type": "stream",
     "text": [
      "[CV] .................... max_depth=7, n_estimators=250, total= 4.7min\n",
      "[CV] max_depth=7, n_estimators=250 ...................................\n"
     ]
    },
    {
     "name": "stderr",
     "output_type": "stream",
     "text": [
      "/home/andrew.tarasov1993.gmail.com/anaconda3/envs/tf_last/lib/python3.8/site-packages/sklearn/model_selection/_validation.py:531: DataConversionWarning: A column-vector y was passed when a 1d array was expected. Please change the shape of y to (n_samples,), for example using ravel().\n",
      "  estimator.fit(X_train, y_train, **fit_params)\n",
      "[Parallel(n_jobs=3)]: Using backend LokyBackend with 3 concurrent workers.\n",
      "[Parallel(n_jobs=3)]: Done  44 tasks      | elapsed:   53.5s\n",
      "[Parallel(n_jobs=3)]: Done 194 tasks      | elapsed:  3.8min\n",
      "[Parallel(n_jobs=3)]: Done 250 out of 250 | elapsed:  4.9min finished\n",
      "[Parallel(n_jobs=3)]: Using backend ThreadingBackend with 3 concurrent workers.\n",
      "[Parallel(n_jobs=3)]: Done  44 tasks      | elapsed:    1.0s\n",
      "[Parallel(n_jobs=3)]: Done 194 tasks      | elapsed:    4.2s\n",
      "[Parallel(n_jobs=3)]: Done 250 out of 250 | elapsed:    5.4s finished\n"
     ]
    },
    {
     "name": "stdout",
     "output_type": "stream",
     "text": [
      "[CV] .................... max_depth=7, n_estimators=250, total= 5.0min\n",
      "[CV] max_depth=7, n_estimators=250 ...................................\n"
     ]
    },
    {
     "name": "stderr",
     "output_type": "stream",
     "text": [
      "/home/andrew.tarasov1993.gmail.com/anaconda3/envs/tf_last/lib/python3.8/site-packages/sklearn/model_selection/_validation.py:531: DataConversionWarning: A column-vector y was passed when a 1d array was expected. Please change the shape of y to (n_samples,), for example using ravel().\n",
      "  estimator.fit(X_train, y_train, **fit_params)\n",
      "[Parallel(n_jobs=3)]: Using backend LokyBackend with 3 concurrent workers.\n",
      "[Parallel(n_jobs=3)]: Done  44 tasks      | elapsed:   49.0s\n",
      "[Parallel(n_jobs=3)]: Done 194 tasks      | elapsed:  3.6min\n",
      "[Parallel(n_jobs=3)]: Done 250 out of 250 | elapsed:  4.6min finished\n",
      "[Parallel(n_jobs=3)]: Using backend ThreadingBackend with 3 concurrent workers.\n",
      "[Parallel(n_jobs=3)]: Done  44 tasks      | elapsed:    1.0s\n",
      "[Parallel(n_jobs=3)]: Done 194 tasks      | elapsed:    4.3s\n",
      "[Parallel(n_jobs=3)]: Done 250 out of 250 | elapsed:    5.5s finished\n"
     ]
    },
    {
     "name": "stdout",
     "output_type": "stream",
     "text": [
      "[CV] .................... max_depth=7, n_estimators=250, total= 4.7min\n",
      "[CV] max_depth=7, n_estimators=250 ...................................\n"
     ]
    },
    {
     "name": "stderr",
     "output_type": "stream",
     "text": [
      "/home/andrew.tarasov1993.gmail.com/anaconda3/envs/tf_last/lib/python3.8/site-packages/sklearn/model_selection/_validation.py:531: DataConversionWarning: A column-vector y was passed when a 1d array was expected. Please change the shape of y to (n_samples,), for example using ravel().\n",
      "  estimator.fit(X_train, y_train, **fit_params)\n",
      "[Parallel(n_jobs=3)]: Using backend LokyBackend with 3 concurrent workers.\n",
      "[Parallel(n_jobs=3)]: Done  44 tasks      | elapsed:   49.9s\n",
      "[Parallel(n_jobs=3)]: Done 194 tasks      | elapsed:  3.6min\n",
      "[Parallel(n_jobs=3)]: Done 250 out of 250 | elapsed:  4.7min finished\n",
      "[Parallel(n_jobs=3)]: Using backend ThreadingBackend with 3 concurrent workers.\n",
      "[Parallel(n_jobs=3)]: Done  44 tasks      | elapsed:    1.0s\n",
      "[Parallel(n_jobs=3)]: Done 194 tasks      | elapsed:    4.2s\n",
      "[Parallel(n_jobs=3)]: Done 250 out of 250 | elapsed:    5.4s finished\n"
     ]
    },
    {
     "name": "stdout",
     "output_type": "stream",
     "text": [
      "[CV] .................... max_depth=7, n_estimators=250, total= 4.8min\n",
      "[CV] max_depth=7, n_estimators=500 ...................................\n"
     ]
    },
    {
     "name": "stderr",
     "output_type": "stream",
     "text": [
      "/home/andrew.tarasov1993.gmail.com/anaconda3/envs/tf_last/lib/python3.8/site-packages/sklearn/model_selection/_validation.py:531: DataConversionWarning: A column-vector y was passed when a 1d array was expected. Please change the shape of y to (n_samples,), for example using ravel().\n",
      "  estimator.fit(X_train, y_train, **fit_params)\n",
      "[Parallel(n_jobs=3)]: Using backend LokyBackend with 3 concurrent workers.\n",
      "[Parallel(n_jobs=3)]: Done  44 tasks      | elapsed:   53.8s\n",
      "[Parallel(n_jobs=3)]: Done 194 tasks      | elapsed:  3.8min\n",
      "[Parallel(n_jobs=3)]: Done 444 tasks      | elapsed:  8.7min\n",
      "[Parallel(n_jobs=3)]: Done 500 out of 500 | elapsed:  9.8min finished\n",
      "[Parallel(n_jobs=3)]: Using backend ThreadingBackend with 3 concurrent workers.\n",
      "[Parallel(n_jobs=3)]: Done  44 tasks      | elapsed:    1.0s\n",
      "[Parallel(n_jobs=3)]: Done 194 tasks      | elapsed:    4.3s\n",
      "[Parallel(n_jobs=3)]: Done 444 tasks      | elapsed:    9.6s\n",
      "[Parallel(n_jobs=3)]: Done 500 out of 500 | elapsed:   10.8s finished\n"
     ]
    },
    {
     "name": "stdout",
     "output_type": "stream",
     "text": [
      "[CV] .................... max_depth=7, n_estimators=500, total=10.0min\n",
      "[CV] max_depth=7, n_estimators=500 ...................................\n"
     ]
    },
    {
     "name": "stderr",
     "output_type": "stream",
     "text": [
      "/home/andrew.tarasov1993.gmail.com/anaconda3/envs/tf_last/lib/python3.8/site-packages/sklearn/model_selection/_validation.py:531: DataConversionWarning: A column-vector y was passed when a 1d array was expected. Please change the shape of y to (n_samples,), for example using ravel().\n",
      "  estimator.fit(X_train, y_train, **fit_params)\n",
      "[Parallel(n_jobs=3)]: Using backend LokyBackend with 3 concurrent workers.\n",
      "[Parallel(n_jobs=3)]: Done  44 tasks      | elapsed:   49.2s\n",
      "[Parallel(n_jobs=3)]: Done 194 tasks      | elapsed:  3.6min\n",
      "[Parallel(n_jobs=3)]: Done 444 tasks      | elapsed:  8.2min\n",
      "[Parallel(n_jobs=3)]: Done 500 out of 500 | elapsed:  9.3min finished\n",
      "[Parallel(n_jobs=3)]: Using backend ThreadingBackend with 3 concurrent workers.\n",
      "[Parallel(n_jobs=3)]: Done  44 tasks      | elapsed:    1.1s\n",
      "[Parallel(n_jobs=3)]: Done 194 tasks      | elapsed:    4.3s\n",
      "[Parallel(n_jobs=3)]: Done 444 tasks      | elapsed:    9.7s\n",
      "[Parallel(n_jobs=3)]: Done 500 out of 500 | elapsed:   10.9s finished\n"
     ]
    },
    {
     "name": "stdout",
     "output_type": "stream",
     "text": [
      "[CV] .................... max_depth=7, n_estimators=500, total= 9.5min\n",
      "[CV] max_depth=7, n_estimators=500 ...................................\n"
     ]
    },
    {
     "name": "stderr",
     "output_type": "stream",
     "text": [
      "/home/andrew.tarasov1993.gmail.com/anaconda3/envs/tf_last/lib/python3.8/site-packages/sklearn/model_selection/_validation.py:531: DataConversionWarning: A column-vector y was passed when a 1d array was expected. Please change the shape of y to (n_samples,), for example using ravel().\n",
      "  estimator.fit(X_train, y_train, **fit_params)\n",
      "[Parallel(n_jobs=3)]: Using backend LokyBackend with 3 concurrent workers.\n",
      "[Parallel(n_jobs=3)]: Done  44 tasks      | elapsed:   50.3s\n",
      "[Parallel(n_jobs=3)]: Done 194 tasks      | elapsed:  3.6min\n",
      "[Parallel(n_jobs=3)]: Done 444 tasks      | elapsed:  8.2min\n",
      "[Parallel(n_jobs=3)]: Done 500 out of 500 | elapsed:  9.3min finished\n",
      "[Parallel(n_jobs=3)]: Using backend ThreadingBackend with 3 concurrent workers.\n",
      "[Parallel(n_jobs=3)]: Done  44 tasks      | elapsed:    1.0s\n",
      "[Parallel(n_jobs=3)]: Done 194 tasks      | elapsed:    4.2s\n",
      "[Parallel(n_jobs=3)]: Done 444 tasks      | elapsed:    9.6s\n",
      "[Parallel(n_jobs=3)]: Done 500 out of 500 | elapsed:   10.8s finished\n"
     ]
    },
    {
     "name": "stdout",
     "output_type": "stream",
     "text": [
      "[CV] .................... max_depth=7, n_estimators=500, total= 9.5min\n",
      "[CV] max_depth=7, n_estimators=500 ...................................\n"
     ]
    },
    {
     "name": "stderr",
     "output_type": "stream",
     "text": [
      "/home/andrew.tarasov1993.gmail.com/anaconda3/envs/tf_last/lib/python3.8/site-packages/sklearn/model_selection/_validation.py:531: DataConversionWarning: A column-vector y was passed when a 1d array was expected. Please change the shape of y to (n_samples,), for example using ravel().\n",
      "  estimator.fit(X_train, y_train, **fit_params)\n",
      "[Parallel(n_jobs=3)]: Using backend LokyBackend with 3 concurrent workers.\n",
      "[Parallel(n_jobs=3)]: Done  44 tasks      | elapsed:   49.7s\n",
      "[Parallel(n_jobs=3)]: Done 194 tasks      | elapsed:  3.7min\n",
      "[Parallel(n_jobs=3)]: Done 444 tasks      | elapsed:  8.6min\n",
      "[Parallel(n_jobs=3)]: Done 500 out of 500 | elapsed:  9.6min finished\n",
      "[Parallel(n_jobs=3)]: Using backend ThreadingBackend with 3 concurrent workers.\n",
      "[Parallel(n_jobs=3)]: Done  44 tasks      | elapsed:    1.0s\n",
      "[Parallel(n_jobs=3)]: Done 194 tasks      | elapsed:    4.2s\n",
      "[Parallel(n_jobs=3)]: Done 444 tasks      | elapsed:    9.6s\n",
      "[Parallel(n_jobs=3)]: Done 500 out of 500 | elapsed:   10.8s finished\n"
     ]
    },
    {
     "name": "stdout",
     "output_type": "stream",
     "text": [
      "[CV] .................... max_depth=7, n_estimators=500, total= 9.8min\n",
      "[CV] max_depth=7, n_estimators=500 ...................................\n"
     ]
    },
    {
     "name": "stderr",
     "output_type": "stream",
     "text": [
      "/home/andrew.tarasov1993.gmail.com/anaconda3/envs/tf_last/lib/python3.8/site-packages/sklearn/model_selection/_validation.py:531: DataConversionWarning: A column-vector y was passed when a 1d array was expected. Please change the shape of y to (n_samples,), for example using ravel().\n",
      "  estimator.fit(X_train, y_train, **fit_params)\n",
      "[Parallel(n_jobs=3)]: Using backend LokyBackend with 3 concurrent workers.\n",
      "[Parallel(n_jobs=3)]: Done  44 tasks      | elapsed:   52.6s\n",
      "[Parallel(n_jobs=3)]: Done 194 tasks      | elapsed:  3.7min\n",
      "[Parallel(n_jobs=3)]: Done 444 tasks      | elapsed:  8.4min\n",
      "[Parallel(n_jobs=3)]: Done 500 out of 500 | elapsed:  9.5min finished\n",
      "[Parallel(n_jobs=3)]: Using backend ThreadingBackend with 3 concurrent workers.\n",
      "[Parallel(n_jobs=3)]: Done  44 tasks      | elapsed:    1.0s\n",
      "[Parallel(n_jobs=3)]: Done 194 tasks      | elapsed:    4.3s\n",
      "[Parallel(n_jobs=3)]: Done 444 tasks      | elapsed:    9.7s\n",
      "[Parallel(n_jobs=3)]: Done 500 out of 500 | elapsed:   10.9s finished\n"
     ]
    },
    {
     "name": "stdout",
     "output_type": "stream",
     "text": [
      "[CV] .................... max_depth=7, n_estimators=500, total= 9.7min\n",
      "[CV] max_depth=7, n_estimators=1000 ..................................\n"
     ]
    },
    {
     "name": "stderr",
     "output_type": "stream",
     "text": [
      "/home/andrew.tarasov1993.gmail.com/anaconda3/envs/tf_last/lib/python3.8/site-packages/sklearn/model_selection/_validation.py:531: DataConversionWarning: A column-vector y was passed when a 1d array was expected. Please change the shape of y to (n_samples,), for example using ravel().\n",
      "  estimator.fit(X_train, y_train, **fit_params)\n",
      "[Parallel(n_jobs=3)]: Using backend LokyBackend with 3 concurrent workers.\n",
      "[Parallel(n_jobs=3)]: Done  44 tasks      | elapsed:   51.6s\n",
      "[Parallel(n_jobs=3)]: Done 194 tasks      | elapsed:  3.8min\n",
      "[Parallel(n_jobs=3)]: Done 444 tasks      | elapsed:  8.6min\n",
      "[Parallel(n_jobs=3)]: Done 794 tasks      | elapsed: 15.3min\n",
      "[Parallel(n_jobs=3)]: Done 1000 out of 1000 | elapsed: 19.1min finished\n",
      "[Parallel(n_jobs=3)]: Using backend ThreadingBackend with 3 concurrent workers.\n",
      "[Parallel(n_jobs=3)]: Done  44 tasks      | elapsed:    1.0s\n",
      "[Parallel(n_jobs=3)]: Done 194 tasks      | elapsed:    4.3s\n",
      "[Parallel(n_jobs=3)]: Done 444 tasks      | elapsed:    9.6s\n",
      "[Parallel(n_jobs=3)]: Done 794 tasks      | elapsed:   17.2s\n",
      "[Parallel(n_jobs=3)]: Done 1000 out of 1000 | elapsed:   21.6s finished\n"
     ]
    },
    {
     "name": "stdout",
     "output_type": "stream",
     "text": [
      "[CV] ................... max_depth=7, n_estimators=1000, total=19.5min\n",
      "[CV] max_depth=7, n_estimators=1000 ..................................\n"
     ]
    },
    {
     "name": "stderr",
     "output_type": "stream",
     "text": [
      "/home/andrew.tarasov1993.gmail.com/anaconda3/envs/tf_last/lib/python3.8/site-packages/sklearn/model_selection/_validation.py:531: DataConversionWarning: A column-vector y was passed when a 1d array was expected. Please change the shape of y to (n_samples,), for example using ravel().\n",
      "  estimator.fit(X_train, y_train, **fit_params)\n",
      "[Parallel(n_jobs=3)]: Using backend LokyBackend with 3 concurrent workers.\n",
      "[Parallel(n_jobs=3)]: Done  44 tasks      | elapsed:   50.0s\n",
      "[Parallel(n_jobs=3)]: Done 194 tasks      | elapsed:  3.6min\n",
      "[Parallel(n_jobs=3)]: Done 444 tasks      | elapsed:  8.2min\n",
      "[Parallel(n_jobs=3)]: Done 794 tasks      | elapsed: 14.8min\n",
      "[Parallel(n_jobs=3)]: Done 1000 out of 1000 | elapsed: 18.5min finished\n",
      "[Parallel(n_jobs=3)]: Using backend ThreadingBackend with 3 concurrent workers.\n",
      "[Parallel(n_jobs=3)]: Done  44 tasks      | elapsed:    1.0s\n",
      "[Parallel(n_jobs=3)]: Done 194 tasks      | elapsed:    4.3s\n",
      "[Parallel(n_jobs=3)]: Done 444 tasks      | elapsed:    9.7s\n",
      "[Parallel(n_jobs=3)]: Done 794 tasks      | elapsed:   17.2s\n",
      "[Parallel(n_jobs=3)]: Done 1000 out of 1000 | elapsed:   21.7s finished\n"
     ]
    },
    {
     "name": "stdout",
     "output_type": "stream",
     "text": [
      "[CV] ................... max_depth=7, n_estimators=1000, total=18.9min\n",
      "[CV] max_depth=7, n_estimators=1000 ..................................\n"
     ]
    },
    {
     "name": "stderr",
     "output_type": "stream",
     "text": [
      "/home/andrew.tarasov1993.gmail.com/anaconda3/envs/tf_last/lib/python3.8/site-packages/sklearn/model_selection/_validation.py:531: DataConversionWarning: A column-vector y was passed when a 1d array was expected. Please change the shape of y to (n_samples,), for example using ravel().\n",
      "  estimator.fit(X_train, y_train, **fit_params)\n",
      "[Parallel(n_jobs=3)]: Using backend LokyBackend with 3 concurrent workers.\n",
      "[Parallel(n_jobs=3)]: Done  44 tasks      | elapsed:   50.0s\n",
      "[Parallel(n_jobs=3)]: Done 194 tasks      | elapsed:  3.6min\n",
      "[Parallel(n_jobs=3)]: Done 444 tasks      | elapsed:  8.2min\n",
      "[Parallel(n_jobs=3)]: Done 794 tasks      | elapsed: 14.7min\n",
      "[Parallel(n_jobs=3)]: Done 1000 out of 1000 | elapsed: 18.5min finished\n",
      "[Parallel(n_jobs=3)]: Using backend ThreadingBackend with 3 concurrent workers.\n",
      "[Parallel(n_jobs=3)]: Done  44 tasks      | elapsed:    1.1s\n",
      "[Parallel(n_jobs=3)]: Done 194 tasks      | elapsed:    4.3s\n",
      "[Parallel(n_jobs=3)]: Done 444 tasks      | elapsed:    9.7s\n",
      "[Parallel(n_jobs=3)]: Done 794 tasks      | elapsed:   17.2s\n",
      "[Parallel(n_jobs=3)]: Done 1000 out of 1000 | elapsed:   21.7s finished\n"
     ]
    },
    {
     "name": "stdout",
     "output_type": "stream",
     "text": [
      "[CV] ................... max_depth=7, n_estimators=1000, total=18.9min\n",
      "[CV] max_depth=7, n_estimators=1000 ..................................\n"
     ]
    },
    {
     "name": "stderr",
     "output_type": "stream",
     "text": [
      "/home/andrew.tarasov1993.gmail.com/anaconda3/envs/tf_last/lib/python3.8/site-packages/sklearn/model_selection/_validation.py:531: DataConversionWarning: A column-vector y was passed when a 1d array was expected. Please change the shape of y to (n_samples,), for example using ravel().\n",
      "  estimator.fit(X_train, y_train, **fit_params)\n",
      "[Parallel(n_jobs=3)]: Using backend LokyBackend with 3 concurrent workers.\n",
      "[Parallel(n_jobs=3)]: Done  44 tasks      | elapsed:   49.3s\n",
      "[Parallel(n_jobs=3)]: Done 194 tasks      | elapsed:  3.6min\n",
      "[Parallel(n_jobs=3)]: Done 444 tasks      | elapsed:  8.2min\n",
      "[Parallel(n_jobs=3)]: Done 794 tasks      | elapsed: 14.7min\n",
      "[Parallel(n_jobs=3)]: Done 1000 out of 1000 | elapsed: 18.5min finished\n",
      "[Parallel(n_jobs=3)]: Using backend ThreadingBackend with 3 concurrent workers.\n",
      "[Parallel(n_jobs=3)]: Done  44 tasks      | elapsed:    1.0s\n",
      "[Parallel(n_jobs=3)]: Done 194 tasks      | elapsed:    4.3s\n",
      "[Parallel(n_jobs=3)]: Done 444 tasks      | elapsed:    9.7s\n",
      "[Parallel(n_jobs=3)]: Done 794 tasks      | elapsed:   17.3s\n",
      "[Parallel(n_jobs=3)]: Done 1000 out of 1000 | elapsed:   21.7s finished\n"
     ]
    },
    {
     "name": "stdout",
     "output_type": "stream",
     "text": [
      "[CV] ................... max_depth=7, n_estimators=1000, total=18.9min\n",
      "[CV] max_depth=7, n_estimators=1000 ..................................\n"
     ]
    },
    {
     "name": "stderr",
     "output_type": "stream",
     "text": [
      "/home/andrew.tarasov1993.gmail.com/anaconda3/envs/tf_last/lib/python3.8/site-packages/sklearn/model_selection/_validation.py:531: DataConversionWarning: A column-vector y was passed when a 1d array was expected. Please change the shape of y to (n_samples,), for example using ravel().\n",
      "  estimator.fit(X_train, y_train, **fit_params)\n",
      "[Parallel(n_jobs=3)]: Using backend LokyBackend with 3 concurrent workers.\n",
      "[Parallel(n_jobs=3)]: Done  44 tasks      | elapsed:   49.4s\n",
      "[Parallel(n_jobs=3)]: Done 194 tasks      | elapsed:  3.6min\n",
      "[Parallel(n_jobs=3)]: Done 444 tasks      | elapsed:  8.2min\n",
      "[Parallel(n_jobs=3)]: Done 794 tasks      | elapsed: 14.7min\n",
      "[Parallel(n_jobs=3)]: Done 1000 out of 1000 | elapsed: 18.5min finished\n",
      "[Parallel(n_jobs=3)]: Using backend ThreadingBackend with 3 concurrent workers.\n",
      "[Parallel(n_jobs=3)]: Done  44 tasks      | elapsed:    1.0s\n",
      "[Parallel(n_jobs=3)]: Done 194 tasks      | elapsed:    4.3s\n",
      "[Parallel(n_jobs=3)]: Done 444 tasks      | elapsed:    9.6s\n",
      "[Parallel(n_jobs=3)]: Done 794 tasks      | elapsed:   17.2s\n",
      "[Parallel(n_jobs=3)]: Done 1000 out of 1000 | elapsed:   21.7s finished\n"
     ]
    },
    {
     "name": "stdout",
     "output_type": "stream",
     "text": [
      "[CV] ................... max_depth=7, n_estimators=1000, total=18.9min\n",
      "[CV] max_depth=8, n_estimators=50 ....................................\n"
     ]
    },
    {
     "name": "stderr",
     "output_type": "stream",
     "text": [
      "/home/andrew.tarasov1993.gmail.com/anaconda3/envs/tf_last/lib/python3.8/site-packages/sklearn/model_selection/_validation.py:531: DataConversionWarning: A column-vector y was passed when a 1d array was expected. Please change the shape of y to (n_samples,), for example using ravel().\n",
      "  estimator.fit(X_train, y_train, **fit_params)\n",
      "[Parallel(n_jobs=3)]: Using backend LokyBackend with 3 concurrent workers.\n",
      "[Parallel(n_jobs=3)]: Done  44 tasks      | elapsed:   55.6s\n",
      "[Parallel(n_jobs=3)]: Done  50 out of  50 | elapsed:  1.0min finished\n",
      "[Parallel(n_jobs=3)]: Using backend ThreadingBackend with 3 concurrent workers.\n",
      "[Parallel(n_jobs=3)]: Done  44 tasks      | elapsed:    1.1s\n",
      "[Parallel(n_jobs=3)]: Done  50 out of  50 | elapsed:    1.2s finished\n"
     ]
    },
    {
     "name": "stdout",
     "output_type": "stream",
     "text": [
      "[CV] ..................... max_depth=8, n_estimators=50, total= 1.1min\n",
      "[CV] max_depth=8, n_estimators=50 ....................................\n"
     ]
    },
    {
     "name": "stderr",
     "output_type": "stream",
     "text": [
      "/home/andrew.tarasov1993.gmail.com/anaconda3/envs/tf_last/lib/python3.8/site-packages/sklearn/model_selection/_validation.py:531: DataConversionWarning: A column-vector y was passed when a 1d array was expected. Please change the shape of y to (n_samples,), for example using ravel().\n",
      "  estimator.fit(X_train, y_train, **fit_params)\n",
      "[Parallel(n_jobs=3)]: Using backend LokyBackend with 3 concurrent workers.\n",
      "[Parallel(n_jobs=3)]: Done  44 tasks      | elapsed:   55.1s\n",
      "[Parallel(n_jobs=3)]: Done  50 out of  50 | elapsed:  1.0min finished\n",
      "[Parallel(n_jobs=3)]: Using backend ThreadingBackend with 3 concurrent workers.\n",
      "[Parallel(n_jobs=3)]: Done  44 tasks      | elapsed:    1.1s\n",
      "[Parallel(n_jobs=3)]: Done  50 out of  50 | elapsed:    1.2s finished\n"
     ]
    },
    {
     "name": "stdout",
     "output_type": "stream",
     "text": [
      "[CV] ..................... max_depth=8, n_estimators=50, total= 1.1min\n",
      "[CV] max_depth=8, n_estimators=50 ....................................\n"
     ]
    },
    {
     "name": "stderr",
     "output_type": "stream",
     "text": [
      "/home/andrew.tarasov1993.gmail.com/anaconda3/envs/tf_last/lib/python3.8/site-packages/sklearn/model_selection/_validation.py:531: DataConversionWarning: A column-vector y was passed when a 1d array was expected. Please change the shape of y to (n_samples,), for example using ravel().\n",
      "  estimator.fit(X_train, y_train, **fit_params)\n",
      "[Parallel(n_jobs=3)]: Using backend LokyBackend with 3 concurrent workers.\n",
      "[Parallel(n_jobs=3)]: Done  44 tasks      | elapsed:   57.7s\n",
      "[Parallel(n_jobs=3)]: Done  50 out of  50 | elapsed:  1.1min finished\n",
      "[Parallel(n_jobs=3)]: Using backend ThreadingBackend with 3 concurrent workers.\n",
      "[Parallel(n_jobs=3)]: Done  44 tasks      | elapsed:    1.1s\n",
      "[Parallel(n_jobs=3)]: Done  50 out of  50 | elapsed:    1.2s finished\n"
     ]
    },
    {
     "name": "stdout",
     "output_type": "stream",
     "text": [
      "[CV] ..................... max_depth=8, n_estimators=50, total= 1.1min\n",
      "[CV] max_depth=8, n_estimators=50 ....................................\n"
     ]
    },
    {
     "name": "stderr",
     "output_type": "stream",
     "text": [
      "/home/andrew.tarasov1993.gmail.com/anaconda3/envs/tf_last/lib/python3.8/site-packages/sklearn/model_selection/_validation.py:531: DataConversionWarning: A column-vector y was passed when a 1d array was expected. Please change the shape of y to (n_samples,), for example using ravel().\n",
      "  estimator.fit(X_train, y_train, **fit_params)\n",
      "[Parallel(n_jobs=3)]: Using backend LokyBackend with 3 concurrent workers.\n",
      "[Parallel(n_jobs=3)]: Done  44 tasks      | elapsed:   54.4s\n",
      "[Parallel(n_jobs=3)]: Done  50 out of  50 | elapsed:  1.0min finished\n",
      "[Parallel(n_jobs=3)]: Using backend ThreadingBackend with 3 concurrent workers.\n",
      "[Parallel(n_jobs=3)]: Done  44 tasks      | elapsed:    1.1s\n",
      "[Parallel(n_jobs=3)]: Done  50 out of  50 | elapsed:    1.2s finished\n"
     ]
    },
    {
     "name": "stdout",
     "output_type": "stream",
     "text": [
      "[CV] ..................... max_depth=8, n_estimators=50, total= 1.1min\n",
      "[CV] max_depth=8, n_estimators=50 ....................................\n"
     ]
    },
    {
     "name": "stderr",
     "output_type": "stream",
     "text": [
      "/home/andrew.tarasov1993.gmail.com/anaconda3/envs/tf_last/lib/python3.8/site-packages/sklearn/model_selection/_validation.py:531: DataConversionWarning: A column-vector y was passed when a 1d array was expected. Please change the shape of y to (n_samples,), for example using ravel().\n",
      "  estimator.fit(X_train, y_train, **fit_params)\n",
      "[Parallel(n_jobs=3)]: Using backend LokyBackend with 3 concurrent workers.\n",
      "[Parallel(n_jobs=3)]: Done  44 tasks      | elapsed:   55.0s\n",
      "[Parallel(n_jobs=3)]: Done  50 out of  50 | elapsed:  1.1min finished\n",
      "[Parallel(n_jobs=3)]: Using backend ThreadingBackend with 3 concurrent workers.\n",
      "[Parallel(n_jobs=3)]: Done  44 tasks      | elapsed:    1.1s\n",
      "[Parallel(n_jobs=3)]: Done  50 out of  50 | elapsed:    1.2s finished\n"
     ]
    },
    {
     "name": "stdout",
     "output_type": "stream",
     "text": [
      "[CV] ..................... max_depth=8, n_estimators=50, total= 1.1min\n",
      "[CV] max_depth=8, n_estimators=75 ....................................\n"
     ]
    },
    {
     "name": "stderr",
     "output_type": "stream",
     "text": [
      "/home/andrew.tarasov1993.gmail.com/anaconda3/envs/tf_last/lib/python3.8/site-packages/sklearn/model_selection/_validation.py:531: DataConversionWarning: A column-vector y was passed when a 1d array was expected. Please change the shape of y to (n_samples,), for example using ravel().\n",
      "  estimator.fit(X_train, y_train, **fit_params)\n",
      "[Parallel(n_jobs=3)]: Using backend LokyBackend with 3 concurrent workers.\n",
      "[Parallel(n_jobs=3)]: Done  44 tasks      | elapsed:   56.6s\n",
      "[Parallel(n_jobs=3)]: Done  75 out of  75 | elapsed:  1.6min finished\n",
      "[Parallel(n_jobs=3)]: Using backend ThreadingBackend with 3 concurrent workers.\n",
      "[Parallel(n_jobs=3)]: Done  44 tasks      | elapsed:    1.1s\n",
      "[Parallel(n_jobs=3)]: Done  75 out of  75 | elapsed:    1.8s finished\n"
     ]
    },
    {
     "name": "stdout",
     "output_type": "stream",
     "text": [
      "[CV] ..................... max_depth=8, n_estimators=75, total= 1.7min\n",
      "[CV] max_depth=8, n_estimators=75 ....................................\n"
     ]
    },
    {
     "name": "stderr",
     "output_type": "stream",
     "text": [
      "/home/andrew.tarasov1993.gmail.com/anaconda3/envs/tf_last/lib/python3.8/site-packages/sklearn/model_selection/_validation.py:531: DataConversionWarning: A column-vector y was passed when a 1d array was expected. Please change the shape of y to (n_samples,), for example using ravel().\n",
      "  estimator.fit(X_train, y_train, **fit_params)\n",
      "[Parallel(n_jobs=3)]: Using backend LokyBackend with 3 concurrent workers.\n",
      "[Parallel(n_jobs=3)]: Done  44 tasks      | elapsed:   58.2s\n",
      "[Parallel(n_jobs=3)]: Done  75 out of  75 | elapsed:  1.6min finished\n",
      "[Parallel(n_jobs=3)]: Using backend ThreadingBackend with 3 concurrent workers.\n",
      "[Parallel(n_jobs=3)]: Done  44 tasks      | elapsed:    1.1s\n",
      "[Parallel(n_jobs=3)]: Done  75 out of  75 | elapsed:    1.8s finished\n"
     ]
    },
    {
     "name": "stdout",
     "output_type": "stream",
     "text": [
      "[CV] ..................... max_depth=8, n_estimators=75, total= 1.7min\n",
      "[CV] max_depth=8, n_estimators=75 ....................................\n"
     ]
    },
    {
     "name": "stderr",
     "output_type": "stream",
     "text": [
      "/home/andrew.tarasov1993.gmail.com/anaconda3/envs/tf_last/lib/python3.8/site-packages/sklearn/model_selection/_validation.py:531: DataConversionWarning: A column-vector y was passed when a 1d array was expected. Please change the shape of y to (n_samples,), for example using ravel().\n",
      "  estimator.fit(X_train, y_train, **fit_params)\n",
      "[Parallel(n_jobs=3)]: Using backend LokyBackend with 3 concurrent workers.\n",
      "[Parallel(n_jobs=3)]: Done  44 tasks      | elapsed:   58.0s\n",
      "[Parallel(n_jobs=3)]: Done  75 out of  75 | elapsed:  1.6min finished\n",
      "[Parallel(n_jobs=3)]: Using backend ThreadingBackend with 3 concurrent workers.\n",
      "[Parallel(n_jobs=3)]: Done  44 tasks      | elapsed:    1.1s\n",
      "[Parallel(n_jobs=3)]: Done  75 out of  75 | elapsed:    1.8s finished\n"
     ]
    },
    {
     "name": "stdout",
     "output_type": "stream",
     "text": [
      "[CV] ..................... max_depth=8, n_estimators=75, total= 1.7min\n",
      "[CV] max_depth=8, n_estimators=75 ....................................\n"
     ]
    },
    {
     "name": "stderr",
     "output_type": "stream",
     "text": [
      "/home/andrew.tarasov1993.gmail.com/anaconda3/envs/tf_last/lib/python3.8/site-packages/sklearn/model_selection/_validation.py:531: DataConversionWarning: A column-vector y was passed when a 1d array was expected. Please change the shape of y to (n_samples,), for example using ravel().\n",
      "  estimator.fit(X_train, y_train, **fit_params)\n",
      "[Parallel(n_jobs=3)]: Using backend LokyBackend with 3 concurrent workers.\n",
      "[Parallel(n_jobs=3)]: Done  44 tasks      | elapsed:   55.3s\n",
      "[Parallel(n_jobs=3)]: Done  75 out of  75 | elapsed:  1.6min finished\n",
      "[Parallel(n_jobs=3)]: Using backend ThreadingBackend with 3 concurrent workers.\n",
      "[Parallel(n_jobs=3)]: Done  44 tasks      | elapsed:    1.1s\n",
      "[Parallel(n_jobs=3)]: Done  75 out of  75 | elapsed:    1.8s finished\n"
     ]
    },
    {
     "name": "stdout",
     "output_type": "stream",
     "text": [
      "[CV] ..................... max_depth=8, n_estimators=75, total= 1.6min\n",
      "[CV] max_depth=8, n_estimators=75 ....................................\n"
     ]
    },
    {
     "name": "stderr",
     "output_type": "stream",
     "text": [
      "/home/andrew.tarasov1993.gmail.com/anaconda3/envs/tf_last/lib/python3.8/site-packages/sklearn/model_selection/_validation.py:531: DataConversionWarning: A column-vector y was passed when a 1d array was expected. Please change the shape of y to (n_samples,), for example using ravel().\n",
      "  estimator.fit(X_train, y_train, **fit_params)\n",
      "[Parallel(n_jobs=3)]: Using backend LokyBackend with 3 concurrent workers.\n",
      "[Parallel(n_jobs=3)]: Done  44 tasks      | elapsed:   54.6s\n",
      "[Parallel(n_jobs=3)]: Done  75 out of  75 | elapsed:  1.5min finished\n",
      "[Parallel(n_jobs=3)]: Using backend ThreadingBackend with 3 concurrent workers.\n",
      "[Parallel(n_jobs=3)]: Done  44 tasks      | elapsed:    1.1s\n",
      "[Parallel(n_jobs=3)]: Done  75 out of  75 | elapsed:    1.8s finished\n"
     ]
    },
    {
     "name": "stdout",
     "output_type": "stream",
     "text": [
      "[CV] ..................... max_depth=8, n_estimators=75, total= 1.6min\n",
      "[CV] max_depth=8, n_estimators=100 ...................................\n"
     ]
    },
    {
     "name": "stderr",
     "output_type": "stream",
     "text": [
      "/home/andrew.tarasov1993.gmail.com/anaconda3/envs/tf_last/lib/python3.8/site-packages/sklearn/model_selection/_validation.py:531: DataConversionWarning: A column-vector y was passed when a 1d array was expected. Please change the shape of y to (n_samples,), for example using ravel().\n",
      "  estimator.fit(X_train, y_train, **fit_params)\n",
      "[Parallel(n_jobs=3)]: Using backend LokyBackend with 3 concurrent workers.\n",
      "[Parallel(n_jobs=3)]: Done  44 tasks      | elapsed:   58.2s\n",
      "[Parallel(n_jobs=3)]: Done 100 out of 100 | elapsed:  2.2min finished\n",
      "[Parallel(n_jobs=3)]: Using backend ThreadingBackend with 3 concurrent workers.\n",
      "[Parallel(n_jobs=3)]: Done  44 tasks      | elapsed:    1.1s\n",
      "[Parallel(n_jobs=3)]: Done 100 out of 100 | elapsed:    2.4s finished\n"
     ]
    },
    {
     "name": "stdout",
     "output_type": "stream",
     "text": [
      "[CV] .................... max_depth=8, n_estimators=100, total= 2.2min\n",
      "[CV] max_depth=8, n_estimators=100 ...................................\n"
     ]
    },
    {
     "name": "stderr",
     "output_type": "stream",
     "text": [
      "/home/andrew.tarasov1993.gmail.com/anaconda3/envs/tf_last/lib/python3.8/site-packages/sklearn/model_selection/_validation.py:531: DataConversionWarning: A column-vector y was passed when a 1d array was expected. Please change the shape of y to (n_samples,), for example using ravel().\n",
      "  estimator.fit(X_train, y_train, **fit_params)\n",
      "[Parallel(n_jobs=3)]: Using backend LokyBackend with 3 concurrent workers.\n",
      "[Parallel(n_jobs=3)]: Done  44 tasks      | elapsed:   55.3s\n",
      "[Parallel(n_jobs=3)]: Done 100 out of 100 | elapsed:  2.1min finished\n",
      "[Parallel(n_jobs=3)]: Using backend ThreadingBackend with 3 concurrent workers.\n",
      "[Parallel(n_jobs=3)]: Done  44 tasks      | elapsed:    1.0s\n",
      "[Parallel(n_jobs=3)]: Done 100 out of 100 | elapsed:    2.3s finished\n"
     ]
    },
    {
     "name": "stdout",
     "output_type": "stream",
     "text": [
      "[CV] .................... max_depth=8, n_estimators=100, total= 2.1min\n",
      "[CV] max_depth=8, n_estimators=100 ...................................\n"
     ]
    },
    {
     "name": "stderr",
     "output_type": "stream",
     "text": [
      "/home/andrew.tarasov1993.gmail.com/anaconda3/envs/tf_last/lib/python3.8/site-packages/sklearn/model_selection/_validation.py:531: DataConversionWarning: A column-vector y was passed when a 1d array was expected. Please change the shape of y to (n_samples,), for example using ravel().\n",
      "  estimator.fit(X_train, y_train, **fit_params)\n",
      "[Parallel(n_jobs=3)]: Using backend LokyBackend with 3 concurrent workers.\n",
      "[Parallel(n_jobs=3)]: Done  44 tasks      | elapsed:   55.7s\n",
      "[Parallel(n_jobs=3)]: Done 100 out of 100 | elapsed:  2.1min finished\n",
      "[Parallel(n_jobs=3)]: Using backend ThreadingBackend with 3 concurrent workers.\n",
      "[Parallel(n_jobs=3)]: Done  44 tasks      | elapsed:    1.1s\n",
      "[Parallel(n_jobs=3)]: Done 100 out of 100 | elapsed:    2.4s finished\n"
     ]
    },
    {
     "name": "stdout",
     "output_type": "stream",
     "text": [
      "[CV] .................... max_depth=8, n_estimators=100, total= 2.1min\n",
      "[CV] max_depth=8, n_estimators=100 ...................................\n"
     ]
    },
    {
     "name": "stderr",
     "output_type": "stream",
     "text": [
      "/home/andrew.tarasov1993.gmail.com/anaconda3/envs/tf_last/lib/python3.8/site-packages/sklearn/model_selection/_validation.py:531: DataConversionWarning: A column-vector y was passed when a 1d array was expected. Please change the shape of y to (n_samples,), for example using ravel().\n",
      "  estimator.fit(X_train, y_train, **fit_params)\n",
      "[Parallel(n_jobs=3)]: Using backend LokyBackend with 3 concurrent workers.\n",
      "[Parallel(n_jobs=3)]: Done  44 tasks      | elapsed:   54.7s\n",
      "[Parallel(n_jobs=3)]: Done 100 out of 100 | elapsed:  2.0min finished\n",
      "[Parallel(n_jobs=3)]: Using backend ThreadingBackend with 3 concurrent workers.\n",
      "[Parallel(n_jobs=3)]: Done  44 tasks      | elapsed:    1.0s\n",
      "[Parallel(n_jobs=3)]: Done 100 out of 100 | elapsed:    2.3s finished\n"
     ]
    },
    {
     "name": "stdout",
     "output_type": "stream",
     "text": [
      "[CV] .................... max_depth=8, n_estimators=100, total= 2.1min\n",
      "[CV] max_depth=8, n_estimators=100 ...................................\n"
     ]
    },
    {
     "name": "stderr",
     "output_type": "stream",
     "text": [
      "/home/andrew.tarasov1993.gmail.com/anaconda3/envs/tf_last/lib/python3.8/site-packages/sklearn/model_selection/_validation.py:531: DataConversionWarning: A column-vector y was passed when a 1d array was expected. Please change the shape of y to (n_samples,), for example using ravel().\n",
      "  estimator.fit(X_train, y_train, **fit_params)\n",
      "[Parallel(n_jobs=3)]: Using backend LokyBackend with 3 concurrent workers.\n",
      "[Parallel(n_jobs=3)]: Done  44 tasks      | elapsed:   57.2s\n",
      "[Parallel(n_jobs=3)]: Done 100 out of 100 | elapsed:  2.1min finished\n",
      "[Parallel(n_jobs=3)]: Using backend ThreadingBackend with 3 concurrent workers.\n",
      "[Parallel(n_jobs=3)]: Done  44 tasks      | elapsed:    1.1s\n",
      "[Parallel(n_jobs=3)]: Done 100 out of 100 | elapsed:    2.3s finished\n"
     ]
    },
    {
     "name": "stdout",
     "output_type": "stream",
     "text": [
      "[CV] .................... max_depth=8, n_estimators=100, total= 2.2min\n",
      "[CV] max_depth=8, n_estimators=250 ...................................\n"
     ]
    },
    {
     "name": "stderr",
     "output_type": "stream",
     "text": [
      "/home/andrew.tarasov1993.gmail.com/anaconda3/envs/tf_last/lib/python3.8/site-packages/sklearn/model_selection/_validation.py:531: DataConversionWarning: A column-vector y was passed when a 1d array was expected. Please change the shape of y to (n_samples,), for example using ravel().\n",
      "  estimator.fit(X_train, y_train, **fit_params)\n",
      "[Parallel(n_jobs=3)]: Using backend LokyBackend with 3 concurrent workers.\n",
      "[Parallel(n_jobs=3)]: Done  44 tasks      | elapsed:   55.0s\n",
      "[Parallel(n_jobs=3)]: Done 194 tasks      | elapsed:  4.0min\n",
      "[Parallel(n_jobs=3)]: Done 250 out of 250 | elapsed:  5.1min finished\n",
      "[Parallel(n_jobs=3)]: Using backend ThreadingBackend with 3 concurrent workers.\n",
      "[Parallel(n_jobs=3)]: Done  44 tasks      | elapsed:    1.0s\n",
      "[Parallel(n_jobs=3)]: Done 194 tasks      | elapsed:    4.4s\n",
      "[Parallel(n_jobs=3)]: Done 250 out of 250 | elapsed:    5.7s finished\n"
     ]
    },
    {
     "name": "stdout",
     "output_type": "stream",
     "text": [
      "[CV] .................... max_depth=8, n_estimators=250, total= 5.2min\n",
      "[CV] max_depth=8, n_estimators=250 ...................................\n"
     ]
    },
    {
     "name": "stderr",
     "output_type": "stream",
     "text": [
      "/home/andrew.tarasov1993.gmail.com/anaconda3/envs/tf_last/lib/python3.8/site-packages/sklearn/model_selection/_validation.py:531: DataConversionWarning: A column-vector y was passed when a 1d array was expected. Please change the shape of y to (n_samples,), for example using ravel().\n",
      "  estimator.fit(X_train, y_train, **fit_params)\n",
      "[Parallel(n_jobs=3)]: Using backend LokyBackend with 3 concurrent workers.\n",
      "[Parallel(n_jobs=3)]: Done  44 tasks      | elapsed:   54.7s\n",
      "[Parallel(n_jobs=3)]: Done 194 tasks      | elapsed:  3.9min\n",
      "[Parallel(n_jobs=3)]: Done 250 out of 250 | elapsed:  5.1min finished\n",
      "[Parallel(n_jobs=3)]: Using backend ThreadingBackend with 3 concurrent workers.\n",
      "[Parallel(n_jobs=3)]: Done  44 tasks      | elapsed:    1.1s\n",
      "[Parallel(n_jobs=3)]: Done 194 tasks      | elapsed:    4.5s\n",
      "[Parallel(n_jobs=3)]: Done 250 out of 250 | elapsed:    5.8s finished\n"
     ]
    },
    {
     "name": "stdout",
     "output_type": "stream",
     "text": [
      "[CV] .................... max_depth=8, n_estimators=250, total= 5.2min\n",
      "[CV] max_depth=8, n_estimators=250 ...................................\n"
     ]
    },
    {
     "name": "stderr",
     "output_type": "stream",
     "text": [
      "/home/andrew.tarasov1993.gmail.com/anaconda3/envs/tf_last/lib/python3.8/site-packages/sklearn/model_selection/_validation.py:531: DataConversionWarning: A column-vector y was passed when a 1d array was expected. Please change the shape of y to (n_samples,), for example using ravel().\n",
      "  estimator.fit(X_train, y_train, **fit_params)\n",
      "[Parallel(n_jobs=3)]: Using backend LokyBackend with 3 concurrent workers.\n",
      "[Parallel(n_jobs=3)]: Done  44 tasks      | elapsed:   55.0s\n",
      "[Parallel(n_jobs=3)]: Done 194 tasks      | elapsed:  4.0min\n",
      "[Parallel(n_jobs=3)]: Done 250 out of 250 | elapsed:  5.1min finished\n",
      "[Parallel(n_jobs=3)]: Using backend ThreadingBackend with 3 concurrent workers.\n",
      "[Parallel(n_jobs=3)]: Done  44 tasks      | elapsed:    1.0s\n",
      "[Parallel(n_jobs=3)]: Done 194 tasks      | elapsed:    4.4s\n",
      "[Parallel(n_jobs=3)]: Done 250 out of 250 | elapsed:    5.7s finished\n"
     ]
    },
    {
     "name": "stdout",
     "output_type": "stream",
     "text": [
      "[CV] .................... max_depth=8, n_estimators=250, total= 5.2min\n",
      "[CV] max_depth=8, n_estimators=250 ...................................\n"
     ]
    },
    {
     "name": "stderr",
     "output_type": "stream",
     "text": [
      "/home/andrew.tarasov1993.gmail.com/anaconda3/envs/tf_last/lib/python3.8/site-packages/sklearn/model_selection/_validation.py:531: DataConversionWarning: A column-vector y was passed when a 1d array was expected. Please change the shape of y to (n_samples,), for example using ravel().\n",
      "  estimator.fit(X_train, y_train, **fit_params)\n",
      "[Parallel(n_jobs=3)]: Using backend LokyBackend with 3 concurrent workers.\n",
      "[Parallel(n_jobs=3)]: Done  44 tasks      | elapsed:   57.7s\n",
      "[Parallel(n_jobs=3)]: Done 194 tasks      | elapsed:  4.2min\n",
      "[Parallel(n_jobs=3)]: Done 250 out of 250 | elapsed:  5.4min finished\n",
      "[Parallel(n_jobs=3)]: Using backend ThreadingBackend with 3 concurrent workers.\n",
      "[Parallel(n_jobs=3)]: Done  44 tasks      | elapsed:    1.1s\n",
      "[Parallel(n_jobs=3)]: Done 194 tasks      | elapsed:    4.5s\n",
      "[Parallel(n_jobs=3)]: Done 250 out of 250 | elapsed:    5.8s finished\n"
     ]
    },
    {
     "name": "stdout",
     "output_type": "stream",
     "text": [
      "[CV] .................... max_depth=8, n_estimators=250, total= 5.5min\n",
      "[CV] max_depth=8, n_estimators=250 ...................................\n"
     ]
    },
    {
     "name": "stderr",
     "output_type": "stream",
     "text": [
      "/home/andrew.tarasov1993.gmail.com/anaconda3/envs/tf_last/lib/python3.8/site-packages/sklearn/model_selection/_validation.py:531: DataConversionWarning: A column-vector y was passed when a 1d array was expected. Please change the shape of y to (n_samples,), for example using ravel().\n",
      "  estimator.fit(X_train, y_train, **fit_params)\n",
      "[Parallel(n_jobs=3)]: Using backend LokyBackend with 3 concurrent workers.\n",
      "[Parallel(n_jobs=3)]: Done  44 tasks      | elapsed:   55.3s\n",
      "[Parallel(n_jobs=3)]: Done 194 tasks      | elapsed:  4.0min\n",
      "[Parallel(n_jobs=3)]: Done 250 out of 250 | elapsed:  5.1min finished\n",
      "[Parallel(n_jobs=3)]: Using backend ThreadingBackend with 3 concurrent workers.\n",
      "[Parallel(n_jobs=3)]: Done  44 tasks      | elapsed:    1.1s\n",
      "[Parallel(n_jobs=3)]: Done 194 tasks      | elapsed:    4.5s\n",
      "[Parallel(n_jobs=3)]: Done 250 out of 250 | elapsed:    5.8s finished\n"
     ]
    },
    {
     "name": "stdout",
     "output_type": "stream",
     "text": [
      "[CV] .................... max_depth=8, n_estimators=250, total= 5.2min\n",
      "[CV] max_depth=8, n_estimators=500 ...................................\n"
     ]
    },
    {
     "name": "stderr",
     "output_type": "stream",
     "text": [
      "/home/andrew.tarasov1993.gmail.com/anaconda3/envs/tf_last/lib/python3.8/site-packages/sklearn/model_selection/_validation.py:531: DataConversionWarning: A column-vector y was passed when a 1d array was expected. Please change the shape of y to (n_samples,), for example using ravel().\n",
      "  estimator.fit(X_train, y_train, **fit_params)\n",
      "[Parallel(n_jobs=3)]: Using backend LokyBackend with 3 concurrent workers.\n",
      "[Parallel(n_jobs=3)]: Done  44 tasks      | elapsed:   55.6s\n",
      "[Parallel(n_jobs=3)]: Done 194 tasks      | elapsed:  4.0min\n",
      "[Parallel(n_jobs=3)]: Done 444 tasks      | elapsed:  9.0min\n",
      "[Parallel(n_jobs=3)]: Done 500 out of 500 | elapsed: 10.2min finished\n",
      "[Parallel(n_jobs=3)]: Using backend ThreadingBackend with 3 concurrent workers.\n",
      "[Parallel(n_jobs=3)]: Done  44 tasks      | elapsed:    1.1s\n",
      "[Parallel(n_jobs=3)]: Done 194 tasks      | elapsed:    4.5s\n",
      "[Parallel(n_jobs=3)]: Done 444 tasks      | elapsed:   10.3s\n",
      "[Parallel(n_jobs=3)]: Done 500 out of 500 | elapsed:   11.5s finished\n"
     ]
    },
    {
     "name": "stdout",
     "output_type": "stream",
     "text": [
      "[CV] .................... max_depth=8, n_estimators=500, total=10.4min\n",
      "[CV] max_depth=8, n_estimators=500 ...................................\n"
     ]
    },
    {
     "name": "stderr",
     "output_type": "stream",
     "text": [
      "/home/andrew.tarasov1993.gmail.com/anaconda3/envs/tf_last/lib/python3.8/site-packages/sklearn/model_selection/_validation.py:531: DataConversionWarning: A column-vector y was passed when a 1d array was expected. Please change the shape of y to (n_samples,), for example using ravel().\n",
      "  estimator.fit(X_train, y_train, **fit_params)\n",
      "[Parallel(n_jobs=3)]: Using backend LokyBackend with 3 concurrent workers.\n",
      "[Parallel(n_jobs=3)]: Done  44 tasks      | elapsed:   55.7s\n",
      "[Parallel(n_jobs=3)]: Done 194 tasks      | elapsed:  4.0min\n",
      "[Parallel(n_jobs=3)]: Done 444 tasks      | elapsed:  9.1min\n",
      "[Parallel(n_jobs=3)]: Done 500 out of 500 | elapsed: 10.2min finished\n",
      "[Parallel(n_jobs=3)]: Using backend ThreadingBackend with 3 concurrent workers.\n",
      "[Parallel(n_jobs=3)]: Done  44 tasks      | elapsed:    1.1s\n",
      "[Parallel(n_jobs=3)]: Done 194 tasks      | elapsed:    4.5s\n",
      "[Parallel(n_jobs=3)]: Done 444 tasks      | elapsed:   10.2s\n",
      "[Parallel(n_jobs=3)]: Done 500 out of 500 | elapsed:   11.5s finished\n"
     ]
    },
    {
     "name": "stdout",
     "output_type": "stream",
     "text": [
      "[CV] .................... max_depth=8, n_estimators=500, total=10.4min\n",
      "[CV] max_depth=8, n_estimators=500 ...................................\n"
     ]
    },
    {
     "name": "stderr",
     "output_type": "stream",
     "text": [
      "/home/andrew.tarasov1993.gmail.com/anaconda3/envs/tf_last/lib/python3.8/site-packages/sklearn/model_selection/_validation.py:531: DataConversionWarning: A column-vector y was passed when a 1d array was expected. Please change the shape of y to (n_samples,), for example using ravel().\n",
      "  estimator.fit(X_train, y_train, **fit_params)\n",
      "[Parallel(n_jobs=3)]: Using backend LokyBackend with 3 concurrent workers.\n",
      "[Parallel(n_jobs=3)]: Done  44 tasks      | elapsed:   57.6s\n",
      "[Parallel(n_jobs=3)]: Done 194 tasks      | elapsed:  4.2min\n",
      "[Parallel(n_jobs=3)]: Done 444 tasks      | elapsed:  9.5min\n",
      "[Parallel(n_jobs=3)]: Done 500 out of 500 | elapsed: 10.7min finished\n",
      "[Parallel(n_jobs=3)]: Using backend ThreadingBackend with 3 concurrent workers.\n",
      "[Parallel(n_jobs=3)]: Done  44 tasks      | elapsed:    1.1s\n",
      "[Parallel(n_jobs=3)]: Done 194 tasks      | elapsed:    4.6s\n",
      "[Parallel(n_jobs=3)]: Done 444 tasks      | elapsed:   10.2s\n",
      "[Parallel(n_jobs=3)]: Done 500 out of 500 | elapsed:   11.5s finished\n"
     ]
    },
    {
     "name": "stdout",
     "output_type": "stream",
     "text": [
      "[CV] .................... max_depth=8, n_estimators=500, total=10.9min\n",
      "[CV] max_depth=8, n_estimators=500 ...................................\n"
     ]
    },
    {
     "name": "stderr",
     "output_type": "stream",
     "text": [
      "/home/andrew.tarasov1993.gmail.com/anaconda3/envs/tf_last/lib/python3.8/site-packages/sklearn/model_selection/_validation.py:531: DataConversionWarning: A column-vector y was passed when a 1d array was expected. Please change the shape of y to (n_samples,), for example using ravel().\n",
      "  estimator.fit(X_train, y_train, **fit_params)\n",
      "[Parallel(n_jobs=3)]: Using backend LokyBackend with 3 concurrent workers.\n",
      "[Parallel(n_jobs=3)]: Done  44 tasks      | elapsed:   54.4s\n",
      "[Parallel(n_jobs=3)]: Done 194 tasks      | elapsed:  4.0min\n",
      "[Parallel(n_jobs=3)]: Done 444 tasks      | elapsed:  9.1min\n",
      "[Parallel(n_jobs=3)]: Done 500 out of 500 | elapsed: 10.2min finished\n",
      "[Parallel(n_jobs=3)]: Using backend ThreadingBackend with 3 concurrent workers.\n",
      "[Parallel(n_jobs=3)]: Done  44 tasks      | elapsed:    1.1s\n",
      "[Parallel(n_jobs=3)]: Done 194 tasks      | elapsed:    4.5s\n",
      "[Parallel(n_jobs=3)]: Done 444 tasks      | elapsed:   10.2s\n",
      "[Parallel(n_jobs=3)]: Done 500 out of 500 | elapsed:   11.5s finished\n"
     ]
    },
    {
     "name": "stdout",
     "output_type": "stream",
     "text": [
      "[CV] .................... max_depth=8, n_estimators=500, total=10.4min\n",
      "[CV] max_depth=8, n_estimators=500 ...................................\n"
     ]
    },
    {
     "name": "stderr",
     "output_type": "stream",
     "text": [
      "/home/andrew.tarasov1993.gmail.com/anaconda3/envs/tf_last/lib/python3.8/site-packages/sklearn/model_selection/_validation.py:531: DataConversionWarning: A column-vector y was passed when a 1d array was expected. Please change the shape of y to (n_samples,), for example using ravel().\n",
      "  estimator.fit(X_train, y_train, **fit_params)\n",
      "[Parallel(n_jobs=3)]: Using backend LokyBackend with 3 concurrent workers.\n",
      "[Parallel(n_jobs=3)]: Done  44 tasks      | elapsed:   54.6s\n",
      "[Parallel(n_jobs=3)]: Done 194 tasks      | elapsed:  3.9min\n",
      "[Parallel(n_jobs=3)]: Done 444 tasks      | elapsed:  9.1min\n",
      "[Parallel(n_jobs=3)]: Done 500 out of 500 | elapsed: 10.2min finished\n",
      "[Parallel(n_jobs=3)]: Using backend ThreadingBackend with 3 concurrent workers.\n",
      "[Parallel(n_jobs=3)]: Done  44 tasks      | elapsed:    1.0s\n",
      "[Parallel(n_jobs=3)]: Done 194 tasks      | elapsed:    4.5s\n",
      "[Parallel(n_jobs=3)]: Done 444 tasks      | elapsed:   10.2s\n",
      "[Parallel(n_jobs=3)]: Done 500 out of 500 | elapsed:   11.5s finished\n"
     ]
    },
    {
     "name": "stdout",
     "output_type": "stream",
     "text": [
      "[CV] .................... max_depth=8, n_estimators=500, total=10.4min\n",
      "[CV] max_depth=8, n_estimators=1000 ..................................\n"
     ]
    },
    {
     "name": "stderr",
     "output_type": "stream",
     "text": [
      "/home/andrew.tarasov1993.gmail.com/anaconda3/envs/tf_last/lib/python3.8/site-packages/sklearn/model_selection/_validation.py:531: DataConversionWarning: A column-vector y was passed when a 1d array was expected. Please change the shape of y to (n_samples,), for example using ravel().\n",
      "  estimator.fit(X_train, y_train, **fit_params)\n",
      "[Parallel(n_jobs=3)]: Using backend LokyBackend with 3 concurrent workers.\n",
      "[Parallel(n_jobs=3)]: Done  44 tasks      | elapsed:   57.5s\n",
      "[Parallel(n_jobs=3)]: Done 194 tasks      | elapsed:  4.2min\n",
      "[Parallel(n_jobs=3)]: Done 444 tasks      | elapsed:  9.3min\n",
      "[Parallel(n_jobs=3)]: Done 794 tasks      | elapsed: 16.4min\n",
      "[Parallel(n_jobs=3)]: Done 1000 out of 1000 | elapsed: 20.6min finished\n",
      "[Parallel(n_jobs=3)]: Using backend ThreadingBackend with 3 concurrent workers.\n",
      "[Parallel(n_jobs=3)]: Done  44 tasks      | elapsed:    1.1s\n",
      "[Parallel(n_jobs=3)]: Done 194 tasks      | elapsed:    4.5s\n",
      "[Parallel(n_jobs=3)]: Done 444 tasks      | elapsed:   10.1s\n",
      "[Parallel(n_jobs=3)]: Done 794 tasks      | elapsed:   18.0s\n",
      "[Parallel(n_jobs=3)]: Done 1000 out of 1000 | elapsed:   22.8s finished\n"
     ]
    },
    {
     "name": "stdout",
     "output_type": "stream",
     "text": [
      "[CV] ................... max_depth=8, n_estimators=1000, total=21.0min\n",
      "[CV] max_depth=8, n_estimators=1000 ..................................\n"
     ]
    },
    {
     "name": "stderr",
     "output_type": "stream",
     "text": [
      "/home/andrew.tarasov1993.gmail.com/anaconda3/envs/tf_last/lib/python3.8/site-packages/sklearn/model_selection/_validation.py:531: DataConversionWarning: A column-vector y was passed when a 1d array was expected. Please change the shape of y to (n_samples,), for example using ravel().\n",
      "  estimator.fit(X_train, y_train, **fit_params)\n",
      "[Parallel(n_jobs=3)]: Using backend LokyBackend with 3 concurrent workers.\n",
      "[Parallel(n_jobs=3)]: Done  44 tasks      | elapsed:   56.9s\n",
      "[Parallel(n_jobs=3)]: Done 194 tasks      | elapsed:  4.2min\n",
      "[Parallel(n_jobs=3)]: Done 444 tasks      | elapsed:  9.3min\n",
      "[Parallel(n_jobs=3)]: Done 794 tasks      | elapsed: 16.6min\n",
      "[Parallel(n_jobs=3)]: Done 1000 out of 1000 | elapsed: 21.0min finished\n",
      "[Parallel(n_jobs=3)]: Using backend ThreadingBackend with 3 concurrent workers.\n",
      "[Parallel(n_jobs=3)]: Done  44 tasks      | elapsed:    1.1s\n",
      "[Parallel(n_jobs=3)]: Done 194 tasks      | elapsed:    4.5s\n",
      "[Parallel(n_jobs=3)]: Done 444 tasks      | elapsed:   10.2s\n",
      "[Parallel(n_jobs=3)]: Done 794 tasks      | elapsed:   18.2s\n",
      "[Parallel(n_jobs=3)]: Done 1000 out of 1000 | elapsed:   22.9s finished\n"
     ]
    },
    {
     "name": "stdout",
     "output_type": "stream",
     "text": [
      "[CV] ................... max_depth=8, n_estimators=1000, total=21.4min\n",
      "[CV] max_depth=8, n_estimators=1000 ..................................\n"
     ]
    },
    {
     "name": "stderr",
     "output_type": "stream",
     "text": [
      "/home/andrew.tarasov1993.gmail.com/anaconda3/envs/tf_last/lib/python3.8/site-packages/sklearn/model_selection/_validation.py:531: DataConversionWarning: A column-vector y was passed when a 1d array was expected. Please change the shape of y to (n_samples,), for example using ravel().\n",
      "  estimator.fit(X_train, y_train, **fit_params)\n",
      "[Parallel(n_jobs=3)]: Using backend LokyBackend with 3 concurrent workers.\n",
      "[Parallel(n_jobs=3)]: Done  44 tasks      | elapsed:   58.1s\n",
      "[Parallel(n_jobs=3)]: Done 194 tasks      | elapsed:  4.2min\n",
      "[Parallel(n_jobs=3)]: Done 444 tasks      | elapsed:  9.5min\n",
      "[Parallel(n_jobs=3)]: Done 794 tasks      | elapsed: 17.0min\n",
      "[Parallel(n_jobs=3)]: Done 1000 out of 1000 | elapsed: 21.1min finished\n",
      "[Parallel(n_jobs=3)]: Using backend ThreadingBackend with 3 concurrent workers.\n",
      "[Parallel(n_jobs=3)]: Done  44 tasks      | elapsed:    1.1s\n",
      "[Parallel(n_jobs=3)]: Done 194 tasks      | elapsed:    4.5s\n",
      "[Parallel(n_jobs=3)]: Done 444 tasks      | elapsed:   10.3s\n",
      "[Parallel(n_jobs=3)]: Done 794 tasks      | elapsed:   18.2s\n",
      "[Parallel(n_jobs=3)]: Done 1000 out of 1000 | elapsed:   22.9s finished\n"
     ]
    },
    {
     "name": "stdout",
     "output_type": "stream",
     "text": [
      "[CV] ................... max_depth=8, n_estimators=1000, total=21.5min\n",
      "[CV] max_depth=8, n_estimators=1000 ..................................\n"
     ]
    },
    {
     "name": "stderr",
     "output_type": "stream",
     "text": [
      "/home/andrew.tarasov1993.gmail.com/anaconda3/envs/tf_last/lib/python3.8/site-packages/sklearn/model_selection/_validation.py:531: DataConversionWarning: A column-vector y was passed when a 1d array was expected. Please change the shape of y to (n_samples,), for example using ravel().\n",
      "  estimator.fit(X_train, y_train, **fit_params)\n",
      "[Parallel(n_jobs=3)]: Using backend LokyBackend with 3 concurrent workers.\n",
      "[Parallel(n_jobs=3)]: Done  44 tasks      | elapsed:   54.1s\n",
      "[Parallel(n_jobs=3)]: Done 194 tasks      | elapsed:  4.0min\n",
      "[Parallel(n_jobs=3)]: Done 444 tasks      | elapsed:  9.1min\n",
      "[Parallel(n_jobs=3)]: Done 794 tasks      | elapsed: 16.5min\n",
      "[Parallel(n_jobs=3)]: Done 1000 out of 1000 | elapsed: 20.9min finished\n",
      "[Parallel(n_jobs=3)]: Using backend ThreadingBackend with 3 concurrent workers.\n",
      "[Parallel(n_jobs=3)]: Done  44 tasks      | elapsed:    1.1s\n",
      "[Parallel(n_jobs=3)]: Done 194 tasks      | elapsed:    4.5s\n",
      "[Parallel(n_jobs=3)]: Done 444 tasks      | elapsed:   10.1s\n",
      "[Parallel(n_jobs=3)]: Done 794 tasks      | elapsed:   18.1s\n",
      "[Parallel(n_jobs=3)]: Done 1000 out of 1000 | elapsed:   22.8s finished\n"
     ]
    },
    {
     "name": "stdout",
     "output_type": "stream",
     "text": [
      "[CV] ................... max_depth=8, n_estimators=1000, total=21.3min\n",
      "[CV] max_depth=8, n_estimators=1000 ..................................\n"
     ]
    },
    {
     "name": "stderr",
     "output_type": "stream",
     "text": [
      "/home/andrew.tarasov1993.gmail.com/anaconda3/envs/tf_last/lib/python3.8/site-packages/sklearn/model_selection/_validation.py:531: DataConversionWarning: A column-vector y was passed when a 1d array was expected. Please change the shape of y to (n_samples,), for example using ravel().\n",
      "  estimator.fit(X_train, y_train, **fit_params)\n",
      "[Parallel(n_jobs=3)]: Using backend LokyBackend with 3 concurrent workers.\n",
      "[Parallel(n_jobs=3)]: Done  44 tasks      | elapsed:   58.7s\n",
      "[Parallel(n_jobs=3)]: Done 194 tasks      | elapsed:  4.1min\n",
      "[Parallel(n_jobs=3)]: Done 444 tasks      | elapsed:  9.2min\n",
      "[Parallel(n_jobs=3)]: Done 794 tasks      | elapsed: 16.4min\n",
      "[Parallel(n_jobs=3)]: Done 1000 out of 1000 | elapsed: 20.6min finished\n",
      "[Parallel(n_jobs=3)]: Using backend ThreadingBackend with 3 concurrent workers.\n",
      "[Parallel(n_jobs=3)]: Done  44 tasks      | elapsed:    1.1s\n",
      "[Parallel(n_jobs=3)]: Done 194 tasks      | elapsed:    4.5s\n",
      "[Parallel(n_jobs=3)]: Done 444 tasks      | elapsed:   10.2s\n",
      "[Parallel(n_jobs=3)]: Done 794 tasks      | elapsed:   18.2s\n",
      "[Parallel(n_jobs=3)]: Done 1000 out of 1000 | elapsed:   22.9s finished\n"
     ]
    },
    {
     "name": "stdout",
     "output_type": "stream",
     "text": [
      "[CV] ................... max_depth=8, n_estimators=1000, total=21.0min\n",
      "[CV] max_depth=9, n_estimators=50 ....................................\n"
     ]
    },
    {
     "name": "stderr",
     "output_type": "stream",
     "text": [
      "/home/andrew.tarasov1993.gmail.com/anaconda3/envs/tf_last/lib/python3.8/site-packages/sklearn/model_selection/_validation.py:531: DataConversionWarning: A column-vector y was passed when a 1d array was expected. Please change the shape of y to (n_samples,), for example using ravel().\n",
      "  estimator.fit(X_train, y_train, **fit_params)\n",
      "[Parallel(n_jobs=3)]: Using backend LokyBackend with 3 concurrent workers.\n",
      "[Parallel(n_jobs=3)]: Done  44 tasks      | elapsed:   58.1s\n",
      "[Parallel(n_jobs=3)]: Done  50 out of  50 | elapsed:  1.1min finished\n",
      "[Parallel(n_jobs=3)]: Using backend ThreadingBackend with 3 concurrent workers.\n",
      "[Parallel(n_jobs=3)]: Done  44 tasks      | elapsed:    1.2s\n",
      "[Parallel(n_jobs=3)]: Done  50 out of  50 | elapsed:    1.3s finished\n"
     ]
    },
    {
     "name": "stdout",
     "output_type": "stream",
     "text": [
      "[CV] ..................... max_depth=9, n_estimators=50, total= 1.1min\n",
      "[CV] max_depth=9, n_estimators=50 ....................................\n"
     ]
    },
    {
     "name": "stderr",
     "output_type": "stream",
     "text": [
      "/home/andrew.tarasov1993.gmail.com/anaconda3/envs/tf_last/lib/python3.8/site-packages/sklearn/model_selection/_validation.py:531: DataConversionWarning: A column-vector y was passed when a 1d array was expected. Please change the shape of y to (n_samples,), for example using ravel().\n",
      "  estimator.fit(X_train, y_train, **fit_params)\n",
      "[Parallel(n_jobs=3)]: Using backend LokyBackend with 3 concurrent workers.\n",
      "[Parallel(n_jobs=3)]: Done  44 tasks      | elapsed:  1.0min\n",
      "[Parallel(n_jobs=3)]: Done  50 out of  50 | elapsed:  1.2min finished\n",
      "[Parallel(n_jobs=3)]: Using backend ThreadingBackend with 3 concurrent workers.\n",
      "[Parallel(n_jobs=3)]: Done  44 tasks      | elapsed:    1.2s\n",
      "[Parallel(n_jobs=3)]: Done  50 out of  50 | elapsed:    1.3s finished\n"
     ]
    },
    {
     "name": "stdout",
     "output_type": "stream",
     "text": [
      "[CV] ..................... max_depth=9, n_estimators=50, total= 1.2min\n",
      "[CV] max_depth=9, n_estimators=50 ....................................\n"
     ]
    },
    {
     "name": "stderr",
     "output_type": "stream",
     "text": [
      "/home/andrew.tarasov1993.gmail.com/anaconda3/envs/tf_last/lib/python3.8/site-packages/sklearn/model_selection/_validation.py:531: DataConversionWarning: A column-vector y was passed when a 1d array was expected. Please change the shape of y to (n_samples,), for example using ravel().\n",
      "  estimator.fit(X_train, y_train, **fit_params)\n",
      "[Parallel(n_jobs=3)]: Using backend LokyBackend with 3 concurrent workers.\n",
      "[Parallel(n_jobs=3)]: Done  44 tasks      | elapsed:  1.0min\n",
      "[Parallel(n_jobs=3)]: Done  50 out of  50 | elapsed:  1.1min finished\n",
      "[Parallel(n_jobs=3)]: Using backend ThreadingBackend with 3 concurrent workers.\n",
      "[Parallel(n_jobs=3)]: Done  44 tasks      | elapsed:    1.1s\n",
      "[Parallel(n_jobs=3)]: Done  50 out of  50 | elapsed:    1.3s finished\n"
     ]
    },
    {
     "name": "stdout",
     "output_type": "stream",
     "text": [
      "[CV] ..................... max_depth=9, n_estimators=50, total= 1.2min\n",
      "[CV] max_depth=9, n_estimators=50 ....................................\n"
     ]
    },
    {
     "name": "stderr",
     "output_type": "stream",
     "text": [
      "/home/andrew.tarasov1993.gmail.com/anaconda3/envs/tf_last/lib/python3.8/site-packages/sklearn/model_selection/_validation.py:531: DataConversionWarning: A column-vector y was passed when a 1d array was expected. Please change the shape of y to (n_samples,), for example using ravel().\n",
      "  estimator.fit(X_train, y_train, **fit_params)\n",
      "[Parallel(n_jobs=3)]: Using backend LokyBackend with 3 concurrent workers.\n",
      "[Parallel(n_jobs=3)]: Done  44 tasks      | elapsed:   58.7s\n",
      "[Parallel(n_jobs=3)]: Done  50 out of  50 | elapsed:  1.1min finished\n",
      "[Parallel(n_jobs=3)]: Using backend ThreadingBackend with 3 concurrent workers.\n",
      "[Parallel(n_jobs=3)]: Done  44 tasks      | elapsed:    1.1s\n",
      "[Parallel(n_jobs=3)]: Done  50 out of  50 | elapsed:    1.3s finished\n"
     ]
    },
    {
     "name": "stdout",
     "output_type": "stream",
     "text": [
      "[CV] ..................... max_depth=9, n_estimators=50, total= 1.2min\n",
      "[CV] max_depth=9, n_estimators=50 ....................................\n"
     ]
    },
    {
     "name": "stderr",
     "output_type": "stream",
     "text": [
      "/home/andrew.tarasov1993.gmail.com/anaconda3/envs/tf_last/lib/python3.8/site-packages/sklearn/model_selection/_validation.py:531: DataConversionWarning: A column-vector y was passed when a 1d array was expected. Please change the shape of y to (n_samples,), for example using ravel().\n",
      "  estimator.fit(X_train, y_train, **fit_params)\n",
      "[Parallel(n_jobs=3)]: Using backend LokyBackend with 3 concurrent workers.\n",
      "[Parallel(n_jobs=3)]: Done  44 tasks      | elapsed:   59.0s\n",
      "[Parallel(n_jobs=3)]: Done  50 out of  50 | elapsed:  1.1min finished\n",
      "[Parallel(n_jobs=3)]: Using backend ThreadingBackend with 3 concurrent workers.\n",
      "[Parallel(n_jobs=3)]: Done  44 tasks      | elapsed:    1.2s\n",
      "[Parallel(n_jobs=3)]: Done  50 out of  50 | elapsed:    1.3s finished\n"
     ]
    },
    {
     "name": "stdout",
     "output_type": "stream",
     "text": [
      "[CV] ..................... max_depth=9, n_estimators=50, total= 1.1min\n",
      "[CV] max_depth=9, n_estimators=75 ....................................\n"
     ]
    },
    {
     "name": "stderr",
     "output_type": "stream",
     "text": [
      "/home/andrew.tarasov1993.gmail.com/anaconda3/envs/tf_last/lib/python3.8/site-packages/sklearn/model_selection/_validation.py:531: DataConversionWarning: A column-vector y was passed when a 1d array was expected. Please change the shape of y to (n_samples,), for example using ravel().\n",
      "  estimator.fit(X_train, y_train, **fit_params)\n",
      "[Parallel(n_jobs=3)]: Using backend LokyBackend with 3 concurrent workers.\n",
      "[Parallel(n_jobs=3)]: Done  44 tasks      | elapsed:   58.6s\n",
      "[Parallel(n_jobs=3)]: Done  75 out of  75 | elapsed:  1.7min finished\n",
      "[Parallel(n_jobs=3)]: Using backend ThreadingBackend with 3 concurrent workers.\n",
      "[Parallel(n_jobs=3)]: Done  44 tasks      | elapsed:    1.2s\n",
      "[Parallel(n_jobs=3)]: Done  75 out of  75 | elapsed:    1.9s finished\n"
     ]
    },
    {
     "name": "stdout",
     "output_type": "stream",
     "text": [
      "[CV] ..................... max_depth=9, n_estimators=75, total= 1.7min\n",
      "[CV] max_depth=9, n_estimators=75 ....................................\n"
     ]
    },
    {
     "name": "stderr",
     "output_type": "stream",
     "text": [
      "/home/andrew.tarasov1993.gmail.com/anaconda3/envs/tf_last/lib/python3.8/site-packages/sklearn/model_selection/_validation.py:531: DataConversionWarning: A column-vector y was passed when a 1d array was expected. Please change the shape of y to (n_samples,), for example using ravel().\n",
      "  estimator.fit(X_train, y_train, **fit_params)\n",
      "[Parallel(n_jobs=3)]: Using backend LokyBackend with 3 concurrent workers.\n",
      "[Parallel(n_jobs=3)]: Done  44 tasks      | elapsed:  1.0min\n",
      "[Parallel(n_jobs=3)]: Done  75 out of  75 | elapsed:  1.7min finished\n",
      "[Parallel(n_jobs=3)]: Using backend ThreadingBackend with 3 concurrent workers.\n",
      "[Parallel(n_jobs=3)]: Done  44 tasks      | elapsed:    1.2s\n",
      "[Parallel(n_jobs=3)]: Done  75 out of  75 | elapsed:    1.9s finished\n"
     ]
    },
    {
     "name": "stdout",
     "output_type": "stream",
     "text": [
      "[CV] ..................... max_depth=9, n_estimators=75, total= 1.7min\n",
      "[CV] max_depth=9, n_estimators=75 ....................................\n"
     ]
    },
    {
     "name": "stderr",
     "output_type": "stream",
     "text": [
      "/home/andrew.tarasov1993.gmail.com/anaconda3/envs/tf_last/lib/python3.8/site-packages/sklearn/model_selection/_validation.py:531: DataConversionWarning: A column-vector y was passed when a 1d array was expected. Please change the shape of y to (n_samples,), for example using ravel().\n",
      "  estimator.fit(X_train, y_train, **fit_params)\n",
      "[Parallel(n_jobs=3)]: Using backend LokyBackend with 3 concurrent workers.\n",
      "[Parallel(n_jobs=3)]: Done  44 tasks      | elapsed:   59.5s\n",
      "[Parallel(n_jobs=3)]: Done  75 out of  75 | elapsed:  1.7min finished\n",
      "[Parallel(n_jobs=3)]: Using backend ThreadingBackend with 3 concurrent workers.\n",
      "[Parallel(n_jobs=3)]: Done  44 tasks      | elapsed:    1.2s\n",
      "[Parallel(n_jobs=3)]: Done  75 out of  75 | elapsed:    1.9s finished\n"
     ]
    },
    {
     "name": "stdout",
     "output_type": "stream",
     "text": [
      "[CV] ..................... max_depth=9, n_estimators=75, total= 1.7min\n",
      "[CV] max_depth=9, n_estimators=75 ....................................\n"
     ]
    },
    {
     "name": "stderr",
     "output_type": "stream",
     "text": [
      "/home/andrew.tarasov1993.gmail.com/anaconda3/envs/tf_last/lib/python3.8/site-packages/sklearn/model_selection/_validation.py:531: DataConversionWarning: A column-vector y was passed when a 1d array was expected. Please change the shape of y to (n_samples,), for example using ravel().\n",
      "  estimator.fit(X_train, y_train, **fit_params)\n",
      "[Parallel(n_jobs=3)]: Using backend LokyBackend with 3 concurrent workers.\n",
      "[Parallel(n_jobs=3)]: Done  44 tasks      | elapsed:   59.5s\n",
      "[Parallel(n_jobs=3)]: Done  75 out of  75 | elapsed:  1.7min finished\n",
      "[Parallel(n_jobs=3)]: Using backend ThreadingBackend with 3 concurrent workers.\n",
      "[Parallel(n_jobs=3)]: Done  44 tasks      | elapsed:    1.1s\n",
      "[Parallel(n_jobs=3)]: Done  75 out of  75 | elapsed:    1.9s finished\n"
     ]
    },
    {
     "name": "stdout",
     "output_type": "stream",
     "text": [
      "[CV] ..................... max_depth=9, n_estimators=75, total= 1.7min\n",
      "[CV] max_depth=9, n_estimators=75 ....................................\n"
     ]
    },
    {
     "name": "stderr",
     "output_type": "stream",
     "text": [
      "/home/andrew.tarasov1993.gmail.com/anaconda3/envs/tf_last/lib/python3.8/site-packages/sklearn/model_selection/_validation.py:531: DataConversionWarning: A column-vector y was passed when a 1d array was expected. Please change the shape of y to (n_samples,), for example using ravel().\n",
      "  estimator.fit(X_train, y_train, **fit_params)\n",
      "[Parallel(n_jobs=3)]: Using backend LokyBackend with 3 concurrent workers.\n",
      "[Parallel(n_jobs=3)]: Done  44 tasks      | elapsed:   59.6s\n",
      "[Parallel(n_jobs=3)]: Done  75 out of  75 | elapsed:  1.7min finished\n",
      "[Parallel(n_jobs=3)]: Using backend ThreadingBackend with 3 concurrent workers.\n",
      "[Parallel(n_jobs=3)]: Done  44 tasks      | elapsed:    1.1s\n",
      "[Parallel(n_jobs=3)]: Done  75 out of  75 | elapsed:    1.8s finished\n"
     ]
    },
    {
     "name": "stdout",
     "output_type": "stream",
     "text": [
      "[CV] ..................... max_depth=9, n_estimators=75, total= 1.7min\n",
      "[CV] max_depth=9, n_estimators=100 ...................................\n"
     ]
    },
    {
     "name": "stderr",
     "output_type": "stream",
     "text": [
      "/home/andrew.tarasov1993.gmail.com/anaconda3/envs/tf_last/lib/python3.8/site-packages/sklearn/model_selection/_validation.py:531: DataConversionWarning: A column-vector y was passed when a 1d array was expected. Please change the shape of y to (n_samples,), for example using ravel().\n",
      "  estimator.fit(X_train, y_train, **fit_params)\n",
      "[Parallel(n_jobs=3)]: Using backend LokyBackend with 3 concurrent workers.\n",
      "[Parallel(n_jobs=3)]: Done  44 tasks      | elapsed:   59.2s\n",
      "[Parallel(n_jobs=3)]: Done 100 out of 100 | elapsed:  2.2min finished\n",
      "[Parallel(n_jobs=3)]: Using backend ThreadingBackend with 3 concurrent workers.\n",
      "[Parallel(n_jobs=3)]: Done  44 tasks      | elapsed:    1.1s\n",
      "[Parallel(n_jobs=3)]: Done 100 out of 100 | elapsed:    2.5s finished\n"
     ]
    },
    {
     "name": "stdout",
     "output_type": "stream",
     "text": [
      "[CV] .................... max_depth=9, n_estimators=100, total= 2.3min\n",
      "[CV] max_depth=9, n_estimators=100 ...................................\n"
     ]
    },
    {
     "name": "stderr",
     "output_type": "stream",
     "text": [
      "/home/andrew.tarasov1993.gmail.com/anaconda3/envs/tf_last/lib/python3.8/site-packages/sklearn/model_selection/_validation.py:531: DataConversionWarning: A column-vector y was passed when a 1d array was expected. Please change the shape of y to (n_samples,), for example using ravel().\n",
      "  estimator.fit(X_train, y_train, **fit_params)\n",
      "[Parallel(n_jobs=3)]: Using backend LokyBackend with 3 concurrent workers.\n",
      "[Parallel(n_jobs=3)]: Done  44 tasks      | elapsed:   59.2s\n",
      "[Parallel(n_jobs=3)]: Done 100 out of 100 | elapsed:  2.2min finished\n",
      "[Parallel(n_jobs=3)]: Using backend ThreadingBackend with 3 concurrent workers.\n",
      "[Parallel(n_jobs=3)]: Done  44 tasks      | elapsed:    1.1s\n",
      "[Parallel(n_jobs=3)]: Done 100 out of 100 | elapsed:    2.5s finished\n"
     ]
    },
    {
     "name": "stdout",
     "output_type": "stream",
     "text": [
      "[CV] .................... max_depth=9, n_estimators=100, total= 2.3min\n",
      "[CV] max_depth=9, n_estimators=100 ...................................\n"
     ]
    },
    {
     "name": "stderr",
     "output_type": "stream",
     "text": [
      "/home/andrew.tarasov1993.gmail.com/anaconda3/envs/tf_last/lib/python3.8/site-packages/sklearn/model_selection/_validation.py:531: DataConversionWarning: A column-vector y was passed when a 1d array was expected. Please change the shape of y to (n_samples,), for example using ravel().\n",
      "  estimator.fit(X_train, y_train, **fit_params)\n",
      "[Parallel(n_jobs=3)]: Using backend LokyBackend with 3 concurrent workers.\n",
      "[Parallel(n_jobs=3)]: Done  44 tasks      | elapsed:  1.0min\n",
      "[Parallel(n_jobs=3)]: Done 100 out of 100 | elapsed:  2.2min finished\n",
      "[Parallel(n_jobs=3)]: Using backend ThreadingBackend with 3 concurrent workers.\n",
      "[Parallel(n_jobs=3)]: Done  44 tasks      | elapsed:    1.1s\n",
      "[Parallel(n_jobs=3)]: Done 100 out of 100 | elapsed:    2.5s finished\n"
     ]
    },
    {
     "name": "stdout",
     "output_type": "stream",
     "text": [
      "[CV] .................... max_depth=9, n_estimators=100, total= 2.3min\n",
      "[CV] max_depth=9, n_estimators=100 ...................................\n"
     ]
    },
    {
     "name": "stderr",
     "output_type": "stream",
     "text": [
      "/home/andrew.tarasov1993.gmail.com/anaconda3/envs/tf_last/lib/python3.8/site-packages/sklearn/model_selection/_validation.py:531: DataConversionWarning: A column-vector y was passed when a 1d array was expected. Please change the shape of y to (n_samples,), for example using ravel().\n",
      "  estimator.fit(X_train, y_train, **fit_params)\n",
      "[Parallel(n_jobs=3)]: Using backend LokyBackend with 3 concurrent workers.\n",
      "[Parallel(n_jobs=3)]: Done  44 tasks      | elapsed:   59.9s\n",
      "[Parallel(n_jobs=3)]: Done 100 out of 100 | elapsed:  2.2min finished\n",
      "[Parallel(n_jobs=3)]: Using backend ThreadingBackend with 3 concurrent workers.\n",
      "[Parallel(n_jobs=3)]: Done  44 tasks      | elapsed:    1.1s\n",
      "[Parallel(n_jobs=3)]: Done 100 out of 100 | elapsed:    2.5s finished\n"
     ]
    },
    {
     "name": "stdout",
     "output_type": "stream",
     "text": [
      "[CV] .................... max_depth=9, n_estimators=100, total= 2.3min\n",
      "[CV] max_depth=9, n_estimators=100 ...................................\n"
     ]
    },
    {
     "name": "stderr",
     "output_type": "stream",
     "text": [
      "/home/andrew.tarasov1993.gmail.com/anaconda3/envs/tf_last/lib/python3.8/site-packages/sklearn/model_selection/_validation.py:531: DataConversionWarning: A column-vector y was passed when a 1d array was expected. Please change the shape of y to (n_samples,), for example using ravel().\n",
      "  estimator.fit(X_train, y_train, **fit_params)\n",
      "[Parallel(n_jobs=3)]: Using backend LokyBackend with 3 concurrent workers.\n",
      "[Parallel(n_jobs=3)]: Done  44 tasks      | elapsed:  1.0min\n",
      "[Parallel(n_jobs=3)]: Done 100 out of 100 | elapsed:  2.2min finished\n",
      "[Parallel(n_jobs=3)]: Using backend ThreadingBackend with 3 concurrent workers.\n",
      "[Parallel(n_jobs=3)]: Done  44 tasks      | elapsed:    1.1s\n",
      "[Parallel(n_jobs=3)]: Done 100 out of 100 | elapsed:    2.4s finished\n"
     ]
    },
    {
     "name": "stdout",
     "output_type": "stream",
     "text": [
      "[CV] .................... max_depth=9, n_estimators=100, total= 2.3min\n",
      "[CV] max_depth=9, n_estimators=250 ...................................\n"
     ]
    },
    {
     "name": "stderr",
     "output_type": "stream",
     "text": [
      "/home/andrew.tarasov1993.gmail.com/anaconda3/envs/tf_last/lib/python3.8/site-packages/sklearn/model_selection/_validation.py:531: DataConversionWarning: A column-vector y was passed when a 1d array was expected. Please change the shape of y to (n_samples,), for example using ravel().\n",
      "  estimator.fit(X_train, y_train, **fit_params)\n",
      "[Parallel(n_jobs=3)]: Using backend LokyBackend with 3 concurrent workers.\n",
      "[Parallel(n_jobs=3)]: Done  44 tasks      | elapsed:   59.7s\n",
      "[Parallel(n_jobs=3)]: Done 194 tasks      | elapsed:  4.3min\n",
      "[Parallel(n_jobs=3)]: Done 250 out of 250 | elapsed:  5.5min finished\n",
      "[Parallel(n_jobs=3)]: Using backend ThreadingBackend with 3 concurrent workers.\n",
      "[Parallel(n_jobs=3)]: Done  44 tasks      | elapsed:    1.1s\n",
      "[Parallel(n_jobs=3)]: Done 194 tasks      | elapsed:    4.7s\n",
      "[Parallel(n_jobs=3)]: Done 250 out of 250 | elapsed:    6.1s finished\n"
     ]
    },
    {
     "name": "stdout",
     "output_type": "stream",
     "text": [
      "[CV] .................... max_depth=9, n_estimators=250, total= 5.6min\n",
      "[CV] max_depth=9, n_estimators=250 ...................................\n"
     ]
    },
    {
     "name": "stderr",
     "output_type": "stream",
     "text": [
      "/home/andrew.tarasov1993.gmail.com/anaconda3/envs/tf_last/lib/python3.8/site-packages/sklearn/model_selection/_validation.py:531: DataConversionWarning: A column-vector y was passed when a 1d array was expected. Please change the shape of y to (n_samples,), for example using ravel().\n",
      "  estimator.fit(X_train, y_train, **fit_params)\n",
      "[Parallel(n_jobs=3)]: Using backend LokyBackend with 3 concurrent workers.\n",
      "[Parallel(n_jobs=3)]: Done  44 tasks      | elapsed:   59.7s\n",
      "[Parallel(n_jobs=3)]: Done 194 tasks      | elapsed:  4.3min\n",
      "[Parallel(n_jobs=3)]: Done 250 out of 250 | elapsed:  5.5min finished\n",
      "[Parallel(n_jobs=3)]: Using backend ThreadingBackend with 3 concurrent workers.\n",
      "[Parallel(n_jobs=3)]: Done  44 tasks      | elapsed:    1.1s\n",
      "[Parallel(n_jobs=3)]: Done 194 tasks      | elapsed:    4.8s\n",
      "[Parallel(n_jobs=3)]: Done 250 out of 250 | elapsed:    6.1s finished\n"
     ]
    },
    {
     "name": "stdout",
     "output_type": "stream",
     "text": [
      "[CV] .................... max_depth=9, n_estimators=250, total= 5.6min\n",
      "[CV] max_depth=9, n_estimators=250 ...................................\n"
     ]
    },
    {
     "name": "stderr",
     "output_type": "stream",
     "text": [
      "/home/andrew.tarasov1993.gmail.com/anaconda3/envs/tf_last/lib/python3.8/site-packages/sklearn/model_selection/_validation.py:531: DataConversionWarning: A column-vector y was passed when a 1d array was expected. Please change the shape of y to (n_samples,), for example using ravel().\n",
      "  estimator.fit(X_train, y_train, **fit_params)\n",
      "[Parallel(n_jobs=3)]: Using backend LokyBackend with 3 concurrent workers.\n",
      "[Parallel(n_jobs=3)]: Done  44 tasks      | elapsed:  1.0min\n",
      "[Parallel(n_jobs=3)]: Done 194 tasks      | elapsed:  4.3min\n",
      "[Parallel(n_jobs=3)]: Done 250 out of 250 | elapsed:  5.5min finished\n",
      "[Parallel(n_jobs=3)]: Using backend ThreadingBackend with 3 concurrent workers.\n",
      "[Parallel(n_jobs=3)]: Done  44 tasks      | elapsed:    1.1s\n",
      "[Parallel(n_jobs=3)]: Done 194 tasks      | elapsed:    4.7s\n",
      "[Parallel(n_jobs=3)]: Done 250 out of 250 | elapsed:    6.1s finished\n"
     ]
    },
    {
     "name": "stdout",
     "output_type": "stream",
     "text": [
      "[CV] .................... max_depth=9, n_estimators=250, total= 5.6min\n",
      "[CV] max_depth=9, n_estimators=250 ...................................\n"
     ]
    },
    {
     "name": "stderr",
     "output_type": "stream",
     "text": [
      "/home/andrew.tarasov1993.gmail.com/anaconda3/envs/tf_last/lib/python3.8/site-packages/sklearn/model_selection/_validation.py:531: DataConversionWarning: A column-vector y was passed when a 1d array was expected. Please change the shape of y to (n_samples,), for example using ravel().\n",
      "  estimator.fit(X_train, y_train, **fit_params)\n",
      "[Parallel(n_jobs=3)]: Using backend LokyBackend with 3 concurrent workers.\n",
      "[Parallel(n_jobs=3)]: Done  44 tasks      | elapsed:  1.0min\n",
      "[Parallel(n_jobs=3)]: Done 194 tasks      | elapsed:  4.5min\n",
      "[Parallel(n_jobs=3)]: Done 250 out of 250 | elapsed:  5.7min finished\n",
      "[Parallel(n_jobs=3)]: Using backend ThreadingBackend with 3 concurrent workers.\n",
      "[Parallel(n_jobs=3)]: Done  44 tasks      | elapsed:    1.1s\n",
      "[Parallel(n_jobs=3)]: Done 194 tasks      | elapsed:    4.8s\n",
      "[Parallel(n_jobs=3)]: Done 250 out of 250 | elapsed:    6.1s finished\n"
     ]
    },
    {
     "name": "stdout",
     "output_type": "stream",
     "text": [
      "[CV] .................... max_depth=9, n_estimators=250, total= 5.8min\n",
      "[CV] max_depth=9, n_estimators=250 ...................................\n"
     ]
    },
    {
     "name": "stderr",
     "output_type": "stream",
     "text": [
      "/home/andrew.tarasov1993.gmail.com/anaconda3/envs/tf_last/lib/python3.8/site-packages/sklearn/model_selection/_validation.py:531: DataConversionWarning: A column-vector y was passed when a 1d array was expected. Please change the shape of y to (n_samples,), for example using ravel().\n",
      "  estimator.fit(X_train, y_train, **fit_params)\n",
      "[Parallel(n_jobs=3)]: Using backend LokyBackend with 3 concurrent workers.\n",
      "[Parallel(n_jobs=3)]: Done  44 tasks      | elapsed:   58.3s\n",
      "[Parallel(n_jobs=3)]: Done 194 tasks      | elapsed:  4.3min\n",
      "[Parallel(n_jobs=3)]: Done 250 out of 250 | elapsed:  5.6min finished\n",
      "[Parallel(n_jobs=3)]: Using backend ThreadingBackend with 3 concurrent workers.\n",
      "[Parallel(n_jobs=3)]: Done  44 tasks      | elapsed:    1.1s\n",
      "[Parallel(n_jobs=3)]: Done 194 tasks      | elapsed:    4.7s\n",
      "[Parallel(n_jobs=3)]: Done 250 out of 250 | elapsed:    6.1s finished\n"
     ]
    },
    {
     "name": "stdout",
     "output_type": "stream",
     "text": [
      "[CV] .................... max_depth=9, n_estimators=250, total= 5.8min\n",
      "[CV] max_depth=9, n_estimators=500 ...................................\n"
     ]
    },
    {
     "name": "stderr",
     "output_type": "stream",
     "text": [
      "/home/andrew.tarasov1993.gmail.com/anaconda3/envs/tf_last/lib/python3.8/site-packages/sklearn/model_selection/_validation.py:531: DataConversionWarning: A column-vector y was passed when a 1d array was expected. Please change the shape of y to (n_samples,), for example using ravel().\n",
      "  estimator.fit(X_train, y_train, **fit_params)\n",
      "[Parallel(n_jobs=3)]: Using backend LokyBackend with 3 concurrent workers.\n",
      "[Parallel(n_jobs=3)]: Done  44 tasks      | elapsed:  1.0min\n",
      "[Parallel(n_jobs=3)]: Done 194 tasks      | elapsed:  4.3min\n",
      "[Parallel(n_jobs=3)]: Done 444 tasks      | elapsed:  9.9min\n",
      "[Parallel(n_jobs=3)]: Done 500 out of 500 | elapsed: 11.2min finished\n",
      "[Parallel(n_jobs=3)]: Using backend ThreadingBackend with 3 concurrent workers.\n",
      "[Parallel(n_jobs=3)]: Done  44 tasks      | elapsed:    1.1s\n",
      "[Parallel(n_jobs=3)]: Done 194 tasks      | elapsed:    4.8s\n",
      "[Parallel(n_jobs=3)]: Done 444 tasks      | elapsed:   10.8s\n",
      "[Parallel(n_jobs=3)]: Done 500 out of 500 | elapsed:   12.2s finished\n"
     ]
    },
    {
     "name": "stdout",
     "output_type": "stream",
     "text": [
      "[CV] .................... max_depth=9, n_estimators=500, total=11.4min\n",
      "[CV] max_depth=9, n_estimators=500 ...................................\n"
     ]
    },
    {
     "name": "stderr",
     "output_type": "stream",
     "text": [
      "/home/andrew.tarasov1993.gmail.com/anaconda3/envs/tf_last/lib/python3.8/site-packages/sklearn/model_selection/_validation.py:531: DataConversionWarning: A column-vector y was passed when a 1d array was expected. Please change the shape of y to (n_samples,), for example using ravel().\n",
      "  estimator.fit(X_train, y_train, **fit_params)\n",
      "[Parallel(n_jobs=3)]: Using backend LokyBackend with 3 concurrent workers.\n",
      "[Parallel(n_jobs=3)]: Done  44 tasks      | elapsed:   60.0s\n",
      "[Parallel(n_jobs=3)]: Done 194 tasks      | elapsed:  4.3min\n",
      "[Parallel(n_jobs=3)]: Done 444 tasks      | elapsed: 10.1min\n",
      "[Parallel(n_jobs=3)]: Done 500 out of 500 | elapsed: 11.4min finished\n",
      "[Parallel(n_jobs=3)]: Using backend ThreadingBackend with 3 concurrent workers.\n",
      "[Parallel(n_jobs=3)]: Done  44 tasks      | elapsed:    1.2s\n",
      "[Parallel(n_jobs=3)]: Done 194 tasks      | elapsed:    4.8s\n",
      "[Parallel(n_jobs=3)]: Done 444 tasks      | elapsed:   10.8s\n",
      "[Parallel(n_jobs=3)]: Done 500 out of 500 | elapsed:   12.2s finished\n"
     ]
    },
    {
     "name": "stdout",
     "output_type": "stream",
     "text": [
      "[CV] .................... max_depth=9, n_estimators=500, total=11.6min\n",
      "[CV] max_depth=9, n_estimators=500 ...................................\n"
     ]
    },
    {
     "name": "stderr",
     "output_type": "stream",
     "text": [
      "/home/andrew.tarasov1993.gmail.com/anaconda3/envs/tf_last/lib/python3.8/site-packages/sklearn/model_selection/_validation.py:531: DataConversionWarning: A column-vector y was passed when a 1d array was expected. Please change the shape of y to (n_samples,), for example using ravel().\n",
      "  estimator.fit(X_train, y_train, **fit_params)\n",
      "[Parallel(n_jobs=3)]: Using backend LokyBackend with 3 concurrent workers.\n",
      "[Parallel(n_jobs=3)]: Done  44 tasks      | elapsed:   59.3s\n",
      "[Parallel(n_jobs=3)]: Done 194 tasks      | elapsed:  4.3min\n",
      "[Parallel(n_jobs=3)]: Done 444 tasks      | elapsed:  9.8min\n",
      "[Parallel(n_jobs=3)]: Done 500 out of 500 | elapsed: 11.1min finished\n",
      "[Parallel(n_jobs=3)]: Using backend ThreadingBackend with 3 concurrent workers.\n",
      "[Parallel(n_jobs=3)]: Done  44 tasks      | elapsed:    1.2s\n",
      "[Parallel(n_jobs=3)]: Done 194 tasks      | elapsed:    4.8s\n",
      "[Parallel(n_jobs=3)]: Done 444 tasks      | elapsed:   10.8s\n",
      "[Parallel(n_jobs=3)]: Done 500 out of 500 | elapsed:   12.2s finished\n"
     ]
    },
    {
     "name": "stdout",
     "output_type": "stream",
     "text": [
      "[CV] .................... max_depth=9, n_estimators=500, total=11.3min\n",
      "[CV] max_depth=9, n_estimators=500 ...................................\n"
     ]
    },
    {
     "name": "stderr",
     "output_type": "stream",
     "text": [
      "/home/andrew.tarasov1993.gmail.com/anaconda3/envs/tf_last/lib/python3.8/site-packages/sklearn/model_selection/_validation.py:531: DataConversionWarning: A column-vector y was passed when a 1d array was expected. Please change the shape of y to (n_samples,), for example using ravel().\n",
      "  estimator.fit(X_train, y_train, **fit_params)\n",
      "[Parallel(n_jobs=3)]: Using backend LokyBackend with 3 concurrent workers.\n",
      "[Parallel(n_jobs=3)]: Done  44 tasks      | elapsed:   59.9s\n",
      "[Parallel(n_jobs=3)]: Done 194 tasks      | elapsed:  4.3min\n",
      "[Parallel(n_jobs=3)]: Done 444 tasks      | elapsed:  9.8min\n",
      "[Parallel(n_jobs=3)]: Done 500 out of 500 | elapsed: 11.0min finished\n",
      "[Parallel(n_jobs=3)]: Using backend ThreadingBackend with 3 concurrent workers.\n",
      "[Parallel(n_jobs=3)]: Done  44 tasks      | elapsed:    1.1s\n",
      "[Parallel(n_jobs=3)]: Done 194 tasks      | elapsed:    4.8s\n",
      "[Parallel(n_jobs=3)]: Done 444 tasks      | elapsed:   10.8s\n",
      "[Parallel(n_jobs=3)]: Done 500 out of 500 | elapsed:   12.2s finished\n"
     ]
    },
    {
     "name": "stdout",
     "output_type": "stream",
     "text": [
      "[CV] .................... max_depth=9, n_estimators=500, total=11.2min\n",
      "[CV] max_depth=9, n_estimators=500 ...................................\n"
     ]
    },
    {
     "name": "stderr",
     "output_type": "stream",
     "text": [
      "/home/andrew.tarasov1993.gmail.com/anaconda3/envs/tf_last/lib/python3.8/site-packages/sklearn/model_selection/_validation.py:531: DataConversionWarning: A column-vector y was passed when a 1d array was expected. Please change the shape of y to (n_samples,), for example using ravel().\n",
      "  estimator.fit(X_train, y_train, **fit_params)\n",
      "[Parallel(n_jobs=3)]: Using backend LokyBackend with 3 concurrent workers.\n",
      "[Parallel(n_jobs=3)]: Done  44 tasks      | elapsed:   58.8s\n",
      "[Parallel(n_jobs=3)]: Done 194 tasks      | elapsed:  4.3min\n",
      "[Parallel(n_jobs=3)]: Done 444 tasks      | elapsed:  9.8min\n",
      "[Parallel(n_jobs=3)]: Done 500 out of 500 | elapsed: 11.0min finished\n",
      "[Parallel(n_jobs=3)]: Using backend ThreadingBackend with 3 concurrent workers.\n",
      "[Parallel(n_jobs=3)]: Done  44 tasks      | elapsed:    1.1s\n",
      "[Parallel(n_jobs=3)]: Done 194 tasks      | elapsed:    4.7s\n",
      "[Parallel(n_jobs=3)]: Done 444 tasks      | elapsed:   10.8s\n",
      "[Parallel(n_jobs=3)]: Done 500 out of 500 | elapsed:   12.1s finished\n"
     ]
    },
    {
     "name": "stdout",
     "output_type": "stream",
     "text": [
      "[CV] .................... max_depth=9, n_estimators=500, total=11.2min\n",
      "[CV] max_depth=9, n_estimators=1000 ..................................\n"
     ]
    },
    {
     "name": "stderr",
     "output_type": "stream",
     "text": [
      "/home/andrew.tarasov1993.gmail.com/anaconda3/envs/tf_last/lib/python3.8/site-packages/sklearn/model_selection/_validation.py:531: DataConversionWarning: A column-vector y was passed when a 1d array was expected. Please change the shape of y to (n_samples,), for example using ravel().\n",
      "  estimator.fit(X_train, y_train, **fit_params)\n",
      "[Parallel(n_jobs=3)]: Using backend LokyBackend with 3 concurrent workers.\n",
      "[Parallel(n_jobs=3)]: Done  44 tasks      | elapsed:  1.0min\n",
      "[Parallel(n_jobs=3)]: Done 194 tasks      | elapsed:  4.3min\n",
      "[Parallel(n_jobs=3)]: Done 444 tasks      | elapsed:  9.8min\n",
      "[Parallel(n_jobs=3)]: Done 794 tasks      | elapsed: 17.5min\n",
      "[Parallel(n_jobs=3)]: Done 1000 out of 1000 | elapsed: 22.0min finished\n",
      "[Parallel(n_jobs=3)]: Using backend ThreadingBackend with 3 concurrent workers.\n",
      "[Parallel(n_jobs=3)]: Done  44 tasks      | elapsed:    1.1s\n",
      "[Parallel(n_jobs=3)]: Done 194 tasks      | elapsed:    4.8s\n",
      "[Parallel(n_jobs=3)]: Done 444 tasks      | elapsed:   10.8s\n",
      "[Parallel(n_jobs=3)]: Done 794 tasks      | elapsed:   19.3s\n",
      "[Parallel(n_jobs=3)]: Done 1000 out of 1000 | elapsed:   24.3s finished\n"
     ]
    },
    {
     "name": "stdout",
     "output_type": "stream",
     "text": [
      "[CV] ................... max_depth=9, n_estimators=1000, total=22.4min\n",
      "[CV] max_depth=9, n_estimators=1000 ..................................\n"
     ]
    },
    {
     "name": "stderr",
     "output_type": "stream",
     "text": [
      "/home/andrew.tarasov1993.gmail.com/anaconda3/envs/tf_last/lib/python3.8/site-packages/sklearn/model_selection/_validation.py:531: DataConversionWarning: A column-vector y was passed when a 1d array was expected. Please change the shape of y to (n_samples,), for example using ravel().\n",
      "  estimator.fit(X_train, y_train, **fit_params)\n",
      "[Parallel(n_jobs=3)]: Using backend LokyBackend with 3 concurrent workers.\n",
      "[Parallel(n_jobs=3)]: Done  44 tasks      | elapsed:   59.4s\n",
      "[Parallel(n_jobs=3)]: Done 194 tasks      | elapsed:  4.3min\n",
      "[Parallel(n_jobs=3)]: Done 444 tasks      | elapsed:  9.8min\n",
      "[Parallel(n_jobs=3)]: Done 794 tasks      | elapsed: 17.5min\n",
      "[Parallel(n_jobs=3)]: Done 1000 out of 1000 | elapsed: 22.0min finished\n",
      "[Parallel(n_jobs=3)]: Using backend ThreadingBackend with 3 concurrent workers.\n",
      "[Parallel(n_jobs=3)]: Done  44 tasks      | elapsed:    1.2s\n",
      "[Parallel(n_jobs=3)]: Done 194 tasks      | elapsed:    4.8s\n",
      "[Parallel(n_jobs=3)]: Done 444 tasks      | elapsed:   10.8s\n",
      "[Parallel(n_jobs=3)]: Done 794 tasks      | elapsed:   19.2s\n",
      "[Parallel(n_jobs=3)]: Done 1000 out of 1000 | elapsed:   24.2s finished\n"
     ]
    },
    {
     "name": "stdout",
     "output_type": "stream",
     "text": [
      "[CV] ................... max_depth=9, n_estimators=1000, total=22.4min\n",
      "[CV] max_depth=9, n_estimators=1000 ..................................\n"
     ]
    },
    {
     "name": "stderr",
     "output_type": "stream",
     "text": [
      "/home/andrew.tarasov1993.gmail.com/anaconda3/envs/tf_last/lib/python3.8/site-packages/sklearn/model_selection/_validation.py:531: DataConversionWarning: A column-vector y was passed when a 1d array was expected. Please change the shape of y to (n_samples,), for example using ravel().\n",
      "  estimator.fit(X_train, y_train, **fit_params)\n",
      "[Parallel(n_jobs=3)]: Using backend LokyBackend with 3 concurrent workers.\n",
      "[Parallel(n_jobs=3)]: Done  44 tasks      | elapsed:  1.0min\n",
      "[Parallel(n_jobs=3)]: Done 194 tasks      | elapsed:  4.3min\n",
      "[Parallel(n_jobs=3)]: Done 444 tasks      | elapsed:  9.8min\n",
      "[Parallel(n_jobs=3)]: Done 794 tasks      | elapsed: 17.5min\n",
      "[Parallel(n_jobs=3)]: Done 1000 out of 1000 | elapsed: 22.0min finished\n",
      "[Parallel(n_jobs=3)]: Using backend ThreadingBackend with 3 concurrent workers.\n",
      "[Parallel(n_jobs=3)]: Done  44 tasks      | elapsed:    1.1s\n",
      "[Parallel(n_jobs=3)]: Done 194 tasks      | elapsed:    4.7s\n",
      "[Parallel(n_jobs=3)]: Done 444 tasks      | elapsed:   10.8s\n",
      "[Parallel(n_jobs=3)]: Done 794 tasks      | elapsed:   19.2s\n",
      "[Parallel(n_jobs=3)]: Done 1000 out of 1000 | elapsed:   24.2s finished\n"
     ]
    },
    {
     "name": "stdout",
     "output_type": "stream",
     "text": [
      "[CV] ................... max_depth=9, n_estimators=1000, total=22.4min\n",
      "[CV] max_depth=9, n_estimators=1000 ..................................\n"
     ]
    },
    {
     "name": "stderr",
     "output_type": "stream",
     "text": [
      "/home/andrew.tarasov1993.gmail.com/anaconda3/envs/tf_last/lib/python3.8/site-packages/sklearn/model_selection/_validation.py:531: DataConversionWarning: A column-vector y was passed when a 1d array was expected. Please change the shape of y to (n_samples,), for example using ravel().\n",
      "  estimator.fit(X_train, y_train, **fit_params)\n",
      "[Parallel(n_jobs=3)]: Using backend LokyBackend with 3 concurrent workers.\n",
      "[Parallel(n_jobs=3)]: Done  44 tasks      | elapsed:   59.8s\n",
      "[Parallel(n_jobs=3)]: Done 194 tasks      | elapsed:  4.3min\n",
      "[Parallel(n_jobs=3)]: Done 444 tasks      | elapsed:  9.8min\n",
      "[Parallel(n_jobs=3)]: Done 794 tasks      | elapsed: 17.7min\n",
      "[Parallel(n_jobs=3)]: Done 1000 out of 1000 | elapsed: 22.5min finished\n",
      "[Parallel(n_jobs=3)]: Using backend ThreadingBackend with 3 concurrent workers.\n",
      "[Parallel(n_jobs=3)]: Done  44 tasks      | elapsed:    1.1s\n",
      "[Parallel(n_jobs=3)]: Done 194 tasks      | elapsed:    4.8s\n",
      "[Parallel(n_jobs=3)]: Done 444 tasks      | elapsed:   10.8s\n",
      "[Parallel(n_jobs=3)]: Done 794 tasks      | elapsed:   19.2s\n",
      "[Parallel(n_jobs=3)]: Done 1000 out of 1000 | elapsed:   24.2s finished\n"
     ]
    },
    {
     "name": "stdout",
     "output_type": "stream",
     "text": [
      "[CV] ................... max_depth=9, n_estimators=1000, total=22.9min\n",
      "[CV] max_depth=9, n_estimators=1000 ..................................\n"
     ]
    },
    {
     "name": "stderr",
     "output_type": "stream",
     "text": [
      "/home/andrew.tarasov1993.gmail.com/anaconda3/envs/tf_last/lib/python3.8/site-packages/sklearn/model_selection/_validation.py:531: DataConversionWarning: A column-vector y was passed when a 1d array was expected. Please change the shape of y to (n_samples,), for example using ravel().\n",
      "  estimator.fit(X_train, y_train, **fit_params)\n",
      "[Parallel(n_jobs=3)]: Using backend LokyBackend with 3 concurrent workers.\n",
      "[Parallel(n_jobs=3)]: Done  44 tasks      | elapsed:  1.0min\n",
      "[Parallel(n_jobs=3)]: Done 194 tasks      | elapsed:  4.5min\n",
      "[Parallel(n_jobs=3)]: Done 444 tasks      | elapsed: 10.2min\n",
      "[Parallel(n_jobs=3)]: Done 794 tasks      | elapsed: 18.3min\n",
      "[Parallel(n_jobs=3)]: Done 1000 out of 1000 | elapsed: 23.1min finished\n",
      "[Parallel(n_jobs=3)]: Using backend ThreadingBackend with 3 concurrent workers.\n",
      "[Parallel(n_jobs=3)]: Done  44 tasks      | elapsed:    1.1s\n",
      "[Parallel(n_jobs=3)]: Done 194 tasks      | elapsed:    4.7s\n",
      "[Parallel(n_jobs=3)]: Done 444 tasks      | elapsed:   10.8s\n",
      "[Parallel(n_jobs=3)]: Done 794 tasks      | elapsed:   19.2s\n",
      "[Parallel(n_jobs=3)]: Done 1000 out of 1000 | elapsed:   24.2s finished\n"
     ]
    },
    {
     "name": "stdout",
     "output_type": "stream",
     "text": [
      "[CV] ................... max_depth=9, n_estimators=1000, total=23.5min\n",
      "[CV] max_depth=10, n_estimators=50 ...................................\n"
     ]
    },
    {
     "name": "stderr",
     "output_type": "stream",
     "text": [
      "/home/andrew.tarasov1993.gmail.com/anaconda3/envs/tf_last/lib/python3.8/site-packages/sklearn/model_selection/_validation.py:531: DataConversionWarning: A column-vector y was passed when a 1d array was expected. Please change the shape of y to (n_samples,), for example using ravel().\n",
      "  estimator.fit(X_train, y_train, **fit_params)\n",
      "[Parallel(n_jobs=3)]: Using backend LokyBackend with 3 concurrent workers.\n",
      "[Parallel(n_jobs=3)]: Done  44 tasks      | elapsed:  1.0min\n",
      "[Parallel(n_jobs=3)]: Done  50 out of  50 | elapsed:  1.2min finished\n",
      "[Parallel(n_jobs=3)]: Using backend ThreadingBackend with 3 concurrent workers.\n",
      "[Parallel(n_jobs=3)]: Done  44 tasks      | elapsed:    1.3s\n",
      "[Parallel(n_jobs=3)]: Done  50 out of  50 | elapsed:    1.4s finished\n"
     ]
    },
    {
     "name": "stdout",
     "output_type": "stream",
     "text": [
      "[CV] .................... max_depth=10, n_estimators=50, total= 1.2min\n",
      "[CV] max_depth=10, n_estimators=50 ...................................\n"
     ]
    },
    {
     "name": "stderr",
     "output_type": "stream",
     "text": [
      "/home/andrew.tarasov1993.gmail.com/anaconda3/envs/tf_last/lib/python3.8/site-packages/sklearn/model_selection/_validation.py:531: DataConversionWarning: A column-vector y was passed when a 1d array was expected. Please change the shape of y to (n_samples,), for example using ravel().\n",
      "  estimator.fit(X_train, y_train, **fit_params)\n",
      "[Parallel(n_jobs=3)]: Using backend LokyBackend with 3 concurrent workers.\n",
      "[Parallel(n_jobs=3)]: Done  44 tasks      | elapsed:  1.1min\n",
      "[Parallel(n_jobs=3)]: Done  50 out of  50 | elapsed:  1.2min finished\n",
      "[Parallel(n_jobs=3)]: Using backend ThreadingBackend with 3 concurrent workers.\n",
      "[Parallel(n_jobs=3)]: Done  44 tasks      | elapsed:    1.2s\n",
      "[Parallel(n_jobs=3)]: Done  50 out of  50 | elapsed:    1.3s finished\n"
     ]
    },
    {
     "name": "stdout",
     "output_type": "stream",
     "text": [
      "[CV] .................... max_depth=10, n_estimators=50, total= 1.2min\n",
      "[CV] max_depth=10, n_estimators=50 ...................................\n"
     ]
    },
    {
     "name": "stderr",
     "output_type": "stream",
     "text": [
      "/home/andrew.tarasov1993.gmail.com/anaconda3/envs/tf_last/lib/python3.8/site-packages/sklearn/model_selection/_validation.py:531: DataConversionWarning: A column-vector y was passed when a 1d array was expected. Please change the shape of y to (n_samples,), for example using ravel().\n",
      "  estimator.fit(X_train, y_train, **fit_params)\n",
      "[Parallel(n_jobs=3)]: Using backend LokyBackend with 3 concurrent workers.\n",
      "[Parallel(n_jobs=3)]: Done  44 tasks      | elapsed:  1.0min\n",
      "[Parallel(n_jobs=3)]: Done  50 out of  50 | elapsed:  1.2min finished\n",
      "[Parallel(n_jobs=3)]: Using backend ThreadingBackend with 3 concurrent workers.\n",
      "[Parallel(n_jobs=3)]: Done  44 tasks      | elapsed:    1.2s\n",
      "[Parallel(n_jobs=3)]: Done  50 out of  50 | elapsed:    1.3s finished\n"
     ]
    },
    {
     "name": "stdout",
     "output_type": "stream",
     "text": [
      "[CV] .................... max_depth=10, n_estimators=50, total= 1.2min\n",
      "[CV] max_depth=10, n_estimators=50 ...................................\n"
     ]
    },
    {
     "name": "stderr",
     "output_type": "stream",
     "text": [
      "/home/andrew.tarasov1993.gmail.com/anaconda3/envs/tf_last/lib/python3.8/site-packages/sklearn/model_selection/_validation.py:531: DataConversionWarning: A column-vector y was passed when a 1d array was expected. Please change the shape of y to (n_samples,), for example using ravel().\n",
      "  estimator.fit(X_train, y_train, **fit_params)\n",
      "[Parallel(n_jobs=3)]: Using backend LokyBackend with 3 concurrent workers.\n",
      "[Parallel(n_jobs=3)]: Done  44 tasks      | elapsed:  1.1min\n",
      "[Parallel(n_jobs=3)]: Done  50 out of  50 | elapsed:  1.2min finished\n",
      "[Parallel(n_jobs=3)]: Using backend ThreadingBackend with 3 concurrent workers.\n",
      "[Parallel(n_jobs=3)]: Done  44 tasks      | elapsed:    1.2s\n",
      "[Parallel(n_jobs=3)]: Done  50 out of  50 | elapsed:    1.3s finished\n"
     ]
    },
    {
     "name": "stdout",
     "output_type": "stream",
     "text": [
      "[CV] .................... max_depth=10, n_estimators=50, total= 1.2min\n",
      "[CV] max_depth=10, n_estimators=50 ...................................\n"
     ]
    },
    {
     "name": "stderr",
     "output_type": "stream",
     "text": [
      "/home/andrew.tarasov1993.gmail.com/anaconda3/envs/tf_last/lib/python3.8/site-packages/sklearn/model_selection/_validation.py:531: DataConversionWarning: A column-vector y was passed when a 1d array was expected. Please change the shape of y to (n_samples,), for example using ravel().\n",
      "  estimator.fit(X_train, y_train, **fit_params)\n",
      "[Parallel(n_jobs=3)]: Using backend LokyBackend with 3 concurrent workers.\n",
      "[Parallel(n_jobs=3)]: Done  44 tasks      | elapsed:  1.1min\n",
      "[Parallel(n_jobs=3)]: Done  50 out of  50 | elapsed:  1.2min finished\n",
      "[Parallel(n_jobs=3)]: Using backend ThreadingBackend with 3 concurrent workers.\n",
      "[Parallel(n_jobs=3)]: Done  44 tasks      | elapsed:    1.3s\n",
      "[Parallel(n_jobs=3)]: Done  50 out of  50 | elapsed:    1.4s finished\n"
     ]
    },
    {
     "name": "stdout",
     "output_type": "stream",
     "text": [
      "[CV] .................... max_depth=10, n_estimators=50, total= 1.2min\n",
      "[CV] max_depth=10, n_estimators=75 ...................................\n"
     ]
    },
    {
     "name": "stderr",
     "output_type": "stream",
     "text": [
      "/home/andrew.tarasov1993.gmail.com/anaconda3/envs/tf_last/lib/python3.8/site-packages/sklearn/model_selection/_validation.py:531: DataConversionWarning: A column-vector y was passed when a 1d array was expected. Please change the shape of y to (n_samples,), for example using ravel().\n",
      "  estimator.fit(X_train, y_train, **fit_params)\n",
      "[Parallel(n_jobs=3)]: Using backend LokyBackend with 3 concurrent workers.\n",
      "[Parallel(n_jobs=3)]: Done  44 tasks      | elapsed:  1.1min\n",
      "[Parallel(n_jobs=3)]: Done  75 out of  75 | elapsed:  1.8min finished\n",
      "[Parallel(n_jobs=3)]: Using backend ThreadingBackend with 3 concurrent workers.\n",
      "[Parallel(n_jobs=3)]: Done  44 tasks      | elapsed:    1.2s\n",
      "[Parallel(n_jobs=3)]: Done  75 out of  75 | elapsed:    1.9s finished\n"
     ]
    },
    {
     "name": "stdout",
     "output_type": "stream",
     "text": [
      "[CV] .................... max_depth=10, n_estimators=75, total= 1.8min\n",
      "[CV] max_depth=10, n_estimators=75 ...................................\n"
     ]
    },
    {
     "name": "stderr",
     "output_type": "stream",
     "text": [
      "/home/andrew.tarasov1993.gmail.com/anaconda3/envs/tf_last/lib/python3.8/site-packages/sklearn/model_selection/_validation.py:531: DataConversionWarning: A column-vector y was passed when a 1d array was expected. Please change the shape of y to (n_samples,), for example using ravel().\n",
      "  estimator.fit(X_train, y_train, **fit_params)\n",
      "[Parallel(n_jobs=3)]: Using backend LokyBackend with 3 concurrent workers.\n",
      "[Parallel(n_jobs=3)]: Done  44 tasks      | elapsed:  1.0min\n",
      "[Parallel(n_jobs=3)]: Done  75 out of  75 | elapsed:  1.8min finished\n",
      "[Parallel(n_jobs=3)]: Using backend ThreadingBackend with 3 concurrent workers.\n",
      "[Parallel(n_jobs=3)]: Done  44 tasks      | elapsed:    1.2s\n",
      "[Parallel(n_jobs=3)]: Done  75 out of  75 | elapsed:    2.0s finished\n"
     ]
    },
    {
     "name": "stdout",
     "output_type": "stream",
     "text": [
      "[CV] .................... max_depth=10, n_estimators=75, total= 1.8min\n",
      "[CV] max_depth=10, n_estimators=75 ...................................\n"
     ]
    },
    {
     "name": "stderr",
     "output_type": "stream",
     "text": [
      "/home/andrew.tarasov1993.gmail.com/anaconda3/envs/tf_last/lib/python3.8/site-packages/sklearn/model_selection/_validation.py:531: DataConversionWarning: A column-vector y was passed when a 1d array was expected. Please change the shape of y to (n_samples,), for example using ravel().\n",
      "  estimator.fit(X_train, y_train, **fit_params)\n",
      "[Parallel(n_jobs=3)]: Using backend LokyBackend with 3 concurrent workers.\n",
      "[Parallel(n_jobs=3)]: Done  44 tasks      | elapsed:  1.1min\n",
      "[Parallel(n_jobs=3)]: Done  75 out of  75 | elapsed:  1.9min finished\n",
      "[Parallel(n_jobs=3)]: Using backend ThreadingBackend with 3 concurrent workers.\n",
      "[Parallel(n_jobs=3)]: Done  44 tasks      | elapsed:    1.2s\n",
      "[Parallel(n_jobs=3)]: Done  75 out of  75 | elapsed:    2.0s finished\n"
     ]
    },
    {
     "name": "stdout",
     "output_type": "stream",
     "text": [
      "[CV] .................... max_depth=10, n_estimators=75, total= 1.9min\n",
      "[CV] max_depth=10, n_estimators=75 ...................................\n"
     ]
    },
    {
     "name": "stderr",
     "output_type": "stream",
     "text": [
      "/home/andrew.tarasov1993.gmail.com/anaconda3/envs/tf_last/lib/python3.8/site-packages/sklearn/model_selection/_validation.py:531: DataConversionWarning: A column-vector y was passed when a 1d array was expected. Please change the shape of y to (n_samples,), for example using ravel().\n",
      "  estimator.fit(X_train, y_train, **fit_params)\n",
      "[Parallel(n_jobs=3)]: Using backend LokyBackend with 3 concurrent workers.\n",
      "[Parallel(n_jobs=3)]: Done  44 tasks      | elapsed:  1.1min\n",
      "[Parallel(n_jobs=3)]: Done  75 out of  75 | elapsed:  1.8min finished\n",
      "[Parallel(n_jobs=3)]: Using backend ThreadingBackend with 3 concurrent workers.\n",
      "[Parallel(n_jobs=3)]: Done  44 tasks      | elapsed:    1.2s\n",
      "[Parallel(n_jobs=3)]: Done  75 out of  75 | elapsed:    2.0s finished\n"
     ]
    },
    {
     "name": "stdout",
     "output_type": "stream",
     "text": [
      "[CV] .................... max_depth=10, n_estimators=75, total= 1.9min\n",
      "[CV] max_depth=10, n_estimators=75 ...................................\n"
     ]
    },
    {
     "name": "stderr",
     "output_type": "stream",
     "text": [
      "/home/andrew.tarasov1993.gmail.com/anaconda3/envs/tf_last/lib/python3.8/site-packages/sklearn/model_selection/_validation.py:531: DataConversionWarning: A column-vector y was passed when a 1d array was expected. Please change the shape of y to (n_samples,), for example using ravel().\n",
      "  estimator.fit(X_train, y_train, **fit_params)\n",
      "[Parallel(n_jobs=3)]: Using backend LokyBackend with 3 concurrent workers.\n",
      "[Parallel(n_jobs=3)]: Done  44 tasks      | elapsed:  1.1min\n",
      "[Parallel(n_jobs=3)]: Done  75 out of  75 | elapsed:  1.8min finished\n",
      "[Parallel(n_jobs=3)]: Using backend ThreadingBackend with 3 concurrent workers.\n",
      "[Parallel(n_jobs=3)]: Done  44 tasks      | elapsed:    1.1s\n",
      "[Parallel(n_jobs=3)]: Done  75 out of  75 | elapsed:    1.9s finished\n"
     ]
    },
    {
     "name": "stdout",
     "output_type": "stream",
     "text": [
      "[CV] .................... max_depth=10, n_estimators=75, total= 1.8min\n",
      "[CV] max_depth=10, n_estimators=100 ..................................\n"
     ]
    },
    {
     "name": "stderr",
     "output_type": "stream",
     "text": [
      "/home/andrew.tarasov1993.gmail.com/anaconda3/envs/tf_last/lib/python3.8/site-packages/sklearn/model_selection/_validation.py:531: DataConversionWarning: A column-vector y was passed when a 1d array was expected. Please change the shape of y to (n_samples,), for example using ravel().\n",
      "  estimator.fit(X_train, y_train, **fit_params)\n",
      "[Parallel(n_jobs=3)]: Using backend LokyBackend with 3 concurrent workers.\n",
      "[Parallel(n_jobs=3)]: Done  44 tasks      | elapsed:  1.1min\n",
      "[Parallel(n_jobs=3)]: Done 100 out of 100 | elapsed:  2.4min finished\n",
      "[Parallel(n_jobs=3)]: Using backend ThreadingBackend with 3 concurrent workers.\n",
      "[Parallel(n_jobs=3)]: Done  44 tasks      | elapsed:    1.2s\n",
      "[Parallel(n_jobs=3)]: Done 100 out of 100 | elapsed:    2.6s finished\n"
     ]
    },
    {
     "name": "stdout",
     "output_type": "stream",
     "text": [
      "[CV] ................... max_depth=10, n_estimators=100, total= 2.4min\n",
      "[CV] max_depth=10, n_estimators=100 ..................................\n"
     ]
    },
    {
     "name": "stderr",
     "output_type": "stream",
     "text": [
      "/home/andrew.tarasov1993.gmail.com/anaconda3/envs/tf_last/lib/python3.8/site-packages/sklearn/model_selection/_validation.py:531: DataConversionWarning: A column-vector y was passed when a 1d array was expected. Please change the shape of y to (n_samples,), for example using ravel().\n",
      "  estimator.fit(X_train, y_train, **fit_params)\n",
      "[Parallel(n_jobs=3)]: Using backend LokyBackend with 3 concurrent workers.\n",
      "[Parallel(n_jobs=3)]: Done  44 tasks      | elapsed:  1.1min\n",
      "[Parallel(n_jobs=3)]: Done 100 out of 100 | elapsed:  2.3min finished\n",
      "[Parallel(n_jobs=3)]: Using backend ThreadingBackend with 3 concurrent workers.\n",
      "[Parallel(n_jobs=3)]: Done  44 tasks      | elapsed:    1.2s\n",
      "[Parallel(n_jobs=3)]: Done 100 out of 100 | elapsed:    2.6s finished\n"
     ]
    },
    {
     "name": "stdout",
     "output_type": "stream",
     "text": [
      "[CV] ................... max_depth=10, n_estimators=100, total= 2.4min\n",
      "[CV] max_depth=10, n_estimators=100 ..................................\n"
     ]
    },
    {
     "name": "stderr",
     "output_type": "stream",
     "text": [
      "/home/andrew.tarasov1993.gmail.com/anaconda3/envs/tf_last/lib/python3.8/site-packages/sklearn/model_selection/_validation.py:531: DataConversionWarning: A column-vector y was passed when a 1d array was expected. Please change the shape of y to (n_samples,), for example using ravel().\n",
      "  estimator.fit(X_train, y_train, **fit_params)\n",
      "[Parallel(n_jobs=3)]: Using backend LokyBackend with 3 concurrent workers.\n",
      "[Parallel(n_jobs=3)]: Done  44 tasks      | elapsed:  1.1min\n",
      "[Parallel(n_jobs=3)]: Done 100 out of 100 | elapsed:  2.4min finished\n",
      "[Parallel(n_jobs=3)]: Using backend ThreadingBackend with 3 concurrent workers.\n",
      "[Parallel(n_jobs=3)]: Done  44 tasks      | elapsed:    1.2s\n",
      "[Parallel(n_jobs=3)]: Done 100 out of 100 | elapsed:    2.6s finished\n"
     ]
    },
    {
     "name": "stdout",
     "output_type": "stream",
     "text": [
      "[CV] ................... max_depth=10, n_estimators=100, total= 2.5min\n",
      "[CV] max_depth=10, n_estimators=100 ..................................\n"
     ]
    },
    {
     "name": "stderr",
     "output_type": "stream",
     "text": [
      "/home/andrew.tarasov1993.gmail.com/anaconda3/envs/tf_last/lib/python3.8/site-packages/sklearn/model_selection/_validation.py:531: DataConversionWarning: A column-vector y was passed when a 1d array was expected. Please change the shape of y to (n_samples,), for example using ravel().\n",
      "  estimator.fit(X_train, y_train, **fit_params)\n",
      "[Parallel(n_jobs=3)]: Using backend LokyBackend with 3 concurrent workers.\n",
      "[Parallel(n_jobs=3)]: Done  44 tasks      | elapsed:  1.1min\n",
      "[Parallel(n_jobs=3)]: Done 100 out of 100 | elapsed:  2.4min finished\n",
      "[Parallel(n_jobs=3)]: Using backend ThreadingBackend with 3 concurrent workers.\n",
      "[Parallel(n_jobs=3)]: Done  44 tasks      | elapsed:    1.2s\n",
      "[Parallel(n_jobs=3)]: Done 100 out of 100 | elapsed:    2.7s finished\n"
     ]
    },
    {
     "name": "stdout",
     "output_type": "stream",
     "text": [
      "[CV] ................... max_depth=10, n_estimators=100, total= 2.5min\n",
      "[CV] max_depth=10, n_estimators=100 ..................................\n"
     ]
    },
    {
     "name": "stderr",
     "output_type": "stream",
     "text": [
      "/home/andrew.tarasov1993.gmail.com/anaconda3/envs/tf_last/lib/python3.8/site-packages/sklearn/model_selection/_validation.py:531: DataConversionWarning: A column-vector y was passed when a 1d array was expected. Please change the shape of y to (n_samples,), for example using ravel().\n",
      "  estimator.fit(X_train, y_train, **fit_params)\n",
      "[Parallel(n_jobs=3)]: Using backend LokyBackend with 3 concurrent workers.\n",
      "[Parallel(n_jobs=3)]: Done  44 tasks      | elapsed:  1.0min\n",
      "[Parallel(n_jobs=3)]: Done 100 out of 100 | elapsed:  2.4min finished\n",
      "[Parallel(n_jobs=3)]: Using backend ThreadingBackend with 3 concurrent workers.\n",
      "[Parallel(n_jobs=3)]: Done  44 tasks      | elapsed:    1.2s\n",
      "[Parallel(n_jobs=3)]: Done 100 out of 100 | elapsed:    2.6s finished\n"
     ]
    },
    {
     "name": "stdout",
     "output_type": "stream",
     "text": [
      "[CV] ................... max_depth=10, n_estimators=100, total= 2.4min\n",
      "[CV] max_depth=10, n_estimators=250 ..................................\n"
     ]
    },
    {
     "name": "stderr",
     "output_type": "stream",
     "text": [
      "/home/andrew.tarasov1993.gmail.com/anaconda3/envs/tf_last/lib/python3.8/site-packages/sklearn/model_selection/_validation.py:531: DataConversionWarning: A column-vector y was passed when a 1d array was expected. Please change the shape of y to (n_samples,), for example using ravel().\n",
      "  estimator.fit(X_train, y_train, **fit_params)\n",
      "[Parallel(n_jobs=3)]: Using backend LokyBackend with 3 concurrent workers.\n",
      "[Parallel(n_jobs=3)]: Done  44 tasks      | elapsed:  1.1min\n",
      "[Parallel(n_jobs=3)]: Done 194 tasks      | elapsed:  4.6min\n",
      "[Parallel(n_jobs=3)]: Done 250 out of 250 | elapsed:  5.9min finished\n",
      "[Parallel(n_jobs=3)]: Using backend ThreadingBackend with 3 concurrent workers.\n",
      "[Parallel(n_jobs=3)]: Done  44 tasks      | elapsed:    1.2s\n",
      "[Parallel(n_jobs=3)]: Done 194 tasks      | elapsed:    5.0s\n",
      "[Parallel(n_jobs=3)]: Done 250 out of 250 | elapsed:    6.4s finished\n"
     ]
    },
    {
     "name": "stdout",
     "output_type": "stream",
     "text": [
      "[CV] ................... max_depth=10, n_estimators=250, total= 6.0min\n",
      "[CV] max_depth=10, n_estimators=250 ..................................\n"
     ]
    },
    {
     "name": "stderr",
     "output_type": "stream",
     "text": [
      "/home/andrew.tarasov1993.gmail.com/anaconda3/envs/tf_last/lib/python3.8/site-packages/sklearn/model_selection/_validation.py:531: DataConversionWarning: A column-vector y was passed when a 1d array was expected. Please change the shape of y to (n_samples,), for example using ravel().\n",
      "  estimator.fit(X_train, y_train, **fit_params)\n",
      "[Parallel(n_jobs=3)]: Using backend LokyBackend with 3 concurrent workers.\n",
      "[Parallel(n_jobs=3)]: Done  44 tasks      | elapsed:  1.1min\n",
      "[Parallel(n_jobs=3)]: Done 194 tasks      | elapsed:  4.7min\n",
      "[Parallel(n_jobs=3)]: Done 250 out of 250 | elapsed:  6.1min finished\n",
      "[Parallel(n_jobs=3)]: Using backend ThreadingBackend with 3 concurrent workers.\n",
      "[Parallel(n_jobs=3)]: Done  44 tasks      | elapsed:    1.2s\n",
      "[Parallel(n_jobs=3)]: Done 194 tasks      | elapsed:    5.0s\n",
      "[Parallel(n_jobs=3)]: Done 250 out of 250 | elapsed:    6.4s finished\n"
     ]
    },
    {
     "name": "stdout",
     "output_type": "stream",
     "text": [
      "[CV] ................... max_depth=10, n_estimators=250, total= 6.2min\n",
      "[CV] max_depth=10, n_estimators=250 ..................................\n"
     ]
    },
    {
     "name": "stderr",
     "output_type": "stream",
     "text": [
      "/home/andrew.tarasov1993.gmail.com/anaconda3/envs/tf_last/lib/python3.8/site-packages/sklearn/model_selection/_validation.py:531: DataConversionWarning: A column-vector y was passed when a 1d array was expected. Please change the shape of y to (n_samples,), for example using ravel().\n",
      "  estimator.fit(X_train, y_train, **fit_params)\n",
      "[Parallel(n_jobs=3)]: Using backend LokyBackend with 3 concurrent workers.\n",
      "[Parallel(n_jobs=3)]: Done  44 tasks      | elapsed:  1.1min\n",
      "[Parallel(n_jobs=3)]: Done 194 tasks      | elapsed:  4.7min\n",
      "[Parallel(n_jobs=3)]: Done 250 out of 250 | elapsed:  6.1min finished\n",
      "[Parallel(n_jobs=3)]: Using backend ThreadingBackend with 3 concurrent workers.\n",
      "[Parallel(n_jobs=3)]: Done  44 tasks      | elapsed:    1.2s\n",
      "[Parallel(n_jobs=3)]: Done 194 tasks      | elapsed:    5.0s\n",
      "[Parallel(n_jobs=3)]: Done 250 out of 250 | elapsed:    6.5s finished\n"
     ]
    },
    {
     "name": "stdout",
     "output_type": "stream",
     "text": [
      "[CV] ................... max_depth=10, n_estimators=250, total= 6.2min\n",
      "[CV] max_depth=10, n_estimators=250 ..................................\n"
     ]
    },
    {
     "name": "stderr",
     "output_type": "stream",
     "text": [
      "/home/andrew.tarasov1993.gmail.com/anaconda3/envs/tf_last/lib/python3.8/site-packages/sklearn/model_selection/_validation.py:531: DataConversionWarning: A column-vector y was passed when a 1d array was expected. Please change the shape of y to (n_samples,), for example using ravel().\n",
      "  estimator.fit(X_train, y_train, **fit_params)\n",
      "[Parallel(n_jobs=3)]: Using backend LokyBackend with 3 concurrent workers.\n",
      "[Parallel(n_jobs=3)]: Done  44 tasks      | elapsed:  1.1min\n",
      "[Parallel(n_jobs=3)]: Done 194 tasks      | elapsed:  4.6min\n",
      "[Parallel(n_jobs=3)]: Done 250 out of 250 | elapsed:  5.9min finished\n",
      "[Parallel(n_jobs=3)]: Using backend ThreadingBackend with 3 concurrent workers.\n",
      "[Parallel(n_jobs=3)]: Done  44 tasks      | elapsed:    1.3s\n",
      "[Parallel(n_jobs=3)]: Done 194 tasks      | elapsed:    5.1s\n",
      "[Parallel(n_jobs=3)]: Done 250 out of 250 | elapsed:    6.5s finished\n"
     ]
    },
    {
     "name": "stdout",
     "output_type": "stream",
     "text": [
      "[CV] ................... max_depth=10, n_estimators=250, total= 6.0min\n",
      "[CV] max_depth=10, n_estimators=250 ..................................\n"
     ]
    },
    {
     "name": "stderr",
     "output_type": "stream",
     "text": [
      "/home/andrew.tarasov1993.gmail.com/anaconda3/envs/tf_last/lib/python3.8/site-packages/sklearn/model_selection/_validation.py:531: DataConversionWarning: A column-vector y was passed when a 1d array was expected. Please change the shape of y to (n_samples,), for example using ravel().\n",
      "  estimator.fit(X_train, y_train, **fit_params)\n",
      "[Parallel(n_jobs=3)]: Using backend LokyBackend with 3 concurrent workers.\n",
      "[Parallel(n_jobs=3)]: Done  44 tasks      | elapsed:  1.1min\n",
      "[Parallel(n_jobs=3)]: Done 194 tasks      | elapsed:  4.8min\n",
      "[Parallel(n_jobs=3)]: Done 250 out of 250 | elapsed:  6.2min finished\n",
      "[Parallel(n_jobs=3)]: Using backend ThreadingBackend with 3 concurrent workers.\n",
      "[Parallel(n_jobs=3)]: Done  44 tasks      | elapsed:    1.2s\n",
      "[Parallel(n_jobs=3)]: Done 194 tasks      | elapsed:    5.0s\n",
      "[Parallel(n_jobs=3)]: Done 250 out of 250 | elapsed:    6.4s finished\n"
     ]
    },
    {
     "name": "stdout",
     "output_type": "stream",
     "text": [
      "[CV] ................... max_depth=10, n_estimators=250, total= 6.3min\n",
      "[CV] max_depth=10, n_estimators=500 ..................................\n"
     ]
    },
    {
     "name": "stderr",
     "output_type": "stream",
     "text": [
      "/home/andrew.tarasov1993.gmail.com/anaconda3/envs/tf_last/lib/python3.8/site-packages/sklearn/model_selection/_validation.py:531: DataConversionWarning: A column-vector y was passed when a 1d array was expected. Please change the shape of y to (n_samples,), for example using ravel().\n",
      "  estimator.fit(X_train, y_train, **fit_params)\n",
      "[Parallel(n_jobs=3)]: Using backend LokyBackend with 3 concurrent workers.\n",
      "[Parallel(n_jobs=3)]: Done  44 tasks      | elapsed:  1.1min\n",
      "[Parallel(n_jobs=3)]: Done 194 tasks      | elapsed:  4.7min\n",
      "[Parallel(n_jobs=3)]: Done 444 tasks      | elapsed: 10.7min\n",
      "[Parallel(n_jobs=3)]: Done 500 out of 500 | elapsed: 12.0min finished\n",
      "[Parallel(n_jobs=3)]: Using backend ThreadingBackend with 3 concurrent workers.\n",
      "[Parallel(n_jobs=3)]: Done  44 tasks      | elapsed:    1.2s\n",
      "[Parallel(n_jobs=3)]: Done 194 tasks      | elapsed:    5.0s\n",
      "[Parallel(n_jobs=3)]: Done 444 tasks      | elapsed:   11.4s\n",
      "[Parallel(n_jobs=3)]: Done 500 out of 500 | elapsed:   12.8s finished\n"
     ]
    },
    {
     "name": "stdout",
     "output_type": "stream",
     "text": [
      "[CV] ................... max_depth=10, n_estimators=500, total=12.3min\n",
      "[CV] max_depth=10, n_estimators=500 ..................................\n"
     ]
    },
    {
     "name": "stderr",
     "output_type": "stream",
     "text": [
      "/home/andrew.tarasov1993.gmail.com/anaconda3/envs/tf_last/lib/python3.8/site-packages/sklearn/model_selection/_validation.py:531: DataConversionWarning: A column-vector y was passed when a 1d array was expected. Please change the shape of y to (n_samples,), for example using ravel().\n",
      "  estimator.fit(X_train, y_train, **fit_params)\n",
      "[Parallel(n_jobs=3)]: Using backend LokyBackend with 3 concurrent workers.\n",
      "[Parallel(n_jobs=3)]: Done  44 tasks      | elapsed:  1.1min\n",
      "[Parallel(n_jobs=3)]: Done 194 tasks      | elapsed:  4.8min\n",
      "[Parallel(n_jobs=3)]: Done 444 tasks      | elapsed: 11.0min\n",
      "[Parallel(n_jobs=3)]: Done 500 out of 500 | elapsed: 12.3min finished\n",
      "[Parallel(n_jobs=3)]: Using backend ThreadingBackend with 3 concurrent workers.\n",
      "[Parallel(n_jobs=3)]: Done  44 tasks      | elapsed:    1.2s\n",
      "[Parallel(n_jobs=3)]: Done 194 tasks      | elapsed:    5.0s\n",
      "[Parallel(n_jobs=3)]: Done 444 tasks      | elapsed:   11.3s\n",
      "[Parallel(n_jobs=3)]: Done 500 out of 500 | elapsed:   12.8s finished\n"
     ]
    },
    {
     "name": "stdout",
     "output_type": "stream",
     "text": [
      "[CV] ................... max_depth=10, n_estimators=500, total=12.5min\n",
      "[CV] max_depth=10, n_estimators=500 ..................................\n"
     ]
    },
    {
     "name": "stderr",
     "output_type": "stream",
     "text": [
      "/home/andrew.tarasov1993.gmail.com/anaconda3/envs/tf_last/lib/python3.8/site-packages/sklearn/model_selection/_validation.py:531: DataConversionWarning: A column-vector y was passed when a 1d array was expected. Please change the shape of y to (n_samples,), for example using ravel().\n",
      "  estimator.fit(X_train, y_train, **fit_params)\n",
      "[Parallel(n_jobs=3)]: Using backend LokyBackend with 3 concurrent workers.\n",
      "[Parallel(n_jobs=3)]: Done  44 tasks      | elapsed:  1.1min\n",
      "[Parallel(n_jobs=3)]: Done 194 tasks      | elapsed:  4.8min\n",
      "[Parallel(n_jobs=3)]: Done 444 tasks      | elapsed: 10.9min\n",
      "[Parallel(n_jobs=3)]: Done 500 out of 500 | elapsed: 12.3min finished\n",
      "[Parallel(n_jobs=3)]: Using backend ThreadingBackend with 3 concurrent workers.\n",
      "[Parallel(n_jobs=3)]: Done  44 tasks      | elapsed:    1.2s\n",
      "[Parallel(n_jobs=3)]: Done 194 tasks      | elapsed:    5.0s\n",
      "[Parallel(n_jobs=3)]: Done 444 tasks      | elapsed:   11.4s\n",
      "[Parallel(n_jobs=3)]: Done 500 out of 500 | elapsed:   12.8s finished\n"
     ]
    },
    {
     "name": "stdout",
     "output_type": "stream",
     "text": [
      "[CV] ................... max_depth=10, n_estimators=500, total=12.5min\n",
      "[CV] max_depth=10, n_estimators=500 ..................................\n"
     ]
    },
    {
     "name": "stderr",
     "output_type": "stream",
     "text": [
      "/home/andrew.tarasov1993.gmail.com/anaconda3/envs/tf_last/lib/python3.8/site-packages/sklearn/model_selection/_validation.py:531: DataConversionWarning: A column-vector y was passed when a 1d array was expected. Please change the shape of y to (n_samples,), for example using ravel().\n",
      "  estimator.fit(X_train, y_train, **fit_params)\n",
      "[Parallel(n_jobs=3)]: Using backend LokyBackend with 3 concurrent workers.\n",
      "[Parallel(n_jobs=3)]: Done  44 tasks      | elapsed:  1.0min\n",
      "[Parallel(n_jobs=3)]: Done 194 tasks      | elapsed:  4.6min\n",
      "[Parallel(n_jobs=3)]: Done 444 tasks      | elapsed: 10.6min\n",
      "[Parallel(n_jobs=3)]: Done 500 out of 500 | elapsed: 12.0min finished\n",
      "[Parallel(n_jobs=3)]: Using backend ThreadingBackend with 3 concurrent workers.\n",
      "[Parallel(n_jobs=3)]: Done  44 tasks      | elapsed:    1.2s\n",
      "[Parallel(n_jobs=3)]: Done 194 tasks      | elapsed:    5.0s\n",
      "[Parallel(n_jobs=3)]: Done 444 tasks      | elapsed:   11.4s\n",
      "[Parallel(n_jobs=3)]: Done 500 out of 500 | elapsed:   12.8s finished\n"
     ]
    },
    {
     "name": "stdout",
     "output_type": "stream",
     "text": [
      "[CV] ................... max_depth=10, n_estimators=500, total=12.2min\n",
      "[CV] max_depth=10, n_estimators=500 ..................................\n"
     ]
    },
    {
     "name": "stderr",
     "output_type": "stream",
     "text": [
      "/home/andrew.tarasov1993.gmail.com/anaconda3/envs/tf_last/lib/python3.8/site-packages/sklearn/model_selection/_validation.py:531: DataConversionWarning: A column-vector y was passed when a 1d array was expected. Please change the shape of y to (n_samples,), for example using ravel().\n",
      "  estimator.fit(X_train, y_train, **fit_params)\n",
      "[Parallel(n_jobs=3)]: Using backend LokyBackend with 3 concurrent workers.\n",
      "[Parallel(n_jobs=3)]: Done  44 tasks      | elapsed:  1.1min\n",
      "[Parallel(n_jobs=3)]: Done 194 tasks      | elapsed:  4.7min\n",
      "[Parallel(n_jobs=3)]: Done 444 tasks      | elapsed: 10.8min\n",
      "[Parallel(n_jobs=3)]: Done 500 out of 500 | elapsed: 12.2min finished\n",
      "[Parallel(n_jobs=3)]: Using backend ThreadingBackend with 3 concurrent workers.\n",
      "[Parallel(n_jobs=3)]: Done  44 tasks      | elapsed:    1.2s\n",
      "[Parallel(n_jobs=3)]: Done 194 tasks      | elapsed:    5.0s\n",
      "[Parallel(n_jobs=3)]: Done 444 tasks      | elapsed:   11.4s\n",
      "[Parallel(n_jobs=3)]: Done 500 out of 500 | elapsed:   12.8s finished\n"
     ]
    },
    {
     "name": "stdout",
     "output_type": "stream",
     "text": [
      "[CV] ................... max_depth=10, n_estimators=500, total=12.4min\n",
      "[CV] max_depth=10, n_estimators=1000 .................................\n"
     ]
    },
    {
     "name": "stderr",
     "output_type": "stream",
     "text": [
      "/home/andrew.tarasov1993.gmail.com/anaconda3/envs/tf_last/lib/python3.8/site-packages/sklearn/model_selection/_validation.py:531: DataConversionWarning: A column-vector y was passed when a 1d array was expected. Please change the shape of y to (n_samples,), for example using ravel().\n",
      "  estimator.fit(X_train, y_train, **fit_params)\n",
      "[Parallel(n_jobs=3)]: Using backend LokyBackend with 3 concurrent workers.\n",
      "[Parallel(n_jobs=3)]: Done  44 tasks      | elapsed:  1.1min\n",
      "[Parallel(n_jobs=3)]: Done 194 tasks      | elapsed:  4.8min\n",
      "[Parallel(n_jobs=3)]: Done 444 tasks      | elapsed: 10.6min\n",
      "[Parallel(n_jobs=3)]: Done 794 tasks      | elapsed: 18.8min\n",
      "[Parallel(n_jobs=3)]: Done 1000 out of 1000 | elapsed: 23.6min finished\n",
      "[Parallel(n_jobs=3)]: Using backend ThreadingBackend with 3 concurrent workers.\n",
      "[Parallel(n_jobs=3)]: Done  44 tasks      | elapsed:    1.2s\n",
      "[Parallel(n_jobs=3)]: Done 194 tasks      | elapsed:    5.0s\n",
      "[Parallel(n_jobs=3)]: Done 444 tasks      | elapsed:   11.4s\n",
      "[Parallel(n_jobs=3)]: Done 794 tasks      | elapsed:   20.3s\n",
      "[Parallel(n_jobs=3)]: Done 1000 out of 1000 | elapsed:   25.5s finished\n"
     ]
    },
    {
     "name": "stdout",
     "output_type": "stream",
     "text": [
      "[CV] .................. max_depth=10, n_estimators=1000, total=24.1min\n",
      "[CV] max_depth=10, n_estimators=1000 .................................\n"
     ]
    },
    {
     "name": "stderr",
     "output_type": "stream",
     "text": [
      "/home/andrew.tarasov1993.gmail.com/anaconda3/envs/tf_last/lib/python3.8/site-packages/sklearn/model_selection/_validation.py:531: DataConversionWarning: A column-vector y was passed when a 1d array was expected. Please change the shape of y to (n_samples,), for example using ravel().\n",
      "  estimator.fit(X_train, y_train, **fit_params)\n",
      "[Parallel(n_jobs=3)]: Using backend LokyBackend with 3 concurrent workers.\n",
      "[Parallel(n_jobs=3)]: Done  44 tasks      | elapsed:  1.0min\n",
      "[Parallel(n_jobs=3)]: Done 194 tasks      | elapsed:  4.6min\n",
      "[Parallel(n_jobs=3)]: Done 444 tasks      | elapsed: 10.4min\n",
      "[Parallel(n_jobs=3)]: Done 794 tasks      | elapsed: 18.7min\n",
      "[Parallel(n_jobs=3)]: Done 1000 out of 1000 | elapsed: 23.8min finished\n",
      "[Parallel(n_jobs=3)]: Using backend ThreadingBackend with 3 concurrent workers.\n",
      "[Parallel(n_jobs=3)]: Done  44 tasks      | elapsed:    1.2s\n",
      "[Parallel(n_jobs=3)]: Done 194 tasks      | elapsed:    5.0s\n",
      "[Parallel(n_jobs=3)]: Done 444 tasks      | elapsed:   11.4s\n",
      "[Parallel(n_jobs=3)]: Done 794 tasks      | elapsed:   20.3s\n",
      "[Parallel(n_jobs=3)]: Done 1000 out of 1000 | elapsed:   25.5s finished\n"
     ]
    },
    {
     "name": "stdout",
     "output_type": "stream",
     "text": [
      "[CV] .................. max_depth=10, n_estimators=1000, total=24.3min\n",
      "[CV] max_depth=10, n_estimators=1000 .................................\n"
     ]
    },
    {
     "name": "stderr",
     "output_type": "stream",
     "text": [
      "/home/andrew.tarasov1993.gmail.com/anaconda3/envs/tf_last/lib/python3.8/site-packages/sklearn/model_selection/_validation.py:531: DataConversionWarning: A column-vector y was passed when a 1d array was expected. Please change the shape of y to (n_samples,), for example using ravel().\n",
      "  estimator.fit(X_train, y_train, **fit_params)\n",
      "[Parallel(n_jobs=3)]: Using backend LokyBackend with 3 concurrent workers.\n",
      "[Parallel(n_jobs=3)]: Done  44 tasks      | elapsed:  1.0min\n",
      "[Parallel(n_jobs=3)]: Done 194 tasks      | elapsed:  4.5min\n",
      "[Parallel(n_jobs=3)]: Done 444 tasks      | elapsed: 10.4min\n",
      "[Parallel(n_jobs=3)]: Done 794 tasks      | elapsed: 18.9min\n",
      "[Parallel(n_jobs=3)]: Done 1000 out of 1000 | elapsed: 23.9min finished\n",
      "[Parallel(n_jobs=3)]: Using backend ThreadingBackend with 3 concurrent workers.\n",
      "[Parallel(n_jobs=3)]: Done  44 tasks      | elapsed:    1.2s\n",
      "[Parallel(n_jobs=3)]: Done 194 tasks      | elapsed:    5.1s\n",
      "[Parallel(n_jobs=3)]: Done 444 tasks      | elapsed:   11.5s\n",
      "[Parallel(n_jobs=3)]: Done 794 tasks      | elapsed:   20.4s\n",
      "[Parallel(n_jobs=3)]: Done 1000 out of 1000 | elapsed:   25.6s finished\n"
     ]
    },
    {
     "name": "stdout",
     "output_type": "stream",
     "text": [
      "[CV] .................. max_depth=10, n_estimators=1000, total=24.4min\n",
      "[CV] max_depth=10, n_estimators=1000 .................................\n"
     ]
    },
    {
     "name": "stderr",
     "output_type": "stream",
     "text": [
      "/home/andrew.tarasov1993.gmail.com/anaconda3/envs/tf_last/lib/python3.8/site-packages/sklearn/model_selection/_validation.py:531: DataConversionWarning: A column-vector y was passed when a 1d array was expected. Please change the shape of y to (n_samples,), for example using ravel().\n",
      "  estimator.fit(X_train, y_train, **fit_params)\n",
      "[Parallel(n_jobs=3)]: Using backend LokyBackend with 3 concurrent workers.\n",
      "[Parallel(n_jobs=3)]: Done  44 tasks      | elapsed:  1.1min\n",
      "[Parallel(n_jobs=3)]: Done 194 tasks      | elapsed:  4.6min\n",
      "[Parallel(n_jobs=3)]: Done 444 tasks      | elapsed: 10.5min\n",
      "[Parallel(n_jobs=3)]: Done 794 tasks      | elapsed: 18.6min\n",
      "[Parallel(n_jobs=3)]: Done 1000 out of 1000 | elapsed: 23.6min finished\n",
      "[Parallel(n_jobs=3)]: Using backend ThreadingBackend with 3 concurrent workers.\n",
      "[Parallel(n_jobs=3)]: Done  44 tasks      | elapsed:    1.2s\n",
      "[Parallel(n_jobs=3)]: Done 194 tasks      | elapsed:    5.0s\n",
      "[Parallel(n_jobs=3)]: Done 444 tasks      | elapsed:   11.4s\n",
      "[Parallel(n_jobs=3)]: Done 794 tasks      | elapsed:   20.2s\n",
      "[Parallel(n_jobs=3)]: Done 1000 out of 1000 | elapsed:   25.5s finished\n"
     ]
    },
    {
     "name": "stdout",
     "output_type": "stream",
     "text": [
      "[CV] .................. max_depth=10, n_estimators=1000, total=24.1min\n",
      "[CV] max_depth=10, n_estimators=1000 .................................\n"
     ]
    },
    {
     "name": "stderr",
     "output_type": "stream",
     "text": [
      "/home/andrew.tarasov1993.gmail.com/anaconda3/envs/tf_last/lib/python3.8/site-packages/sklearn/model_selection/_validation.py:531: DataConversionWarning: A column-vector y was passed when a 1d array was expected. Please change the shape of y to (n_samples,), for example using ravel().\n",
      "  estimator.fit(X_train, y_train, **fit_params)\n",
      "[Parallel(n_jobs=3)]: Using backend LokyBackend with 3 concurrent workers.\n",
      "[Parallel(n_jobs=3)]: Done  44 tasks      | elapsed:  1.1min\n",
      "[Parallel(n_jobs=3)]: Done 194 tasks      | elapsed:  4.7min\n",
      "[Parallel(n_jobs=3)]: Done 444 tasks      | elapsed: 10.7min\n",
      "[Parallel(n_jobs=3)]: Done 794 tasks      | elapsed: 19.2min\n",
      "[Parallel(n_jobs=3)]: Done 1000 out of 1000 | elapsed: 24.0min finished\n",
      "[Parallel(n_jobs=3)]: Using backend ThreadingBackend with 3 concurrent workers.\n",
      "[Parallel(n_jobs=3)]: Done  44 tasks      | elapsed:    1.2s\n",
      "[Parallel(n_jobs=3)]: Done 194 tasks      | elapsed:    5.0s\n",
      "[Parallel(n_jobs=3)]: Done 444 tasks      | elapsed:   11.4s\n",
      "[Parallel(n_jobs=3)]: Done 794 tasks      | elapsed:   20.3s\n",
      "[Parallel(n_jobs=3)]: Done 1000 out of 1000 | elapsed:   25.5s finished\n",
      "[Parallel(n_jobs=1)]: Done 270 out of 270 | elapsed: 1479.1min finished\n",
      "/home/andrew.tarasov1993.gmail.com/anaconda3/envs/tf_last/lib/python3.8/site-packages/sklearn/model_selection/_search.py:765: DataConversionWarning: A column-vector y was passed when a 1d array was expected. Please change the shape of y to (n_samples,), for example using ravel().\n",
      "  self.best_estimator_.fit(X, y, **fit_params)\n"
     ]
    },
    {
     "name": "stdout",
     "output_type": "stream",
     "text": [
      "[CV] .................. max_depth=10, n_estimators=1000, total=24.4min\n"
     ]
    },
    {
     "name": "stderr",
     "output_type": "stream",
     "text": [
      "[Parallel(n_jobs=3)]: Using backend ThreadingBackend with 3 concurrent workers.\n",
      "[Parallel(n_jobs=3)]: Done  44 tasks      | elapsed:  1.5min\n",
      "[Parallel(n_jobs=3)]: Done 194 tasks      | elapsed:  6.4min\n",
      "[Parallel(n_jobs=3)]: Done 444 tasks      | elapsed: 14.7min\n",
      "[Parallel(n_jobs=3)]: Done 794 tasks      | elapsed: 26.2min\n"
     ]
    },
    {
     "name": "stdout",
     "output_type": "stream",
     "text": [
      "Best params =  {'bootstrap': True, 'ccp_alpha': 0.0, 'class_weight': None, 'criterion': 'gini', 'max_depth': 10, 'max_features': 'auto', 'max_leaf_nodes': None, 'max_samples': None, 'min_impurity_decrease': 0.0, 'min_impurity_split': None, 'min_samples_leaf': 1, 'min_samples_split': 2, 'min_weight_fraction_leaf': 0.0, 'n_estimators': 1000, 'n_jobs': 3, 'oob_score': False, 'random_state': None, 'verbose': 1, 'warm_start': False}\n"
     ]
    },
    {
     "name": "stderr",
     "output_type": "stream",
     "text": [
      "[Parallel(n_jobs=3)]: Done 1000 out of 1000 | elapsed: 33.1min finished\n"
     ]
    }
   ],
   "source": [
    "from sklearn.model_selection import GridSearchCV\n",
    "\n",
    "parameter_grid = {\n",
    "            #'criterion': ['entropy', 'gini'],\n",
    "            'max_depth': [2, 3, 4, 5, 6, 7, 8, 9, 10],   #to zeros 2 - 10,\n",
    "            'n_estimators': [50, 75, 100, 250,500, 1000] #> 50 - 1000 \n",
    "}\n",
    "\n",
    "clf_rf = RandomForestClassifier(\n",
    "    verbose=1,\n",
    "    n_jobs=3,\n",
    ")\n",
    "\n",
    "\n",
    "grid_searcher = GridSearchCV(clf_rf, parameter_grid, verbose=2)\n",
    "grid_searcher.fit(X_train, y_train)\n",
    "clf_best = grid_searcher.best_estimator_\n",
    " \n",
    "print('Best params = ', clf_best.get_params())\n",
    "#clf_rf.fit(X_train, y_train)\n",
    "\n",
    "\n",
    "# was observed on 08.10.2020 GridSearch\n",
    "'''Best params =  {'bootstrap': True, \n",
    "                'ccp_alpha': 0.0, \n",
    "                'class_weight': None, \n",
    "                'criterion': 'gini', \n",
    "                'max_depth': 10, \n",
    "                'max_features': 'auto', \n",
    "                'max_leaf_nodes': None, \n",
    "                'max_samples': None, \n",
    "                'min_impurity_decrease': 0.0, \n",
    "                'min_impurity_split': None, \n",
    "                'min_samples_leaf': 1, \n",
    "                'min_samples_split': 2, \n",
    "                'min_weight_fraction_leaf': 0.0, \n",
    "                'n_estimators': 1000, \n",
    "                'n_jobs': 3, \n",
    "                'oob_score': False, \n",
    "                'random_state': None, \n",
    "                'verbose': 1, \n",
    "                'warm_start': False}\n",
    "'''"
   ]
  },
  {
   "cell_type": "markdown",
   "metadata": {},
   "source": [
    "# Optimizing params with skopt"
   ]
  },
  {
   "cell_type": "code",
   "execution_count": 5,
   "metadata": {},
   "outputs": [],
   "source": [
    "from functools import partial\n",
    "from skopt import space, gp_minimize"
   ]
  },
  {
   "cell_type": "code",
   "execution_count": null,
   "metadata": {},
   "outputs": [],
   "source": []
  },
  {
   "cell_type": "code",
   "execution_count": 45,
   "metadata": {},
   "outputs": [
    {
     "data": {
      "text/plain": [
       "(4977115, 1)"
      ]
     },
     "execution_count": 45,
     "metadata": {},
     "output_type": "execute_result"
    }
   ],
   "source": [
    "y_train.shape"
   ]
  },
  {
   "cell_type": "code",
   "execution_count": 72,
   "metadata": {},
   "outputs": [
    {
     "data": {
      "text/plain": [
       "RandomForestClassifier(max_depth=10, n_estimators=1000, n_jobs=3)"
      ]
     },
     "execution_count": 72,
     "metadata": {},
     "output_type": "execute_result"
    }
   ],
   "source": [
    "clf_rf = RandomForestClassifier(\n",
    "    criterion=\"gini\",\n",
    "    verbose=0,\n",
    "    n_jobs=3,\n",
    "    max_depth=10,\n",
    "    n_estimators=1000\n",
    ")\n",
    "clf_rf.fit(X_train, np.ravel(y_train))"
   ]
  },
  {
   "cell_type": "code",
   "execution_count": 73,
   "metadata": {},
   "outputs": [
    {
     "name": "stdout",
     "output_type": "stream",
     "text": [
      "F1-score: 0.9658195888120142\n"
     ]
    }
   ],
   "source": [
    "from sklearn.metrics import f1_score\n",
    "preds = clf_rf.predict(X_test)\n",
    "print(\"F1-score:\", f1_score(y_test,preds))"
   ]
  },
  {
   "cell_type": "markdown",
   "metadata": {},
   "source": [
    "**Show test predict**"
   ]
  },
  {
   "cell_type": "code",
   "execution_count": 75,
   "metadata": {},
   "outputs": [
    {
     "data": {
      "image/png": "[encoded data removed]",
      "text/plain": [
       "<Figure size 1080x1080 with 4 Axes>"
      ]
     },
     "metadata": {
      "needs_background": "light"
     },
     "output_type": "display_data"
    }
   ],
   "source": [
    "def predictTestImg(imgPath):\n",
    "\n",
    "    #test_img = io.imread('./ds/tiles/T41VLE_pair_3.tif/T41VLE_pair_3.tif_1073_2924_with_object.tif')\n",
    "    test_img = io.imread(imgPath)/65536\n",
    "\n",
    "    test_array = np.dstack([\n",
    "                    test_img[:,:,17],# old red\n",
    "                    test_img[:,:,4], # new red\n",
    "                    test_img[:,:,4] - test_img[:,:,17], # dif\n",
    "                ])\n",
    "\n",
    "    test_predict = clf_rf.predict(test_array.reshape([512*512,3]))\n",
    "\n",
    "\n",
    "    test_predict = test_predict.reshape([512,512,1])\n",
    "\n",
    "    fig,axes = plt.subplots(ncols=4,figsize=(15,15))\n",
    "    axes[0].imshow(test_predict[:,:,0])\n",
    "    axes[1].imshow(test_img[:,:,0])\n",
    "    axes[2].imshow(test_img[:,:,4])\n",
    "    axes[3].imshow(test_img[:,:,17])\n",
    "    return test_predict,img\n",
    "    \n",
    "    \n",
    "predictResult,img = predictTestImg('../../ds/tiles_512_512_27/T41VLE_pair_3.tif/T41VLE_pair_3.tif_1006_8184_with_object.tif')"
   ]
  },
  {
   "cell_type": "code",
   "execution_count": 76,
   "metadata": {},
   "outputs": [
    {
     "name": "stdout",
     "output_type": "stream",
     "text": [
      "262143 262144\n"
     ]
    }
   ],
   "source": [
    "print (predictResult.sum(),predictResult.shape[0]*predictResult.shape[1])"
   ]
  },
  {
   "cell_type": "code",
   "execution_count": 69,
   "metadata": {},
   "outputs": [],
   "source": [
    "def f(y_true, y_pred):\n",
    "    intersection = (y_true * y_pred).sum()\n",
    "    union = y_true.sum() + y_pred.sum() - intersection\n",
    "    #x = (intersection + 1e-15) / (union + 1e-15)\n",
    "    x = (intersection + 1) / (union + 1)\n",
    "    x = x.astype(np.float32)\n",
    "    return x"
   ]
  },
  {
   "cell_type": "code",
   "execution_count": 70,
   "metadata": {},
   "outputs": [
    {
     "data": {
      "text/plain": [
       "0.0010566711"
      ]
     },
     "execution_count": 70,
     "metadata": {},
     "output_type": "execute_result"
    }
   ],
   "source": [
    "f(img[:,:,0],predictResult[:,:,0])"
   ]
  },
  {
   "cell_type": "markdown",
   "metadata": {},
   "source": [
    "# 2. Logistic regression"
   ]
  },
  {
   "cell_type": "code",
   "execution_count": 13,
   "metadata": {},
   "outputs": [],
   "source": [
    "from sklearn.model_selection import StratifiedKFold\n",
    "from sklearn.linear_model import LogisticRegression\n",
    "from sklearn.preprocessing import StandardScaler\n",
    "from sklearn.metrics import f1_score"
   ]
  },
  {
   "cell_type": "code",
   "execution_count": 51,
   "metadata": {
    "collapsed": true
   },
   "outputs": [
    {
     "ename": "ValueError",
     "evalue": "Found input variables with inconsistent numbers of samples: [267596595, 240836935]",
     "output_type": "error",
     "traceback": [
      "\u001b[0;31m---------------------------------------------------------------------------\u001b[0m",
      "\u001b[0;31mValueError\u001b[0m                                Traceback (most recent call last)",
      "\u001b[0;32m<ipython-input-51-b166ca3bc530>\u001b[0m in \u001b[0;36m<module>\u001b[0;34m\u001b[0m\n\u001b[1;32m      7\u001b[0m \u001b[0mscores\u001b[0m \u001b[0;34m=\u001b[0m \u001b[0;34m[\u001b[0m\u001b[0;34m]\u001b[0m\u001b[0;34m\u001b[0m\u001b[0;34m\u001b[0m\u001b[0m\n\u001b[1;32m      8\u001b[0m \u001b[0;34m\u001b[0m\u001b[0m\n\u001b[0;32m----> 9\u001b[0;31m \u001b[0;32mfor\u001b[0m \u001b[0mtrain_index\u001b[0m\u001b[0;34m,\u001b[0m \u001b[0mtest_index\u001b[0m \u001b[0;32min\u001b[0m \u001b[0mskf\u001b[0m\u001b[0;34m.\u001b[0m\u001b[0msplit\u001b[0m\u001b[0;34m(\u001b[0m\u001b[0mx\u001b[0m\u001b[0;34m,\u001b[0m \u001b[0my_train\u001b[0m\u001b[0;34m)\u001b[0m\u001b[0;34m:\u001b[0m\u001b[0;34m\u001b[0m\u001b[0;34m\u001b[0m\u001b[0m\n\u001b[0m\u001b[1;32m     10\u001b[0m     \u001b[0;32mif\u001b[0m \u001b[0;34m(\u001b[0m\u001b[0;36m240836935\u001b[0m \u001b[0;32min\u001b[0m \u001b[0mtrain_index\u001b[0m\u001b[0;34m)\u001b[0m \u001b[0;32mor\u001b[0m \u001b[0;34m(\u001b[0m\u001b[0;36m240836935\u001b[0m \u001b[0;32min\u001b[0m \u001b[0mtest_index\u001b[0m\u001b[0;34m)\u001b[0m\u001b[0;34m:\u001b[0m\u001b[0;34m\u001b[0m\u001b[0;34m\u001b[0m\u001b[0m\n\u001b[1;32m     11\u001b[0m         \u001b[0;32mcontinue\u001b[0m\u001b[0;34m\u001b[0m\u001b[0;34m\u001b[0m\u001b[0m\n",
      "\u001b[0;32m~/anaconda3/lib/python3.8/site-packages/sklearn/model_selection/_split.py\u001b[0m in \u001b[0;36msplit\u001b[0;34m(self, X, y, groups)\u001b[0m\n\u001b[1;32m    326\u001b[0m             \u001b[0mThe\u001b[0m \u001b[0mtesting\u001b[0m \u001b[0mset\u001b[0m \u001b[0mindices\u001b[0m \u001b[0;32mfor\u001b[0m \u001b[0mthat\u001b[0m \u001b[0msplit\u001b[0m\u001b[0;34m.\u001b[0m\u001b[0;34m\u001b[0m\u001b[0;34m\u001b[0m\u001b[0m\n\u001b[1;32m    327\u001b[0m         \"\"\"\n\u001b[0;32m--> 328\u001b[0;31m         \u001b[0mX\u001b[0m\u001b[0;34m,\u001b[0m \u001b[0my\u001b[0m\u001b[0;34m,\u001b[0m \u001b[0mgroups\u001b[0m \u001b[0;34m=\u001b[0m \u001b[0mindexable\u001b[0m\u001b[0;34m(\u001b[0m\u001b[0mX\u001b[0m\u001b[0;34m,\u001b[0m \u001b[0my\u001b[0m\u001b[0;34m,\u001b[0m \u001b[0mgroups\u001b[0m\u001b[0;34m)\u001b[0m\u001b[0;34m\u001b[0m\u001b[0;34m\u001b[0m\u001b[0m\n\u001b[0m\u001b[1;32m    329\u001b[0m         \u001b[0mn_samples\u001b[0m \u001b[0;34m=\u001b[0m \u001b[0m_num_samples\u001b[0m\u001b[0;34m(\u001b[0m\u001b[0mX\u001b[0m\u001b[0;34m)\u001b[0m\u001b[0;34m\u001b[0m\u001b[0;34m\u001b[0m\u001b[0m\n\u001b[1;32m    330\u001b[0m         \u001b[0;32mif\u001b[0m \u001b[0mself\u001b[0m\u001b[0;34m.\u001b[0m\u001b[0mn_splits\u001b[0m \u001b[0;34m>\u001b[0m \u001b[0mn_samples\u001b[0m\u001b[0;34m:\u001b[0m\u001b[0;34m\u001b[0m\u001b[0;34m\u001b[0m\u001b[0m\n",
      "\u001b[0;32m~/anaconda3/lib/python3.8/site-packages/sklearn/utils/validation.py\u001b[0m in \u001b[0;36mindexable\u001b[0;34m(*iterables)\u001b[0m\n\u001b[1;32m    291\u001b[0m     \"\"\"\n\u001b[1;32m    292\u001b[0m     \u001b[0mresult\u001b[0m \u001b[0;34m=\u001b[0m \u001b[0;34m[\u001b[0m\u001b[0m_make_indexable\u001b[0m\u001b[0;34m(\u001b[0m\u001b[0mX\u001b[0m\u001b[0;34m)\u001b[0m \u001b[0;32mfor\u001b[0m \u001b[0mX\u001b[0m \u001b[0;32min\u001b[0m \u001b[0miterables\u001b[0m\u001b[0;34m]\u001b[0m\u001b[0;34m\u001b[0m\u001b[0;34m\u001b[0m\u001b[0m\n\u001b[0;32m--> 293\u001b[0;31m     \u001b[0mcheck_consistent_length\u001b[0m\u001b[0;34m(\u001b[0m\u001b[0;34m*\u001b[0m\u001b[0mresult\u001b[0m\u001b[0;34m)\u001b[0m\u001b[0;34m\u001b[0m\u001b[0;34m\u001b[0m\u001b[0m\n\u001b[0m\u001b[1;32m    294\u001b[0m     \u001b[0;32mreturn\u001b[0m \u001b[0mresult\u001b[0m\u001b[0;34m\u001b[0m\u001b[0;34m\u001b[0m\u001b[0m\n\u001b[1;32m    295\u001b[0m \u001b[0;34m\u001b[0m\u001b[0m\n",
      "\u001b[0;32m~/anaconda3/lib/python3.8/site-packages/sklearn/utils/validation.py\u001b[0m in \u001b[0;36mcheck_consistent_length\u001b[0;34m(*arrays)\u001b[0m\n\u001b[1;32m    254\u001b[0m     \u001b[0muniques\u001b[0m \u001b[0;34m=\u001b[0m \u001b[0mnp\u001b[0m\u001b[0;34m.\u001b[0m\u001b[0munique\u001b[0m\u001b[0;34m(\u001b[0m\u001b[0mlengths\u001b[0m\u001b[0;34m)\u001b[0m\u001b[0;34m\u001b[0m\u001b[0;34m\u001b[0m\u001b[0m\n\u001b[1;32m    255\u001b[0m     \u001b[0;32mif\u001b[0m \u001b[0mlen\u001b[0m\u001b[0;34m(\u001b[0m\u001b[0muniques\u001b[0m\u001b[0;34m)\u001b[0m \u001b[0;34m>\u001b[0m \u001b[0;36m1\u001b[0m\u001b[0;34m:\u001b[0m\u001b[0;34m\u001b[0m\u001b[0;34m\u001b[0m\u001b[0m\n\u001b[0;32m--> 256\u001b[0;31m         raise ValueError(\"Found input variables with inconsistent numbers of\"\n\u001b[0m\u001b[1;32m    257\u001b[0m                          \" samples: %r\" % [int(l) for l in lengths])\n\u001b[1;32m    258\u001b[0m \u001b[0;34m\u001b[0m\u001b[0m\n",
      "\u001b[0;31mValueError\u001b[0m: Found input variables with inconsistent numbers of samples: [267596595, 240836935]"
     ]
    }
   ],
   "source": [
    "from sklearn.preprocessing import StandardScaler\n",
    "\n",
    "x = StandardScaler().fit_transform(X_train)\n",
    "\n",
    "skf = StratifiedKFold(n_splits=10)\n",
    "\n",
    "scores = []\n",
    "\n",
    "for train_index, test_index in skf.split(x, y_train):\n",
    "    x_train, x_test = x[train_index], x[test_index]\n",
    "    y_train, y_test = y_train[train_index], y_train[test_index]\n",
    "    est = LogisticRegression(n_jobs=5, class_weight='balanced', verbose=1)\n",
    "    est.fit(x_train, y_train)\n",
    "    pred = est.predict(x_test)\n",
    "    score = f1_score(y_test, pred)\n",
    "    scores.append(score)\n",
    "    print(score)"
   ]
  },
  {
   "cell_type": "markdown",
   "metadata": {},
   "source": [
    "# Save models"
   ]
  },
  {
   "cell_type": "code",
   "execution_count": 14,
   "metadata": {},
   "outputs": [],
   "source": [
    "import pickle"
   ]
  },
  {
   "cell_type": "code",
   "execution_count": 18,
   "metadata": {},
   "outputs": [],
   "source": [
    "with open('test','wb') as f:\n",
    "    pickle.dump(clf_rf,f)"
   ]
  },
  {
   "cell_type": "markdown",
   "metadata": {},
   "source": [
    "# Tests"
   ]
  },
  {
   "cell_type": "code",
   "execution_count": 11,
   "metadata": {},
   "outputs": [
    {
     "data": {
      "text/plain": [
       "0.00929966092483377"
      ]
     },
     "execution_count": 11,
     "metadata": {},
     "output_type": "execute_result"
    }
   ],
   "source": [
    "np.sum(t_Y)/t_Y.shape[0]"
   ]
  },
  {
   "cell_type": "code",
   "execution_count": 96,
   "metadata": {},
   "outputs": [],
   "source": [
    "t = np.ravel(X[0])"
   ]
  },
  {
   "cell_type": "code",
   "execution_count": 97,
   "metadata": {},
   "outputs": [],
   "source": [
    "t_back = t.reshape([512,512,3])"
   ]
  },
  {
   "cell_type": "code",
   "execution_count": 93,
   "metadata": {
    "collapsed": true
   },
   "outputs": [
    {
     "data": {
      "text/plain": [
       "(9, 2)"
      ]
     },
     "execution_count": 93,
     "metadata": {},
     "output_type": "execute_result"
    }
   ],
   "source": [
    "x_train = [\n",
    "    [1, 2], [5, 6],\n",
    "    [3, 4], [7, 8],\n",
    "    [-1, 2], [-5, 6],\n",
    "    [-3, 4], [-7, 8], [0, 0]\n",
    "]\n",
    "np.array(x_train).shape"
   ]
  },
  {
   "cell_type": "code",
   "execution_count": 89,
   "metadata": {
    "collapsed": true
   },
   "outputs": [
    {
     "data": {
      "text/plain": [
       "<matplotlib.image.AxesImage at 0x7fc02dcf81f0>"
      ]
     },
     "execution_count": 89,
     "metadata": {},
     "output_type": "execute_result"
    },
    {
     "data": {
      "image/png": "[encoded data removed]",
      "text/plain": [
       "<Figure size 432x288 with 1 Axes>"
      ]
     },
     "metadata": {
      "needs_background": "light"
     },
     "output_type": "display_data"
    }
   ],
   "source": [
    "plt.imshow(Y[2])"
   ]
  },
  {
   "cell_type": "code",
   "execution_count": 29,
   "metadata": {},
   "outputs": [
    {
     "data": {
      "text/plain": [
       "<matplotlib.image.AxesImage at 0x7fc02e447ca0>"
      ]
     },
     "execution_count": 29,
     "metadata": {},
     "output_type": "execute_result"
    },
    {
     "data": {
      "image/png": "[encoded data removed]",
      "text/plain": [
       "<Figure size 432x288 with 4 Axes>"
      ]
     },
     "metadata": {
      "needs_background": "light"
     },
     "output_type": "display_data"
    }
   ],
   "source": [
    "fig,axes = plt.subplots(ncols=4)\n",
    "axes[0].imshow(img[:,:,0])\n",
    "axes[1].imshow(img[:,:,25])\n",
    "axes[2].imshow(img[:,:,12])\n",
    "axes[3].imshow(img[:,:,24] - img[:,:,10])"
   ]
  },
  {
   "cell_type": "code",
   "execution_count": null,
   "metadata": {},
   "outputs": [],
   "source": []
  }
 ],
 "metadata": {
  "kernelspec": {
   "display_name": "Python 3",
   "language": "python",
   "name": "python3"
  },
  "language_info": {
   "codemirror_mode": {
    "name": "ipython",
    "version": 3
   },
   "file_extension": ".py",
   "mimetype": "text/x-python",
   "name": "python",
   "nbconvert_exporter": "python",
   "pygments_lexer": "ipython3",
   "version": "3.8.5"
  }
 },
 "nbformat": 4,
 "nbformat_minor": 4
}
